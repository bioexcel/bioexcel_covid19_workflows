{
 "cells": [
  {
   "cell_type": "markdown",
   "metadata": {
    "tags": []
   },
   "source": [
    "# Visualizing trajectory data\n",
    "***\n",
    "This **tutorial** shows an example of how to download structure and trajectory data from a specific project in the **[BioExcel-Covid19](https://bioexcel-cv19.bsc.es) database**. Then data is loaded into a molecular viewer and displayed.\n",
    "\n",
    "Although the **examples** are presented **step by step** with associated information, it is extremely advisable to previously spend some time reading documentation about **Molecular Dynamics (MD)** and the generated **trajectories and metadata**, to get familiar with the terms used, especially for newcomers to the field. \n",
    "\n",
    "This workflow is based on the BioExcel-Covid19 database **[REST API](https://bioexcel-cv19.bsc.es/api/rest/docs/)**: \n",
    "\n",
    "***\n",
    "**Version:** 1.0 (September 2023)\n",
    "***\n",
    "**Contributors:**  Adam Hospital, Daniel Beltrán, Aurélien Luciani, Genís Bayarri, Josep Lluís Gelpí, Modesto Orozco (IRB-Barcelona, Spain)\n",
    "***\n",
    "**Contact:** [daniel.beltran@irbbarcelona.org](mailto:daniel.beltran@irbbarcelona.org)\n",
    "***"
   ]
  },
  {
   "cell_type": "markdown",
   "metadata": {},
   "source": [
    "#### Import required libraries"
   ]
  },
  {
   "cell_type": "code",
   "execution_count": 1,
   "metadata": {},
   "outputs": [
    {
     "data": {
      "application/vnd.jupyter.widget-view+json": {
       "model_id": "4a783270b54148e385a47413090d26e3",
       "version_major": 2,
       "version_minor": 0
      },
      "text/plain": []
     },
     "metadata": {},
     "output_type": "display_data"
    }
   ],
   "source": [
    "import json, urllib\n",
    "from os.path import exists\n",
    "import nglview\n",
    "import simpletraj"
   ]
  },
  {
   "cell_type": "markdown",
   "metadata": {},
   "source": [
    "#### Set some constants"
   ]
  },
  {
   "cell_type": "code",
   "execution_count": 2,
   "metadata": {},
   "outputs": [],
   "source": [
    "API_BASE_URL = \"http://bioexcel-cv19.bsc.es/api/rest/current\""
   ]
  },
  {
   "cell_type": "markdown",
   "metadata": {},
   "source": [
    "#### Set a couple of functions to query the REST API"
   ]
  },
  {
   "cell_type": "code",
   "execution_count": 3,
   "metadata": {},
   "outputs": [],
   "source": [
    "# Set a function to call the API\n",
    "def query_api (url : str) -> dict:\n",
    "    # Parse the URL in case it contains any HTTP control characters\n",
    "    # Replace white spaces by the corresponding percent notation character\n",
    "    parsed_url = url.replace(\" \", \"%20\")\n",
    "    with urllib.request.urlopen(parsed_url) as response:\n",
    "        return json.loads(response.read().decode(\"utf-8\"))\n",
    "# Set a function to call the API\n",
    "def download_file_api (url : str, filename : str):\n",
    "    # Parse the URL in case it contains any HTTP control characters\n",
    "    # Replace white spaces by the corresponding percent notation character\n",
    "    parsed_url = url.replace(\" \", \"%20\")\n",
    "    urllib.request.urlretrieve(url, filename)"
   ]
  },
  {
   "cell_type": "markdown",
   "metadata": {},
   "source": [
    "## Requesting the structure\n",
    "\n",
    "Given an specific project and MD, we download the structure in [PDB format](https://en.wikipedia.org/wiki/Protein_Data_Bank_(file_format)). To do so, we use the **'files/structure' endpoint**. For this example we will download the same project and MD number than in the previous tutorial: MCV1900193.2. Note that the structure may change among MDs since, although atoms should be identical, their positions may change."
   ]
  },
  {
   "cell_type": "code",
   "execution_count": 4,
   "metadata": {},
   "outputs": [
    {
     "name": "stdout",
     "output_type": "stream",
     "text": [
      "We query the API at http://bioexcel-cv19.bsc.es/api/rest/current/projects/MCV1900193.2/files/structure\n",
      "File has been downloaded successfully\n"
     ]
    }
   ],
   "source": [
    "# Set the structure query URL for the API\n",
    "specific_project_url = API_BASE_URL + '/projects/MCV1900193.2'\n",
    "structure_query = specific_project_url + '/files/structure'\n",
    "print('We query the API at ' + structure_query)\n",
    "\n",
    "# Download the file with an arbitrary name\n",
    "structure_filename = 'structure.pdb'\n",
    "download_file_api(structure_query, structure_filename)\n",
    "if exists(structure_filename):\n",
    "    print('File has been downloaded successfully')"
   ]
  },
  {
   "cell_type": "markdown",
   "metadata": {},
   "source": [
    "In order to visualize the downloaded structure we use a molecular viewer called [NGL](http://nglviewer.org/nglview/latest/)."
   ]
  },
  {
   "cell_type": "code",
   "execution_count": 5,
   "metadata": {},
   "outputs": [
    {
     "data": {
      "application/vnd.jupyter.widget-view+json": {
       "model_id": "10f45461252b456fb142b4c511361750",
       "version_major": 2,
       "version_minor": 0
      },
      "text/plain": [
       "NGLWidget()"
      ]
     },
     "metadata": {},
     "output_type": "display_data"
    }
   ],
   "source": [
    "view = nglview.show_structure_file(structure_filename)\n",
    "view._remote_call('setSize', target='Widget', args=['','600px'])\n",
    "view"
   ]
  },
  {
   "cell_type": "markdown",
   "metadata": {},
   "source": [
    "This endpoint allows to request the structure file with an additional parameter: a selection of atoms. The **'selection' parameter** uses [NGL syntax](https://nglviewer.org/ngl/api/manual/usage/selection-language.html). In this tutorial we want to remove glycans to see the naked protein. This is done as follows:"
   ]
  },
  {
   "cell_type": "code",
   "execution_count": 6,
   "metadata": {},
   "outputs": [
    {
     "name": "stdout",
     "output_type": "stream",
     "text": [
      "We query the API at http://bioexcel-cv19.bsc.es/api/rest/current/projects/MCV1900193.2/files/structure?selection=protein\n",
      "File has been downloaded successfully\n"
     ]
    }
   ],
   "source": [
    "# Set the structure query URL for the API\n",
    "filtered_structure_query = structure_query + '?selection=protein'\n",
    "print('We query the API at ' + filtered_structure_query)\n",
    "\n",
    "# Download the file with an arbitrary name\n",
    "filtered_structure_filename = 'filtered_structure.pdb'\n",
    "download_file_api(filtered_structure_query, filtered_structure_filename)\n",
    "if exists(filtered_structure_filename):\n",
    "    print('File has been downloaded successfully')"
   ]
  },
  {
   "cell_type": "markdown",
   "metadata": {},
   "source": [
    "Now visualize the filtered structure"
   ]
  },
  {
   "cell_type": "code",
   "execution_count": 8,
   "metadata": {},
   "outputs": [
    {
     "data": {
      "application/vnd.jupyter.widget-view+json": {
       "model_id": "b7e80455b25b4046b3391eec13907b43",
       "version_major": 2,
       "version_minor": 0
      },
      "text/plain": [
       "NGLWidget()"
      ]
     },
     "metadata": {},
     "output_type": "display_data"
    }
   ],
   "source": [
    "view2 = nglview.show_structure_file(filtered_structure_filename)\n",
    "view2._remote_call('setSize', target='Widget', args=['','600px'])\n",
    "view2"
   ]
  },
  {
   "cell_type": "markdown",
   "metadata": {},
   "source": [
    "## Requesting the trajectory\n",
    "\n",
    "To retrieve atom coordinates we use the **'trajectory' endpoint**. This endpoint allows to request not only a selection of atoms but also a selection of frames. This is done with the **'frames' argument'. For this example we will request the first 10 frames.\n",
    "\n",
    "This endpoint also accepts the **'format' argument** which sets the output file format. In this case we download the trajectory in a NGL-friendly format: xtc. The request would be as follows:"
   ]
  },
  {
   "cell_type": "code",
   "execution_count": 9,
   "metadata": {},
   "outputs": [
    {
     "name": "stdout",
     "output_type": "stream",
     "text": [
      "We query the API at http://bioexcel-cv19.bsc.es/api/rest/current/projects/MCV1900193.2/files/trajectory?frames=1:10:1&format=xtc\n",
      "File has been downloaded successfully\n"
     ]
    }
   ],
   "source": [
    "# Set the trajectory query URL for the API\n",
    "trajectory_query = specific_project_url + '/files/trajectory?frames=1:10:1&format=xtc'\n",
    "print('We query the API at ' + trajectory_query)\n",
    "\n",
    "# Download the file with an arbitrary name\n",
    "trajectory_filename = 'trajectory.xtc'\n",
    "download_file_api(trajectory_query, trajectory_filename)\n",
    "if exists(trajectory_filename):\n",
    "    print('File has been downloaded successfully')"
   ]
  },
  {
   "cell_type": "markdown",
   "metadata": {},
   "source": [
    "Now represent the dynamic atom coordinates using the molecular viewer.<br />\n",
    "You may need to click the 'play' button in the viewer for the animation to start running.\n",
    "\n",
    "**IMPORTANT**: When representing atom coordinates both the structure and the trajectory must match in the number of atoms."
   ]
  },
  {
   "cell_type": "code",
   "execution_count": 10,
   "metadata": {},
   "outputs": [
    {
     "data": {
      "application/vnd.jupyter.widget-view+json": {
       "model_id": "86223daa5ae04aa5b5579791eb8a95c4",
       "version_major": 2,
       "version_minor": 0
      },
      "text/plain": [
       "NGLWidget(max_frame=9)"
      ]
     },
     "metadata": {},
     "output_type": "display_data"
    },
    {
     "data": {
      "application/vnd.jupyter.widget-view+json": {
       "model_id": "ad0ac6315bd7456fbf3b7a9377ff24da",
       "version_major": 2,
       "version_minor": 0
      },
      "text/plain": [
       "Tab(children=(Box(children=(Box(children=(Box(children=(Label(value='step'), IntSlider(value=1, min=-100)), la…"
      ]
     },
     "metadata": {},
     "output_type": "display_data"
    }
   ],
   "source": [
    "# Show trajectory\n",
    "view3 = nglview.show_simpletraj(nglview.SimpletrajTrajectory(trajectory_filename, structure_filename), gui=True)\n",
    "view3._remote_call('setSize', target='Widget', args=['800px','600px'])\n",
    "view3"
   ]
  },
  {
   "cell_type": "markdown",
   "metadata": {},
   "source": [
    "# If you have any question, please do not hesitate to ask\n",
    "\n",
    "Contact: daniel.beltran@irbbarcelona.org"
   ]
  },
  {
   "cell_type": "code",
   "execution_count": null,
   "metadata": {},
   "outputs": [],
   "source": []
  }
 ],
 "metadata": {
  "kernelspec": {
   "display_name": "Python 3 (ipykernel)",
   "language": "python",
   "name": "python3"
  },
  "language_info": {
   "codemirror_mode": {
    "name": "ipython",
    "version": 3
   },
   "file_extension": ".py",
   "mimetype": "text/x-python",
   "name": "python",
   "nbconvert_exporter": "python",
   "pygments_lexer": "ipython3",
   "version": "3.10.8"
  }
 },
 "nbformat": 4,
 "nbformat_minor": 4
}

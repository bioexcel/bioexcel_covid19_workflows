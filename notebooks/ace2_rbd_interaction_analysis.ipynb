{
 "cells": [
  {
   "cell_type": "markdown",
   "id": "colored-freedom",
   "metadata": {},
   "source": [
    "# ACE2-RBD interaction analysis for different mutations\n",
    "\n",
    "In this example we intend to analyze the interaction between ***human angiotensin converting enzyme 2 (ACE2)*** and the ***SARS-CoV-2 spike RBD domain***.\n",
    "We want to compare, for the N501Y mutation, how ***electrostatic energies, Van der Waals energies and hydrogen bonds*** change on this residue and its surrounding residues.\n",
    "\n",
    "For this test we will use RBD-ACE2 **atomistic MD trajectories** already loaded in the **[BioExcel-Covid19](https://bioexcel-cv19.bsc.es) database**. Specifically, we will use a group of simulations from Mary Hongying Cheng including different varaints of the virus.\n",
    "\n",
    "This workflow is based on the BioExcel-Covid19 database REST API: https://bioexcel-cv19.bsc.es/api/rest/docs/\n",
    "\n",
    "***\n",
    "**Version:** 1.0 (August 2023)\n",
    "***\n",
    "**Contributors:**  Adam Hospital, Daniel Beltrán, Aurélien Luciani, Genís Bayarri, Josep Lluís Gelpí, Modesto Orozco (IRB-Barcelona, Spain)\n",
    "***\n",
    "**Contact:** [daniel.beltran@irbbarcelona.org](mailto:daniel.beltran@irbbarcelona.org)\n",
    "***"
   ]
  },
  {
   "cell_type": "code",
   "execution_count": 1,
   "id": "friendly-concept",
   "metadata": {},
   "outputs": [
    {
     "data": {
      "text/html": [
       "        <script type=\"text/javascript\">\n",
       "        window.PlotlyConfig = {MathJaxConfig: 'local'};\n",
       "        if (window.MathJax && window.MathJax.Hub && window.MathJax.Hub.Config) {window.MathJax.Hub.Config({SVG: {font: \"STIX-Web\"}});}\n",
       "        if (typeof require !== 'undefined') {\n",
       "        require.undef(\"plotly\");\n",
       "        requirejs.config({\n",
       "            paths: {\n",
       "                'plotly': ['https://cdn.plot.ly/plotly-2.18.0.min']\n",
       "            }\n",
       "        });\n",
       "        require(['plotly'], function(Plotly) {\n",
       "            window._Plotly = Plotly;\n",
       "        });\n",
       "        }\n",
       "        </script>\n",
       "        "
      ]
     },
     "metadata": {},
     "output_type": "display_data"
    }
   ],
   "source": [
    "import urllib.request\n",
    "import json\n",
    "\n",
    "from numpy import mean\n",
    "\n",
    "import plotly\n",
    "import plotly.graph_objs as go\n",
    "plotly.offline.init_notebook_mode(connected=True)\n",
    "\n",
    "# Set a dict to change residue 3 letters code to residue 1 letter code:\n",
    "residue_letters = {\n",
    "    'PRO' : 'P',\n",
    "    'HIS' : 'H',\n",
    "    'ARG' : 'R',\n",
    "    'LYS' : 'K',\n",
    "    'ILE' : 'I',\n",
    "    'PHE' : 'F',\n",
    "    'LEU' : 'L',\n",
    "    'TRP' : 'W',\n",
    "    'ALA' : 'A',\n",
    "    'MET' : 'M',\n",
    "    'CYS' : 'C',\n",
    "    'ASN' : 'N',\n",
    "    'VAL' : 'V',\n",
    "    'GLY' : 'G',\n",
    "    'SER' : 'S',\n",
    "    'GLN' : 'Q',\n",
    "    'TYR' : 'Y',\n",
    "    'ASP' : 'D',\n",
    "    'GLU' : 'E',\n",
    "    'THR' : 'T',\n",
    "    'CYX' : 'C',\n",
    "    'HIE' : 'H',\n",
    "    'HSD' : 'H',\n",
    "}"
   ]
  },
  {
   "cell_type": "markdown",
   "id": "intellectual-shock",
   "metadata": {},
   "source": [
    "Request the desired simulation projects through the API"
   ]
  },
  {
   "cell_type": "code",
   "execution_count": 2,
   "id": "empirical-bonus",
   "metadata": {},
   "outputs": [],
   "source": [
    "# Set the URL to the BioExcel-CV19 REST API\n",
    "api_url = 'https://bioexcel-cv19.bsc.es/api/rest/v1/'\n",
    "\n",
    "# Get a list with all simulations including the 'egfr' word in their names\n",
    "simulations_request = api_url + 'projects?query={\"metadata.AUTHORS\":\"Mary%20Hongying%20Cheng\"}&limit=15'\n",
    "with urllib.request.urlopen(simulations_request) as response:\n",
    "    parsed_response = json.loads(response.read().decode(\"utf-8\"))\n",
    "\n",
    "available_simulations = parsed_response['projects']"
   ]
  },
  {
   "cell_type": "markdown",
   "id": "returning-optics",
   "metadata": {},
   "source": [
    "Set a function to get reference residues from residue indices"
   ]
  },
  {
   "cell_type": "markdown",
   "id": "devoted-flashing",
   "metadata": {},
   "source": [
    "We are going to focus in residue 501 and its surrounding residues. Use the project map to find these residues."
   ]
  },
  {
   "cell_type": "code",
   "execution_count": 3,
   "id": "peaceful-cooking",
   "metadata": {
    "scrolled": true
   },
   "outputs": [
    {
     "name": "stdout",
     "output_type": "stream",
     "text": [
      "MCV1900410 -> GVEGFNCYFPLQSYGFQPT(N)GVGYQPYRVV\n",
      "MCV1900411 -> GVEGFNCYFPLQSYGFQPT(N)GVGYQPYRVV\n",
      "MCV1900412 -> GVEGFNCYFPLQSYGFQPT(N)GVGYQPYRVV\n",
      "MCV1900413 -> GVEGFNCYFPLQSYGFQPT(Y)GVGYQPYRVV\n",
      "MCV1900414 -> GVEGFNCYFPLQSYGFQPT(Y)GVGYQPYRVV\n",
      "MCV1900415 -> GVEGFNCYFPLQSYGFQPT(Y)GVGYQPYRVV\n",
      "MCV1900416 -> GVKGFNCYFPLQSYGFQPT(Y)GVGYQPYRVV\n",
      "MCV1900417 -> GVKGFNCYFPLQSYGFQPT(Y)GVGYQPYRVV\n",
      "MCV1900418 -> GVKGFNCYFPLQSYGFQPT(Y)GVGYQPYRVV\n",
      "MCV1900419 -> GVEGFNCYFPLQSYGFQPT(N)GVGYQPYRVV\n",
      "MCV1900420 -> GVEGFNCYFPLQSYGFQPT(N)GVGYQPYRVV\n",
      "MCV1900421 -> GVEGFNCYFPLQSYGFQPT(N)GVGYQPYRVV\n",
      "MCV1900422 -> GVKGFNCYFPLQSYGFQPT(Y)GVGYQPYRVV\n",
      "MCV1900423 -> GVKGFNCYFPLQSYGFQPT(Y)GVGYQPYRVV\n",
      "MCV1900424 -> GVKGFNCYFPLQSYGFQPT(Y)GVGYQPYRVV\n"
     ]
    }
   ],
   "source": [
    "# DANI: Para consultar la topología hay que usar la API en \"dev\" de momento\n",
    "dev_api_url = 'https://bioexcel-cv19-dev.bsc.es/api/rest/v1/'\n",
    "\n",
    "# Set the residue numbers we are interested in. Use reference numeration\n",
    "# In this example we are selecting residues close to residue 501\n",
    "# The range was better fit after experimentaly observing which residues were relevant in this workflow\n",
    "target_residues = list(range(482, 512))\n",
    "reference_residue_index = target_residues.index(501)\n",
    "target_reference = 'P0DTC2' # SARS-CoV-2 spike\n",
    "\n",
    "# Mine each target sequence\n",
    "# Use simulation accesion id as keys\n",
    "target_sequences = {}\n",
    "\n",
    "for simulation in available_simulations:\n",
    "    # Get the simulation id and use it to request the simulation topology\n",
    "    simulation_id = simulation['identifier']\n",
    "    topology_request = dev_api_url + 'projects/' + simulation_id + '/topology'\n",
    "    with urllib.request.urlopen(topology_request) as response:\n",
    "        parsed_response = json.loads(response.read().decode(\"utf-8\"))\n",
    "    topology = parsed_response\n",
    "    # Get the residue reference data in the topology\n",
    "    references = topology['references']\n",
    "    residue_reference_indices = topology['residue_reference_indices']\n",
    "    residue_reference_numbers = topology['residue_reference_numbers']\n",
    "    target_reference_index = references.index(target_reference)\n",
    "    # Set a dictionary to easily relate residue reference numbers to residue indices for the target reference\n",
    "    reference_indices = {}\n",
    "    for i, residue_reference_number in enumerate(residue_reference_numbers):\n",
    "        residue_reference_index = residue_reference_indices[i]\n",
    "        if residue_reference_index != target_reference_index:\n",
    "                continue\n",
    "        reference_indices[residue_reference_number] = i\n",
    "    # Now get the residue indices for each target residue\n",
    "    target_residue_indices = [ reference_indices.get(target_residue, None) for target_residue in target_residues ]\n",
    "    # Use these indices to get the actual aminoacids sequence\n",
    "    residue_names = topology['residue_names']\n",
    "    target_residue_names = [ residue_names[residue_index] for residue_index in target_residue_indices ]\n",
    "    target_residue_letters = [ residue_letters[residue_name] for residue_name in target_residue_names ]\n",
    "    sequence = ''.join(target_residue_letters)\n",
    "    # Save some results in the project itself\n",
    "    simulation['topology'] = topology\n",
    "    simulation['target_residue_indices'] = target_residue_indices\n",
    "    simulation['sequence'] = sequence\n",
    "    # Display the sequence highlighting resiude 501 with parenthesis\n",
    "    print(simulation['accession'] + ' -> '  + sequence[0:reference_residue_index] + '(' + sequence[reference_residue_index] + ')' + sequence[reference_residue_index+1:])"
   ]
  },
  {
   "cell_type": "markdown",
   "id": "protecting-bubble",
   "metadata": {},
   "source": [
    "As it can be observed in the previous logs, we have 6 simulations with the wild type residue (N) and 9 simulations with the mutation (Y) and the surrounding residues are equal in all 15 simulations.\n",
    "\n",
    "Now we create two lists with the accessions of the 'N' and 'Y' simulations."
   ]
  },
  {
   "cell_type": "code",
   "execution_count": 4,
   "id": "outstanding-success",
   "metadata": {},
   "outputs": [],
   "source": [
    "N501_simulations = []\n",
    "Y501_simulations = []\n",
    "for simulation in available_simulations:\n",
    "    sequence = simulation['sequence']\n",
    "    residue_501 = sequence[reference_residue_index]\n",
    "    N501_simulations.append(simulation) if residue_501 == 'N' else Y501_simulations.append(simulation)"
   ]
  },
  {
   "cell_type": "markdown",
   "id": "bored-worry",
   "metadata": {},
   "source": [
    "Set the API requests for project energies analysis data and interactions data"
   ]
  },
  {
   "cell_type": "code",
   "execution_count": 5,
   "id": "permanent-daily",
   "metadata": {},
   "outputs": [],
   "source": [
    "# Set a function to get the specific data energies we are interesed in\n",
    "def get_energies_data (accession_or_id : str) -> dict:\n",
    "\n",
    "    # Request the analysis\n",
    "    analysis_request = api_url + 'projects/' + accession_or_id + '/analyses/energies'\n",
    "    with urllib.request.urlopen(analysis_request) as response:\n",
    "        parsed_response = json.loads(response.read().decode(\"utf-8\"))\n",
    "    analysis_data = parsed_response['data']\n",
    "\n",
    "    # Get the indices of the target residues in the interaction list of residues\n",
    "    # NOTE: Here we access the data using a known pattern:\n",
    "    #   - ACE2-RBD interaction is the first (and usually the only) interaction in all ACE2-RBD simulations\n",
    "    #   - RBD is always the second interacting agent in the interaction\n",
    "    # However, if we did not know this, we could find the interaction and interacting agent as well\n",
    "    # We would have to search for our target residue indices on each interaction and agent from interactions data\n",
    "    interaction_data = analysis_data[0]\n",
    "    rbd_data = interaction_data['agent2']\n",
    "\n",
    "    # For this example, we are going to focus in the overall sum of energies\n",
    "    energies_data = rbd_data['both']\n",
    "    \n",
    "    return energies_data\n",
    "\n",
    "# Set a function to get interaction residue indices from a specific simulation\n",
    "def get_interaction_residue_indices (accession_or_id : str) -> list:\n",
    "    \n",
    "    # Use the simulation id to request the simulation interactions data\n",
    "    interactions_request = dev_api_url + 'projects/' + accession_or_id + '/analyses/interactions'\n",
    "    with urllib.request.urlopen(interactions_request) as response:\n",
    "        parsed_response = json.loads(response.read().decode(\"utf-8\"))\n",
    "    interactions = parsed_response\n",
    "    \n",
    "    # Get the indices of the target residues in the interaction list of residues\n",
    "    # NOTE: Here we access the data using a known pattern:\n",
    "    #   - ACE2-RBD interaction is the first (and usually the only) interaction in all ACE2-RBD simulations\n",
    "    #   - RBD is always the second interacting agent in the interaction\n",
    "    # However, if we did not know this, we could find the interaction and interacting agent as well\n",
    "    # We would have to search for our target residue indices on each interaction and agent\n",
    "    interaction = interactions[0]\n",
    "    \n",
    "    # We are interested in the RBD reisude indices\n",
    "    return interaction['residue_indices_2']"
   ]
  },
  {
   "cell_type": "markdown",
   "id": "rental-brunswick",
   "metadata": {},
   "source": [
    "Get the energies per residue and prepare a graph for each residue 501 variant"
   ]
  },
  {
   "cell_type": "code",
   "execution_count": 6,
   "id": "general-speed",
   "metadata": {},
   "outputs": [
    {
     "data": {
      "application/vnd.plotly.v1+json": {
       "config": {
        "plotlyServerURL": "https://plot.ly"
       },
       "data": [
        {
         "name": "MCV1900410",
         "type": "scatter",
         "x": [
          333,
          334,
          335,
          336,
          337,
          338,
          339,
          340,
          341,
          342,
          343,
          344,
          345,
          346,
          347,
          348,
          349,
          350,
          351,
          352,
          353,
          354,
          355,
          356,
          357,
          358,
          359,
          360,
          361,
          362,
          363,
          364,
          365,
          366,
          367,
          368,
          369,
          370,
          371,
          372,
          373,
          374,
          375,
          376,
          377,
          378,
          379,
          380,
          381,
          382,
          383,
          384,
          385,
          386,
          387,
          388,
          389,
          390,
          391,
          392,
          393,
          394,
          395,
          396,
          397,
          398,
          399,
          400,
          401,
          402,
          403,
          404,
          405,
          406,
          407,
          408,
          409,
          410,
          411,
          412,
          413,
          414,
          415,
          416,
          417,
          418,
          419,
          420,
          421,
          422,
          423,
          424,
          425,
          426,
          427,
          428,
          429,
          430,
          431,
          432,
          433,
          434,
          435,
          436,
          437,
          438,
          439,
          440,
          441,
          442,
          443,
          444,
          445,
          446,
          447,
          448,
          449,
          450,
          451,
          452,
          453,
          454,
          455,
          456,
          457,
          458,
          459,
          460,
          461,
          462,
          463,
          464,
          465,
          466,
          467,
          468,
          469,
          470,
          471,
          472,
          473,
          474,
          475,
          476,
          477,
          478,
          479,
          480,
          481,
          482,
          483,
          484,
          485,
          486,
          487,
          488,
          489,
          490,
          491,
          492,
          493,
          494,
          495,
          496,
          497,
          498,
          499,
          500,
          501,
          502,
          503,
          504,
          505,
          506,
          507,
          508,
          509,
          510,
          511,
          512,
          513,
          514,
          515,
          516,
          517,
          518,
          519,
          520,
          521,
          522,
          523,
          524,
          525,
          526,
          527
         ],
         "y": [
          0.18490000000000004,
          0,
          -0.03919423076923077,
          -0.03726153846153846,
          0.13477096153846155,
          0.049474999999999984,
          0.10184653846153849,
          0.8687826923076921,
          0.05570384615384616,
          0.01056923076923079,
          0.0636711538461539,
          0.0043692307692307555,
          0.03983461538461538,
          -2.1132192307692312,
          0.006130769230769209,
          0.021424999999999972,
          -0.008330769230769244,
          -0.029321153846153806,
          -0.01627884615384613,
          -0.016301923076923068,
          -0.0352240384615385,
          -0.006028846153846171,
          -1.7667903846153836,
          -1.1759396153846153,
          -0.00033653846153847464,
          -0.025640384615384596,
          0.18490000000000004,
          0,
          0,
          0.01448846153846154,
          -0.035198076923076915,
          1.0512576923076922,
          0.18372115384615384,
          0.14372346153846152,
          0.07111923076923075,
          0.025455769230769216,
          0.024692307692307656,
          0.02193076923076924,
          0.016113269230769254,
          0.015403846153846153,
          0.013613653846153834,
          0.00039038461538464073,
          -0.004240384615384665,
          -0.0016384615384615801,
          0.008680769230769185,
          -2.386075,
          0.013003846153846133,
          -0.015594230769230753,
          -0.00991807692307692,
          0.022659615384615386,
          0.020420384615384604,
          -0.008719423076923083,
          0.00823076923076921,
          -1.1434144230769236,
          -0.002188461538461544,
          0.06922115384615385,
          0.08212307692307694,
          -0.06134230769230768,
          0.004507692307692308,
          -0.0734673076923077,
          0.18490000000000004,
          0.03199807692307692,
          -0.28260576923076913,
          0.12210576923076921,
          0.008890384615384644,
          2.0034134615384613,
          -0.006734615384615386,
          -0.011184615384615378,
          0.0002692307692307652,
          -0.022113461538461558,
          -3.46051923076923,
          -0.020490769230769222,
          2.9505423076923067,
          2.9284269230769238,
          -0.01584615384615386,
          -2.7800769230769236,
          -0.026628846153846142,
          -0.006903846153846123,
          0.012394230769230767,
          0.022243076923076942,
          0.017158461538461543,
          0.00710384615384617,
          0.01074999999999997,
          -0.04106750000000001,
          -5.131453846153847,
          -0.02688653846153847,
          -0.030844230769230742,
          2.719571153846153,
          -0.029746779346153853,
          -0.04794807692307695,
          0.023373076923076906,
          -2.531011538461539,
          0.021867307692307682,
          0.017326346153846154,
          2.4090596153846153,
          2.1365653846153845,
          0.0021788461538461553,
          0.001240384615384607,
          0.007427307692307699,
          -0.009571153846153849,
          -0.00643076923076924,
          0.006978846153846145,
          -0.010842307692307672,
          -0.003243461538461492,
          -0.02607115384615383,
          -0.013844230769230735,
          -0.016705769230769305,
          0.005136538461538468,
          0.0017153846153845974,
          2.358734615384615,
          -0.026192307692307664,
          -2.375819230769231,
          -0.03486538461538462,
          -0.05124115384615386,
          -0.043069038461538436,
          0.013353846153846187,
          -0.35728169734615395,
          -0.009134615384615343,
          0.01181923076923083,
          -0.01821923076923076,
          -0.4514089096153846,
          -2.4130769230769236,
          -1.2544334230769227,
          -2.0358132115384615,
          -2.382415384615384,
          -2.909711538461539,
          -0.018071153846153844,
          0.003873076923076881,
          0.02085769230769237,
          -2.2713128846153845,
          -0.020421538461538487,
          -0.020567307692307725,
          2.100490384615384,
          -1.999586538461539,
          2.3303692307692305,
          0.00842884615384611,
          0.03708076923076926,
          0.0009923076923077112,
          2.207901923076923,
          -0.0100826923076923,
          -0.4864919423076924,
          -0.023653846153846088,
          -1.3676461538461535,
          -1.100574423076923,
          -0.38160000000000005,
          -0.14208461538461542,
          0.032571534930769246,
          -0.013899999999999985,
          -0.01545192307692304,
          -0.011517500000000014,
          -0.0006442307692307025,
          2.3276865384615393,
          -0.07192564038461535,
          -2.734578857692308,
          -2.0112526923076923,
          -0.021951923076923112,
          -2.6541450317307684,
          -0.12554915869230773,
          0.01359256150384616,
          -0.046382692307692326,
          -1.804425769230769,
          0.012492307692307764,
          -0.05409657421730766,
          -0.15686961538461533,
          -0.026147448884615378,
          -0.937746153846154,
          -0.03246268683653843,
          -1.9052096153846159,
          -3.0043250000000006,
          -0.38912625,
          -0.029761538461538485,
          -0.02808769230769226,
          -2.062202807692308,
          -0.047611538461538525,
          -0.0022484972692307518,
          0.014313461538461563,
          -2.222196153846154,
          -0.007759615384615401,
          0.013488461538461496,
          -0.011782692307692329,
          0.03239807692307687,
          -0.0892475,
          0.17651153846153844,
          0.21459423076923068,
          -0.01866346153846154,
          -0.0058615384615384606,
          0,
          0,
          0,
          0,
          0.18490000000000004,
          -0.0030634615384615383,
          0,
          -0.0029826923076923073,
          0.014305769230769231
         ]
        },
        {
         "name": "MCV1900411",
         "type": "scatter",
         "x": [
          333,
          334,
          335,
          336,
          337,
          338,
          339,
          340,
          341,
          342,
          343,
          344,
          345,
          346,
          347,
          348,
          349,
          350,
          351,
          352,
          353,
          354,
          355,
          356,
          357,
          358,
          359,
          360,
          361,
          362,
          363,
          364,
          365,
          366,
          367,
          368,
          369,
          370,
          371,
          372,
          373,
          374,
          375,
          376,
          377,
          378,
          379,
          380,
          381,
          382,
          383,
          384,
          385,
          386,
          387,
          388,
          389,
          390,
          391,
          392,
          393,
          394,
          395,
          396,
          397,
          398,
          399,
          400,
          401,
          402,
          403,
          404,
          405,
          406,
          407,
          408,
          409,
          410,
          411,
          412,
          413,
          414,
          415,
          416,
          417,
          418,
          419,
          420,
          421,
          422,
          423,
          424,
          425,
          426,
          427,
          428,
          429,
          430,
          431,
          432,
          433,
          434,
          435,
          436,
          437,
          438,
          439,
          440,
          441,
          442,
          443,
          444,
          445,
          446,
          447,
          448,
          449,
          450,
          451,
          452,
          453,
          454,
          455,
          456,
          457,
          458,
          459,
          460,
          461,
          462,
          463,
          464,
          465,
          466,
          467,
          468,
          469,
          470,
          471,
          472,
          473,
          474,
          475,
          476,
          477,
          478,
          479,
          480,
          481,
          482,
          483,
          484,
          485,
          486,
          487,
          488,
          489,
          490,
          491,
          492,
          493,
          494,
          495,
          496,
          497,
          498,
          499,
          500,
          501,
          502,
          503,
          504,
          505,
          506,
          507,
          508,
          509,
          510,
          511,
          512,
          513,
          514,
          515,
          516,
          517,
          518,
          519,
          520,
          521,
          522,
          523,
          524,
          525,
          526,
          527
         ],
         "y": [
          0.1492365384615384,
          -0.027192307692307696,
          -0.007309615384615385,
          -0.06534615384615389,
          0.05896096153846153,
          0.048378846153846126,
          0.04836807692307694,
          1.3631519230769233,
          0.01699807692307696,
          0.022413461538461556,
          0.010611538461538426,
          0.02295192307692306,
          0.023686538461538453,
          -2.1961999999999997,
          0.0008576923076923199,
          0.02159807692307693,
          -0.012082692307692279,
          -0.03528076923076924,
          -0.02057692307692307,
          -0.018051923076923052,
          -0.042403653846153855,
          0.0032653846153845698,
          -1.8803576923076917,
          -1.715005192307692,
          -0.46792500000000004,
          -0.09652499999999999,
          0.1585905769230769,
          0.006188461538461546,
          -0.016257692307692317,
          0.05108846153846151,
          0.03023846153846153,
          1.8821923076923075,
          0.011438461538461524,
          0.026357307692307708,
          0.022801923076923084,
          0.018388461538461534,
          0.025448076923076914,
          0.033605769230769196,
          0.0036696153846153758,
          0.01283076923076921,
          0.01350384615384614,
          -0.0036846153846153973,
          -0.0023634615384615343,
          -0.006494230769230754,
          0.005873076923076947,
          -2.420067307692308,
          0.010907692307692264,
          -0.011840384615384615,
          -0.006949230769230785,
          0.038423076923076914,
          -0.01891634615384613,
          -0.013616923076923092,
          -0.01511923076923078,
          -1.175143076923077,
          -0.10457115384615384,
          -0.05049615384615384,
          0.44963269230769237,
          -0.0633076923076923,
          -0.015226923076923072,
          -0.05594807692307692,
          0.13686730769230768,
          -0.01031153846153844,
          -0.08093076923076925,
          0.04383846153846154,
          -0.0028173076923076893,
          2.0763596153846158,
          -0.007388461538461549,
          -0.012084615384615381,
          -0.004151923076923094,
          -0.020350000000000014,
          -3.4981307692307686,
          -0.03273019230769235,
          3.1598038461538467,
          2.9955057692307694,
          -0.02559807692307695,
          -2.8221,
          -0.03007499999999998,
          -0.00270000000000004,
          0.011315384615384642,
          0.028349807692307695,
          0.006728653846153876,
          -0.0050000000000000175,
          0.014071153846153869,
          -0.04416442307692307,
          -4.2249230769230754,
          -0.027165384615384633,
          -0.02874615384615384,
          2.6627519230769234,
          -0.015458558403846117,
          -0.0445115384615384,
          0.025796153846153833,
          -2.4581134615384617,
          0.015771153846153848,
          0.01804346153846155,
          2.2927480769230777,
          2.1196019230769227,
          0.0058711538461538445,
          -0.010471153846153823,
          0.0036046153846153836,
          -0.006788461538461562,
          -0.00737692307692311,
          0.005198076923076915,
          -0.013955769230769244,
          -0.006835576923076911,
          -0.04507884615384618,
          -0.006644230769230781,
          -0.009484615384615404,
          0.011175000000000008,
          -0.00039999999999996874,
          2.480417307692308,
          -0.029648076923076947,
          -2.5108653846153848,
          -0.035111538461538444,
          -0.09577392307692306,
          -0.06422519230769229,
          0.020748076923076935,
          -0.4881512775961539,
          -0.007923076923076922,
          0.017100000000000018,
          -0.019017307692307715,
          -0.49321585384615385,
          -2.4086423076923076,
          -1.3910911153846155,
          -1.9457775576923082,
          -2.348221153846154,
          -2.6880961538461534,
          -0.008848076923076872,
          0.00017499999999997644,
          0.012611538461538452,
          -2.1343125,
          -0.019497115384615366,
          -0.021182692307692336,
          2.160259615384615,
          -2.0998076923076927,
          2.312613461538461,
          0.010057692307692306,
          0.03925192307692306,
          0.001780769230769244,
          2.243692307692308,
          -0.01352115384615381,
          -0.28884550000000003,
          -0.0394326923076923,
          -1.3088511538461545,
          -0.7378241346153848,
          -0.33419615384615375,
          -0.02766346153846152,
          0.02479867526923079,
          -0.013100000000000044,
          -0.0036038461538461584,
          -0.007794423076923078,
          0.0017230769230768956,
          2.511128846153846,
          -0.08389009615384616,
          -2.616278957692307,
          -1.936413461538462,
          -0.013936538461538443,
          -2.5021533007692303,
          -0.1488819763461539,
          0.010376608188461504,
          -0.0631288461538462,
          -2.4035421153846155,
          0.004076923076923136,
          -0.14921395687115385,
          -0.3379716346153847,
          -0.052720657803846147,
          -1.438000192307692,
          -0.00404841230769233,
          -1.6348068076923075,
          -2.149582692307692,
          -0.9229071250000002,
          -0.10121923076923084,
          -0.06811499999999998,
          -3.104096384615384,
          -0.086776923076923,
          0.006069937744807707,
          0.01934038461538462,
          -2.329242307692307,
          -0.00859807692307689,
          0.013523076923076912,
          -0.009755769230769219,
          0.014505769230769258,
          -0.002970769230769262,
          0.12310000000000001,
          0.8749673076923077,
          -0.08340769230769232,
          -0.0027269230769230842,
          -0.0005301923076923084,
          -0.01535961538461538,
          0.0039811538461538435,
          -0.0027769230769230757,
          0.17815288461538464,
          -0.007201346153846154,
          4.942307692307831e-05,
          -0.030209423076923085,
          0.010229999999999998
         ]
        },
        {
         "name": "MCV1900412",
         "type": "scatter",
         "x": [
          333,
          334,
          335,
          336,
          337,
          338,
          339,
          340,
          341,
          342,
          343,
          344,
          345,
          346,
          347,
          348,
          349,
          350,
          351,
          352,
          353,
          354,
          355,
          356,
          357,
          358,
          359,
          360,
          361,
          362,
          363,
          364,
          365,
          366,
          367,
          368,
          369,
          370,
          371,
          372,
          373,
          374,
          375,
          376,
          377,
          378,
          379,
          380,
          381,
          382,
          383,
          384,
          385,
          386,
          387,
          388,
          389,
          390,
          391,
          392,
          393,
          394,
          395,
          396,
          397,
          398,
          399,
          400,
          401,
          402,
          403,
          404,
          405,
          406,
          407,
          408,
          409,
          410,
          411,
          412,
          413,
          414,
          415,
          416,
          417,
          418,
          419,
          420,
          421,
          422,
          423,
          424,
          425,
          426,
          427,
          428,
          429,
          430,
          431,
          432,
          433,
          434,
          435,
          436,
          437,
          438,
          439,
          440,
          441,
          442,
          443,
          444,
          445,
          446,
          447,
          448,
          449,
          450,
          451,
          452,
          453,
          454,
          455,
          456,
          457,
          458,
          459,
          460,
          461,
          462,
          463,
          464,
          465,
          466,
          467,
          468,
          469,
          470,
          471,
          472,
          473,
          474,
          475,
          476,
          477,
          478,
          479,
          480,
          481,
          482,
          483,
          484,
          485,
          486,
          487,
          488,
          489,
          490,
          491,
          492,
          493,
          494,
          495,
          496,
          497,
          498,
          499,
          500,
          501,
          502,
          503,
          504,
          505,
          506,
          507,
          508,
          509,
          510,
          511,
          512,
          513,
          514,
          515,
          516,
          517,
          518,
          519,
          520,
          521,
          522,
          523,
          524,
          525,
          526,
          527
         ],
         "y": [
          0.19743461538461546,
          -0.011784615384615383,
          -0.05792115384615386,
          0.045721153846153856,
          0.14457192307692307,
          0.0320826923076923,
          0.01961230769230767,
          1.583811538461539,
          0.017528846153846145,
          0.022084615384615418,
          0.023548076923076915,
          0.02052884615384616,
          0.02479615384615387,
          -2.219869230769231,
          0.0028057692307691907,
          0.024121153846153837,
          -0.011913461538461541,
          -0.03497115384615384,
          -0.024328846153846135,
          -0.01997115384615382,
          -0.049758846153846174,
          0.004251923076923121,
          -1.9936557692307693,
          -1.556415576923077,
          -0.4914750000000001,
          -0.1291942307692308,
          0.19514423076923085,
          0,
          0.007540384615384615,
          0.06335,
          -0.1523846153846154,
          1.5858038461538466,
          0.054546153846153834,
          0.04765634615384614,
          0.019665384615384626,
          0.013759615384615396,
          0.018205769230769213,
          0.01981153846153845,
          0.013358076923076927,
          0.009092307692307686,
          0.01671903846153844,
          -0.0006269230769231018,
          -0.006417307692307665,
          -0.004782692307692293,
          0.009101923076923035,
          -2.4967423076923083,
          0.014117307692307686,
          -0.021130769230769227,
          -0.01250423076923077,
          0.021623076923076898,
          -0.011102692307692303,
          -0.04496096153846155,
          0.28886153846153845,
          -1.6294876923076924,
          0.03232692307692308,
          0.07789423076923077,
          0.05564615384615385,
          -0.02028653846153846,
          0,
          -0.022176923076923077,
          0.18490000000000004,
          0.06880192307692308,
          -0.04882115384615386,
          0.09249999999999997,
          -0.00972499999999999,
          2.10845,
          -0.006546153846153855,
          -0.01405384615384616,
          -0.0005288461538461042,
          -0.024474999999999976,
          -3.567744230769231,
          -0.029803846153846122,
          3.2140461538461547,
          3.141542307692308,
          -0.019884615384615376,
          -3.0187711538461537,
          -0.025355769230769282,
          -0.007824999999999971,
          0.014534615384615389,
          0.029384807692307703,
          0.02362346153846154,
          0.0010730769230769372,
          0.02000384615384615,
          -0.04326903846153843,
          -5.08225,
          -0.032671153846153884,
          -0.03673461538461537,
          2.9170615384615384,
          -0.026000907307692275,
          -0.05563269230769234,
          0.02865961538461538,
          -2.723509615384615,
          0.02694038461538463,
          0.019494230769230778,
          2.5952634615384613,
          2.222226923076923,
          0.003530769230769213,
          -0.02643653846153846,
          0.008218269230769234,
          -0.004240384615384633,
          -0.008398076923076925,
          0.008165384615384574,
          -0.015084615384615401,
          -0.0010134615384615848,
          -0.049451923076923095,
          0.010442307692307674,
          -0.005119230769230769,
          0.022576923076922994,
          -0.0012230769230769166,
          2.508903846153846,
          -0.030219230769230734,
          -2.536619230769231,
          -0.039071153846153825,
          -0.11015391153846152,
          -0.07492419230769233,
          0.026590384615384585,
          -0.4563460090173078,
          -0.00031346153846157656,
          0.02169038461538459,
          -0.020588461538461562,
          -0.6071394153846154,
          -2.5410846153846163,
          -1.4882038461538456,
          -1.8995884403846155,
          -2.4950365384615383,
          -2.9061865384615384,
          -0.03545576923076921,
          0.004126923076923101,
          0.025113461538461505,
          -2.3059467307692305,
          -0.02567249999999999,
          -0.026073076923076935,
          2.281573076923077,
          -2.1312980769230765,
          2.4166076923076925,
          0.011103846153846152,
          0.04196923076923076,
          0.0024615384615384595,
          2.3131980769230767,
          -0.010913461538461549,
          -0.335602,
          -0.036515384615384665,
          -1.1407269230769232,
          -0.9952390384615385,
          -0.4407942307692307,
          -0.48955192307692297,
          -0.1218301570134615,
          -0.2522905769230769,
          -0.10434999999999992,
          -0.0754241846153846,
          -0.17621423076923082,
          2.590246153846155,
          -0.08578421153846151,
          -2.324427157692308,
          -1.7949197692307697,
          -0.014417307692307663,
          -2.5457632565384634,
          -0.10574071507692312,
          0.02141136948076921,
          -0.05378653846153846,
          -2.3417211538461533,
          -0.0036673076923076984,
          -0.12069780331307697,
          -0.35629640384615385,
          -0.06049242838269231,
          -1.3185200000000004,
          -0.024371320384615393,
          -1.8476038461538462,
          -1.7365121153846155,
          -0.48236709615384604,
          -0.04258846153846156,
          -0.047395192307692305,
          -2.3417358519230764,
          -0.07216730769230764,
          0.0027317722192307446,
          0.02010000000000001,
          -2.346403846153846,
          -0.009507692307692276,
          0.015236538461538452,
          -0.013346153846153884,
          0.019626923076923094,
          -0.018900961538461547,
          0.12015384615384615,
          0.8896038461538461,
          0.015561538461538458,
          -0.014598076923076925,
          0,
          0,
          0,
          0,
          0.18490000000000004,
          -0.02349423076923077,
          0.01640576923076923,
          -0.05566038461538461,
          -0.038209038461538454
         ]
        },
        {
         "name": "MCV1900419",
         "type": "scatter",
         "x": [
          333,
          334,
          335,
          336,
          337,
          338,
          339,
          340,
          341,
          342,
          343,
          344,
          345,
          346,
          347,
          348,
          349,
          350,
          351,
          352,
          353,
          354,
          355,
          356,
          357,
          358,
          359,
          360,
          361,
          362,
          363,
          364,
          365,
          366,
          367,
          368,
          369,
          370,
          371,
          372,
          373,
          374,
          375,
          376,
          377,
          378,
          379,
          380,
          381,
          382,
          383,
          384,
          385,
          386,
          387,
          388,
          389,
          390,
          391,
          392,
          393,
          394,
          395,
          396,
          397,
          398,
          399,
          400,
          401,
          402,
          403,
          404,
          405,
          406,
          407,
          408,
          409,
          410,
          411,
          412,
          413,
          414,
          415,
          416,
          417,
          418,
          419,
          420,
          421,
          422,
          423,
          424,
          425,
          426,
          427,
          428,
          429,
          430,
          431,
          432,
          433,
          434,
          435,
          436,
          437,
          438,
          439,
          440,
          441,
          442,
          443,
          444,
          445,
          446,
          447,
          448,
          449,
          450,
          451,
          452,
          453,
          454,
          455,
          456,
          457,
          458,
          459,
          460,
          461,
          462,
          463,
          464,
          465,
          466,
          467,
          468,
          469,
          470,
          471,
          472,
          473,
          474,
          475,
          476,
          477,
          478,
          479,
          480,
          481,
          482,
          483,
          484,
          485,
          486,
          487,
          488,
          489,
          490,
          491,
          492,
          493,
          494,
          495,
          496,
          497,
          498,
          499,
          500,
          501,
          502,
          503,
          504,
          505,
          506,
          507,
          508,
          509,
          510,
          511,
          512,
          513,
          514,
          515,
          516,
          517,
          518,
          519,
          520,
          521,
          522,
          523,
          524,
          525,
          526,
          527
         ],
         "y": [
          0.18490000000000006,
          -0.0028358490566037734,
          -0.07174905660377359,
          0.0006924528301886742,
          0.13763150943396224,
          0.026152830188679244,
          0.08133018867924527,
          1.335418867924528,
          0.026405660377358506,
          0.023911320754717,
          0.02040754716981131,
          0.024328301886792462,
          0.024560377358490572,
          -2.2956245283018863,
          0.005162264150943431,
          0.0297188679245283,
          -0.009045283018867914,
          -0.036575471698113246,
          -0.019947169811320786,
          -0.017990566037735838,
          -0.04736603773584906,
          -0.019581132075471713,
          -1.911235849056603,
          -1.2396552830188678,
          -0.13396037735849053,
          -0.04597924528301887,
          0.17499622641509435,
          0,
          0.005045283018867924,
          0.05274716981132075,
          -0.12102830188679246,
          1.5202264150943399,
          0.26332641509433957,
          0.05365377358490568,
          0.026907547169811287,
          0.020992452830188725,
          0.022862264150943404,
          0.025533962264150906,
          0.01988018867924526,
          0.013154716981132056,
          0.020345283018867916,
          0.002164150943396214,
          -0.0034867924528301313,
          -0.002098113207547161,
          0.011599999999999996,
          -2.454805660377358,
          0.012198113207547144,
          -0.015579245283018848,
          -0.002391320754716993,
          0.02715471698113207,
          -0.015297924528301893,
          -0.023576792452830224,
          -0.003984905660377353,
          -1.6483454716981136,
          -0.025832075471698107,
          0.09567169811320753,
          0.047943396226415094,
          -0.05193584905660377,
          0,
          -0.0723622641509434,
          0.18490000000000006,
          0.014481132075471699,
          -0.22788867924528303,
          0.15050943396226413,
          -0.002977358490566051,
          2.078569811320754,
          -0.007773584905660401,
          -0.01161320754716978,
          -0.0016150943396226688,
          -0.022188679245283043,
          -3.743956603773585,
          -0.031082264150943374,
          3.2412264150943395,
          3.1238754716981125,
          -0.025303773584905678,
          -2.8790075471698118,
          -0.03375660377358487,
          -0.0065943396226415246,
          0.013354716981132046,
          0.03054698113207548,
          0.020867924528301926,
          -0.004586792452830157,
          0.01930000000000002,
          -0.04335603773584909,
          -4.560016981132075,
          -0.037230188679245324,
          -0.03466226415094339,
          2.703613207547169,
          -0.02762075471698119,
          -0.05035849056603773,
          0.02496037735849057,
          -2.543277358490567,
          0.017547169811320727,
          0.021627547169811343,
          2.3650773584905664,
          2.091343396226415,
          0.0019264150943396053,
          -9.999999999999946e-05,
          0.007016415094339624,
          -0.010654716981132059,
          -0.006971698113207567,
          0.005543396226415099,
          -0.01448301886792453,
          -0.0073043396226414835,
          -0.03924150943396229,
          -0.016658490566037704,
          -0.021828301886792436,
          0.013841509433962293,
          -0.001484905660377354,
          2.5366207547169806,
          -0.02072264150943401,
          -2.612556603773584,
          -0.04201320754716985,
          -0.07309435849056603,
          -0.07113830188679247,
          0.023128301886792445,
          -0.5148713330188679,
          -0.00947358490566034,
          0.025450943396226444,
          -2.521122641509434,
          -0.6485182886792453,
          -2.432571698113207,
          -1.5029635849056604,
          -1.9072442075471694,
          -2.3690433962264144,
          -2.7066018867924533,
          -0.015420754716981126,
          -0.004237735849056581,
          0.01632264150943397,
          -2.1843069811320754,
          -0.020443396226415105,
          -0.02378490566037737,
          2.1963547169811317,
          -2.060233962264151,
          2.325845283018868,
          0.010726415094339593,
          0.04528867924528299,
          0.00233018867924529,
          2.240160377358491,
          -0.01130566037735846,
          -0.29919356603773584,
          -0.011592452830188676,
          -1.455245283018868,
          -0.7878313018867924,
          -0.42342641509433965,
          -2.6113811320754716,
          0.030397358490566035,
          0.004250943396226424,
          -0.0034094339622641524,
          -0.012209811320754715,
          0.006275471698113179,
          2.487394339622641,
          -0.0267333962264151,
          -2.441308201886792,
          -1.9026452830188678,
          -0.018439622641509407,
          -2.4322316415094334,
          -0.12165620754716987,
          0.018459443207547194,
          -0.049107547169811326,
          -2.2208788679245273,
          -0.02911320754716982,
          -0.14637714096226415,
          -0.674921396226415,
          -0.08900027107547173,
          -1.5705264150943392,
          -0.05957475471698114,
          -3.421364150943396,
          -3.2915056603773576,
          -1.2183126415094339,
          -0.14182264150943394,
          -0.047493584905660385,
          -3.4397657584905663,
          -0.09061509433962267,
          0.0017486853396226198,
          0.02010943396226414,
          -2.370245283018869,
          -0.007394339622641487,
          0.015949056603773545,
          -0.011049056603773623,
          0.015030188679245287,
          -0.050738301886792445,
          0.1840603773584905,
          0.04068679245283019,
          -0.02782830188679245,
          0,
          0,
          0,
          0,
          0,
          0.18490000000000006,
          -0.01470188679245283,
          0.015952830188679247,
          -0.011900566037735849,
          -0.04064509433962265
         ]
        },
        {
         "name": "MCV1900420",
         "type": "scatter",
         "x": [
          333,
          334,
          335,
          336,
          337,
          338,
          339,
          340,
          341,
          342,
          343,
          344,
          345,
          346,
          347,
          348,
          349,
          350,
          351,
          352,
          353,
          354,
          355,
          356,
          357,
          358,
          359,
          360,
          361,
          362,
          363,
          364,
          365,
          366,
          367,
          368,
          369,
          370,
          371,
          372,
          373,
          374,
          375,
          376,
          377,
          378,
          379,
          380,
          381,
          382,
          383,
          384,
          385,
          386,
          387,
          388,
          389,
          390,
          391,
          392,
          393,
          394,
          395,
          396,
          397,
          398,
          399,
          400,
          401,
          402,
          403,
          404,
          405,
          406,
          407,
          408,
          409,
          410,
          411,
          412,
          413,
          414,
          415,
          416,
          417,
          418,
          419,
          420,
          421,
          422,
          423,
          424,
          425,
          426,
          427,
          428,
          429,
          430,
          431,
          432,
          433,
          434,
          435,
          436,
          437,
          438,
          439,
          440,
          441,
          442,
          443,
          444,
          445,
          446,
          447,
          448,
          449,
          450,
          451,
          452,
          453,
          454,
          455,
          456,
          457,
          458,
          459,
          460,
          461,
          462,
          463,
          464,
          465,
          466,
          467,
          468,
          469,
          470,
          471,
          472,
          473,
          474,
          475,
          476,
          477,
          478,
          479,
          480,
          481,
          482,
          483,
          484,
          485,
          486,
          487,
          488,
          489,
          490,
          491,
          492,
          493,
          494,
          495,
          496,
          497,
          498,
          499,
          500,
          501,
          502,
          503,
          504,
          505,
          506,
          507,
          508,
          509,
          510,
          511,
          512,
          513,
          514,
          515,
          516,
          517,
          518,
          519,
          520,
          521,
          522,
          523,
          524,
          525,
          526,
          527
         ],
         "y": [
          0.2128245283018868,
          -0.02536603773584907,
          -0.062277358490566044,
          -0.03842075471698113,
          -0.013785283018867927,
          0.0764132075471698,
          0.10689339622641511,
          0.9842943396226413,
          -0.0012886792452829795,
          0.04184716981132074,
          0.039924528301886766,
          0.05756603773584908,
          0.09841320754716983,
          -2.040762264150943,
          -0.011650943396226398,
          0.02794905660377361,
          -0.009537735849056546,
          -0.034922641509434006,
          -0.021011320754716973,
          -0.03734716981132073,
          -0.09555962264150944,
          -0.00019622641509437665,
          -1.7240811320754716,
          -1.1664077358490568,
          -0.40653018867924534,
          -0.04414339622641509,
          0.19539056603773589,
          0.01629245283018868,
          0.013305660377358487,
          0.10563018867924528,
          -0.009332075471698098,
          1.372545283018868,
          0.07650188679245283,
          0.02937113207547169,
          0.047892452830188656,
          0.02725660377358493,
          0.0231132075471698,
          0.024422641509433986,
          0.023565849056603746,
          0.01811698113207546,
          0.021552264150943384,
          0.0006981132075471432,
          -0.007484905660377364,
          -0.005105660377358481,
          0.011950943396226424,
          -2.55976037735849,
          0.011271698113207563,
          -0.005254716981132086,
          -0.009939056603773611,
          0.019294339622641495,
          -0.0006679245283018718,
          -0.012689245283018846,
          0.028456603773584888,
          -1.483528679245283,
          -0.04870188679245283,
          0.05716981132075472,
          -0.01919811320754717,
          -0.05479056603773584,
          0,
          -0.08250566037735847,
          0.18490000000000006,
          0.016554716981132072,
          -0.0776207547169811,
          0.1681301886792452,
          -0.009152830188679241,
          1.9390943396226419,
          -0.008650943396226437,
          -0.01303018867924526,
          -0.0005660377358490361,
          -0.030645283018867965,
          -4.025792452830189,
          -0.025097358490566046,
          3.3305452830188678,
          3.2946999999999997,
          -0.02142830188679248,
          -3.0451415094339627,
          -0.04274716981132076,
          -0.008207547169811352,
          0.01536037735849055,
          0.02823037735849052,
          0.02240433962264153,
          -0.0018113207547169367,
          0.00978301886792452,
          -0.06784773584905662,
          -5.890254716981132,
          -0.037828301886792474,
          -0.037092452830188694,
          2.9003188679245286,
          -0.025074675898113182,
          -0.06195660377358488,
          0.025886792452830182,
          -2.690067924528301,
          0.020873584905660367,
          0.016816415094339624,
          2.525466037735849,
          2.3021113207547166,
          0.0029962264150943363,
          -0.003843396226415082,
          0.010493773584905665,
          -0.004922641509433981,
          -0.007401886792452861,
          0.0049943396226415126,
          -0.013205660377358477,
          0.0012273584905660765,
          -0.04678490566037733,
          -0.000724528301886788,
          -0.011137735849056604,
          0.004401886792452882,
          -0.00322641509433964,
          2.5072849056603768,
          -0.02352452830188676,
          -2.486596226415094,
          -0.032935849056603794,
          -0.04976962264150943,
          -0.049853018867924544,
          0.017637735849056594,
          -0.3677864895283018,
          -0.008752830188679207,
          0.018132075471698077,
          -2.55066037735849,
          -0.6936379603773586,
          -2.5268622641509433,
          -1.3168679245283015,
          -2.089086471698114,
          -2.500764150943397,
          -2.8949150943396225,
          -0.01152264150943395,
          -0.0016792452830188967,
          0.014620754716981127,
          -2.3546664150943397,
          -0.006987735849056607,
          -0.042103773584905684,
          2.30651320754717,
          -1.8670924528301893,
          2.3904811320754717,
          0.028354716981132084,
          0.056667924528301855,
          0.007886792452830221,
          2.1975999999999996,
          -0.007688679245283002,
          -0.3832069622641509,
          -0.012807547169811305,
          -1.4163149056603777,
          -0.9246367018867925,
          -0.624232075471698,
          -2.7980132075471698,
          0.00027149815094341186,
          -0.1036735849056604,
          -0.0772490566037736,
          -0.07985932075471698,
          -0.303366037735849,
          2.4801075471698115,
          -0.04119905660377354,
          -3.0451498000000004,
          -1.9663766037735855,
          -0.02426415094339625,
          -2.455723329056603,
          -0.0817212619811321,
          0.029549616603773605,
          -0.048439622641509375,
          -2.1897305660377353,
          -0.04125094339622641,
          -0.17121033530188676,
          -0.511037245283019,
          -0.08122119400000001,
          -1.3688603773584902,
          -0.010577849962264126,
          -2.2631962264150944,
          -2.260332075471698,
          -1.1298011000000001,
          -0.30076792452830176,
          -0.06178471698113207,
          -3.326178037735849,
          -0.0674150943396226,
          0.002750295032075505,
          0.013894339622641508,
          -2.3519433962264142,
          -0.009875471698113196,
          0.017496226415094303,
          -0.014241509433962284,
          0.03167735849056603,
          -0.09062301886792458,
          0.1326490566037736,
          0.4945792452830189,
          -0.024245283018867924,
          -0.005815094339622641,
          0,
          0,
          0,
          0,
          0.18490000000000006,
          -0.014822641509433963,
          0.032767924528301885,
          -0.08145207547169811,
          0.09328301886792455
         ]
        },
        {
         "name": "MCV1900421",
         "type": "scatter",
         "x": [
          333,
          334,
          335,
          336,
          337,
          338,
          339,
          340,
          341,
          342,
          343,
          344,
          345,
          346,
          347,
          348,
          349,
          350,
          351,
          352,
          353,
          354,
          355,
          356,
          357,
          358,
          359,
          360,
          361,
          362,
          363,
          364,
          365,
          366,
          367,
          368,
          369,
          370,
          371,
          372,
          373,
          374,
          375,
          376,
          377,
          378,
          379,
          380,
          381,
          382,
          383,
          384,
          385,
          386,
          387,
          388,
          389,
          390,
          391,
          392,
          393,
          394,
          395,
          396,
          397,
          398,
          399,
          400,
          401,
          402,
          403,
          404,
          405,
          406,
          407,
          408,
          409,
          410,
          411,
          412,
          413,
          414,
          415,
          416,
          417,
          418,
          419,
          420,
          421,
          422,
          423,
          424,
          425,
          426,
          427,
          428,
          429,
          430,
          431,
          432,
          433,
          434,
          435,
          436,
          437,
          438,
          439,
          440,
          441,
          442,
          443,
          444,
          445,
          446,
          447,
          448,
          449,
          450,
          451,
          452,
          453,
          454,
          455,
          456,
          457,
          458,
          459,
          460,
          461,
          462,
          463,
          464,
          465,
          466,
          467,
          468,
          469,
          470,
          471,
          472,
          473,
          474,
          475,
          476,
          477,
          478,
          479,
          480,
          481,
          482,
          483,
          484,
          485,
          486,
          487,
          488,
          489,
          490,
          491,
          492,
          493,
          494,
          495,
          496,
          497,
          498,
          499,
          500,
          501,
          502,
          503,
          504,
          505,
          506,
          507,
          508,
          509,
          510,
          511,
          512,
          513,
          514,
          515,
          516,
          517,
          518,
          519,
          520,
          521,
          522,
          523,
          524,
          525,
          526,
          527
         ],
         "y": [
          0.18712156862745102,
          0,
          -0.09295098039215688,
          0.04753333333333332,
          0.11383058823529413,
          0.015368627450980398,
          0.02281294117647059,
          1.6905196078431373,
          0.02380784313725491,
          0.0234372549019608,
          0.02388431372549013,
          0.02323137254901959,
          0.02385882352941175,
          -2.2781764705882357,
          0.00038823529411765657,
          0.026515686274509818,
          -0.010170588235294074,
          -0.036498039215686284,
          -0.022572549019607795,
          -0.018354901960784292,
          -0.04900019607843133,
          0.004470588235294126,
          -1.935760784313726,
          -1.650126274509804,
          -0.06390196078431373,
          0.0017235294117646913,
          0.17470980392156862,
          0,
          0.004586274509803922,
          0.07899215686274509,
          -0.191613725490196,
          1.6544901960784315,
          0.1993254901960784,
          0.023544901960784324,
          0.017509803921568617,
          0.020099999999999996,
          0.010480392156862734,
          0.015172549019607837,
          0.017305882352941147,
          0.014025490196078384,
          0.022127450980392135,
          -0.0003549019607843269,
          -0.003762745098039215,
          -0.0023431372549019293,
          0.00804117647058822,
          -2.4534058823529414,
          0.010778431372549005,
          -0.009233333333333342,
          -0.009284901960784322,
          0.024392156862745092,
          -0.0077849019607843135,
          -0.030212156862745098,
          0.012972549019607814,
          -1.080800588235294,
          -0.17468039215686276,
          0.12184901960784313,
          0.0777686274509804,
          -0.0851372549019608,
          0,
          -0.06313725490196077,
          0.18490000000000004,
          0.08210196078431374,
          -0.1945607843137255,
          0.13823921568627454,
          0.003694117647058837,
          2.086086274509804,
          -0.0075000000000000275,
          -0.012641176470588227,
          -0.0034176470588235665,
          -0.024574509803921597,
          -3.7664058823529403,
          -0.029798235294117667,
          3.2864274509803932,
          3.1267607843137255,
          -0.026135294117647048,
          -2.991239215686274,
          -0.03259019607843139,
          -0.008088235294117667,
          0.014817647058823531,
          0.030011568627450965,
          0.021104509803921524,
          0.008878431372549,
          0.021345098039215655,
          -0.04591529411764705,
          -4.303480392156862,
          -0.03729999999999999,
          -0.03457450980392155,
          2.7321411764705883,
          -0.020801249607843127,
          -0.04848823529411765,
          0.024009803921568627,
          -2.5584411764705877,
          0.01876470588235292,
          0.022045490196078422,
          2.36901568627451,
          2.063649019607843,
          -0.004492156862745102,
          -0.0056705882352940966,
          0.002461568627450978,
          -0.009417647058823524,
          -0.008852941176470614,
          0.004013725490196045,
          -0.014060784313725518,
          -0.004331372549019658,
          -0.03563529411764712,
          0.012527450980392119,
          -0.03321176470588235,
          0.003449019607843158,
          -0.0007725490196078234,
          2.5425941176470577,
          -0.030631372549019553,
          -2.601039215686274,
          -0.0485176470588235,
          -0.10131235294117646,
          -0.06214254901960781,
          0.011933333333333386,
          -0.39924804784313733,
          -0.005437254901960812,
          0.02035098039215685,
          -2.597235294117647,
          -0.5675328901960787,
          -2.4795078431372546,
          -1.5373286274509803,
          -1.9674317176470586,
          -2.4015215686274503,
          -2.817980392156863,
          -0.018068627450980354,
          0.0033196078431372857,
          0.01700588235294121,
          -2.1714443137254897,
          -0.02267058823529412,
          -0.021560784313725483,
          2.1472764705882357,
          -2.1003843137254905,
          2.3543196078431374,
          0.01182941176470585,
          0.040150980392156845,
          0.0015784313725490504,
          2.268133333333334,
          -0.01039803921568628,
          -0.347730588235294,
          -0.031062745098039236,
          -1.2156252941176469,
          -0.5413314509803923,
          -0.17178039215686267,
          -2.5471458823529405,
          0.021646688235294125,
          -0.001970588235294149,
          -0.007264705882352938,
          -0.011925882352941185,
          0.0030098039215686267,
          2.5005176470588237,
          -0.045500392156862766,
          -2.7212714705882357,
          -1.9828156862745094,
          -0.024915686274509775,
          -2.485951334705882,
          -0.13136499999999995,
          0.01967053290196079,
          -0.036807843137254916,
          -2.3413352941176475,
          -0.05519803921568628,
          -0.11947487941176478,
          -0.4197730392156862,
          -0.07732910416078428,
          -1.7337490196078431,
          -0.05505224745098042,
          -3.3709666666666664,
          -3.252025490196078,
          -1.2632923529411761,
          -0.128356862745098,
          -0.0586533333333333,
          -4.407076,
          -0.09140784313725493,
          0.004356354047058817,
          0.019825490196078467,
          -2.3860843137254903,
          -0.006833333333333316,
          0.015443137254901967,
          -0.00950980392156866,
          0.014625490196078452,
          -0.019979607843137275,
          0.051839215686274503,
          0.3489882352941176,
          -0.10889803921568628,
          0,
          0,
          0,
          0,
          0,
          0.18490000000000004,
          -0.015294117647058823,
          0,
          0,
          -0.023137254901960787
         ]
        }
       ],
       "layout": {
        "shapes": [
         {
          "line": {
           "dash": "dash",
           "width": 1
          },
          "type": "line",
          "x0": 501,
          "x1": 501,
          "xref": "x",
          "y0": 3.3305452830188678,
          "y1": -5.890254716981132,
          "yref": "y"
         }
        ],
        "template": {
         "data": {
          "bar": [
           {
            "error_x": {
             "color": "#2a3f5f"
            },
            "error_y": {
             "color": "#2a3f5f"
            },
            "marker": {
             "line": {
              "color": "#E5ECF6",
              "width": 0.5
             },
             "pattern": {
              "fillmode": "overlay",
              "size": 10,
              "solidity": 0.2
             }
            },
            "type": "bar"
           }
          ],
          "barpolar": [
           {
            "marker": {
             "line": {
              "color": "#E5ECF6",
              "width": 0.5
             },
             "pattern": {
              "fillmode": "overlay",
              "size": 10,
              "solidity": 0.2
             }
            },
            "type": "barpolar"
           }
          ],
          "carpet": [
           {
            "aaxis": {
             "endlinecolor": "#2a3f5f",
             "gridcolor": "white",
             "linecolor": "white",
             "minorgridcolor": "white",
             "startlinecolor": "#2a3f5f"
            },
            "baxis": {
             "endlinecolor": "#2a3f5f",
             "gridcolor": "white",
             "linecolor": "white",
             "minorgridcolor": "white",
             "startlinecolor": "#2a3f5f"
            },
            "type": "carpet"
           }
          ],
          "choropleth": [
           {
            "colorbar": {
             "outlinewidth": 0,
             "ticks": ""
            },
            "type": "choropleth"
           }
          ],
          "contour": [
           {
            "colorbar": {
             "outlinewidth": 0,
             "ticks": ""
            },
            "colorscale": [
             [
              0,
              "#0d0887"
             ],
             [
              0.1111111111111111,
              "#46039f"
             ],
             [
              0.2222222222222222,
              "#7201a8"
             ],
             [
              0.3333333333333333,
              "#9c179e"
             ],
             [
              0.4444444444444444,
              "#bd3786"
             ],
             [
              0.5555555555555556,
              "#d8576b"
             ],
             [
              0.6666666666666666,
              "#ed7953"
             ],
             [
              0.7777777777777778,
              "#fb9f3a"
             ],
             [
              0.8888888888888888,
              "#fdca26"
             ],
             [
              1,
              "#f0f921"
             ]
            ],
            "type": "contour"
           }
          ],
          "contourcarpet": [
           {
            "colorbar": {
             "outlinewidth": 0,
             "ticks": ""
            },
            "type": "contourcarpet"
           }
          ],
          "heatmap": [
           {
            "colorbar": {
             "outlinewidth": 0,
             "ticks": ""
            },
            "colorscale": [
             [
              0,
              "#0d0887"
             ],
             [
              0.1111111111111111,
              "#46039f"
             ],
             [
              0.2222222222222222,
              "#7201a8"
             ],
             [
              0.3333333333333333,
              "#9c179e"
             ],
             [
              0.4444444444444444,
              "#bd3786"
             ],
             [
              0.5555555555555556,
              "#d8576b"
             ],
             [
              0.6666666666666666,
              "#ed7953"
             ],
             [
              0.7777777777777778,
              "#fb9f3a"
             ],
             [
              0.8888888888888888,
              "#fdca26"
             ],
             [
              1,
              "#f0f921"
             ]
            ],
            "type": "heatmap"
           }
          ],
          "heatmapgl": [
           {
            "colorbar": {
             "outlinewidth": 0,
             "ticks": ""
            },
            "colorscale": [
             [
              0,
              "#0d0887"
             ],
             [
              0.1111111111111111,
              "#46039f"
             ],
             [
              0.2222222222222222,
              "#7201a8"
             ],
             [
              0.3333333333333333,
              "#9c179e"
             ],
             [
              0.4444444444444444,
              "#bd3786"
             ],
             [
              0.5555555555555556,
              "#d8576b"
             ],
             [
              0.6666666666666666,
              "#ed7953"
             ],
             [
              0.7777777777777778,
              "#fb9f3a"
             ],
             [
              0.8888888888888888,
              "#fdca26"
             ],
             [
              1,
              "#f0f921"
             ]
            ],
            "type": "heatmapgl"
           }
          ],
          "histogram": [
           {
            "marker": {
             "pattern": {
              "fillmode": "overlay",
              "size": 10,
              "solidity": 0.2
             }
            },
            "type": "histogram"
           }
          ],
          "histogram2d": [
           {
            "colorbar": {
             "outlinewidth": 0,
             "ticks": ""
            },
            "colorscale": [
             [
              0,
              "#0d0887"
             ],
             [
              0.1111111111111111,
              "#46039f"
             ],
             [
              0.2222222222222222,
              "#7201a8"
             ],
             [
              0.3333333333333333,
              "#9c179e"
             ],
             [
              0.4444444444444444,
              "#bd3786"
             ],
             [
              0.5555555555555556,
              "#d8576b"
             ],
             [
              0.6666666666666666,
              "#ed7953"
             ],
             [
              0.7777777777777778,
              "#fb9f3a"
             ],
             [
              0.8888888888888888,
              "#fdca26"
             ],
             [
              1,
              "#f0f921"
             ]
            ],
            "type": "histogram2d"
           }
          ],
          "histogram2dcontour": [
           {
            "colorbar": {
             "outlinewidth": 0,
             "ticks": ""
            },
            "colorscale": [
             [
              0,
              "#0d0887"
             ],
             [
              0.1111111111111111,
              "#46039f"
             ],
             [
              0.2222222222222222,
              "#7201a8"
             ],
             [
              0.3333333333333333,
              "#9c179e"
             ],
             [
              0.4444444444444444,
              "#bd3786"
             ],
             [
              0.5555555555555556,
              "#d8576b"
             ],
             [
              0.6666666666666666,
              "#ed7953"
             ],
             [
              0.7777777777777778,
              "#fb9f3a"
             ],
             [
              0.8888888888888888,
              "#fdca26"
             ],
             [
              1,
              "#f0f921"
             ]
            ],
            "type": "histogram2dcontour"
           }
          ],
          "mesh3d": [
           {
            "colorbar": {
             "outlinewidth": 0,
             "ticks": ""
            },
            "type": "mesh3d"
           }
          ],
          "parcoords": [
           {
            "line": {
             "colorbar": {
              "outlinewidth": 0,
              "ticks": ""
             }
            },
            "type": "parcoords"
           }
          ],
          "pie": [
           {
            "automargin": true,
            "type": "pie"
           }
          ],
          "scatter": [
           {
            "fillpattern": {
             "fillmode": "overlay",
             "size": 10,
             "solidity": 0.2
            },
            "type": "scatter"
           }
          ],
          "scatter3d": [
           {
            "line": {
             "colorbar": {
              "outlinewidth": 0,
              "ticks": ""
             }
            },
            "marker": {
             "colorbar": {
              "outlinewidth": 0,
              "ticks": ""
             }
            },
            "type": "scatter3d"
           }
          ],
          "scattercarpet": [
           {
            "marker": {
             "colorbar": {
              "outlinewidth": 0,
              "ticks": ""
             }
            },
            "type": "scattercarpet"
           }
          ],
          "scattergeo": [
           {
            "marker": {
             "colorbar": {
              "outlinewidth": 0,
              "ticks": ""
             }
            },
            "type": "scattergeo"
           }
          ],
          "scattergl": [
           {
            "marker": {
             "colorbar": {
              "outlinewidth": 0,
              "ticks": ""
             }
            },
            "type": "scattergl"
           }
          ],
          "scattermapbox": [
           {
            "marker": {
             "colorbar": {
              "outlinewidth": 0,
              "ticks": ""
             }
            },
            "type": "scattermapbox"
           }
          ],
          "scatterpolar": [
           {
            "marker": {
             "colorbar": {
              "outlinewidth": 0,
              "ticks": ""
             }
            },
            "type": "scatterpolar"
           }
          ],
          "scatterpolargl": [
           {
            "marker": {
             "colorbar": {
              "outlinewidth": 0,
              "ticks": ""
             }
            },
            "type": "scatterpolargl"
           }
          ],
          "scatterternary": [
           {
            "marker": {
             "colorbar": {
              "outlinewidth": 0,
              "ticks": ""
             }
            },
            "type": "scatterternary"
           }
          ],
          "surface": [
           {
            "colorbar": {
             "outlinewidth": 0,
             "ticks": ""
            },
            "colorscale": [
             [
              0,
              "#0d0887"
             ],
             [
              0.1111111111111111,
              "#46039f"
             ],
             [
              0.2222222222222222,
              "#7201a8"
             ],
             [
              0.3333333333333333,
              "#9c179e"
             ],
             [
              0.4444444444444444,
              "#bd3786"
             ],
             [
              0.5555555555555556,
              "#d8576b"
             ],
             [
              0.6666666666666666,
              "#ed7953"
             ],
             [
              0.7777777777777778,
              "#fb9f3a"
             ],
             [
              0.8888888888888888,
              "#fdca26"
             ],
             [
              1,
              "#f0f921"
             ]
            ],
            "type": "surface"
           }
          ],
          "table": [
           {
            "cells": {
             "fill": {
              "color": "#EBF0F8"
             },
             "line": {
              "color": "white"
             }
            },
            "header": {
             "fill": {
              "color": "#C8D4E3"
             },
             "line": {
              "color": "white"
             }
            },
            "type": "table"
           }
          ]
         },
         "layout": {
          "annotationdefaults": {
           "arrowcolor": "#2a3f5f",
           "arrowhead": 0,
           "arrowwidth": 1
          },
          "autotypenumbers": "strict",
          "coloraxis": {
           "colorbar": {
            "outlinewidth": 0,
            "ticks": ""
           }
          },
          "colorscale": {
           "diverging": [
            [
             0,
             "#8e0152"
            ],
            [
             0.1,
             "#c51b7d"
            ],
            [
             0.2,
             "#de77ae"
            ],
            [
             0.3,
             "#f1b6da"
            ],
            [
             0.4,
             "#fde0ef"
            ],
            [
             0.5,
             "#f7f7f7"
            ],
            [
             0.6,
             "#e6f5d0"
            ],
            [
             0.7,
             "#b8e186"
            ],
            [
             0.8,
             "#7fbc41"
            ],
            [
             0.9,
             "#4d9221"
            ],
            [
             1,
             "#276419"
            ]
           ],
           "sequential": [
            [
             0,
             "#0d0887"
            ],
            [
             0.1111111111111111,
             "#46039f"
            ],
            [
             0.2222222222222222,
             "#7201a8"
            ],
            [
             0.3333333333333333,
             "#9c179e"
            ],
            [
             0.4444444444444444,
             "#bd3786"
            ],
            [
             0.5555555555555556,
             "#d8576b"
            ],
            [
             0.6666666666666666,
             "#ed7953"
            ],
            [
             0.7777777777777778,
             "#fb9f3a"
            ],
            [
             0.8888888888888888,
             "#fdca26"
            ],
            [
             1,
             "#f0f921"
            ]
           ],
           "sequentialminus": [
            [
             0,
             "#0d0887"
            ],
            [
             0.1111111111111111,
             "#46039f"
            ],
            [
             0.2222222222222222,
             "#7201a8"
            ],
            [
             0.3333333333333333,
             "#9c179e"
            ],
            [
             0.4444444444444444,
             "#bd3786"
            ],
            [
             0.5555555555555556,
             "#d8576b"
            ],
            [
             0.6666666666666666,
             "#ed7953"
            ],
            [
             0.7777777777777778,
             "#fb9f3a"
            ],
            [
             0.8888888888888888,
             "#fdca26"
            ],
            [
             1,
             "#f0f921"
            ]
           ]
          },
          "colorway": [
           "#636efa",
           "#EF553B",
           "#00cc96",
           "#ab63fa",
           "#FFA15A",
           "#19d3f3",
           "#FF6692",
           "#B6E880",
           "#FF97FF",
           "#FECB52"
          ],
          "font": {
           "color": "#2a3f5f"
          },
          "geo": {
           "bgcolor": "white",
           "lakecolor": "white",
           "landcolor": "#E5ECF6",
           "showlakes": true,
           "showland": true,
           "subunitcolor": "white"
          },
          "hoverlabel": {
           "align": "left"
          },
          "hovermode": "closest",
          "mapbox": {
           "style": "light"
          },
          "paper_bgcolor": "white",
          "plot_bgcolor": "#E5ECF6",
          "polar": {
           "angularaxis": {
            "gridcolor": "white",
            "linecolor": "white",
            "ticks": ""
           },
           "bgcolor": "#E5ECF6",
           "radialaxis": {
            "gridcolor": "white",
            "linecolor": "white",
            "ticks": ""
           }
          },
          "scene": {
           "xaxis": {
            "backgroundcolor": "#E5ECF6",
            "gridcolor": "white",
            "gridwidth": 2,
            "linecolor": "white",
            "showbackground": true,
            "ticks": "",
            "zerolinecolor": "white"
           },
           "yaxis": {
            "backgroundcolor": "#E5ECF6",
            "gridcolor": "white",
            "gridwidth": 2,
            "linecolor": "white",
            "showbackground": true,
            "ticks": "",
            "zerolinecolor": "white"
           },
           "zaxis": {
            "backgroundcolor": "#E5ECF6",
            "gridcolor": "white",
            "gridwidth": 2,
            "linecolor": "white",
            "showbackground": true,
            "ticks": "",
            "zerolinecolor": "white"
           }
          },
          "shapedefaults": {
           "line": {
            "color": "#2a3f5f"
           }
          },
          "ternary": {
           "aaxis": {
            "gridcolor": "white",
            "linecolor": "white",
            "ticks": ""
           },
           "baxis": {
            "gridcolor": "white",
            "linecolor": "white",
            "ticks": ""
           },
           "bgcolor": "#E5ECF6",
           "caxis": {
            "gridcolor": "white",
            "linecolor": "white",
            "ticks": ""
           }
          },
          "title": {
           "x": 0.05
          },
          "xaxis": {
           "automargin": true,
           "gridcolor": "white",
           "linecolor": "white",
           "ticks": "",
           "title": {
            "standoff": 15
           },
           "zerolinecolor": "white",
           "zerolinewidth": 2
          },
          "yaxis": {
           "automargin": true,
           "gridcolor": "white",
           "linecolor": "white",
           "ticks": "",
           "title": {
            "standoff": 15
           },
           "zerolinecolor": "white",
           "zerolinewidth": 2
          }
         }
        },
        "title": {
         "text": "Energies analyses from all N501 simulations together"
        },
        "xaxis": {
         "title": {
          "text": "Residues"
         }
        },
        "yaxis": {
         "title": {
          "text": "Electrostatic + VdW energy (kcal/mol)"
         }
        }
       }
      },
      "text/html": [
       "<div>                            <div id=\"9a84c590-55ff-4754-8df4-cd6b7d587a44\" class=\"plotly-graph-div\" style=\"height:525px; width:100%;\"></div>            <script type=\"text/javascript\">                require([\"plotly\"], function(Plotly) {                    window.PLOTLYENV=window.PLOTLYENV || {};                                    if (document.getElementById(\"9a84c590-55ff-4754-8df4-cd6b7d587a44\")) {                    Plotly.newPlot(                        \"9a84c590-55ff-4754-8df4-cd6b7d587a44\",                        [{\"name\":\"MCV1900410\",\"x\":[333,334,335,336,337,338,339,340,341,342,343,344,345,346,347,348,349,350,351,352,353,354,355,356,357,358,359,360,361,362,363,364,365,366,367,368,369,370,371,372,373,374,375,376,377,378,379,380,381,382,383,384,385,386,387,388,389,390,391,392,393,394,395,396,397,398,399,400,401,402,403,404,405,406,407,408,409,410,411,412,413,414,415,416,417,418,419,420,421,422,423,424,425,426,427,428,429,430,431,432,433,434,435,436,437,438,439,440,441,442,443,444,445,446,447,448,449,450,451,452,453,454,455,456,457,458,459,460,461,462,463,464,465,466,467,468,469,470,471,472,473,474,475,476,477,478,479,480,481,482,483,484,485,486,487,488,489,490,491,492,493,494,495,496,497,498,499,500,501,502,503,504,505,506,507,508,509,510,511,512,513,514,515,516,517,518,519,520,521,522,523,524,525,526,527],\"y\":[0.18490000000000004,0,-0.03919423076923077,-0.03726153846153846,0.13477096153846155,0.049474999999999984,0.10184653846153849,0.8687826923076921,0.05570384615384616,0.01056923076923079,0.0636711538461539,0.0043692307692307555,0.03983461538461538,-2.1132192307692312,0.006130769230769209,0.021424999999999972,-0.008330769230769244,-0.029321153846153806,-0.01627884615384613,-0.016301923076923068,-0.0352240384615385,-0.006028846153846171,-1.7667903846153836,-1.1759396153846153,-0.00033653846153847464,-0.025640384615384596,0.18490000000000004,0,0,0.01448846153846154,-0.035198076923076915,1.0512576923076922,0.18372115384615384,0.14372346153846152,0.07111923076923075,0.025455769230769216,0.024692307692307656,0.02193076923076924,0.016113269230769254,0.015403846153846153,0.013613653846153834,0.00039038461538464073,-0.004240384615384665,-0.0016384615384615801,0.008680769230769185,-2.386075,0.013003846153846133,-0.015594230769230753,-0.00991807692307692,0.022659615384615386,0.020420384615384604,-0.008719423076923083,0.00823076923076921,-1.1434144230769236,-0.002188461538461544,0.06922115384615385,0.08212307692307694,-0.06134230769230768,0.004507692307692308,-0.0734673076923077,0.18490000000000004,0.03199807692307692,-0.28260576923076913,0.12210576923076921,0.008890384615384644,2.0034134615384613,-0.006734615384615386,-0.011184615384615378,0.0002692307692307652,-0.022113461538461558,-3.46051923076923,-0.020490769230769222,2.9505423076923067,2.9284269230769238,-0.01584615384615386,-2.7800769230769236,-0.026628846153846142,-0.006903846153846123,0.012394230769230767,0.022243076923076942,0.017158461538461543,0.00710384615384617,0.01074999999999997,-0.04106750000000001,-5.131453846153847,-0.02688653846153847,-0.030844230769230742,2.719571153846153,-0.029746779346153853,-0.04794807692307695,0.023373076923076906,-2.531011538461539,0.021867307692307682,0.017326346153846154,2.4090596153846153,2.1365653846153845,0.0021788461538461553,0.001240384615384607,0.007427307692307699,-0.009571153846153849,-0.00643076923076924,0.006978846153846145,-0.010842307692307672,-0.003243461538461492,-0.02607115384615383,-0.013844230769230735,-0.016705769230769305,0.005136538461538468,0.0017153846153845974,2.358734615384615,-0.026192307692307664,-2.375819230769231,-0.03486538461538462,-0.05124115384615386,-0.043069038461538436,0.013353846153846187,-0.35728169734615395,-0.009134615384615343,0.01181923076923083,-0.01821923076923076,-0.4514089096153846,-2.4130769230769236,-1.2544334230769227,-2.0358132115384615,-2.382415384615384,-2.909711538461539,-0.018071153846153844,0.003873076923076881,0.02085769230769237,-2.2713128846153845,-0.020421538461538487,-0.020567307692307725,2.100490384615384,-1.999586538461539,2.3303692307692305,0.00842884615384611,0.03708076923076926,0.0009923076923077112,2.207901923076923,-0.0100826923076923,-0.4864919423076924,-0.023653846153846088,-1.3676461538461535,-1.100574423076923,-0.38160000000000005,-0.14208461538461542,0.032571534930769246,-0.013899999999999985,-0.01545192307692304,-0.011517500000000014,-0.0006442307692307025,2.3276865384615393,-0.07192564038461535,-2.734578857692308,-2.0112526923076923,-0.021951923076923112,-2.6541450317307684,-0.12554915869230773,0.01359256150384616,-0.046382692307692326,-1.804425769230769,0.012492307692307764,-0.05409657421730766,-0.15686961538461533,-0.026147448884615378,-0.937746153846154,-0.03246268683653843,-1.9052096153846159,-3.0043250000000006,-0.38912625,-0.029761538461538485,-0.02808769230769226,-2.062202807692308,-0.047611538461538525,-0.0022484972692307518,0.014313461538461563,-2.222196153846154,-0.007759615384615401,0.013488461538461496,-0.011782692307692329,0.03239807692307687,-0.0892475,0.17651153846153844,0.21459423076923068,-0.01866346153846154,-0.0058615384615384606,0,0,0,0,0.18490000000000004,-0.0030634615384615383,0,-0.0029826923076923073,0.014305769230769231],\"type\":\"scatter\"},{\"name\":\"MCV1900411\",\"x\":[333,334,335,336,337,338,339,340,341,342,343,344,345,346,347,348,349,350,351,352,353,354,355,356,357,358,359,360,361,362,363,364,365,366,367,368,369,370,371,372,373,374,375,376,377,378,379,380,381,382,383,384,385,386,387,388,389,390,391,392,393,394,395,396,397,398,399,400,401,402,403,404,405,406,407,408,409,410,411,412,413,414,415,416,417,418,419,420,421,422,423,424,425,426,427,428,429,430,431,432,433,434,435,436,437,438,439,440,441,442,443,444,445,446,447,448,449,450,451,452,453,454,455,456,457,458,459,460,461,462,463,464,465,466,467,468,469,470,471,472,473,474,475,476,477,478,479,480,481,482,483,484,485,486,487,488,489,490,491,492,493,494,495,496,497,498,499,500,501,502,503,504,505,506,507,508,509,510,511,512,513,514,515,516,517,518,519,520,521,522,523,524,525,526,527],\"y\":[0.1492365384615384,-0.027192307692307696,-0.007309615384615385,-0.06534615384615389,0.05896096153846153,0.048378846153846126,0.04836807692307694,1.3631519230769233,0.01699807692307696,0.022413461538461556,0.010611538461538426,0.02295192307692306,0.023686538461538453,-2.1961999999999997,0.0008576923076923199,0.02159807692307693,-0.012082692307692279,-0.03528076923076924,-0.02057692307692307,-0.018051923076923052,-0.042403653846153855,0.0032653846153845698,-1.8803576923076917,-1.715005192307692,-0.46792500000000004,-0.09652499999999999,0.1585905769230769,0.006188461538461546,-0.016257692307692317,0.05108846153846151,0.03023846153846153,1.8821923076923075,0.011438461538461524,0.026357307692307708,0.022801923076923084,0.018388461538461534,0.025448076923076914,0.033605769230769196,0.0036696153846153758,0.01283076923076921,0.01350384615384614,-0.0036846153846153973,-0.0023634615384615343,-0.006494230769230754,0.005873076923076947,-2.420067307692308,0.010907692307692264,-0.011840384615384615,-0.006949230769230785,0.038423076923076914,-0.01891634615384613,-0.013616923076923092,-0.01511923076923078,-1.175143076923077,-0.10457115384615384,-0.05049615384615384,0.44963269230769237,-0.0633076923076923,-0.015226923076923072,-0.05594807692307692,0.13686730769230768,-0.01031153846153844,-0.08093076923076925,0.04383846153846154,-0.0028173076923076893,2.0763596153846158,-0.007388461538461549,-0.012084615384615381,-0.004151923076923094,-0.020350000000000014,-3.4981307692307686,-0.03273019230769235,3.1598038461538467,2.9955057692307694,-0.02559807692307695,-2.8221,-0.03007499999999998,-0.00270000000000004,0.011315384615384642,0.028349807692307695,0.006728653846153876,-0.0050000000000000175,0.014071153846153869,-0.04416442307692307,-4.2249230769230754,-0.027165384615384633,-0.02874615384615384,2.6627519230769234,-0.015458558403846117,-0.0445115384615384,0.025796153846153833,-2.4581134615384617,0.015771153846153848,0.01804346153846155,2.2927480769230777,2.1196019230769227,0.0058711538461538445,-0.010471153846153823,0.0036046153846153836,-0.006788461538461562,-0.00737692307692311,0.005198076923076915,-0.013955769230769244,-0.006835576923076911,-0.04507884615384618,-0.006644230769230781,-0.009484615384615404,0.011175000000000008,-0.00039999999999996874,2.480417307692308,-0.029648076923076947,-2.5108653846153848,-0.035111538461538444,-0.09577392307692306,-0.06422519230769229,0.020748076923076935,-0.4881512775961539,-0.007923076923076922,0.017100000000000018,-0.019017307692307715,-0.49321585384615385,-2.4086423076923076,-1.3910911153846155,-1.9457775576923082,-2.348221153846154,-2.6880961538461534,-0.008848076923076872,0.00017499999999997644,0.012611538461538452,-2.1343125,-0.019497115384615366,-0.021182692307692336,2.160259615384615,-2.0998076923076927,2.312613461538461,0.010057692307692306,0.03925192307692306,0.001780769230769244,2.243692307692308,-0.01352115384615381,-0.28884550000000003,-0.0394326923076923,-1.3088511538461545,-0.7378241346153848,-0.33419615384615375,-0.02766346153846152,0.02479867526923079,-0.013100000000000044,-0.0036038461538461584,-0.007794423076923078,0.0017230769230768956,2.511128846153846,-0.08389009615384616,-2.616278957692307,-1.936413461538462,-0.013936538461538443,-2.5021533007692303,-0.1488819763461539,0.010376608188461504,-0.0631288461538462,-2.4035421153846155,0.004076923076923136,-0.14921395687115385,-0.3379716346153847,-0.052720657803846147,-1.438000192307692,-0.00404841230769233,-1.6348068076923075,-2.149582692307692,-0.9229071250000002,-0.10121923076923084,-0.06811499999999998,-3.104096384615384,-0.086776923076923,0.006069937744807707,0.01934038461538462,-2.329242307692307,-0.00859807692307689,0.013523076923076912,-0.009755769230769219,0.014505769230769258,-0.002970769230769262,0.12310000000000001,0.8749673076923077,-0.08340769230769232,-0.0027269230769230842,-0.0005301923076923084,-0.01535961538461538,0.0039811538461538435,-0.0027769230769230757,0.17815288461538464,-0.007201346153846154,4.942307692307831e-05,-0.030209423076923085,0.010229999999999998],\"type\":\"scatter\"},{\"name\":\"MCV1900412\",\"x\":[333,334,335,336,337,338,339,340,341,342,343,344,345,346,347,348,349,350,351,352,353,354,355,356,357,358,359,360,361,362,363,364,365,366,367,368,369,370,371,372,373,374,375,376,377,378,379,380,381,382,383,384,385,386,387,388,389,390,391,392,393,394,395,396,397,398,399,400,401,402,403,404,405,406,407,408,409,410,411,412,413,414,415,416,417,418,419,420,421,422,423,424,425,426,427,428,429,430,431,432,433,434,435,436,437,438,439,440,441,442,443,444,445,446,447,448,449,450,451,452,453,454,455,456,457,458,459,460,461,462,463,464,465,466,467,468,469,470,471,472,473,474,475,476,477,478,479,480,481,482,483,484,485,486,487,488,489,490,491,492,493,494,495,496,497,498,499,500,501,502,503,504,505,506,507,508,509,510,511,512,513,514,515,516,517,518,519,520,521,522,523,524,525,526,527],\"y\":[0.19743461538461546,-0.011784615384615383,-0.05792115384615386,0.045721153846153856,0.14457192307692307,0.0320826923076923,0.01961230769230767,1.583811538461539,0.017528846153846145,0.022084615384615418,0.023548076923076915,0.02052884615384616,0.02479615384615387,-2.219869230769231,0.0028057692307691907,0.024121153846153837,-0.011913461538461541,-0.03497115384615384,-0.024328846153846135,-0.01997115384615382,-0.049758846153846174,0.004251923076923121,-1.9936557692307693,-1.556415576923077,-0.4914750000000001,-0.1291942307692308,0.19514423076923085,0,0.007540384615384615,0.06335,-0.1523846153846154,1.5858038461538466,0.054546153846153834,0.04765634615384614,0.019665384615384626,0.013759615384615396,0.018205769230769213,0.01981153846153845,0.013358076923076927,0.009092307692307686,0.01671903846153844,-0.0006269230769231018,-0.006417307692307665,-0.004782692307692293,0.009101923076923035,-2.4967423076923083,0.014117307692307686,-0.021130769230769227,-0.01250423076923077,0.021623076923076898,-0.011102692307692303,-0.04496096153846155,0.28886153846153845,-1.6294876923076924,0.03232692307692308,0.07789423076923077,0.05564615384615385,-0.02028653846153846,0,-0.022176923076923077,0.18490000000000004,0.06880192307692308,-0.04882115384615386,0.09249999999999997,-0.00972499999999999,2.10845,-0.006546153846153855,-0.01405384615384616,-0.0005288461538461042,-0.024474999999999976,-3.567744230769231,-0.029803846153846122,3.2140461538461547,3.141542307692308,-0.019884615384615376,-3.0187711538461537,-0.025355769230769282,-0.007824999999999971,0.014534615384615389,0.029384807692307703,0.02362346153846154,0.0010730769230769372,0.02000384615384615,-0.04326903846153843,-5.08225,-0.032671153846153884,-0.03673461538461537,2.9170615384615384,-0.026000907307692275,-0.05563269230769234,0.02865961538461538,-2.723509615384615,0.02694038461538463,0.019494230769230778,2.5952634615384613,2.222226923076923,0.003530769230769213,-0.02643653846153846,0.008218269230769234,-0.004240384615384633,-0.008398076923076925,0.008165384615384574,-0.015084615384615401,-0.0010134615384615848,-0.049451923076923095,0.010442307692307674,-0.005119230769230769,0.022576923076922994,-0.0012230769230769166,2.508903846153846,-0.030219230769230734,-2.536619230769231,-0.039071153846153825,-0.11015391153846152,-0.07492419230769233,0.026590384615384585,-0.4563460090173078,-0.00031346153846157656,0.02169038461538459,-0.020588461538461562,-0.6071394153846154,-2.5410846153846163,-1.4882038461538456,-1.8995884403846155,-2.4950365384615383,-2.9061865384615384,-0.03545576923076921,0.004126923076923101,0.025113461538461505,-2.3059467307692305,-0.02567249999999999,-0.026073076923076935,2.281573076923077,-2.1312980769230765,2.4166076923076925,0.011103846153846152,0.04196923076923076,0.0024615384615384595,2.3131980769230767,-0.010913461538461549,-0.335602,-0.036515384615384665,-1.1407269230769232,-0.9952390384615385,-0.4407942307692307,-0.48955192307692297,-0.1218301570134615,-0.2522905769230769,-0.10434999999999992,-0.0754241846153846,-0.17621423076923082,2.590246153846155,-0.08578421153846151,-2.324427157692308,-1.7949197692307697,-0.014417307692307663,-2.5457632565384634,-0.10574071507692312,0.02141136948076921,-0.05378653846153846,-2.3417211538461533,-0.0036673076923076984,-0.12069780331307697,-0.35629640384615385,-0.06049242838269231,-1.3185200000000004,-0.024371320384615393,-1.8476038461538462,-1.7365121153846155,-0.48236709615384604,-0.04258846153846156,-0.047395192307692305,-2.3417358519230764,-0.07216730769230764,0.0027317722192307446,0.02010000000000001,-2.346403846153846,-0.009507692307692276,0.015236538461538452,-0.013346153846153884,0.019626923076923094,-0.018900961538461547,0.12015384615384615,0.8896038461538461,0.015561538461538458,-0.014598076923076925,0,0,0,0,0.18490000000000004,-0.02349423076923077,0.01640576923076923,-0.05566038461538461,-0.038209038461538454],\"type\":\"scatter\"},{\"name\":\"MCV1900419\",\"x\":[333,334,335,336,337,338,339,340,341,342,343,344,345,346,347,348,349,350,351,352,353,354,355,356,357,358,359,360,361,362,363,364,365,366,367,368,369,370,371,372,373,374,375,376,377,378,379,380,381,382,383,384,385,386,387,388,389,390,391,392,393,394,395,396,397,398,399,400,401,402,403,404,405,406,407,408,409,410,411,412,413,414,415,416,417,418,419,420,421,422,423,424,425,426,427,428,429,430,431,432,433,434,435,436,437,438,439,440,441,442,443,444,445,446,447,448,449,450,451,452,453,454,455,456,457,458,459,460,461,462,463,464,465,466,467,468,469,470,471,472,473,474,475,476,477,478,479,480,481,482,483,484,485,486,487,488,489,490,491,492,493,494,495,496,497,498,499,500,501,502,503,504,505,506,507,508,509,510,511,512,513,514,515,516,517,518,519,520,521,522,523,524,525,526,527],\"y\":[0.18490000000000006,-0.0028358490566037734,-0.07174905660377359,0.0006924528301886742,0.13763150943396224,0.026152830188679244,0.08133018867924527,1.335418867924528,0.026405660377358506,0.023911320754717,0.02040754716981131,0.024328301886792462,0.024560377358490572,-2.2956245283018863,0.005162264150943431,0.0297188679245283,-0.009045283018867914,-0.036575471698113246,-0.019947169811320786,-0.017990566037735838,-0.04736603773584906,-0.019581132075471713,-1.911235849056603,-1.2396552830188678,-0.13396037735849053,-0.04597924528301887,0.17499622641509435,0,0.005045283018867924,0.05274716981132075,-0.12102830188679246,1.5202264150943399,0.26332641509433957,0.05365377358490568,0.026907547169811287,0.020992452830188725,0.022862264150943404,0.025533962264150906,0.01988018867924526,0.013154716981132056,0.020345283018867916,0.002164150943396214,-0.0034867924528301313,-0.002098113207547161,0.011599999999999996,-2.454805660377358,0.012198113207547144,-0.015579245283018848,-0.002391320754716993,0.02715471698113207,-0.015297924528301893,-0.023576792452830224,-0.003984905660377353,-1.6483454716981136,-0.025832075471698107,0.09567169811320753,0.047943396226415094,-0.05193584905660377,0,-0.0723622641509434,0.18490000000000006,0.014481132075471699,-0.22788867924528303,0.15050943396226413,-0.002977358490566051,2.078569811320754,-0.007773584905660401,-0.01161320754716978,-0.0016150943396226688,-0.022188679245283043,-3.743956603773585,-0.031082264150943374,3.2412264150943395,3.1238754716981125,-0.025303773584905678,-2.8790075471698118,-0.03375660377358487,-0.0065943396226415246,0.013354716981132046,0.03054698113207548,0.020867924528301926,-0.004586792452830157,0.01930000000000002,-0.04335603773584909,-4.560016981132075,-0.037230188679245324,-0.03466226415094339,2.703613207547169,-0.02762075471698119,-0.05035849056603773,0.02496037735849057,-2.543277358490567,0.017547169811320727,0.021627547169811343,2.3650773584905664,2.091343396226415,0.0019264150943396053,-9.999999999999946e-05,0.007016415094339624,-0.010654716981132059,-0.006971698113207567,0.005543396226415099,-0.01448301886792453,-0.0073043396226414835,-0.03924150943396229,-0.016658490566037704,-0.021828301886792436,0.013841509433962293,-0.001484905660377354,2.5366207547169806,-0.02072264150943401,-2.612556603773584,-0.04201320754716985,-0.07309435849056603,-0.07113830188679247,0.023128301886792445,-0.5148713330188679,-0.00947358490566034,0.025450943396226444,-2.521122641509434,-0.6485182886792453,-2.432571698113207,-1.5029635849056604,-1.9072442075471694,-2.3690433962264144,-2.7066018867924533,-0.015420754716981126,-0.004237735849056581,0.01632264150943397,-2.1843069811320754,-0.020443396226415105,-0.02378490566037737,2.1963547169811317,-2.060233962264151,2.325845283018868,0.010726415094339593,0.04528867924528299,0.00233018867924529,2.240160377358491,-0.01130566037735846,-0.29919356603773584,-0.011592452830188676,-1.455245283018868,-0.7878313018867924,-0.42342641509433965,-2.6113811320754716,0.030397358490566035,0.004250943396226424,-0.0034094339622641524,-0.012209811320754715,0.006275471698113179,2.487394339622641,-0.0267333962264151,-2.441308201886792,-1.9026452830188678,-0.018439622641509407,-2.4322316415094334,-0.12165620754716987,0.018459443207547194,-0.049107547169811326,-2.2208788679245273,-0.02911320754716982,-0.14637714096226415,-0.674921396226415,-0.08900027107547173,-1.5705264150943392,-0.05957475471698114,-3.421364150943396,-3.2915056603773576,-1.2183126415094339,-0.14182264150943394,-0.047493584905660385,-3.4397657584905663,-0.09061509433962267,0.0017486853396226198,0.02010943396226414,-2.370245283018869,-0.007394339622641487,0.015949056603773545,-0.011049056603773623,0.015030188679245287,-0.050738301886792445,0.1840603773584905,0.04068679245283019,-0.02782830188679245,0,0,0,0,0,0.18490000000000006,-0.01470188679245283,0.015952830188679247,-0.011900566037735849,-0.04064509433962265],\"type\":\"scatter\"},{\"name\":\"MCV1900420\",\"x\":[333,334,335,336,337,338,339,340,341,342,343,344,345,346,347,348,349,350,351,352,353,354,355,356,357,358,359,360,361,362,363,364,365,366,367,368,369,370,371,372,373,374,375,376,377,378,379,380,381,382,383,384,385,386,387,388,389,390,391,392,393,394,395,396,397,398,399,400,401,402,403,404,405,406,407,408,409,410,411,412,413,414,415,416,417,418,419,420,421,422,423,424,425,426,427,428,429,430,431,432,433,434,435,436,437,438,439,440,441,442,443,444,445,446,447,448,449,450,451,452,453,454,455,456,457,458,459,460,461,462,463,464,465,466,467,468,469,470,471,472,473,474,475,476,477,478,479,480,481,482,483,484,485,486,487,488,489,490,491,492,493,494,495,496,497,498,499,500,501,502,503,504,505,506,507,508,509,510,511,512,513,514,515,516,517,518,519,520,521,522,523,524,525,526,527],\"y\":[0.2128245283018868,-0.02536603773584907,-0.062277358490566044,-0.03842075471698113,-0.013785283018867927,0.0764132075471698,0.10689339622641511,0.9842943396226413,-0.0012886792452829795,0.04184716981132074,0.039924528301886766,0.05756603773584908,0.09841320754716983,-2.040762264150943,-0.011650943396226398,0.02794905660377361,-0.009537735849056546,-0.034922641509434006,-0.021011320754716973,-0.03734716981132073,-0.09555962264150944,-0.00019622641509437665,-1.7240811320754716,-1.1664077358490568,-0.40653018867924534,-0.04414339622641509,0.19539056603773589,0.01629245283018868,0.013305660377358487,0.10563018867924528,-0.009332075471698098,1.372545283018868,0.07650188679245283,0.02937113207547169,0.047892452830188656,0.02725660377358493,0.0231132075471698,0.024422641509433986,0.023565849056603746,0.01811698113207546,0.021552264150943384,0.0006981132075471432,-0.007484905660377364,-0.005105660377358481,0.011950943396226424,-2.55976037735849,0.011271698113207563,-0.005254716981132086,-0.009939056603773611,0.019294339622641495,-0.0006679245283018718,-0.012689245283018846,0.028456603773584888,-1.483528679245283,-0.04870188679245283,0.05716981132075472,-0.01919811320754717,-0.05479056603773584,0,-0.08250566037735847,0.18490000000000006,0.016554716981132072,-0.0776207547169811,0.1681301886792452,-0.009152830188679241,1.9390943396226419,-0.008650943396226437,-0.01303018867924526,-0.0005660377358490361,-0.030645283018867965,-4.025792452830189,-0.025097358490566046,3.3305452830188678,3.2946999999999997,-0.02142830188679248,-3.0451415094339627,-0.04274716981132076,-0.008207547169811352,0.01536037735849055,0.02823037735849052,0.02240433962264153,-0.0018113207547169367,0.00978301886792452,-0.06784773584905662,-5.890254716981132,-0.037828301886792474,-0.037092452830188694,2.9003188679245286,-0.025074675898113182,-0.06195660377358488,0.025886792452830182,-2.690067924528301,0.020873584905660367,0.016816415094339624,2.525466037735849,2.3021113207547166,0.0029962264150943363,-0.003843396226415082,0.010493773584905665,-0.004922641509433981,-0.007401886792452861,0.0049943396226415126,-0.013205660377358477,0.0012273584905660765,-0.04678490566037733,-0.000724528301886788,-0.011137735849056604,0.004401886792452882,-0.00322641509433964,2.5072849056603768,-0.02352452830188676,-2.486596226415094,-0.032935849056603794,-0.04976962264150943,-0.049853018867924544,0.017637735849056594,-0.3677864895283018,-0.008752830188679207,0.018132075471698077,-2.55066037735849,-0.6936379603773586,-2.5268622641509433,-1.3168679245283015,-2.089086471698114,-2.500764150943397,-2.8949150943396225,-0.01152264150943395,-0.0016792452830188967,0.014620754716981127,-2.3546664150943397,-0.006987735849056607,-0.042103773584905684,2.30651320754717,-1.8670924528301893,2.3904811320754717,0.028354716981132084,0.056667924528301855,0.007886792452830221,2.1975999999999996,-0.007688679245283002,-0.3832069622641509,-0.012807547169811305,-1.4163149056603777,-0.9246367018867925,-0.624232075471698,-2.7980132075471698,0.00027149815094341186,-0.1036735849056604,-0.0772490566037736,-0.07985932075471698,-0.303366037735849,2.4801075471698115,-0.04119905660377354,-3.0451498000000004,-1.9663766037735855,-0.02426415094339625,-2.455723329056603,-0.0817212619811321,0.029549616603773605,-0.048439622641509375,-2.1897305660377353,-0.04125094339622641,-0.17121033530188676,-0.511037245283019,-0.08122119400000001,-1.3688603773584902,-0.010577849962264126,-2.2631962264150944,-2.260332075471698,-1.1298011000000001,-0.30076792452830176,-0.06178471698113207,-3.326178037735849,-0.0674150943396226,0.002750295032075505,0.013894339622641508,-2.3519433962264142,-0.009875471698113196,0.017496226415094303,-0.014241509433962284,0.03167735849056603,-0.09062301886792458,0.1326490566037736,0.4945792452830189,-0.024245283018867924,-0.005815094339622641,0,0,0,0,0.18490000000000006,-0.014822641509433963,0.032767924528301885,-0.08145207547169811,0.09328301886792455],\"type\":\"scatter\"},{\"name\":\"MCV1900421\",\"x\":[333,334,335,336,337,338,339,340,341,342,343,344,345,346,347,348,349,350,351,352,353,354,355,356,357,358,359,360,361,362,363,364,365,366,367,368,369,370,371,372,373,374,375,376,377,378,379,380,381,382,383,384,385,386,387,388,389,390,391,392,393,394,395,396,397,398,399,400,401,402,403,404,405,406,407,408,409,410,411,412,413,414,415,416,417,418,419,420,421,422,423,424,425,426,427,428,429,430,431,432,433,434,435,436,437,438,439,440,441,442,443,444,445,446,447,448,449,450,451,452,453,454,455,456,457,458,459,460,461,462,463,464,465,466,467,468,469,470,471,472,473,474,475,476,477,478,479,480,481,482,483,484,485,486,487,488,489,490,491,492,493,494,495,496,497,498,499,500,501,502,503,504,505,506,507,508,509,510,511,512,513,514,515,516,517,518,519,520,521,522,523,524,525,526,527],\"y\":[0.18712156862745102,0,-0.09295098039215688,0.04753333333333332,0.11383058823529413,0.015368627450980398,0.02281294117647059,1.6905196078431373,0.02380784313725491,0.0234372549019608,0.02388431372549013,0.02323137254901959,0.02385882352941175,-2.2781764705882357,0.00038823529411765657,0.026515686274509818,-0.010170588235294074,-0.036498039215686284,-0.022572549019607795,-0.018354901960784292,-0.04900019607843133,0.004470588235294126,-1.935760784313726,-1.650126274509804,-0.06390196078431373,0.0017235294117646913,0.17470980392156862,0,0.004586274509803922,0.07899215686274509,-0.191613725490196,1.6544901960784315,0.1993254901960784,0.023544901960784324,0.017509803921568617,0.020099999999999996,0.010480392156862734,0.015172549019607837,0.017305882352941147,0.014025490196078384,0.022127450980392135,-0.0003549019607843269,-0.003762745098039215,-0.0023431372549019293,0.00804117647058822,-2.4534058823529414,0.010778431372549005,-0.009233333333333342,-0.009284901960784322,0.024392156862745092,-0.0077849019607843135,-0.030212156862745098,0.012972549019607814,-1.080800588235294,-0.17468039215686276,0.12184901960784313,0.0777686274509804,-0.0851372549019608,0,-0.06313725490196077,0.18490000000000004,0.08210196078431374,-0.1945607843137255,0.13823921568627454,0.003694117647058837,2.086086274509804,-0.0075000000000000275,-0.012641176470588227,-0.0034176470588235665,-0.024574509803921597,-3.7664058823529403,-0.029798235294117667,3.2864274509803932,3.1267607843137255,-0.026135294117647048,-2.991239215686274,-0.03259019607843139,-0.008088235294117667,0.014817647058823531,0.030011568627450965,0.021104509803921524,0.008878431372549,0.021345098039215655,-0.04591529411764705,-4.303480392156862,-0.03729999999999999,-0.03457450980392155,2.7321411764705883,-0.020801249607843127,-0.04848823529411765,0.024009803921568627,-2.5584411764705877,0.01876470588235292,0.022045490196078422,2.36901568627451,2.063649019607843,-0.004492156862745102,-0.0056705882352940966,0.002461568627450978,-0.009417647058823524,-0.008852941176470614,0.004013725490196045,-0.014060784313725518,-0.004331372549019658,-0.03563529411764712,0.012527450980392119,-0.03321176470588235,0.003449019607843158,-0.0007725490196078234,2.5425941176470577,-0.030631372549019553,-2.601039215686274,-0.0485176470588235,-0.10131235294117646,-0.06214254901960781,0.011933333333333386,-0.39924804784313733,-0.005437254901960812,0.02035098039215685,-2.597235294117647,-0.5675328901960787,-2.4795078431372546,-1.5373286274509803,-1.9674317176470586,-2.4015215686274503,-2.817980392156863,-0.018068627450980354,0.0033196078431372857,0.01700588235294121,-2.1714443137254897,-0.02267058823529412,-0.021560784313725483,2.1472764705882357,-2.1003843137254905,2.3543196078431374,0.01182941176470585,0.040150980392156845,0.0015784313725490504,2.268133333333334,-0.01039803921568628,-0.347730588235294,-0.031062745098039236,-1.2156252941176469,-0.5413314509803923,-0.17178039215686267,-2.5471458823529405,0.021646688235294125,-0.001970588235294149,-0.007264705882352938,-0.011925882352941185,0.0030098039215686267,2.5005176470588237,-0.045500392156862766,-2.7212714705882357,-1.9828156862745094,-0.024915686274509775,-2.485951334705882,-0.13136499999999995,0.01967053290196079,-0.036807843137254916,-2.3413352941176475,-0.05519803921568628,-0.11947487941176478,-0.4197730392156862,-0.07732910416078428,-1.7337490196078431,-0.05505224745098042,-3.3709666666666664,-3.252025490196078,-1.2632923529411761,-0.128356862745098,-0.0586533333333333,-4.407076,-0.09140784313725493,0.004356354047058817,0.019825490196078467,-2.3860843137254903,-0.006833333333333316,0.015443137254901967,-0.00950980392156866,0.014625490196078452,-0.019979607843137275,0.051839215686274503,0.3489882352941176,-0.10889803921568628,0,0,0,0,0,0.18490000000000004,-0.015294117647058823,0,0,-0.023137254901960787],\"type\":\"scatter\"}],                        {\"shapes\":[{\"line\":{\"dash\":\"dash\",\"width\":1},\"type\":\"line\",\"x0\":501,\"x1\":501,\"xref\":\"x\",\"y0\":3.3305452830188678,\"y1\":-5.890254716981132,\"yref\":\"y\"}],\"title\":{\"text\":\"Energies analyses from all N501 simulations together\"},\"xaxis\":{\"title\":{\"text\":\"Residues\"}},\"yaxis\":{\"title\":{\"text\":\"Electrostatic + VdW energy (kcal/mol)\"}},\"template\":{\"data\":{\"histogram2dcontour\":[{\"type\":\"histogram2dcontour\",\"colorbar\":{\"outlinewidth\":0,\"ticks\":\"\"},\"colorscale\":[[0.0,\"#0d0887\"],[0.1111111111111111,\"#46039f\"],[0.2222222222222222,\"#7201a8\"],[0.3333333333333333,\"#9c179e\"],[0.4444444444444444,\"#bd3786\"],[0.5555555555555556,\"#d8576b\"],[0.6666666666666666,\"#ed7953\"],[0.7777777777777778,\"#fb9f3a\"],[0.8888888888888888,\"#fdca26\"],[1.0,\"#f0f921\"]]}],\"choropleth\":[{\"type\":\"choropleth\",\"colorbar\":{\"outlinewidth\":0,\"ticks\":\"\"}}],\"histogram2d\":[{\"type\":\"histogram2d\",\"colorbar\":{\"outlinewidth\":0,\"ticks\":\"\"},\"colorscale\":[[0.0,\"#0d0887\"],[0.1111111111111111,\"#46039f\"],[0.2222222222222222,\"#7201a8\"],[0.3333333333333333,\"#9c179e\"],[0.4444444444444444,\"#bd3786\"],[0.5555555555555556,\"#d8576b\"],[0.6666666666666666,\"#ed7953\"],[0.7777777777777778,\"#fb9f3a\"],[0.8888888888888888,\"#fdca26\"],[1.0,\"#f0f921\"]]}],\"heatmap\":[{\"type\":\"heatmap\",\"colorbar\":{\"outlinewidth\":0,\"ticks\":\"\"},\"colorscale\":[[0.0,\"#0d0887\"],[0.1111111111111111,\"#46039f\"],[0.2222222222222222,\"#7201a8\"],[0.3333333333333333,\"#9c179e\"],[0.4444444444444444,\"#bd3786\"],[0.5555555555555556,\"#d8576b\"],[0.6666666666666666,\"#ed7953\"],[0.7777777777777778,\"#fb9f3a\"],[0.8888888888888888,\"#fdca26\"],[1.0,\"#f0f921\"]]}],\"heatmapgl\":[{\"type\":\"heatmapgl\",\"colorbar\":{\"outlinewidth\":0,\"ticks\":\"\"},\"colorscale\":[[0.0,\"#0d0887\"],[0.1111111111111111,\"#46039f\"],[0.2222222222222222,\"#7201a8\"],[0.3333333333333333,\"#9c179e\"],[0.4444444444444444,\"#bd3786\"],[0.5555555555555556,\"#d8576b\"],[0.6666666666666666,\"#ed7953\"],[0.7777777777777778,\"#fb9f3a\"],[0.8888888888888888,\"#fdca26\"],[1.0,\"#f0f921\"]]}],\"contourcarpet\":[{\"type\":\"contourcarpet\",\"colorbar\":{\"outlinewidth\":0,\"ticks\":\"\"}}],\"contour\":[{\"type\":\"contour\",\"colorbar\":{\"outlinewidth\":0,\"ticks\":\"\"},\"colorscale\":[[0.0,\"#0d0887\"],[0.1111111111111111,\"#46039f\"],[0.2222222222222222,\"#7201a8\"],[0.3333333333333333,\"#9c179e\"],[0.4444444444444444,\"#bd3786\"],[0.5555555555555556,\"#d8576b\"],[0.6666666666666666,\"#ed7953\"],[0.7777777777777778,\"#fb9f3a\"],[0.8888888888888888,\"#fdca26\"],[1.0,\"#f0f921\"]]}],\"surface\":[{\"type\":\"surface\",\"colorbar\":{\"outlinewidth\":0,\"ticks\":\"\"},\"colorscale\":[[0.0,\"#0d0887\"],[0.1111111111111111,\"#46039f\"],[0.2222222222222222,\"#7201a8\"],[0.3333333333333333,\"#9c179e\"],[0.4444444444444444,\"#bd3786\"],[0.5555555555555556,\"#d8576b\"],[0.6666666666666666,\"#ed7953\"],[0.7777777777777778,\"#fb9f3a\"],[0.8888888888888888,\"#fdca26\"],[1.0,\"#f0f921\"]]}],\"mesh3d\":[{\"type\":\"mesh3d\",\"colorbar\":{\"outlinewidth\":0,\"ticks\":\"\"}}],\"scatter\":[{\"fillpattern\":{\"fillmode\":\"overlay\",\"size\":10,\"solidity\":0.2},\"type\":\"scatter\"}],\"parcoords\":[{\"type\":\"parcoords\",\"line\":{\"colorbar\":{\"outlinewidth\":0,\"ticks\":\"\"}}}],\"scatterpolargl\":[{\"type\":\"scatterpolargl\",\"marker\":{\"colorbar\":{\"outlinewidth\":0,\"ticks\":\"\"}}}],\"bar\":[{\"error_x\":{\"color\":\"#2a3f5f\"},\"error_y\":{\"color\":\"#2a3f5f\"},\"marker\":{\"line\":{\"color\":\"#E5ECF6\",\"width\":0.5},\"pattern\":{\"fillmode\":\"overlay\",\"size\":10,\"solidity\":0.2}},\"type\":\"bar\"}],\"scattergeo\":[{\"type\":\"scattergeo\",\"marker\":{\"colorbar\":{\"outlinewidth\":0,\"ticks\":\"\"}}}],\"scatterpolar\":[{\"type\":\"scatterpolar\",\"marker\":{\"colorbar\":{\"outlinewidth\":0,\"ticks\":\"\"}}}],\"histogram\":[{\"marker\":{\"pattern\":{\"fillmode\":\"overlay\",\"size\":10,\"solidity\":0.2}},\"type\":\"histogram\"}],\"scattergl\":[{\"type\":\"scattergl\",\"marker\":{\"colorbar\":{\"outlinewidth\":0,\"ticks\":\"\"}}}],\"scatter3d\":[{\"type\":\"scatter3d\",\"line\":{\"colorbar\":{\"outlinewidth\":0,\"ticks\":\"\"}},\"marker\":{\"colorbar\":{\"outlinewidth\":0,\"ticks\":\"\"}}}],\"scattermapbox\":[{\"type\":\"scattermapbox\",\"marker\":{\"colorbar\":{\"outlinewidth\":0,\"ticks\":\"\"}}}],\"scatterternary\":[{\"type\":\"scatterternary\",\"marker\":{\"colorbar\":{\"outlinewidth\":0,\"ticks\":\"\"}}}],\"scattercarpet\":[{\"type\":\"scattercarpet\",\"marker\":{\"colorbar\":{\"outlinewidth\":0,\"ticks\":\"\"}}}],\"carpet\":[{\"aaxis\":{\"endlinecolor\":\"#2a3f5f\",\"gridcolor\":\"white\",\"linecolor\":\"white\",\"minorgridcolor\":\"white\",\"startlinecolor\":\"#2a3f5f\"},\"baxis\":{\"endlinecolor\":\"#2a3f5f\",\"gridcolor\":\"white\",\"linecolor\":\"white\",\"minorgridcolor\":\"white\",\"startlinecolor\":\"#2a3f5f\"},\"type\":\"carpet\"}],\"table\":[{\"cells\":{\"fill\":{\"color\":\"#EBF0F8\"},\"line\":{\"color\":\"white\"}},\"header\":{\"fill\":{\"color\":\"#C8D4E3\"},\"line\":{\"color\":\"white\"}},\"type\":\"table\"}],\"barpolar\":[{\"marker\":{\"line\":{\"color\":\"#E5ECF6\",\"width\":0.5},\"pattern\":{\"fillmode\":\"overlay\",\"size\":10,\"solidity\":0.2}},\"type\":\"barpolar\"}],\"pie\":[{\"automargin\":true,\"type\":\"pie\"}]},\"layout\":{\"autotypenumbers\":\"strict\",\"colorway\":[\"#636efa\",\"#EF553B\",\"#00cc96\",\"#ab63fa\",\"#FFA15A\",\"#19d3f3\",\"#FF6692\",\"#B6E880\",\"#FF97FF\",\"#FECB52\"],\"font\":{\"color\":\"#2a3f5f\"},\"hovermode\":\"closest\",\"hoverlabel\":{\"align\":\"left\"},\"paper_bgcolor\":\"white\",\"plot_bgcolor\":\"#E5ECF6\",\"polar\":{\"bgcolor\":\"#E5ECF6\",\"angularaxis\":{\"gridcolor\":\"white\",\"linecolor\":\"white\",\"ticks\":\"\"},\"radialaxis\":{\"gridcolor\":\"white\",\"linecolor\":\"white\",\"ticks\":\"\"}},\"ternary\":{\"bgcolor\":\"#E5ECF6\",\"aaxis\":{\"gridcolor\":\"white\",\"linecolor\":\"white\",\"ticks\":\"\"},\"baxis\":{\"gridcolor\":\"white\",\"linecolor\":\"white\",\"ticks\":\"\"},\"caxis\":{\"gridcolor\":\"white\",\"linecolor\":\"white\",\"ticks\":\"\"}},\"coloraxis\":{\"colorbar\":{\"outlinewidth\":0,\"ticks\":\"\"}},\"colorscale\":{\"sequential\":[[0.0,\"#0d0887\"],[0.1111111111111111,\"#46039f\"],[0.2222222222222222,\"#7201a8\"],[0.3333333333333333,\"#9c179e\"],[0.4444444444444444,\"#bd3786\"],[0.5555555555555556,\"#d8576b\"],[0.6666666666666666,\"#ed7953\"],[0.7777777777777778,\"#fb9f3a\"],[0.8888888888888888,\"#fdca26\"],[1.0,\"#f0f921\"]],\"sequentialminus\":[[0.0,\"#0d0887\"],[0.1111111111111111,\"#46039f\"],[0.2222222222222222,\"#7201a8\"],[0.3333333333333333,\"#9c179e\"],[0.4444444444444444,\"#bd3786\"],[0.5555555555555556,\"#d8576b\"],[0.6666666666666666,\"#ed7953\"],[0.7777777777777778,\"#fb9f3a\"],[0.8888888888888888,\"#fdca26\"],[1.0,\"#f0f921\"]],\"diverging\":[[0,\"#8e0152\"],[0.1,\"#c51b7d\"],[0.2,\"#de77ae\"],[0.3,\"#f1b6da\"],[0.4,\"#fde0ef\"],[0.5,\"#f7f7f7\"],[0.6,\"#e6f5d0\"],[0.7,\"#b8e186\"],[0.8,\"#7fbc41\"],[0.9,\"#4d9221\"],[1,\"#276419\"]]},\"xaxis\":{\"gridcolor\":\"white\",\"linecolor\":\"white\",\"ticks\":\"\",\"title\":{\"standoff\":15},\"zerolinecolor\":\"white\",\"automargin\":true,\"zerolinewidth\":2},\"yaxis\":{\"gridcolor\":\"white\",\"linecolor\":\"white\",\"ticks\":\"\",\"title\":{\"standoff\":15},\"zerolinecolor\":\"white\",\"automargin\":true,\"zerolinewidth\":2},\"scene\":{\"xaxis\":{\"backgroundcolor\":\"#E5ECF6\",\"gridcolor\":\"white\",\"linecolor\":\"white\",\"showbackground\":true,\"ticks\":\"\",\"zerolinecolor\":\"white\",\"gridwidth\":2},\"yaxis\":{\"backgroundcolor\":\"#E5ECF6\",\"gridcolor\":\"white\",\"linecolor\":\"white\",\"showbackground\":true,\"ticks\":\"\",\"zerolinecolor\":\"white\",\"gridwidth\":2},\"zaxis\":{\"backgroundcolor\":\"#E5ECF6\",\"gridcolor\":\"white\",\"linecolor\":\"white\",\"showbackground\":true,\"ticks\":\"\",\"zerolinecolor\":\"white\",\"gridwidth\":2}},\"shapedefaults\":{\"line\":{\"color\":\"#2a3f5f\"}},\"annotationdefaults\":{\"arrowcolor\":\"#2a3f5f\",\"arrowhead\":0,\"arrowwidth\":1},\"geo\":{\"bgcolor\":\"white\",\"landcolor\":\"#E5ECF6\",\"subunitcolor\":\"white\",\"showland\":true,\"showlakes\":true,\"lakecolor\":\"white\"},\"title\":{\"x\":0.05},\"mapbox\":{\"style\":\"light\"}}}},                        {\"responsive\": true}                    ).then(function(){\n",
       "                            \n",
       "var gd = document.getElementById('9a84c590-55ff-4754-8df4-cd6b7d587a44');\n",
       "var x = new MutationObserver(function (mutations, observer) {{\n",
       "        var display = window.getComputedStyle(gd).display;\n",
       "        if (!display || display === 'none') {{\n",
       "            console.log([gd, 'removed!']);\n",
       "            Plotly.purge(gd);\n",
       "            observer.disconnect();\n",
       "        }}\n",
       "}});\n",
       "\n",
       "// Listen for the removal of the full notebook cells\n",
       "var notebookContainer = gd.closest('#notebook-container');\n",
       "if (notebookContainer) {{\n",
       "    x.observe(notebookContainer, {childList: true});\n",
       "}}\n",
       "\n",
       "// Listen for the clearing of the current output cell\n",
       "var outputEl = gd.closest('.output');\n",
       "if (outputEl) {{\n",
       "    x.observe(outputEl, {childList: true});\n",
       "}}\n",
       "\n",
       "                        })                };                });            </script>        </div>"
      ]
     },
     "metadata": {},
     "output_type": "display_data"
    },
    {
     "data": {
      "application/vnd.plotly.v1+json": {
       "config": {
        "plotlyServerURL": "https://plot.ly"
       },
       "data": [
        {
         "name": "MCV1900413",
         "type": "scatter",
         "x": [
          333,
          334,
          335,
          336,
          337,
          338,
          339,
          340,
          341,
          342,
          343,
          344,
          345,
          346,
          347,
          348,
          349,
          350,
          351,
          352,
          353,
          354,
          355,
          356,
          357,
          358,
          359,
          360,
          361,
          362,
          363,
          364,
          365,
          366,
          367,
          368,
          369,
          370,
          371,
          372,
          373,
          374,
          375,
          376,
          377,
          378,
          379,
          380,
          381,
          382,
          383,
          384,
          385,
          386,
          387,
          388,
          389,
          390,
          391,
          392,
          393,
          394,
          395,
          396,
          397,
          398,
          399,
          400,
          401,
          402,
          403,
          404,
          405,
          406,
          407,
          408,
          409,
          410,
          411,
          412,
          413,
          414,
          415,
          416,
          417,
          418,
          419,
          420,
          421,
          422,
          423,
          424,
          425,
          426,
          427,
          428,
          429,
          430,
          431,
          432,
          433,
          434,
          435,
          436,
          437,
          438,
          439,
          440,
          441,
          442,
          443,
          444,
          445,
          446,
          447,
          448,
          449,
          450,
          451,
          452,
          453,
          454,
          455,
          456,
          457,
          458,
          459,
          460,
          461,
          462,
          463,
          464,
          465,
          466,
          467,
          468,
          469,
          470,
          471,
          472,
          473,
          474,
          475,
          476,
          477,
          478,
          479,
          480,
          481,
          482,
          483,
          484,
          485,
          486,
          487,
          488,
          489,
          490,
          491,
          492,
          493,
          494,
          495,
          496,
          497,
          498,
          499,
          500,
          501,
          502,
          503,
          504,
          505,
          506,
          507,
          508,
          509,
          510,
          511,
          512,
          513,
          514,
          515,
          516,
          517,
          518,
          519,
          520,
          521,
          522,
          523,
          524,
          525,
          526,
          527
         ],
         "y": [
          0.18490000000000004,
          0,
          -0.021507692307692304,
          -0.0059269230769230805,
          0.19050423076923076,
          0.12668461538461534,
          0.09741384615384609,
          0.9561403846153842,
          0.08402884615384619,
          0.061196153846153845,
          0.0723980769230769,
          0.02499230769230767,
          0.07445384615384612,
          -2.2846403846153844,
          0.020436538461538457,
          0.037296153846153854,
          0.002544230769230784,
          -0.03806346153846151,
          -0.015030769230769226,
          -0.034857692307692284,
          -0.04924923076923078,
          0.030659615384615393,
          -1.7766711538461535,
          -0.5775975,
          -0.04255961538461539,
          -0.043796153846153846,
          0.18490000000000004,
          0,
          0,
          0,
          -0.027125000000000003,
          1.0638788461538466,
          0.24412692307692302,
          0.12248596153846156,
          0.02789038461538464,
          0.023021153846153865,
          0.032926923076923055,
          0.02626346153846154,
          0.014551538461538475,
          0.018028846153846142,
          0.02646153846153845,
          0.005365384615384635,
          -0.005730769230769228,
          -0.007223076923076917,
          0.010651923076923066,
          -2.671525,
          0.01801153846153846,
          -0.028776923076923137,
          -0.016562499999999983,
          0.0322903846153846,
          -0.019203461538461558,
          -0.019854999999999973,
          0.008567307692307667,
          -1.4764248076923077,
          -0.1178884615384615,
          0.16600384615384614,
          0.13992115384615383,
          -0.054603846153846156,
          0,
          -0.07310576923076922,
          0.18490000000000004,
          0,
          -0.2678,
          0.1918692307692309,
          0.06068653846153844,
          2.040719230769231,
          -0.018044230769230788,
          -0.012790384615384608,
          -0.0024980769230768998,
          -0.027992307692307705,
          -3.8650442307692305,
          -0.02452692307692312,
          3.4021826923076923,
          3.310205769230769,
          -0.021659615384615326,
          -3.2238076923076906,
          -0.034259615384615395,
          -0.007857692307692335,
          0.015717307692307666,
          0.033512884615384604,
          0.029409423076923125,
          0.0062692307692307665,
          0.021642307692307704,
          -0.04714365384615385,
          -5.157621153846156,
          -0.03652115384615389,
          -0.04170961538461538,
          3.1029807692307694,
          -0.0350363283461539,
          -0.06584038461538458,
          0.03427692307692303,
          -2.8845865384615377,
          0.0309730769230769,
          0.018533269230769235,
          2.7517942307692307,
          2.310886538461538,
          0.004346153846153831,
          -0.011736538461538465,
          0.010309038461538477,
          -0.013638461538461561,
          -0.008698076923076947,
          0.0068096153846153775,
          -0.015292307692307699,
          -0.0011746153846154063,
          -0.05033076923076925,
          0.011680769230769213,
          -0.004803846153846137,
          0.021382692307692283,
          -0.0014269230769230821,
          2.590151923076923,
          -0.029169230769230742,
          -2.5884961538461533,
          -0.04167692307692306,
          -0.057661480769230763,
          -0.061772500000000015,
          0.020103846153846174,
          -0.3675640762499999,
          -0.007221153846153836,
          0.013744230769230746,
          -0.020280769230769182,
          -0.6750087496153849,
          -2.570457692307693,
          -1.3204786153846146,
          -1.946787257692308,
          -2.5645057692307693,
          -2.900007692307691,
          -0.028340384615384594,
          -0.0007346153846153378,
          0.04137692307692305,
          -2.416088461538462,
          -0.07215846153846153,
          -0.023261538461538448,
          2.213784615384616,
          -1.8843576923076921,
          2.440063461538461,
          0.01414038461538462,
          0.05828269230769233,
          -0.007611538461538461,
          2.240915384615384,
          0.00967499999999996,
          -0.35115004807692307,
          -0.019349999999999954,
          -1.1817688461538463,
          -0.6138719230769231,
          -0.26397692307692305,
          -0.0560403846153846,
          0.02436175217307694,
          -0.016084615384615364,
          -0.017444230769230684,
          -0.044285961538461545,
          0.00812500000000002,
          2.3088000000000006,
          -0.04677769230769227,
          -2.585985192307692,
          -1.8160038461538464,
          -0.02189615384615384,
          -2.443351742307691,
          -0.1116533486538461,
          0.024887420778653822,
          -0.04430192307692306,
          -2.0715749999999997,
          -0.015178846153846173,
          -0.11110048546153851,
          -0.12621475,
          -0.04457111723076923,
          -0.9403634615384615,
          -0.0391321403846154,
          -3.110180769230768,
          -3.4529260961538455,
          -1.1015038461538464,
          -0.12180576923076919,
          -0.05428788461538459,
          -3.2952056288461544,
          -0.08679038461538452,
          0.00505846153846155,
          0.02427692307692308,
          -2.4177461538461533,
          -0.0103980769230769,
          0.018619230769230773,
          -0.015615384615384621,
          0.05679807692307689,
          -0.13505673076923083,
          0.2293057692307692,
          0.26770384615384607,
          0.008438461538461525,
          0,
          0,
          0,
          0,
          0,
          0.18490000000000004,
          0,
          0,
          0,
          -0.008871153846153846
         ]
        },
        {
         "name": "MCV1900414",
         "type": "scatter",
         "x": [
          333,
          334,
          335,
          336,
          337,
          338,
          339,
          340,
          341,
          342,
          343,
          344,
          345,
          346,
          347,
          348,
          349,
          350,
          351,
          352,
          353,
          354,
          355,
          356,
          357,
          358,
          359,
          360,
          361,
          362,
          363,
          364,
          365,
          366,
          367,
          368,
          369,
          370,
          371,
          372,
          373,
          374,
          375,
          376,
          377,
          378,
          379,
          380,
          381,
          382,
          383,
          384,
          385,
          386,
          387,
          388,
          389,
          390,
          391,
          392,
          393,
          394,
          395,
          396,
          397,
          398,
          399,
          400,
          401,
          402,
          403,
          404,
          405,
          406,
          407,
          408,
          409,
          410,
          411,
          412,
          413,
          414,
          415,
          416,
          417,
          418,
          419,
          420,
          421,
          422,
          423,
          424,
          425,
          426,
          427,
          428,
          429,
          430,
          431,
          432,
          433,
          434,
          435,
          436,
          437,
          438,
          439,
          440,
          441,
          442,
          443,
          444,
          445,
          446,
          447,
          448,
          449,
          450,
          451,
          452,
          453,
          454,
          455,
          456,
          457,
          458,
          459,
          460,
          461,
          462,
          463,
          464,
          465,
          466,
          467,
          468,
          469,
          470,
          471,
          472,
          473,
          474,
          475,
          476,
          477,
          478,
          479,
          480,
          481,
          482,
          483,
          484,
          485,
          486,
          487,
          488,
          489,
          490,
          491,
          492,
          493,
          494,
          495,
          496,
          497,
          498,
          499,
          500,
          501,
          502,
          503,
          504,
          505,
          506,
          507,
          508,
          509,
          510,
          511,
          512,
          513,
          514,
          515,
          516,
          517,
          518,
          519,
          520,
          521,
          522,
          523,
          524,
          525,
          526,
          527
         ],
         "y": [
          0.18490000000000004,
          -0.005144230769230771,
          -0.08361538461538459,
          0.08951153846153846,
          0.0548857692307692,
          0.034809615384615376,
          0.050344230769230766,
          1.2573961538461538,
          0.033078846153846105,
          0.023113461538461538,
          0.030930769230769206,
          0.03258076923076923,
          0.03168461538461542,
          -2.254407692307693,
          -0.0015403846153846036,
          0.02945961538461537,
          -0.012471153846153838,
          -0.03715000000000001,
          -0.025638461538461558,
          -0.022046153846153802,
          -0.06132500000000006,
          0.01685,
          -2.014748076923077,
          -1.3750503846153845,
          -0.3908423076923076,
          -0.07284230769230768,
          0.18490000000000004,
          0,
          0.012553846153846155,
          0.09631346153846154,
          0.010998076923076918,
          1.362648076923077,
          -0.01219807692307695,
          0.07905884615384617,
          0.05046153846153849,
          0.019142307692307715,
          0.028788461538461537,
          0.02591923076923077,
          0.0008159615384615037,
          -0.010073076923076924,
          0.012436538461538471,
          0.007473076923076924,
          0.006005769230769189,
          -0.0033826923076923023,
          0.010621153846153867,
          -2.8119884615384625,
          0.024021153846153828,
          -0.029613461538461543,
          -0.013207307692307713,
          0.03277884615384615,
          -0.026964038461538463,
          0.017102692307692315,
          0.017694230769230768,
          -1.2073451923076923,
          0.04660769230769231,
          0.04103076923076924,
          0.02014807692307693,
          -0.01661153846153847,
          0,
          -0.04197115384615384,
          0.23477307692307703,
          0.09812307692307691,
          -0.15070576923076928,
          0.05102884615384617,
          -0.07952500000000001,
          2.185076923076923,
          -0.010953846153846156,
          -0.012261538461538456,
          -0.004017307692307719,
          -0.02876538461538459,
          -3.8349538461538453,
          -0.026014615384615344,
          3.4996730769230764,
          3.3792538461538464,
          -0.020546153846153842,
          -3.3302653846153847,
          -0.020457692307692312,
          -0.007324999999999979,
          0.008880769230769235,
          0.04155153846153849,
          0.03672538461538463,
          0.01011923076923076,
          0.014909615384615394,
          -0.05435557692307688,
          -5.813240384615385,
          -0.04028461538461544,
          -0.04607499999999997,
          3.1601961538461536,
          -0.04073194782692309,
          -0.07319999999999996,
          0.03760961538461535,
          -2.948455769230769,
          0.030548076923076904,
          0.02332749999999998,
          2.8753403846153853,
          2.5145173076923086,
          0.010463461538461541,
          -0.0016365384615384798,
          0.014670576923076894,
          -0.011267307692307695,
          -0.00827499999999998,
          0.006703846153846189,
          -0.012926923076923062,
          -0.0039982692307692315,
          -0.05753269230769225,
          -0.02075769230769231,
          -0.020644230769230828,
          0.009921153846153864,
          -0.004313461538461494,
          2.5914461538461535,
          -0.03247884615384617,
          -2.5313076923076925,
          -0.030369230769230753,
          -0.04789596153846155,
          -0.06393769230769228,
          0.015930769230769214,
          -0.1819269344230769,
          -0.009298076923076925,
          0.010965384615384646,
          -0.018530769230769205,
          -0.6666514794230767,
          -2.6029326923076934,
          -1.4506765384615388,
          -1.9565175346153845,
          -2.5667326923076925,
          -2.9194192307692313,
          -0.035167307692307706,
          -0.02532307692307695,
          0.03694038461538462,
          -2.4377965384615385,
          -0.03799538461538461,
          -0.032521153846153866,
          2.3207538461538455,
          -2.105498076923077,
          2.471619230769231,
          0.012396153846153864,
          0.051196153846153884,
          -0.0015384615384615484,
          2.317532692307692,
          -0.009832692307692296,
          -0.33185859615384616,
          -0.018019230769230753,
          -1.3410001923076926,
          -0.6742809615384618,
          -0.4453730769230769,
          0.003471153846153848,
          0.01853715384615382,
          -0.017773076923076923,
          -0.012142307692307695,
          -0.008904230769230782,
          0.005111538461538479,
          2.524757692307692,
          -0.04814480769230767,
          -2.5418375769230765,
          -1.953202115384615,
          -0.02569615384615382,
          -2.4956060826923077,
          -0.12606457500000004,
          0.024486032000000022,
          -0.04681538461538459,
          -1.8889865384615385,
          0.025315384615384556,
          -0.0857459728076923,
          -0.06293269230769229,
          -0.039988110768846126,
          -0.9001019230769228,
          -0.014116392307692294,
          -2.029063461538461,
          -3.449046178846153,
          -1.3354625961538464,
          -0.16659423076923077,
          -0.0790442307692308,
          -3.4564288076923066,
          -0.10090576923076919,
          0.0038696153846153837,
          0.021063461538461545,
          -2.4230346153846156,
          -0.013178846153846136,
          0.021076923076923108,
          -0.018863461538461586,
          0.02710384615384616,
          -0.02321942307692309,
          0.15692884615384614,
          0.6861865384615384,
          0.08583846153846153,
          -0.009707692307692306,
          0,
          0,
          0,
          0,
          0.18490000000000004,
          -0.008882692307692307,
          0,
          -0.08915634615384614,
          0.01599538461538462
         ]
        },
        {
         "name": "MCV1900415",
         "type": "scatter",
         "x": [
          333,
          334,
          335,
          336,
          337,
          338,
          339,
          340,
          341,
          342,
          343,
          344,
          345,
          346,
          347,
          348,
          349,
          350,
          351,
          352,
          353,
          354,
          355,
          356,
          357,
          358,
          359,
          360,
          361,
          362,
          363,
          364,
          365,
          366,
          367,
          368,
          369,
          370,
          371,
          372,
          373,
          374,
          375,
          376,
          377,
          378,
          379,
          380,
          381,
          382,
          383,
          384,
          385,
          386,
          387,
          388,
          389,
          390,
          391,
          392,
          393,
          394,
          395,
          396,
          397,
          398,
          399,
          400,
          401,
          402,
          403,
          404,
          405,
          406,
          407,
          408,
          409,
          410,
          411,
          412,
          413,
          414,
          415,
          416,
          417,
          418,
          419,
          420,
          421,
          422,
          423,
          424,
          425,
          426,
          427,
          428,
          429,
          430,
          431,
          432,
          433,
          434,
          435,
          436,
          437,
          438,
          439,
          440,
          441,
          442,
          443,
          444,
          445,
          446,
          447,
          448,
          449,
          450,
          451,
          452,
          453,
          454,
          455,
          456,
          457,
          458,
          459,
          460,
          461,
          462,
          463,
          464,
          465,
          466,
          467,
          468,
          469,
          470,
          471,
          472,
          473,
          474,
          475,
          476,
          477,
          478,
          479,
          480,
          481,
          482,
          483,
          484,
          485,
          486,
          487,
          488,
          489,
          490,
          491,
          492,
          493,
          494,
          495,
          496,
          497,
          498,
          499,
          500,
          501,
          502,
          503,
          504,
          505,
          506,
          507,
          508,
          509,
          510,
          511,
          512,
          513,
          514,
          515,
          516,
          517,
          518,
          519,
          520,
          521,
          522,
          523,
          524,
          525,
          526,
          527
         ],
         "y": [
          0.09442500000000005,
          0.027948076923076923,
          -0.04577115384615385,
          0.014151923076923058,
          0.11792673076923083,
          0.015923076923076897,
          0.06868057692307689,
          1.6375865384615387,
          0.02018076923076925,
          0.023726923076923083,
          0.024940384615384597,
          0.022017307692307683,
          0.025780769230769243,
          -2.3093826923076923,
          0.007094230769230803,
          0.027011538461538476,
          -0.010321153846153829,
          -0.03520384615384615,
          -0.02497115384615383,
          -0.01885000000000003,
          -0.04708826923076922,
          0.0004884615384615018,
          -1.925701923076923,
          -1.5494117307692308,
          -0.1056192307692308,
          -0.0805326923076923,
          0.17764865384615386,
          0,
          -0.012036538461538467,
          0.026538461538461535,
          -0.12458653846153846,
          1.5756057692307692,
          0.18494230769230768,
          0.053843846153846145,
          0.019015384615384604,
          0.020273076923076956,
          0.06712307692307692,
          0.02181346153846155,
          0.01716249999999999,
          0.014774999999999979,
          0.022021153846153847,
          0.0015961538461538327,
          -0.005505769230769218,
          0.0009750000000000464,
          0.006978846153846124,
          -2.4069211538461532,
          0.012469230769230729,
          -0.015176923076923015,
          -0.009812307692307686,
          0.028698076923076934,
          -0.003665000000000006,
          -0.014424038461538474,
          -0.0011134615384615011,
          -0.7749751923076926,
          -0.12173461538461534,
          0.11135961538461533,
          0.04856923076923077,
          -0.10818269230769235,
          0,
          -0.06111346153846154,
          0.18490000000000004,
          0.040825,
          -0.2019634615384615,
          0.13870192307692308,
          0.015342307692307692,
          2.0974442307692307,
          -0.005428846153846188,
          -0.012773076923076904,
          -0.00529230769230769,
          -0.019882692307692344,
          -3.5660115384615385,
          -0.033225384615384615,
          3.150576923076922,
          3.0817846153846142,
          -0.02392692307692307,
          -2.812084615384615,
          -0.02804807692307693,
          -0.009603846153846147,
          0.015519230769230764,
          0.023401730769230786,
          0.015829807692307685,
          -0.0036769230769230863,
          0.01707884615384612,
          -0.04586307692307691,
          -4.435242307692308,
          -0.03352115384615387,
          -0.0330653846153846,
          2.744792307692308,
          -0.021618307115384636,
          -0.04863269230769234,
          0.024736538461538456,
          -2.5946730769230775,
          0.020534615384615405,
          0.015036153846153848,
          2.457344230769231,
          2.1796980769230765,
          -0.0024230769230769297,
          -0.006613461538461549,
          0.004430384615384614,
          -0.008078846153846134,
          -0.007874999999999978,
          0.00628076923076921,
          -0.014849999999999992,
          -0.007480384615384613,
          -0.04214615384615385,
          0.010221153846153805,
          -0.009519230769230754,
          0.030257692307692322,
          0.00040769230769230975,
          2.559438461538461,
          -0.03481730769230768,
          -2.578071153846153,
          -0.04310384615384619,
          -0.10695574999999995,
          -0.08434903846153849,
          0.015328846153846122,
          -0.21370693249999992,
          -0.021311538461538458,
          0.01912499999999997,
          -0.02090576923076925,
          -0.5629618192307693,
          -2.4728173076923077,
          -1.4692901923076922,
          -1.8685861192307687,
          -2.4102884615384617,
          -2.7282038461538463,
          -0.01534230769230771,
          0.0022961538461538067,
          0.018386538461538433,
          -2.2877078846153847,
          -0.023175769230769208,
          -0.02374423076923079,
          2.21244423076923,
          -2.1241000000000003,
          2.360688461538462,
          0.010213461538461498,
          0.037567307692307664,
          0.004644230769230804,
          2.2579499999999997,
          -0.013732692307692303,
          -0.2850709038461537,
          -0.026082692307692293,
          -1.295851730769231,
          -0.7802782692307692,
          -0.24894423076923078,
          -0.08623846153846156,
          0.03278131627499998,
          -0.019103846153846152,
          -0.017340384615384605,
          -0.010943269230769215,
          -0.002728846153846178,
          2.495246153846154,
          -0.08200384615384615,
          -2.580513596153847,
          -1.9367583076923092,
          -0.02241538461538458,
          -2.4994266673076924,
          -0.1573527305769231,
          0.013730686788461548,
          -0.05055961538461541,
          -2.1870346153846145,
          -0.030575000000000015,
          -0.09614178980769236,
          -0.13984423076923078,
          -0.04700804788019229,
          -1.3925634615384612,
          -0.02740605096153846,
          -3.242432692307692,
          -3.486562586538462,
          -1.2668946153846155,
          -0.3228976923076922,
          -0.06442269230769229,
          -3.015091500000001,
          -0.14020576923076924,
          0.006978269230769236,
          0.022084615384615442,
          -2.3952903846153846,
          -0.006780769230769227,
          0.012605769230769217,
          -0.010826923076923105,
          0.013650000000000023,
          -0.0530692307692308,
          0.13533076923076928,
          0.3048730769230768,
          -0.004832692307692307,
          -0.00911153846153846,
          0,
          0,
          0,
          0,
          0.18490000000000004,
          -0.00925769230769231,
          0,
          -0.008696153846153845,
          -0.025708846153846162
         ]
        },
        {
         "name": "MCV1900416",
         "type": "scatter",
         "x": [
          333,
          334,
          335,
          336,
          337,
          338,
          339,
          340,
          341,
          342,
          343,
          344,
          345,
          346,
          347,
          348,
          349,
          350,
          351,
          352,
          353,
          354,
          355,
          356,
          357,
          358,
          359,
          360,
          361,
          362,
          363,
          364,
          365,
          366,
          367,
          368,
          369,
          370,
          371,
          372,
          373,
          374,
          375,
          376,
          377,
          378,
          379,
          380,
          381,
          382,
          383,
          384,
          385,
          386,
          387,
          388,
          389,
          390,
          391,
          392,
          393,
          394,
          395,
          396,
          397,
          398,
          399,
          400,
          401,
          402,
          403,
          404,
          405,
          406,
          407,
          408,
          409,
          410,
          411,
          412,
          413,
          414,
          415,
          416,
          417,
          418,
          419,
          420,
          421,
          422,
          423,
          424,
          425,
          426,
          427,
          428,
          429,
          430,
          431,
          432,
          433,
          434,
          435,
          436,
          437,
          438,
          439,
          440,
          441,
          442,
          443,
          444,
          445,
          446,
          447,
          448,
          449,
          450,
          451,
          452,
          453,
          454,
          455,
          456,
          457,
          458,
          459,
          460,
          461,
          462,
          463,
          464,
          465,
          466,
          467,
          468,
          469,
          470,
          471,
          472,
          473,
          474,
          475,
          476,
          477,
          478,
          479,
          480,
          481,
          482,
          483,
          484,
          485,
          486,
          487,
          488,
          489,
          490,
          491,
          492,
          493,
          494,
          495,
          496,
          497,
          498,
          499,
          500,
          501,
          502,
          503,
          504,
          505,
          506,
          507,
          508,
          509,
          510,
          511,
          512,
          513,
          514,
          515,
          516,
          517,
          518,
          519,
          520,
          521,
          522,
          523,
          524,
          525,
          526,
          527
         ],
         "y": [
          0.2102057692307694,
          -0.15190769230769227,
          -0.03715192307692303,
          -0.062396153846153865,
          0.019837692307692313,
          0.041180769230769215,
          0.14416923076923077,
          1.4029903846153846,
          0.018690384615384602,
          0.02036538461538461,
          0.018101923076923078,
          0.019992307692307695,
          0.021778846153846183,
          -2.1840653846153844,
          0.0034365384615384375,
          0.02232115384615383,
          -0.011303846153846173,
          -0.03290769230769234,
          -0.021832692307692268,
          -0.016649999999999995,
          -0.040870769230769224,
          0.0030865384615384847,
          -1.8990192307692308,
          -1.7105424999999999,
          -0.19614038461538463,
          0.014986538461538464,
          0.17210769230769232,
          0,
          -0.004957692307692306,
          -0.0025384615384615385,
          -0.11357692307692308,
          1.3954038461538463,
          0.13863269230769235,
          0.03037192307692305,
          0.03887500000000001,
          0.01242115384615384,
          0.018807692307692307,
          0.027076923076923075,
          0.000239423076923089,
          -0.00512499999999998,
          0.007357115384615356,
          -0.001076923076923078,
          -0.00531923076923076,
          -0.0016557692307692406,
          0.0060096153846153355,
          -2.3414825,
          0.015505769230769248,
          -0.011599999999999989,
          -0.07218057692307693,
          0.04723846153846155,
          0.13588749999999997,
          -0.07289865384615382,
          0.10169615384615384,
          -0.514968846153846,
          -0.006173076923076934,
          -0.005075000000000001,
          -0.002034615384615387,
          0.028253846153846154,
          0,
          -0.04147884615384616,
          0.18490000000000004,
          0.054575000000000005,
          -0.11451346153846155,
          0.09041923076923078,
          0.013609615384615394,
          2.034209615384615,
          -0.004861153846153825,
          -0.012917307692307704,
          -0.0008057692307692146,
          -0.021567307692307698,
          -3.313859615384616,
          -0.028545000000000025,
          3.037540384615385,
          2.978849999999999,
          -0.02083269230769231,
          -2.860957692307693,
          -0.034613461538461544,
          -0.008499999999999987,
          0.014930769230769235,
          0.027986346153846122,
          0.02160711538461535,
          0.009248076923076907,
          0.017505769230769224,
          -0.044104999999999984,
          -0.11962115384615381,
          -0.030346153846153818,
          -0.03025576923076925,
          2.706848076923077,
          -0.019011538461538427,
          -0.044788461538461506,
          0.022923076923076966,
          -2.5358365384615382,
          0.019498076923076927,
          0.01898230769230771,
          2.359798076923077,
          2.1649769230769236,
          -0.0017769230769230733,
          0.029032692307692287,
          0.0007984615384615363,
          -0.006582692307692311,
          -0.00911346153846156,
          0.005544230769230782,
          -0.014573076923076937,
          -0.004621730769230755,
          -0.0479576923076923,
          -0.020521153846153852,
          0.003115384615384631,
          0.018821153846153856,
          0.0006730769230769387,
          2.442932692307692,
          -0.03402884615384611,
          -2.4638865384615376,
          -0.07668461538461542,
          -0.40531856538461536,
          -0.1957988653846154,
          0.019896153846153914,
          -0.4717187711153847,
          -0.014138461538461523,
          0.023471153846153874,
          -0.019307692307692324,
          -0.3593973732692307,
          -2.4220634615384613,
          -1.577767653846154,
          -1.9749989230769234,
          -2.377096153846154,
          -2.7423711538461535,
          -0.015938461538461547,
          -0.012021153846153794,
          0.016638461538461543,
          -2.222710961538461,
          -0.014204807692307721,
          -0.0046884615384615155,
          2.1632692307692305,
          -2.075363461538462,
          2.3320500000000006,
          0.00905961538461534,
          0.03031346153846154,
          0.006934615384615355,
          2.2794403846153846,
          -0.01845769230769234,
          -0.4192891923076924,
          -0.23998269230769242,
          -1.8317269230769226,
          -0.5812922692307692,
          -0.2268826923076923,
          -0.24881923076923068,
          0.0148283511153846,
          -0.013723076923076914,
          -0.004594230769230767,
          0.02383807692307693,
          0.015271153846153851,
          -3.2105288461538466,
          -0.02858142307692305,
          -2.739299596153846,
          -1.8699048076923075,
          -0.025863461538461554,
          -3.7594915096153843,
          -0.6922791153846153,
          -0.07977557884615383,
          -0.36157307692307705,
          -3.1577851923076925,
          -0.08949999999999997,
          -0.1691004865384615,
          -0.33343982692307694,
          -0.04617729109615386,
          -1.6439626923076922,
          -0.007870366134615371,
          -1.6548211538461535,
          -2.454739238461538,
          -0.32235369230769234,
          -0.020563461538461496,
          -0.044744615384615376,
          -2.3152853846153842,
          -0.08334999999999998,
          0.00018557692307692613,
          0.01869615384615384,
          -2.2841980769230767,
          -0.0074423076923076795,
          0.014321153846153827,
          -0.01014615384615383,
          0.014788461538461512,
          -0.03800096153846154,
          0.19937307692307688,
          0.6386461538461538,
          -0.04216538461538461,
          0,
          0,
          0,
          0,
          0,
          0.18490000000000004,
          0,
          0.03956346153846154,
          -0.013795576923076923,
          -0.04343461538461539
         ]
        },
        {
         "name": "MCV1900417",
         "type": "scatter",
         "x": [
          333,
          334,
          335,
          336,
          337,
          338,
          339,
          340,
          341,
          342,
          343,
          344,
          345,
          346,
          347,
          348,
          349,
          350,
          351,
          352,
          353,
          354,
          355,
          356,
          357,
          358,
          359,
          360,
          361,
          362,
          363,
          364,
          365,
          366,
          367,
          368,
          369,
          370,
          371,
          372,
          373,
          374,
          375,
          376,
          377,
          378,
          379,
          380,
          381,
          382,
          383,
          384,
          385,
          386,
          387,
          388,
          389,
          390,
          391,
          392,
          393,
          394,
          395,
          396,
          397,
          398,
          399,
          400,
          401,
          402,
          403,
          404,
          405,
          406,
          407,
          408,
          409,
          410,
          411,
          412,
          413,
          414,
          415,
          416,
          417,
          418,
          419,
          420,
          421,
          422,
          423,
          424,
          425,
          426,
          427,
          428,
          429,
          430,
          431,
          432,
          433,
          434,
          435,
          436,
          437,
          438,
          439,
          440,
          441,
          442,
          443,
          444,
          445,
          446,
          447,
          448,
          449,
          450,
          451,
          452,
          453,
          454,
          455,
          456,
          457,
          458,
          459,
          460,
          461,
          462,
          463,
          464,
          465,
          466,
          467,
          468,
          469,
          470,
          471,
          472,
          473,
          474,
          475,
          476,
          477,
          478,
          479,
          480,
          481,
          482,
          483,
          484,
          485,
          486,
          487,
          488,
          489,
          490,
          491,
          492,
          493,
          494,
          495,
          496,
          497,
          498,
          499,
          500,
          501,
          502,
          503,
          504,
          505,
          506,
          507,
          508,
          509,
          510,
          511,
          512,
          513,
          514,
          515,
          516,
          517,
          518,
          519,
          520,
          521,
          522,
          523,
          524,
          525,
          526,
          527
         ],
         "y": [
          0.18490000000000004,
          0,
          -0.02709615384615385,
          0.04675000000000001,
          0.09738846153846155,
          0.11354423076923079,
          0.12771999999999997,
          1.0212961538461536,
          0.052957692307692324,
          0.0507423076923077,
          0.06921346153846152,
          0.030165384615384625,
          0.03542692307692305,
          -2.149309615384616,
          0.0020961538461538717,
          0.025865384615384623,
          -0.010107692307692283,
          -0.03258461538461542,
          -0.01760961538461538,
          -0.02032692307692304,
          -0.044793269230769234,
          0.03423461538461538,
          -2.3774192307692306,
          -1.0392324999999998,
          -0.21301538461538458,
          0.0018019230769230675,
          0.1997442307692309,
          0,
          0,
          0,
          -0.09169615384615383,
          1.063032692307692,
          0.2203923076923077,
          0.11851653846153844,
          0.0371307692307692,
          0.021132692307692293,
          0.08253076923076927,
          0.015742307692307667,
          0.017813461538461504,
          0.020951923076923062,
          0.020540961538461557,
          0.002832692307692299,
          -0.005042307692307692,
          -0.004173076923076942,
          0.011990384615384597,
          -2.565830769230769,
          0.012046153846153809,
          -0.011044230769230749,
          -0.005364615384615406,
          0.01586923076923075,
          -0.009419038461538444,
          -0.09767480769230769,
          0.005730769230769255,
          -1.0503180769230769,
          -0.029467307692307675,
          -0.09763846153846156,
          0.47624230769230774,
          0.04104423076923078,
          0.016128846153846153,
          -0.05647307692307693,
          0.1777826923076923,
          -0.03729230769230769,
          -0.1850096153846154,
          0.0988557692307692,
          -0.00999038461538463,
          2.146888461538462,
          -0.008167115384615398,
          -0.011538461538461556,
          -0.0022403846153845907,
          -0.022175000000000004,
          -3.5735192307692327,
          -0.028865576923076935,
          3.2282500000000005,
          3.0876980769230764,
          -0.019448076923076933,
          -2.940490384615385,
          -0.029928846153846132,
          -0.006725000000000054,
          0.009757692307692335,
          0.024634999999999987,
          0.0160967307692308,
          -0.008390384615384609,
          0.01818076923076924,
          -0.0408271153846154,
          -0.15803076923076922,
          -0.032700000000000014,
          -0.031100000000000003,
          2.778375,
          -0.02168287307692312,
          -0.05137500000000005,
          0.02480192307692307,
          -2.638551923076923,
          0.015442307692307679,
          0.013102499999999954,
          2.543578846153846,
          2.34725576923077,
          0.006090384615384587,
          -0.00123269230769233,
          0.011897692307692307,
          -0.009026923076923082,
          -0.007375000000000042,
          0.007211538461538462,
          -0.011744230769230778,
          -0.0038751923076923134,
          -0.04290769230769233,
          -0.02967692307692305,
          -0.027221153846153825,
          0.01434615384615385,
          -0.0022788461538461547,
          2.487976923076923,
          -0.03275576923076921,
          -2.474886538461538,
          -0.03320192307692309,
          -0.05987749999999999,
          -0.06953565384615386,
          0.01815192307692305,
          -0.1932840792307691,
          -0.01440384615384613,
          0.017388461538461516,
          -0.013571153846153833,
          -0.4665528124999999,
          -2.4450942307692305,
          -1.4208280769230772,
          -1.7307784173076923,
          -2.4257000000000004,
          -2.7735326923076906,
          -0.01538076923076925,
          -0.006538461538461527,
          0.016363461538461545,
          -2.340352115384615,
          -0.020352115384615364,
          -0.019950000000000016,
          2.249111538461538,
          -2.0666769230769226,
          2.3574942307692304,
          0.011757692307692306,
          0.03627307692307694,
          -6.730769230767635e-05,
          2.236715384615384,
          -0.009761538461538485,
          -0.33129317307692313,
          -0.044521153846153835,
          -1.6123938999999998,
          -1.321976730769231,
          -1.3664557692307695,
          -0.6289326923076921,
          -0.00648313551923076,
          -0.04762500000000003,
          0.014194230769230782,
          0.02364250000000001,
          -0.006053846153846123,
          -2.6276615384615383,
          -0.03886826923076925,
          -2.5373763788461545,
          -1.9497288461538458,
          -0.01700769230769233,
          -2.376884551923076,
          -0.20259352917307683,
          0.00325214856634613,
          -0.0752711538461539,
          -1.9810780769230765,
          -0.002026923076923084,
          -0.09627970825769235,
          -0.12116849999999998,
          -0.03143722883653845,
          -0.8733467307692304,
          0.006288164230769188,
          -1.9877576923076932,
          -3.1463366153846155,
          -0.8235831730769226,
          -0.27037307692307694,
          -0.07105019230769236,
          -2.387498438461539,
          -0.08548269230769229,
          0.0008334615384615415,
          0.017140384615384568,
          -2.3253980769230767,
          -0.008421153846153875,
          0.016271153846153814,
          -0.012884615384615364,
          0.028976923076923067,
          -0.15095307692307694,
          0.16787499999999997,
          0.8193634615384615,
          -0.19676730769230769,
          0.14075192307692308,
          -0.02644999999999999,
          0,
          0,
          0,
          0.18203076923076927,
          -0.009959615384615384,
          0,
          0,
          0.008767307692307696
         ]
        },
        {
         "name": "MCV1900418",
         "type": "scatter",
         "x": [
          333,
          334,
          335,
          336,
          337,
          338,
          339,
          340,
          341,
          342,
          343,
          344,
          345,
          346,
          347,
          348,
          349,
          350,
          351,
          352,
          353,
          354,
          355,
          356,
          357,
          358,
          359,
          360,
          361,
          362,
          363,
          364,
          365,
          366,
          367,
          368,
          369,
          370,
          371,
          372,
          373,
          374,
          375,
          376,
          377,
          378,
          379,
          380,
          381,
          382,
          383,
          384,
          385,
          386,
          387,
          388,
          389,
          390,
          391,
          392,
          393,
          394,
          395,
          396,
          397,
          398,
          399,
          400,
          401,
          402,
          403,
          404,
          405,
          406,
          407,
          408,
          409,
          410,
          411,
          412,
          413,
          414,
          415,
          416,
          417,
          418,
          419,
          420,
          421,
          422,
          423,
          424,
          425,
          426,
          427,
          428,
          429,
          430,
          431,
          432,
          433,
          434,
          435,
          436,
          437,
          438,
          439,
          440,
          441,
          442,
          443,
          444,
          445,
          446,
          447,
          448,
          449,
          450,
          451,
          452,
          453,
          454,
          455,
          456,
          457,
          458,
          459,
          460,
          461,
          462,
          463,
          464,
          465,
          466,
          467,
          468,
          469,
          470,
          471,
          472,
          473,
          474,
          475,
          476,
          477,
          478,
          479,
          480,
          481,
          482,
          483,
          484,
          485,
          486,
          487,
          488,
          489,
          490,
          491,
          492,
          493,
          494,
          495,
          496,
          497,
          498,
          499,
          500,
          501,
          502,
          503,
          504,
          505,
          506,
          507,
          508,
          509,
          510,
          511,
          512,
          513,
          514,
          515,
          516,
          517,
          518,
          519,
          520,
          521,
          522,
          523,
          524,
          525,
          526,
          527
         ],
         "y": [
          0.19380769230769238,
          0.00973076923076923,
          0.026246153846153832,
          0.006571153846153853,
          0.10232423076923076,
          0.06212307692307692,
          0.1514919230769231,
          1.0731653846153841,
          0.0566673076923077,
          0.022646153846153847,
          0.0708326923076923,
          0.021603846153846154,
          0.029026923076923103,
          -2.166663461538461,
          0.0044730769230769,
          0.02631346153846152,
          -0.01290769230769229,
          -0.033396153846153825,
          -0.01979230769230764,
          -0.01960769230769232,
          -0.04745942307692309,
          0.01427884615384613,
          -1.9847788461538458,
          -1.5040805769230763,
          -0.14985769230769233,
          -0.03588269230769232,
          0.19509615384615392,
          0.016361538461538462,
          -0.011638461538461533,
          0.10522499999999999,
          -0.026723076923076943,
          1.198042307692308,
          0.009698076923076945,
          0.07981115384615384,
          0.0694346153846154,
          0.009113461538461532,
          0.01669615384615383,
          0.02197499999999999,
          -0.029843076923076896,
          -0.00012307692307692234,
          0.013869038461538445,
          0.0004057692307692117,
          -0.0009442307692307506,
          -0.003605769230769218,
          0.01024230769230765,
          -2.5057653846153847,
          0.01640576923076926,
          -0.017084615384615323,
          -0.01271384615384617,
          0.017513461538461523,
          -0.02407384615384616,
          0.09232538461538463,
          0.0032288461538461486,
          -0.6326007692307692,
          0.03603076923076924,
          7.884615384615424e-05,
          0,
          -0.06945576923076922,
          0,
          -0.043376923076923084,
          0.18490000000000004,
          -0.03967307692307693,
          -0.17259615384615387,
          0.037673076923076934,
          -0.011340384615384592,
          2.1037673076923076,
          -0.00853365384615387,
          -0.01402500000000001,
          -0.00047499999999997756,
          -0.026773076923076924,
          -3.657257692307691,
          -0.026776346153846147,
          3.2153903846153833,
          3.145024999999999,
          -0.01898269230769234,
          -2.968615384615385,
          -0.035384615384615375,
          -0.008309615384615384,
          0.013078846153846165,
          0.03048461538461537,
          0.02273288461538457,
          0.009221153846153886,
          0.011711538461538443,
          -0.04315596153846156,
          -0.11659230769230769,
          -0.02964038461538462,
          -0.03398269230769229,
          2.8800250000000003,
          -0.026500240384615334,
          -0.05530576923076921,
          0.029592307692307678,
          -2.678251923076922,
          0.02310961538461538,
          0.019151730769230785,
          2.5636134615384614,
          2.238048076923076,
          0.004421153846153857,
          0.010509615384615404,
          0.014113461538461537,
          -0.007296153846153837,
          -0.006499999999999972,
          0.008436538461538485,
          -0.013617307692307705,
          0.0015836538461538618,
          -0.04801538461538457,
          -0.014898076923076846,
          -0.013944230769230766,
          0.013911538461538472,
          -0.0034365384615384544,
          2.431776923076923,
          -0.030099999999999967,
          -2.4230500000000004,
          -0.031848076923076944,
          -0.05762865384615383,
          -0.06464423076923077,
          0.027382692307692323,
          -0.16717194887115386,
          -0.006859615384615381,
          0.02436923076923078,
          -0.013157692307692256,
          -0.8775118715384616,
          -2.48815,
          -1.4776928846153845,
          -1.9163432346153846,
          -2.488917307692307,
          -4.660482692307693,
          -0.006105769230769216,
          -0.01964423076923076,
          0.01851153846153843,
          -2.3350455769230765,
          -0.02469057692307695,
          -0.024513461538461546,
          2.269546153846154,
          -2.099619230769231,
          2.398342307692308,
          0.009728846153846124,
          0.039480769230769215,
          0.005655769230769257,
          2.2937326923076915,
          -0.011530769230769242,
          -1.9507481346153848,
          -0.28509615384615383,
          -1.8215478846153845,
          -0.9115736538461541,
          -0.11825384615384617,
          -0.011992307692307682,
          -0.07385171151923078,
          -0.06190192307692307,
          0.009851923076923083,
          -0.0001857500000000059,
          -0.1402601923076923,
          -2.6242826923076916,
          -0.24922826923076924,
          -2.661468128846153,
          -1.263863461538461,
          -1.2573074230769232,
          -3.652125153846154,
          -0.40981425384615383,
          -0.024609621423076933,
          -0.11935192307692308,
          -2.5233438461538458,
          -0.1518653846153846,
          -0.1593205092884616,
          -0.12979065384615388,
          -0.01844659217307696,
          -0.7993884615384613,
          0.029148975173076942,
          -1.194575,
          -3.344172375,
          -0.4371574807692306,
          -0.11757307692307693,
          -0.05725192307692306,
          -2.092819557692307,
          -0.06222307692307695,
          -0.0002742307692307638,
          0.008401923076923092,
          -2.2688615384615387,
          -0.009730769230769218,
          0.016013461538461525,
          -0.01409999999999998,
          0.03993461538461537,
          -0.045550384615384604,
          0.21856346153846157,
          0.9328596153846155,
          -0.07627692307692308,
          -0.012478846153846155,
          0,
          0,
          0,
          0,
          0.18490000000000004,
          -0.00021923076923076963,
          0.016874999999999998,
          -0.0029557692307692297,
          -0.01773673076923077
         ]
        },
        {
         "name": "MCV1900422",
         "type": "scatter",
         "x": [
          333,
          334,
          335,
          336,
          337,
          338,
          339,
          340,
          341,
          342,
          343,
          344,
          345,
          346,
          347,
          348,
          349,
          350,
          351,
          352,
          353,
          354,
          355,
          356,
          357,
          358,
          359,
          360,
          361,
          362,
          363,
          364,
          365,
          366,
          367,
          368,
          369,
          370,
          371,
          372,
          373,
          374,
          375,
          376,
          377,
          378,
          379,
          380,
          381,
          382,
          383,
          384,
          385,
          386,
          387,
          388,
          389,
          390,
          391,
          392,
          393,
          394,
          395,
          396,
          397,
          398,
          399,
          400,
          401,
          402,
          403,
          404,
          405,
          406,
          407,
          408,
          409,
          410,
          411,
          412,
          413,
          414,
          415,
          416,
          417,
          418,
          419,
          420,
          421,
          422,
          423,
          424,
          425,
          426,
          427,
          428,
          429,
          430,
          431,
          432,
          433,
          434,
          435,
          436,
          437,
          438,
          439,
          440,
          441,
          442,
          443,
          444,
          445,
          446,
          447,
          448,
          449,
          450,
          451,
          452,
          453,
          454,
          455,
          456,
          457,
          458,
          459,
          460,
          461,
          462,
          463,
          464,
          465,
          466,
          467,
          468,
          469,
          470,
          471,
          472,
          473,
          474,
          475,
          476,
          477,
          478,
          479,
          480,
          481,
          482,
          483,
          484,
          485,
          486,
          487,
          488,
          489,
          490,
          491,
          492,
          493,
          494,
          495,
          496,
          497,
          498,
          499,
          500,
          501,
          502,
          503,
          504,
          505,
          506,
          507,
          508,
          509,
          510,
          511,
          512,
          513,
          514,
          515,
          516,
          517,
          518,
          519,
          520,
          521,
          522,
          523,
          524,
          525,
          526,
          527
         ],
         "y": [
          0.18490000000000004,
          0,
          -0.03734038461538462,
          0.054546153846153834,
          0.10459557692307694,
          0.024849999999999987,
          0.022133653846153838,
          1.6064538461538462,
          0.01786923076923077,
          0.021942307692307705,
          0.022080769230769216,
          0.021984615384615356,
          0.024628846153846154,
          -2.2220942307692306,
          0.0021692307692307397,
          0.022157692307692285,
          -0.011301923076923074,
          -0.034646153846153833,
          -0.02457115384615384,
          -0.018884615384615364,
          -0.04612442307692306,
          0.003759615384615378,
          -1.9873980769230768,
          -1.3780292307692306,
          -0.2577903846153846,
          -0.05480192307692307,
          0.18490000000000004,
          0,
          0,
          0.03378076923076923,
          -0.09465961538461538,
          1.6766423076923074,
          0.28523461538461536,
          0.025833461538461538,
          0.018207692307692272,
          0.02056153846153845,
          0.04891538461538463,
          0.010740384615384548,
          0.013075769230769255,
          0.02039999999999998,
          0.019758653846153832,
          0.002936538461538467,
          0.0002634615384615308,
          -0.003453846153846145,
          0.012805769230769207,
          -2.5125892307692315,
          0.013996153846153851,
          -0.015319230769230778,
          -0.012752884615384603,
          0.02773461538461537,
          -0.015889807692307682,
          -0.014662115384615383,
          -0.003530769230769237,
          -1.5110059615384621,
          -0.07175769230769229,
          0.12119807692307692,
          0.035890384615384616,
          -0.08403269230769231,
          0,
          -0.04741730769230769,
          0.18490000000000004,
          0.06527307692307693,
          -0.24455192307692306,
          0.16672115384615382,
          -0.008938461538461564,
          2.079588461538462,
          -0.007943076923076938,
          -0.011100000000000016,
          -0.00458846153846152,
          -0.016803846153846152,
          -3.4864673076923087,
          -0.023518461538461526,
          3.149746153846154,
          3.0319576923076927,
          -0.02165384615384613,
          -2.919330769230769,
          -0.028248076923076862,
          -0.006403846153846153,
          0.009346153846153829,
          0.03334692307692306,
          0.013902500000000005,
          0.0016115384615384548,
          0.018755769230769256,
          -0.04172115384615383,
          -5.332051923076921,
          -0.030803846153846178,
          -0.034840384615384606,
          2.7922749999999996,
          -0.0311578158269231,
          -0.049684615384615355,
          0.02697115384615384,
          -2.5709884615384615,
          0.01960961538461539,
          0.02016615384615383,
          2.411088461538461,
          2.1950307692307693,
          0.0023173076923076828,
          -0.002855769230769224,
          0.007919230769230744,
          -0.010719230769230769,
          -0.0062384615384615556,
          0.005282692307692281,
          -0.011761538461538478,
          -0.005916153846153887,
          -0.03709999999999998,
          0.002428846153846181,
          -0.020036538461538432,
          0.003811538461538503,
          0.002455769230769259,
          2.502538461538461,
          -0.02658461538461538,
          -2.5583692307692307,
          -0.03748653846153848,
          -0.04855192307692308,
          -0.04963788461538462,
          0.01560192307692307,
          -0.36427445932692315,
          -0.007519230769230756,
          0.013023076923076927,
          -0.016300000000000002,
          -0.9958802613461537,
          -2.437515384615385,
          -1.3511084615384616,
          -2.075795386538462,
          -2.3676480769230777,
          -2.8414634615384617,
          -0.019673076923076897,
          -0.0206384615384615,
          0.020575000000000003,
          -2.1830042307692312,
          -0.021033076923076936,
          -0.019375,
          2.162946153846154,
          -2.1041423076923076,
          2.3251942307692306,
          0.010273076923076914,
          0.030926923076923043,
          0.0037557692307692613,
          2.225771153846154,
          -0.013819230769230794,
          -0.35261780769230777,
          -0.021538461538461524,
          -0.9882151923076928,
          -0.8379253461538462,
          -0.2417653846153847,
          -0.10446923076923074,
          0.028093176134615393,
          0.00027884615384612314,
          -0.010515384615384623,
          -0.018248269230769207,
          -0.4406619230769231,
          -5.038957884615384,
          -0.11878955769230772,
          -2.866528615384616,
          -1.88361423076923,
          -0.017936538461538483,
          -2.5120042057692307,
          -0.11320613076923072,
          0.019361229532692315,
          -0.07635769230769231,
          -2.4409975000000013,
          -0.06741153846153844,
          -0.11077601369230766,
          -0.10852139230769234,
          -0.028284793931153865,
          -0.7717942307692307,
          -0.03314663847307692,
          -3.043694230769231,
          -3.786809396153845,
          -1.359866153846154,
          -0.372125,
          -0.05237942307692309,
          -3.2237151365384618,
          -0.08479999999999999,
          0.0015567232249999923,
          0.0098461538461538,
          -2.344446153846154,
          -0.008171153846153835,
          0.014269230769230777,
          -0.011865384615384627,
          0.01660769230769234,
          -0.00835096153846155,
          0.07055576923076926,
          0.5983923076923078,
          -0.08940961538461537,
          0,
          0,
          0,
          0,
          0,
          0.18490000000000004,
          -0.01173076923076923,
          0,
          0,
          0.010634615384615383
         ]
        },
        {
         "name": "MCV1900423",
         "type": "scatter",
         "x": [
          333,
          334,
          335,
          336,
          337,
          338,
          339,
          340,
          341,
          342,
          343,
          344,
          345,
          346,
          347,
          348,
          349,
          350,
          351,
          352,
          353,
          354,
          355,
          356,
          357,
          358,
          359,
          360,
          361,
          362,
          363,
          364,
          365,
          366,
          367,
          368,
          369,
          370,
          371,
          372,
          373,
          374,
          375,
          376,
          377,
          378,
          379,
          380,
          381,
          382,
          383,
          384,
          385,
          386,
          387,
          388,
          389,
          390,
          391,
          392,
          393,
          394,
          395,
          396,
          397,
          398,
          399,
          400,
          401,
          402,
          403,
          404,
          405,
          406,
          407,
          408,
          409,
          410,
          411,
          412,
          413,
          414,
          415,
          416,
          417,
          418,
          419,
          420,
          421,
          422,
          423,
          424,
          425,
          426,
          427,
          428,
          429,
          430,
          431,
          432,
          433,
          434,
          435,
          436,
          437,
          438,
          439,
          440,
          441,
          442,
          443,
          444,
          445,
          446,
          447,
          448,
          449,
          450,
          451,
          452,
          453,
          454,
          455,
          456,
          457,
          458,
          459,
          460,
          461,
          462,
          463,
          464,
          465,
          466,
          467,
          468,
          469,
          470,
          471,
          472,
          473,
          474,
          475,
          476,
          477,
          478,
          479,
          480,
          481,
          482,
          483,
          484,
          485,
          486,
          487,
          488,
          489,
          490,
          491,
          492,
          493,
          494,
          495,
          496,
          497,
          498,
          499,
          500,
          501,
          502,
          503,
          504,
          505,
          506,
          507,
          508,
          509,
          510,
          511,
          512,
          513,
          514,
          515,
          516,
          517,
          518,
          519,
          520,
          521,
          522,
          523,
          524,
          525,
          526,
          527
         ],
         "y": [
          0.12395576923076922,
          -0.008798076923076924,
          0.01637307692307692,
          0.036825000000000004,
          -0.03073557692307694,
          0.010244230769230743,
          0.046869807692307676,
          1.4534846153846155,
          0.01802500000000002,
          0.023434615384615422,
          0.01861923076923069,
          0.035621153846153844,
          0.032690384615384614,
          -2.2428846153846154,
          0.000848076923076945,
          0.027850000000000003,
          -0.012409615384615397,
          -0.03679038461538462,
          -0.027324999999999974,
          -0.02046346153846152,
          -0.04039384615384613,
          0.03909999999999998,
          -1.815490384615385,
          -1.6155978846153851,
          -0.9082538461538461,
          0.01705192307692306,
          0.09474461538461536,
          0.016811538461538468,
          -0.02321346153846154,
          0.05025961538461542,
          0.057919230769230765,
          1.6028134615384615,
          0.011792307692307692,
          0.09490615384615388,
          0.03961346153846157,
          0.018884615384615406,
          0.026848076923076947,
          0.024861538461538456,
          0.018367307692307707,
          0.016559615384615367,
          0.01633076923076919,
          0.0008346153846153695,
          -0.0012999999999999722,
          -0.005736538461538458,
          0.013748076923076894,
          -2.5693596153846148,
          0.01417499999999999,
          -0.010428846153846143,
          0.01083980769230769,
          0.02327692307692306,
          -0.08549173076923076,
          0.04832442307692307,
          0.055069230769230766,
          -1.6050409615384607,
          -0.010894230769230776,
          0.016799999999999985,
          0.458998076923077,
          -0.10074999999999999,
          0.022976923076923082,
          -0.022630769230769236,
          0.1008980769230769,
          0.047963461538461476,
          -0.010182692307692306,
          0.10460192307692308,
          -0.006090384615384604,
          1.9913865384615383,
          0.012826923076923069,
          -0.012798076923076914,
          -0.0039211538461538286,
          -0.020750000000000005,
          -3.5596865384615386,
          -0.029512500000000004,
          3.258911538461538,
          3.174011538461538,
          -0.024051923076923058,
          -3.0156134615384613,
          -0.027261538461538483,
          -0.0071365384615384615,
          0.014034615384615406,
          0.03228192307692307,
          0.02491923076923078,
          0.004692307692307688,
          0.019015384615384642,
          -0.049298269230769215,
          -5.286128846153849,
          -0.036034615384615394,
          -0.03734038461538463,
          2.853007692307692,
          -0.03677918201346157,
          -0.05748461538461537,
          0.029142307692307665,
          -2.6782788461538463,
          0.02195961538461537,
          0.024781346153846157,
          2.5312115384615383,
          2.0881769230769227,
          0.004838461538461531,
          -0.033726923076923085,
          0.009450192307692324,
          -0.00797884615384616,
          -0.007613461538461567,
          0.004824999999999939,
          -0.01281923076923077,
          -0.003952115384615416,
          -0.04852307692307689,
          0.012401923076923104,
          -0.003136538461538505,
          0.028749999999999977,
          -0.0021326923076923207,
          2.5542769230769227,
          -0.036882692307692325,
          -2.5565846153846152,
          -0.03903076923076923,
          -0.11112740384615388,
          -0.08866480769230768,
          0.015680769230769234,
          -0.5726839820000001,
          -0.015705769230769225,
          0.02189615384615379,
          -0.018396153846153864,
          -0.5709423826923077,
          -2.5006519230769237,
          -1.5081232692307687,
          -2.005808090384616,
          -2.449201923076923,
          -3.068634615384615,
          -0.02444999999999997,
          -0.001309615384615394,
          0.017184615384615406,
          -2.1579411538461533,
          -0.02450365384615386,
          -0.03447884615384616,
          2.175180769230769,
          -2.082484615384615,
          2.384230769230769,
          0.009936538461538495,
          0.0434076923076923,
          0.0018173076923076886,
          2.270030769230769,
          -0.010323076923076909,
          -0.4246843269230769,
          -0.026728846153846117,
          -1.4781719230769232,
          -0.835799384615385,
          -0.4365307692307694,
          -0.06737884615384618,
          -0.010615733384615385,
          0.004375000000000035,
          0.016688461538461534,
          0.0037896153846154104,
          0.006544230769230761,
          -2.395265384615385,
          -0.019833500000000018,
          -2.357925401923077,
          -1.7842250000000004,
          -0.01925192307692308,
          -2.4445604211538456,
          -0.08997634465384617,
          0.026655444096153818,
          -0.04257307692307694,
          -2.0258882692307685,
          0.012126923076923117,
          -0.1064489419038461,
          -0.16196982692307696,
          -0.04507508957692305,
          -1.2016384615384617,
          -0.03970871659807694,
          -3.5472961538461543,
          -3.6598864634615373,
          -1.2764625000000005,
          -0.17285038461538463,
          -0.0731515384615384,
          -3.291912036538461,
          -0.11622307692307689,
          0.003779935942307697,
          0.019461538461538506,
          -2.3918250000000003,
          -0.010680769230769242,
          0.016836538461538455,
          -0.013176923076923124,
          0.07998076923076919,
          -0.037225,
          0.03898653846153842,
          0.9293865384615384,
          -0.05507884615384614,
          0.015525000000000014,
          0.03761519230769229,
          0.009832692307692308,
          0.004221923076923071,
          -0.02565576923076923,
          0.17046480769230768,
          0.0008882692307692369,
          -0.0036865384615384633,
          0.008941538461538464,
          -0.00478173076923076
         ]
        },
        {
         "name": "MCV1900424",
         "type": "scatter",
         "x": [
          333,
          334,
          335,
          336,
          337,
          338,
          339,
          340,
          341,
          342,
          343,
          344,
          345,
          346,
          347,
          348,
          349,
          350,
          351,
          352,
          353,
          354,
          355,
          356,
          357,
          358,
          359,
          360,
          361,
          362,
          363,
          364,
          365,
          366,
          367,
          368,
          369,
          370,
          371,
          372,
          373,
          374,
          375,
          376,
          377,
          378,
          379,
          380,
          381,
          382,
          383,
          384,
          385,
          386,
          387,
          388,
          389,
          390,
          391,
          392,
          393,
          394,
          395,
          396,
          397,
          398,
          399,
          400,
          401,
          402,
          403,
          404,
          405,
          406,
          407,
          408,
          409,
          410,
          411,
          412,
          413,
          414,
          415,
          416,
          417,
          418,
          419,
          420,
          421,
          422,
          423,
          424,
          425,
          426,
          427,
          428,
          429,
          430,
          431,
          432,
          433,
          434,
          435,
          436,
          437,
          438,
          439,
          440,
          441,
          442,
          443,
          444,
          445,
          446,
          447,
          448,
          449,
          450,
          451,
          452,
          453,
          454,
          455,
          456,
          457,
          458,
          459,
          460,
          461,
          462,
          463,
          464,
          465,
          466,
          467,
          468,
          469,
          470,
          471,
          472,
          473,
          474,
          475,
          476,
          477,
          478,
          479,
          480,
          481,
          482,
          483,
          484,
          485,
          486,
          487,
          488,
          489,
          490,
          491,
          492,
          493,
          494,
          495,
          496,
          497,
          498,
          499,
          500,
          501,
          502,
          503,
          504,
          505,
          506,
          507,
          508,
          509,
          510,
          511,
          512,
          513,
          514,
          515,
          516,
          517,
          518,
          519,
          520,
          521,
          522,
          523,
          524,
          525,
          526,
          527
         ],
         "y": [
          0.10344038461538457,
          0.12909230769230773,
          -0.08003653846153845,
          0.12765,
          0.13716961538461542,
          0.0697596153846154,
          0.10988692307692312,
          1.241301923076923,
          0.03574230769230773,
          0.024926923076923076,
          0.03518846153846149,
          0.025324999999999993,
          0.025096153846153782,
          -2.248807692307692,
          0.0009442307692307763,
          0.025007692307692345,
          -0.016148076923076956,
          -0.04315961538461541,
          -0.019507692307692295,
          -0.02095192307692304,
          -0.052000192307692324,
          0.013392307692307676,
          -1.7132769230769231,
          -0.9700132692307692,
          0.011663461538461543,
          -0.037596153846153835,
          0.17448846153846154,
          0,
          -0.029190384615384625,
          0.1331673076923077,
          0.14536153846153846,
          1.5594769230769232,
          0.024094230769230764,
          0.010348461538461563,
          0.04860576923076921,
          0.0095673076923077,
          0.018374999999999975,
          0.02378269230769229,
          -0.00573807692307692,
          -0.009696153846153875,
          0.011480769230769221,
          -0.005080769230769256,
          0.0012769230769230856,
          -0.007238461538461514,
          0.012225000000000012,
          -2.639088461538461,
          0.018632692307692322,
          -0.013978846153846163,
          -0.008034615384615387,
          0.029653846153846135,
          -0.03137249999999998,
          0.0520825,
          0.05989038461538461,
          -1.0571601923076925,
          0.016686538461538468,
          0.02380192307692308,
          0.007521153846153848,
          -0.03644615384615384,
          0,
          -0.056401923076923086,
          0.18490000000000004,
          0.014653846153846153,
          -0.2644134615384615,
          0.06699423076923076,
          -0.014959615384615377,
          2.097992307692307,
          -0.009288461538461523,
          -0.012059615384615372,
          -0.00773846153846157,
          -0.021271153846153842,
          -3.8166153846153845,
          -0.03329288461538465,
          3.432657692307691,
          3.3201673076923077,
          -0.025761538461538443,
          -3.1858326923076916,
          -0.050190384615384644,
          -0.00847500000000001,
          0.016761538461538453,
          0.035028076923076946,
          0.02797826923076924,
          -0.01555576923076926,
          0.025155769230769284,
          -0.0679076923076923,
          -5.910288461538463,
          -0.03998076923076922,
          -0.04505576923076921,
          2.96478076923077,
          -0.04887360319038465,
          -0.06613653846153845,
          0.03339038461538459,
          -2.673767307692308,
          0.023367307692307698,
          0.02460211538461538,
          2.498375,
          2.1532673076923072,
          0.0033230769230769308,
          0.006363461538461511,
          0.008658076923076909,
          -0.009076923076923111,
          -0.006263461538461541,
          0.005282692307692281,
          -0.01460769230769231,
          -0.005375961538461572,
          -0.0574365384615385,
          0.011378846153846147,
          -0.01712307692307691,
          0.008590384615384595,
          -0.004671153846153866,
          2.5863980769230768,
          -0.03186923076923081,
          -2.5878461538461535,
          -0.03450769230769227,
          -0.045802307692307684,
          -0.062243269230769234,
          0.02181730769230765,
          -0.20603015901730765,
          -0.010909615384615323,
          0.015851923076923048,
          -0.016736538461538435,
          -0.7162802442307691,
          -2.4837153846153845,
          -1.4334999999999998,
          -2.0889987115384616,
          -2.4316673076923077,
          -2.546553846153846,
          -0.009425000000000017,
          -0.009826923076923084,
          0.017884615384615388,
          -2.2165113461538466,
          -0.027738461538461566,
          -0.02125961538461541,
          2.207626923076923,
          -2.1409057692307694,
          2.3713288461538458,
          0.011274999999999983,
          0.04853846153846154,
          0.0004057692307692117,
          2.273017307692307,
          -0.012709615384615385,
          -0.3603667307692308,
          -0.015899999999999935,
          -1.3436353846153846,
          -0.8745010576923078,
          -0.2774307692307692,
          -0.14866153846153848,
          -0.025254045605769236,
          -0.009484615384615348,
          -0.01428653846153848,
          0.004217307692307702,
          -0.09923653846153847,
          -3.956873076923076,
          0.003541346153846159,
          -2.2179861019230778,
          -1.8343168653846147,
          -0.013801923076923102,
          -2.3125251192307688,
          -0.12354989038461535,
          0.02251852488461537,
          -0.07081730769230767,
          -2.176300000000001,
          -0.023150000000000004,
          -0.1455815195961538,
          -0.08041057692307693,
          -0.044819176673076916,
          -1.015826923076923,
          -0.005325938461538453,
          -3.448136538461538,
          -3.597855826923077,
          -1.2530755769230773,
          -0.12284884615384614,
          -0.06988249999999999,
          -3.495349403846154,
          -0.12090769230769223,
          0.00984874221153844,
          0.02422692307692311,
          -2.4121711538461543,
          -0.01036346153846156,
          0.018907692307692327,
          -0.013596153846153869,
          0.016115384615384615,
          -0.15951384615384623,
          0.2928961538461539,
          0.047646153846153845,
          -0.016486538461538462,
          0,
          0,
          0,
          0,
          0,
          0.18490000000000004,
          -0.006115384615384616,
          0.016834615384615385,
          -0.09126807692307694,
          -0.026309807692307688
         ]
        }
       ],
       "layout": {
        "shapes": [
         {
          "line": {
           "dash": "dash",
           "width": 1
          },
          "type": "line",
          "x0": 501,
          "x1": 501,
          "xref": "x",
          "y0": 3.4996730769230764,
          "y1": -5.910288461538463,
          "yref": "y"
         }
        ],
        "template": {
         "data": {
          "bar": [
           {
            "error_x": {
             "color": "#2a3f5f"
            },
            "error_y": {
             "color": "#2a3f5f"
            },
            "marker": {
             "line": {
              "color": "#E5ECF6",
              "width": 0.5
             },
             "pattern": {
              "fillmode": "overlay",
              "size": 10,
              "solidity": 0.2
             }
            },
            "type": "bar"
           }
          ],
          "barpolar": [
           {
            "marker": {
             "line": {
              "color": "#E5ECF6",
              "width": 0.5
             },
             "pattern": {
              "fillmode": "overlay",
              "size": 10,
              "solidity": 0.2
             }
            },
            "type": "barpolar"
           }
          ],
          "carpet": [
           {
            "aaxis": {
             "endlinecolor": "#2a3f5f",
             "gridcolor": "white",
             "linecolor": "white",
             "minorgridcolor": "white",
             "startlinecolor": "#2a3f5f"
            },
            "baxis": {
             "endlinecolor": "#2a3f5f",
             "gridcolor": "white",
             "linecolor": "white",
             "minorgridcolor": "white",
             "startlinecolor": "#2a3f5f"
            },
            "type": "carpet"
           }
          ],
          "choropleth": [
           {
            "colorbar": {
             "outlinewidth": 0,
             "ticks": ""
            },
            "type": "choropleth"
           }
          ],
          "contour": [
           {
            "colorbar": {
             "outlinewidth": 0,
             "ticks": ""
            },
            "colorscale": [
             [
              0,
              "#0d0887"
             ],
             [
              0.1111111111111111,
              "#46039f"
             ],
             [
              0.2222222222222222,
              "#7201a8"
             ],
             [
              0.3333333333333333,
              "#9c179e"
             ],
             [
              0.4444444444444444,
              "#bd3786"
             ],
             [
              0.5555555555555556,
              "#d8576b"
             ],
             [
              0.6666666666666666,
              "#ed7953"
             ],
             [
              0.7777777777777778,
              "#fb9f3a"
             ],
             [
              0.8888888888888888,
              "#fdca26"
             ],
             [
              1,
              "#f0f921"
             ]
            ],
            "type": "contour"
           }
          ],
          "contourcarpet": [
           {
            "colorbar": {
             "outlinewidth": 0,
             "ticks": ""
            },
            "type": "contourcarpet"
           }
          ],
          "heatmap": [
           {
            "colorbar": {
             "outlinewidth": 0,
             "ticks": ""
            },
            "colorscale": [
             [
              0,
              "#0d0887"
             ],
             [
              0.1111111111111111,
              "#46039f"
             ],
             [
              0.2222222222222222,
              "#7201a8"
             ],
             [
              0.3333333333333333,
              "#9c179e"
             ],
             [
              0.4444444444444444,
              "#bd3786"
             ],
             [
              0.5555555555555556,
              "#d8576b"
             ],
             [
              0.6666666666666666,
              "#ed7953"
             ],
             [
              0.7777777777777778,
              "#fb9f3a"
             ],
             [
              0.8888888888888888,
              "#fdca26"
             ],
             [
              1,
              "#f0f921"
             ]
            ],
            "type": "heatmap"
           }
          ],
          "heatmapgl": [
           {
            "colorbar": {
             "outlinewidth": 0,
             "ticks": ""
            },
            "colorscale": [
             [
              0,
              "#0d0887"
             ],
             [
              0.1111111111111111,
              "#46039f"
             ],
             [
              0.2222222222222222,
              "#7201a8"
             ],
             [
              0.3333333333333333,
              "#9c179e"
             ],
             [
              0.4444444444444444,
              "#bd3786"
             ],
             [
              0.5555555555555556,
              "#d8576b"
             ],
             [
              0.6666666666666666,
              "#ed7953"
             ],
             [
              0.7777777777777778,
              "#fb9f3a"
             ],
             [
              0.8888888888888888,
              "#fdca26"
             ],
             [
              1,
              "#f0f921"
             ]
            ],
            "type": "heatmapgl"
           }
          ],
          "histogram": [
           {
            "marker": {
             "pattern": {
              "fillmode": "overlay",
              "size": 10,
              "solidity": 0.2
             }
            },
            "type": "histogram"
           }
          ],
          "histogram2d": [
           {
            "colorbar": {
             "outlinewidth": 0,
             "ticks": ""
            },
            "colorscale": [
             [
              0,
              "#0d0887"
             ],
             [
              0.1111111111111111,
              "#46039f"
             ],
             [
              0.2222222222222222,
              "#7201a8"
             ],
             [
              0.3333333333333333,
              "#9c179e"
             ],
             [
              0.4444444444444444,
              "#bd3786"
             ],
             [
              0.5555555555555556,
              "#d8576b"
             ],
             [
              0.6666666666666666,
              "#ed7953"
             ],
             [
              0.7777777777777778,
              "#fb9f3a"
             ],
             [
              0.8888888888888888,
              "#fdca26"
             ],
             [
              1,
              "#f0f921"
             ]
            ],
            "type": "histogram2d"
           }
          ],
          "histogram2dcontour": [
           {
            "colorbar": {
             "outlinewidth": 0,
             "ticks": ""
            },
            "colorscale": [
             [
              0,
              "#0d0887"
             ],
             [
              0.1111111111111111,
              "#46039f"
             ],
             [
              0.2222222222222222,
              "#7201a8"
             ],
             [
              0.3333333333333333,
              "#9c179e"
             ],
             [
              0.4444444444444444,
              "#bd3786"
             ],
             [
              0.5555555555555556,
              "#d8576b"
             ],
             [
              0.6666666666666666,
              "#ed7953"
             ],
             [
              0.7777777777777778,
              "#fb9f3a"
             ],
             [
              0.8888888888888888,
              "#fdca26"
             ],
             [
              1,
              "#f0f921"
             ]
            ],
            "type": "histogram2dcontour"
           }
          ],
          "mesh3d": [
           {
            "colorbar": {
             "outlinewidth": 0,
             "ticks": ""
            },
            "type": "mesh3d"
           }
          ],
          "parcoords": [
           {
            "line": {
             "colorbar": {
              "outlinewidth": 0,
              "ticks": ""
             }
            },
            "type": "parcoords"
           }
          ],
          "pie": [
           {
            "automargin": true,
            "type": "pie"
           }
          ],
          "scatter": [
           {
            "fillpattern": {
             "fillmode": "overlay",
             "size": 10,
             "solidity": 0.2
            },
            "type": "scatter"
           }
          ],
          "scatter3d": [
           {
            "line": {
             "colorbar": {
              "outlinewidth": 0,
              "ticks": ""
             }
            },
            "marker": {
             "colorbar": {
              "outlinewidth": 0,
              "ticks": ""
             }
            },
            "type": "scatter3d"
           }
          ],
          "scattercarpet": [
           {
            "marker": {
             "colorbar": {
              "outlinewidth": 0,
              "ticks": ""
             }
            },
            "type": "scattercarpet"
           }
          ],
          "scattergeo": [
           {
            "marker": {
             "colorbar": {
              "outlinewidth": 0,
              "ticks": ""
             }
            },
            "type": "scattergeo"
           }
          ],
          "scattergl": [
           {
            "marker": {
             "colorbar": {
              "outlinewidth": 0,
              "ticks": ""
             }
            },
            "type": "scattergl"
           }
          ],
          "scattermapbox": [
           {
            "marker": {
             "colorbar": {
              "outlinewidth": 0,
              "ticks": ""
             }
            },
            "type": "scattermapbox"
           }
          ],
          "scatterpolar": [
           {
            "marker": {
             "colorbar": {
              "outlinewidth": 0,
              "ticks": ""
             }
            },
            "type": "scatterpolar"
           }
          ],
          "scatterpolargl": [
           {
            "marker": {
             "colorbar": {
              "outlinewidth": 0,
              "ticks": ""
             }
            },
            "type": "scatterpolargl"
           }
          ],
          "scatterternary": [
           {
            "marker": {
             "colorbar": {
              "outlinewidth": 0,
              "ticks": ""
             }
            },
            "type": "scatterternary"
           }
          ],
          "surface": [
           {
            "colorbar": {
             "outlinewidth": 0,
             "ticks": ""
            },
            "colorscale": [
             [
              0,
              "#0d0887"
             ],
             [
              0.1111111111111111,
              "#46039f"
             ],
             [
              0.2222222222222222,
              "#7201a8"
             ],
             [
              0.3333333333333333,
              "#9c179e"
             ],
             [
              0.4444444444444444,
              "#bd3786"
             ],
             [
              0.5555555555555556,
              "#d8576b"
             ],
             [
              0.6666666666666666,
              "#ed7953"
             ],
             [
              0.7777777777777778,
              "#fb9f3a"
             ],
             [
              0.8888888888888888,
              "#fdca26"
             ],
             [
              1,
              "#f0f921"
             ]
            ],
            "type": "surface"
           }
          ],
          "table": [
           {
            "cells": {
             "fill": {
              "color": "#EBF0F8"
             },
             "line": {
              "color": "white"
             }
            },
            "header": {
             "fill": {
              "color": "#C8D4E3"
             },
             "line": {
              "color": "white"
             }
            },
            "type": "table"
           }
          ]
         },
         "layout": {
          "annotationdefaults": {
           "arrowcolor": "#2a3f5f",
           "arrowhead": 0,
           "arrowwidth": 1
          },
          "autotypenumbers": "strict",
          "coloraxis": {
           "colorbar": {
            "outlinewidth": 0,
            "ticks": ""
           }
          },
          "colorscale": {
           "diverging": [
            [
             0,
             "#8e0152"
            ],
            [
             0.1,
             "#c51b7d"
            ],
            [
             0.2,
             "#de77ae"
            ],
            [
             0.3,
             "#f1b6da"
            ],
            [
             0.4,
             "#fde0ef"
            ],
            [
             0.5,
             "#f7f7f7"
            ],
            [
             0.6,
             "#e6f5d0"
            ],
            [
             0.7,
             "#b8e186"
            ],
            [
             0.8,
             "#7fbc41"
            ],
            [
             0.9,
             "#4d9221"
            ],
            [
             1,
             "#276419"
            ]
           ],
           "sequential": [
            [
             0,
             "#0d0887"
            ],
            [
             0.1111111111111111,
             "#46039f"
            ],
            [
             0.2222222222222222,
             "#7201a8"
            ],
            [
             0.3333333333333333,
             "#9c179e"
            ],
            [
             0.4444444444444444,
             "#bd3786"
            ],
            [
             0.5555555555555556,
             "#d8576b"
            ],
            [
             0.6666666666666666,
             "#ed7953"
            ],
            [
             0.7777777777777778,
             "#fb9f3a"
            ],
            [
             0.8888888888888888,
             "#fdca26"
            ],
            [
             1,
             "#f0f921"
            ]
           ],
           "sequentialminus": [
            [
             0,
             "#0d0887"
            ],
            [
             0.1111111111111111,
             "#46039f"
            ],
            [
             0.2222222222222222,
             "#7201a8"
            ],
            [
             0.3333333333333333,
             "#9c179e"
            ],
            [
             0.4444444444444444,
             "#bd3786"
            ],
            [
             0.5555555555555556,
             "#d8576b"
            ],
            [
             0.6666666666666666,
             "#ed7953"
            ],
            [
             0.7777777777777778,
             "#fb9f3a"
            ],
            [
             0.8888888888888888,
             "#fdca26"
            ],
            [
             1,
             "#f0f921"
            ]
           ]
          },
          "colorway": [
           "#636efa",
           "#EF553B",
           "#00cc96",
           "#ab63fa",
           "#FFA15A",
           "#19d3f3",
           "#FF6692",
           "#B6E880",
           "#FF97FF",
           "#FECB52"
          ],
          "font": {
           "color": "#2a3f5f"
          },
          "geo": {
           "bgcolor": "white",
           "lakecolor": "white",
           "landcolor": "#E5ECF6",
           "showlakes": true,
           "showland": true,
           "subunitcolor": "white"
          },
          "hoverlabel": {
           "align": "left"
          },
          "hovermode": "closest",
          "mapbox": {
           "style": "light"
          },
          "paper_bgcolor": "white",
          "plot_bgcolor": "#E5ECF6",
          "polar": {
           "angularaxis": {
            "gridcolor": "white",
            "linecolor": "white",
            "ticks": ""
           },
           "bgcolor": "#E5ECF6",
           "radialaxis": {
            "gridcolor": "white",
            "linecolor": "white",
            "ticks": ""
           }
          },
          "scene": {
           "xaxis": {
            "backgroundcolor": "#E5ECF6",
            "gridcolor": "white",
            "gridwidth": 2,
            "linecolor": "white",
            "showbackground": true,
            "ticks": "",
            "zerolinecolor": "white"
           },
           "yaxis": {
            "backgroundcolor": "#E5ECF6",
            "gridcolor": "white",
            "gridwidth": 2,
            "linecolor": "white",
            "showbackground": true,
            "ticks": "",
            "zerolinecolor": "white"
           },
           "zaxis": {
            "backgroundcolor": "#E5ECF6",
            "gridcolor": "white",
            "gridwidth": 2,
            "linecolor": "white",
            "showbackground": true,
            "ticks": "",
            "zerolinecolor": "white"
           }
          },
          "shapedefaults": {
           "line": {
            "color": "#2a3f5f"
           }
          },
          "ternary": {
           "aaxis": {
            "gridcolor": "white",
            "linecolor": "white",
            "ticks": ""
           },
           "baxis": {
            "gridcolor": "white",
            "linecolor": "white",
            "ticks": ""
           },
           "bgcolor": "#E5ECF6",
           "caxis": {
            "gridcolor": "white",
            "linecolor": "white",
            "ticks": ""
           }
          },
          "title": {
           "x": 0.05
          },
          "xaxis": {
           "automargin": true,
           "gridcolor": "white",
           "linecolor": "white",
           "ticks": "",
           "title": {
            "standoff": 15
           },
           "zerolinecolor": "white",
           "zerolinewidth": 2
          },
          "yaxis": {
           "automargin": true,
           "gridcolor": "white",
           "linecolor": "white",
           "ticks": "",
           "title": {
            "standoff": 15
           },
           "zerolinecolor": "white",
           "zerolinewidth": 2
          }
         }
        },
        "title": {
         "text": "Energies analyses from all Y501 simulations together"
        },
        "xaxis": {
         "title": {
          "text": "Residues"
         }
        },
        "yaxis": {
         "title": {
          "text": "Electrostatic + VdW energy (kcal/mol)"
         }
        }
       }
      },
      "text/html": [
       "<div>                            <div id=\"4e0a6d3b-f157-40bc-89cf-763667c5bc6a\" class=\"plotly-graph-div\" style=\"height:525px; width:100%;\"></div>            <script type=\"text/javascript\">                require([\"plotly\"], function(Plotly) {                    window.PLOTLYENV=window.PLOTLYENV || {};                                    if (document.getElementById(\"4e0a6d3b-f157-40bc-89cf-763667c5bc6a\")) {                    Plotly.newPlot(                        \"4e0a6d3b-f157-40bc-89cf-763667c5bc6a\",                        [{\"name\":\"MCV1900413\",\"x\":[333,334,335,336,337,338,339,340,341,342,343,344,345,346,347,348,349,350,351,352,353,354,355,356,357,358,359,360,361,362,363,364,365,366,367,368,369,370,371,372,373,374,375,376,377,378,379,380,381,382,383,384,385,386,387,388,389,390,391,392,393,394,395,396,397,398,399,400,401,402,403,404,405,406,407,408,409,410,411,412,413,414,415,416,417,418,419,420,421,422,423,424,425,426,427,428,429,430,431,432,433,434,435,436,437,438,439,440,441,442,443,444,445,446,447,448,449,450,451,452,453,454,455,456,457,458,459,460,461,462,463,464,465,466,467,468,469,470,471,472,473,474,475,476,477,478,479,480,481,482,483,484,485,486,487,488,489,490,491,492,493,494,495,496,497,498,499,500,501,502,503,504,505,506,507,508,509,510,511,512,513,514,515,516,517,518,519,520,521,522,523,524,525,526,527],\"y\":[0.18490000000000004,0,-0.021507692307692304,-0.0059269230769230805,0.19050423076923076,0.12668461538461534,0.09741384615384609,0.9561403846153842,0.08402884615384619,0.061196153846153845,0.0723980769230769,0.02499230769230767,0.07445384615384612,-2.2846403846153844,0.020436538461538457,0.037296153846153854,0.002544230769230784,-0.03806346153846151,-0.015030769230769226,-0.034857692307692284,-0.04924923076923078,0.030659615384615393,-1.7766711538461535,-0.5775975,-0.04255961538461539,-0.043796153846153846,0.18490000000000004,0,0,0,-0.027125000000000003,1.0638788461538466,0.24412692307692302,0.12248596153846156,0.02789038461538464,0.023021153846153865,0.032926923076923055,0.02626346153846154,0.014551538461538475,0.018028846153846142,0.02646153846153845,0.005365384615384635,-0.005730769230769228,-0.007223076923076917,0.010651923076923066,-2.671525,0.01801153846153846,-0.028776923076923137,-0.016562499999999983,0.0322903846153846,-0.019203461538461558,-0.019854999999999973,0.008567307692307667,-1.4764248076923077,-0.1178884615384615,0.16600384615384614,0.13992115384615383,-0.054603846153846156,0,-0.07310576923076922,0.18490000000000004,0,-0.2678,0.1918692307692309,0.06068653846153844,2.040719230769231,-0.018044230769230788,-0.012790384615384608,-0.0024980769230768998,-0.027992307692307705,-3.8650442307692305,-0.02452692307692312,3.4021826923076923,3.310205769230769,-0.021659615384615326,-3.2238076923076906,-0.034259615384615395,-0.007857692307692335,0.015717307692307666,0.033512884615384604,0.029409423076923125,0.0062692307692307665,0.021642307692307704,-0.04714365384615385,-5.157621153846156,-0.03652115384615389,-0.04170961538461538,3.1029807692307694,-0.0350363283461539,-0.06584038461538458,0.03427692307692303,-2.8845865384615377,0.0309730769230769,0.018533269230769235,2.7517942307692307,2.310886538461538,0.004346153846153831,-0.011736538461538465,0.010309038461538477,-0.013638461538461561,-0.008698076923076947,0.0068096153846153775,-0.015292307692307699,-0.0011746153846154063,-0.05033076923076925,0.011680769230769213,-0.004803846153846137,0.021382692307692283,-0.0014269230769230821,2.590151923076923,-0.029169230769230742,-2.5884961538461533,-0.04167692307692306,-0.057661480769230763,-0.061772500000000015,0.020103846153846174,-0.3675640762499999,-0.007221153846153836,0.013744230769230746,-0.020280769230769182,-0.6750087496153849,-2.570457692307693,-1.3204786153846146,-1.946787257692308,-2.5645057692307693,-2.900007692307691,-0.028340384615384594,-0.0007346153846153378,0.04137692307692305,-2.416088461538462,-0.07215846153846153,-0.023261538461538448,2.213784615384616,-1.8843576923076921,2.440063461538461,0.01414038461538462,0.05828269230769233,-0.007611538461538461,2.240915384615384,0.00967499999999996,-0.35115004807692307,-0.019349999999999954,-1.1817688461538463,-0.6138719230769231,-0.26397692307692305,-0.0560403846153846,0.02436175217307694,-0.016084615384615364,-0.017444230769230684,-0.044285961538461545,0.00812500000000002,2.3088000000000006,-0.04677769230769227,-2.585985192307692,-1.8160038461538464,-0.02189615384615384,-2.443351742307691,-0.1116533486538461,0.024887420778653822,-0.04430192307692306,-2.0715749999999997,-0.015178846153846173,-0.11110048546153851,-0.12621475,-0.04457111723076923,-0.9403634615384615,-0.0391321403846154,-3.110180769230768,-3.4529260961538455,-1.1015038461538464,-0.12180576923076919,-0.05428788461538459,-3.2952056288461544,-0.08679038461538452,0.00505846153846155,0.02427692307692308,-2.4177461538461533,-0.0103980769230769,0.018619230769230773,-0.015615384615384621,0.05679807692307689,-0.13505673076923083,0.2293057692307692,0.26770384615384607,0.008438461538461525,0,0,0,0,0,0.18490000000000004,0,0,0,-0.008871153846153846],\"type\":\"scatter\"},{\"name\":\"MCV1900414\",\"x\":[333,334,335,336,337,338,339,340,341,342,343,344,345,346,347,348,349,350,351,352,353,354,355,356,357,358,359,360,361,362,363,364,365,366,367,368,369,370,371,372,373,374,375,376,377,378,379,380,381,382,383,384,385,386,387,388,389,390,391,392,393,394,395,396,397,398,399,400,401,402,403,404,405,406,407,408,409,410,411,412,413,414,415,416,417,418,419,420,421,422,423,424,425,426,427,428,429,430,431,432,433,434,435,436,437,438,439,440,441,442,443,444,445,446,447,448,449,450,451,452,453,454,455,456,457,458,459,460,461,462,463,464,465,466,467,468,469,470,471,472,473,474,475,476,477,478,479,480,481,482,483,484,485,486,487,488,489,490,491,492,493,494,495,496,497,498,499,500,501,502,503,504,505,506,507,508,509,510,511,512,513,514,515,516,517,518,519,520,521,522,523,524,525,526,527],\"y\":[0.18490000000000004,-0.005144230769230771,-0.08361538461538459,0.08951153846153846,0.0548857692307692,0.034809615384615376,0.050344230769230766,1.2573961538461538,0.033078846153846105,0.023113461538461538,0.030930769230769206,0.03258076923076923,0.03168461538461542,-2.254407692307693,-0.0015403846153846036,0.02945961538461537,-0.012471153846153838,-0.03715000000000001,-0.025638461538461558,-0.022046153846153802,-0.06132500000000006,0.01685,-2.014748076923077,-1.3750503846153845,-0.3908423076923076,-0.07284230769230768,0.18490000000000004,0,0.012553846153846155,0.09631346153846154,0.010998076923076918,1.362648076923077,-0.01219807692307695,0.07905884615384617,0.05046153846153849,0.019142307692307715,0.028788461538461537,0.02591923076923077,0.0008159615384615037,-0.010073076923076924,0.012436538461538471,0.007473076923076924,0.006005769230769189,-0.0033826923076923023,0.010621153846153867,-2.8119884615384625,0.024021153846153828,-0.029613461538461543,-0.013207307692307713,0.03277884615384615,-0.026964038461538463,0.017102692307692315,0.017694230769230768,-1.2073451923076923,0.04660769230769231,0.04103076923076924,0.02014807692307693,-0.01661153846153847,0,-0.04197115384615384,0.23477307692307703,0.09812307692307691,-0.15070576923076928,0.05102884615384617,-0.07952500000000001,2.185076923076923,-0.010953846153846156,-0.012261538461538456,-0.004017307692307719,-0.02876538461538459,-3.8349538461538453,-0.026014615384615344,3.4996730769230764,3.3792538461538464,-0.020546153846153842,-3.3302653846153847,-0.020457692307692312,-0.007324999999999979,0.008880769230769235,0.04155153846153849,0.03672538461538463,0.01011923076923076,0.014909615384615394,-0.05435557692307688,-5.813240384615385,-0.04028461538461544,-0.04607499999999997,3.1601961538461536,-0.04073194782692309,-0.07319999999999996,0.03760961538461535,-2.948455769230769,0.030548076923076904,0.02332749999999998,2.8753403846153853,2.5145173076923086,0.010463461538461541,-0.0016365384615384798,0.014670576923076894,-0.011267307692307695,-0.00827499999999998,0.006703846153846189,-0.012926923076923062,-0.0039982692307692315,-0.05753269230769225,-0.02075769230769231,-0.020644230769230828,0.009921153846153864,-0.004313461538461494,2.5914461538461535,-0.03247884615384617,-2.5313076923076925,-0.030369230769230753,-0.04789596153846155,-0.06393769230769228,0.015930769230769214,-0.1819269344230769,-0.009298076923076925,0.010965384615384646,-0.018530769230769205,-0.6666514794230767,-2.6029326923076934,-1.4506765384615388,-1.9565175346153845,-2.5667326923076925,-2.9194192307692313,-0.035167307692307706,-0.02532307692307695,0.03694038461538462,-2.4377965384615385,-0.03799538461538461,-0.032521153846153866,2.3207538461538455,-2.105498076923077,2.471619230769231,0.012396153846153864,0.051196153846153884,-0.0015384615384615484,2.317532692307692,-0.009832692307692296,-0.33185859615384616,-0.018019230769230753,-1.3410001923076926,-0.6742809615384618,-0.4453730769230769,0.003471153846153848,0.01853715384615382,-0.017773076923076923,-0.012142307692307695,-0.008904230769230782,0.005111538461538479,2.524757692307692,-0.04814480769230767,-2.5418375769230765,-1.953202115384615,-0.02569615384615382,-2.4956060826923077,-0.12606457500000004,0.024486032000000022,-0.04681538461538459,-1.8889865384615385,0.025315384615384556,-0.0857459728076923,-0.06293269230769229,-0.039988110768846126,-0.9001019230769228,-0.014116392307692294,-2.029063461538461,-3.449046178846153,-1.3354625961538464,-0.16659423076923077,-0.0790442307692308,-3.4564288076923066,-0.10090576923076919,0.0038696153846153837,0.021063461538461545,-2.4230346153846156,-0.013178846153846136,0.021076923076923108,-0.018863461538461586,0.02710384615384616,-0.02321942307692309,0.15692884615384614,0.6861865384615384,0.08583846153846153,-0.009707692307692306,0,0,0,0,0.18490000000000004,-0.008882692307692307,0,-0.08915634615384614,0.01599538461538462],\"type\":\"scatter\"},{\"name\":\"MCV1900415\",\"x\":[333,334,335,336,337,338,339,340,341,342,343,344,345,346,347,348,349,350,351,352,353,354,355,356,357,358,359,360,361,362,363,364,365,366,367,368,369,370,371,372,373,374,375,376,377,378,379,380,381,382,383,384,385,386,387,388,389,390,391,392,393,394,395,396,397,398,399,400,401,402,403,404,405,406,407,408,409,410,411,412,413,414,415,416,417,418,419,420,421,422,423,424,425,426,427,428,429,430,431,432,433,434,435,436,437,438,439,440,441,442,443,444,445,446,447,448,449,450,451,452,453,454,455,456,457,458,459,460,461,462,463,464,465,466,467,468,469,470,471,472,473,474,475,476,477,478,479,480,481,482,483,484,485,486,487,488,489,490,491,492,493,494,495,496,497,498,499,500,501,502,503,504,505,506,507,508,509,510,511,512,513,514,515,516,517,518,519,520,521,522,523,524,525,526,527],\"y\":[0.09442500000000005,0.027948076923076923,-0.04577115384615385,0.014151923076923058,0.11792673076923083,0.015923076923076897,0.06868057692307689,1.6375865384615387,0.02018076923076925,0.023726923076923083,0.024940384615384597,0.022017307692307683,0.025780769230769243,-2.3093826923076923,0.007094230769230803,0.027011538461538476,-0.010321153846153829,-0.03520384615384615,-0.02497115384615383,-0.01885000000000003,-0.04708826923076922,0.0004884615384615018,-1.925701923076923,-1.5494117307692308,-0.1056192307692308,-0.0805326923076923,0.17764865384615386,0,-0.012036538461538467,0.026538461538461535,-0.12458653846153846,1.5756057692307692,0.18494230769230768,0.053843846153846145,0.019015384615384604,0.020273076923076956,0.06712307692307692,0.02181346153846155,0.01716249999999999,0.014774999999999979,0.022021153846153847,0.0015961538461538327,-0.005505769230769218,0.0009750000000000464,0.006978846153846124,-2.4069211538461532,0.012469230769230729,-0.015176923076923015,-0.009812307692307686,0.028698076923076934,-0.003665000000000006,-0.014424038461538474,-0.0011134615384615011,-0.7749751923076926,-0.12173461538461534,0.11135961538461533,0.04856923076923077,-0.10818269230769235,0,-0.06111346153846154,0.18490000000000004,0.040825,-0.2019634615384615,0.13870192307692308,0.015342307692307692,2.0974442307692307,-0.005428846153846188,-0.012773076923076904,-0.00529230769230769,-0.019882692307692344,-3.5660115384615385,-0.033225384615384615,3.150576923076922,3.0817846153846142,-0.02392692307692307,-2.812084615384615,-0.02804807692307693,-0.009603846153846147,0.015519230769230764,0.023401730769230786,0.015829807692307685,-0.0036769230769230863,0.01707884615384612,-0.04586307692307691,-4.435242307692308,-0.03352115384615387,-0.0330653846153846,2.744792307692308,-0.021618307115384636,-0.04863269230769234,0.024736538461538456,-2.5946730769230775,0.020534615384615405,0.015036153846153848,2.457344230769231,2.1796980769230765,-0.0024230769230769297,-0.006613461538461549,0.004430384615384614,-0.008078846153846134,-0.007874999999999978,0.00628076923076921,-0.014849999999999992,-0.007480384615384613,-0.04214615384615385,0.010221153846153805,-0.009519230769230754,0.030257692307692322,0.00040769230769230975,2.559438461538461,-0.03481730769230768,-2.578071153846153,-0.04310384615384619,-0.10695574999999995,-0.08434903846153849,0.015328846153846122,-0.21370693249999992,-0.021311538461538458,0.01912499999999997,-0.02090576923076925,-0.5629618192307693,-2.4728173076923077,-1.4692901923076922,-1.8685861192307687,-2.4102884615384617,-2.7282038461538463,-0.01534230769230771,0.0022961538461538067,0.018386538461538433,-2.2877078846153847,-0.023175769230769208,-0.02374423076923079,2.21244423076923,-2.1241000000000003,2.360688461538462,0.010213461538461498,0.037567307692307664,0.004644230769230804,2.2579499999999997,-0.013732692307692303,-0.2850709038461537,-0.026082692307692293,-1.295851730769231,-0.7802782692307692,-0.24894423076923078,-0.08623846153846156,0.03278131627499998,-0.019103846153846152,-0.017340384615384605,-0.010943269230769215,-0.002728846153846178,2.495246153846154,-0.08200384615384615,-2.580513596153847,-1.9367583076923092,-0.02241538461538458,-2.4994266673076924,-0.1573527305769231,0.013730686788461548,-0.05055961538461541,-2.1870346153846145,-0.030575000000000015,-0.09614178980769236,-0.13984423076923078,-0.04700804788019229,-1.3925634615384612,-0.02740605096153846,-3.242432692307692,-3.486562586538462,-1.2668946153846155,-0.3228976923076922,-0.06442269230769229,-3.015091500000001,-0.14020576923076924,0.006978269230769236,0.022084615384615442,-2.3952903846153846,-0.006780769230769227,0.012605769230769217,-0.010826923076923105,0.013650000000000023,-0.0530692307692308,0.13533076923076928,0.3048730769230768,-0.004832692307692307,-0.00911153846153846,0,0,0,0,0.18490000000000004,-0.00925769230769231,0,-0.008696153846153845,-0.025708846153846162],\"type\":\"scatter\"},{\"name\":\"MCV1900416\",\"x\":[333,334,335,336,337,338,339,340,341,342,343,344,345,346,347,348,349,350,351,352,353,354,355,356,357,358,359,360,361,362,363,364,365,366,367,368,369,370,371,372,373,374,375,376,377,378,379,380,381,382,383,384,385,386,387,388,389,390,391,392,393,394,395,396,397,398,399,400,401,402,403,404,405,406,407,408,409,410,411,412,413,414,415,416,417,418,419,420,421,422,423,424,425,426,427,428,429,430,431,432,433,434,435,436,437,438,439,440,441,442,443,444,445,446,447,448,449,450,451,452,453,454,455,456,457,458,459,460,461,462,463,464,465,466,467,468,469,470,471,472,473,474,475,476,477,478,479,480,481,482,483,484,485,486,487,488,489,490,491,492,493,494,495,496,497,498,499,500,501,502,503,504,505,506,507,508,509,510,511,512,513,514,515,516,517,518,519,520,521,522,523,524,525,526,527],\"y\":[0.2102057692307694,-0.15190769230769227,-0.03715192307692303,-0.062396153846153865,0.019837692307692313,0.041180769230769215,0.14416923076923077,1.4029903846153846,0.018690384615384602,0.02036538461538461,0.018101923076923078,0.019992307692307695,0.021778846153846183,-2.1840653846153844,0.0034365384615384375,0.02232115384615383,-0.011303846153846173,-0.03290769230769234,-0.021832692307692268,-0.016649999999999995,-0.040870769230769224,0.0030865384615384847,-1.8990192307692308,-1.7105424999999999,-0.19614038461538463,0.014986538461538464,0.17210769230769232,0,-0.004957692307692306,-0.0025384615384615385,-0.11357692307692308,1.3954038461538463,0.13863269230769235,0.03037192307692305,0.03887500000000001,0.01242115384615384,0.018807692307692307,0.027076923076923075,0.000239423076923089,-0.00512499999999998,0.007357115384615356,-0.001076923076923078,-0.00531923076923076,-0.0016557692307692406,0.0060096153846153355,-2.3414825,0.015505769230769248,-0.011599999999999989,-0.07218057692307693,0.04723846153846155,0.13588749999999997,-0.07289865384615382,0.10169615384615384,-0.514968846153846,-0.006173076923076934,-0.005075000000000001,-0.002034615384615387,0.028253846153846154,0,-0.04147884615384616,0.18490000000000004,0.054575000000000005,-0.11451346153846155,0.09041923076923078,0.013609615384615394,2.034209615384615,-0.004861153846153825,-0.012917307692307704,-0.0008057692307692146,-0.021567307692307698,-3.313859615384616,-0.028545000000000025,3.037540384615385,2.978849999999999,-0.02083269230769231,-2.860957692307693,-0.034613461538461544,-0.008499999999999987,0.014930769230769235,0.027986346153846122,0.02160711538461535,0.009248076923076907,0.017505769230769224,-0.044104999999999984,-0.11962115384615381,-0.030346153846153818,-0.03025576923076925,2.706848076923077,-0.019011538461538427,-0.044788461538461506,0.022923076923076966,-2.5358365384615382,0.019498076923076927,0.01898230769230771,2.359798076923077,2.1649769230769236,-0.0017769230769230733,0.029032692307692287,0.0007984615384615363,-0.006582692307692311,-0.00911346153846156,0.005544230769230782,-0.014573076923076937,-0.004621730769230755,-0.0479576923076923,-0.020521153846153852,0.003115384615384631,0.018821153846153856,0.0006730769230769387,2.442932692307692,-0.03402884615384611,-2.4638865384615376,-0.07668461538461542,-0.40531856538461536,-0.1957988653846154,0.019896153846153914,-0.4717187711153847,-0.014138461538461523,0.023471153846153874,-0.019307692307692324,-0.3593973732692307,-2.4220634615384613,-1.577767653846154,-1.9749989230769234,-2.377096153846154,-2.7423711538461535,-0.015938461538461547,-0.012021153846153794,0.016638461538461543,-2.222710961538461,-0.014204807692307721,-0.0046884615384615155,2.1632692307692305,-2.075363461538462,2.3320500000000006,0.00905961538461534,0.03031346153846154,0.006934615384615355,2.2794403846153846,-0.01845769230769234,-0.4192891923076924,-0.23998269230769242,-1.8317269230769226,-0.5812922692307692,-0.2268826923076923,-0.24881923076923068,0.0148283511153846,-0.013723076923076914,-0.004594230769230767,0.02383807692307693,0.015271153846153851,-3.2105288461538466,-0.02858142307692305,-2.739299596153846,-1.8699048076923075,-0.025863461538461554,-3.7594915096153843,-0.6922791153846153,-0.07977557884615383,-0.36157307692307705,-3.1577851923076925,-0.08949999999999997,-0.1691004865384615,-0.33343982692307694,-0.04617729109615386,-1.6439626923076922,-0.007870366134615371,-1.6548211538461535,-2.454739238461538,-0.32235369230769234,-0.020563461538461496,-0.044744615384615376,-2.3152853846153842,-0.08334999999999998,0.00018557692307692613,0.01869615384615384,-2.2841980769230767,-0.0074423076923076795,0.014321153846153827,-0.01014615384615383,0.014788461538461512,-0.03800096153846154,0.19937307692307688,0.6386461538461538,-0.04216538461538461,0,0,0,0,0,0.18490000000000004,0,0.03956346153846154,-0.013795576923076923,-0.04343461538461539],\"type\":\"scatter\"},{\"name\":\"MCV1900417\",\"x\":[333,334,335,336,337,338,339,340,341,342,343,344,345,346,347,348,349,350,351,352,353,354,355,356,357,358,359,360,361,362,363,364,365,366,367,368,369,370,371,372,373,374,375,376,377,378,379,380,381,382,383,384,385,386,387,388,389,390,391,392,393,394,395,396,397,398,399,400,401,402,403,404,405,406,407,408,409,410,411,412,413,414,415,416,417,418,419,420,421,422,423,424,425,426,427,428,429,430,431,432,433,434,435,436,437,438,439,440,441,442,443,444,445,446,447,448,449,450,451,452,453,454,455,456,457,458,459,460,461,462,463,464,465,466,467,468,469,470,471,472,473,474,475,476,477,478,479,480,481,482,483,484,485,486,487,488,489,490,491,492,493,494,495,496,497,498,499,500,501,502,503,504,505,506,507,508,509,510,511,512,513,514,515,516,517,518,519,520,521,522,523,524,525,526,527],\"y\":[0.18490000000000004,0,-0.02709615384615385,0.04675000000000001,0.09738846153846155,0.11354423076923079,0.12771999999999997,1.0212961538461536,0.052957692307692324,0.0507423076923077,0.06921346153846152,0.030165384615384625,0.03542692307692305,-2.149309615384616,0.0020961538461538717,0.025865384615384623,-0.010107692307692283,-0.03258461538461542,-0.01760961538461538,-0.02032692307692304,-0.044793269230769234,0.03423461538461538,-2.3774192307692306,-1.0392324999999998,-0.21301538461538458,0.0018019230769230675,0.1997442307692309,0,0,0,-0.09169615384615383,1.063032692307692,0.2203923076923077,0.11851653846153844,0.0371307692307692,0.021132692307692293,0.08253076923076927,0.015742307692307667,0.017813461538461504,0.020951923076923062,0.020540961538461557,0.002832692307692299,-0.005042307692307692,-0.004173076923076942,0.011990384615384597,-2.565830769230769,0.012046153846153809,-0.011044230769230749,-0.005364615384615406,0.01586923076923075,-0.009419038461538444,-0.09767480769230769,0.005730769230769255,-1.0503180769230769,-0.029467307692307675,-0.09763846153846156,0.47624230769230774,0.04104423076923078,0.016128846153846153,-0.05647307692307693,0.1777826923076923,-0.03729230769230769,-0.1850096153846154,0.0988557692307692,-0.00999038461538463,2.146888461538462,-0.008167115384615398,-0.011538461538461556,-0.0022403846153845907,-0.022175000000000004,-3.5735192307692327,-0.028865576923076935,3.2282500000000005,3.0876980769230764,-0.019448076923076933,-2.940490384615385,-0.029928846153846132,-0.006725000000000054,0.009757692307692335,0.024634999999999987,0.0160967307692308,-0.008390384615384609,0.01818076923076924,-0.0408271153846154,-0.15803076923076922,-0.032700000000000014,-0.031100000000000003,2.778375,-0.02168287307692312,-0.05137500000000005,0.02480192307692307,-2.638551923076923,0.015442307692307679,0.013102499999999954,2.543578846153846,2.34725576923077,0.006090384615384587,-0.00123269230769233,0.011897692307692307,-0.009026923076923082,-0.007375000000000042,0.007211538461538462,-0.011744230769230778,-0.0038751923076923134,-0.04290769230769233,-0.02967692307692305,-0.027221153846153825,0.01434615384615385,-0.0022788461538461547,2.487976923076923,-0.03275576923076921,-2.474886538461538,-0.03320192307692309,-0.05987749999999999,-0.06953565384615386,0.01815192307692305,-0.1932840792307691,-0.01440384615384613,0.017388461538461516,-0.013571153846153833,-0.4665528124999999,-2.4450942307692305,-1.4208280769230772,-1.7307784173076923,-2.4257000000000004,-2.7735326923076906,-0.01538076923076925,-0.006538461538461527,0.016363461538461545,-2.340352115384615,-0.020352115384615364,-0.019950000000000016,2.249111538461538,-2.0666769230769226,2.3574942307692304,0.011757692307692306,0.03627307692307694,-6.730769230767635e-05,2.236715384615384,-0.009761538461538485,-0.33129317307692313,-0.044521153846153835,-1.6123938999999998,-1.321976730769231,-1.3664557692307695,-0.6289326923076921,-0.00648313551923076,-0.04762500000000003,0.014194230769230782,0.02364250000000001,-0.006053846153846123,-2.6276615384615383,-0.03886826923076925,-2.5373763788461545,-1.9497288461538458,-0.01700769230769233,-2.376884551923076,-0.20259352917307683,0.00325214856634613,-0.0752711538461539,-1.9810780769230765,-0.002026923076923084,-0.09627970825769235,-0.12116849999999998,-0.03143722883653845,-0.8733467307692304,0.006288164230769188,-1.9877576923076932,-3.1463366153846155,-0.8235831730769226,-0.27037307692307694,-0.07105019230769236,-2.387498438461539,-0.08548269230769229,0.0008334615384615415,0.017140384615384568,-2.3253980769230767,-0.008421153846153875,0.016271153846153814,-0.012884615384615364,0.028976923076923067,-0.15095307692307694,0.16787499999999997,0.8193634615384615,-0.19676730769230769,0.14075192307692308,-0.02644999999999999,0,0,0,0.18203076923076927,-0.009959615384615384,0,0,0.008767307692307696],\"type\":\"scatter\"},{\"name\":\"MCV1900418\",\"x\":[333,334,335,336,337,338,339,340,341,342,343,344,345,346,347,348,349,350,351,352,353,354,355,356,357,358,359,360,361,362,363,364,365,366,367,368,369,370,371,372,373,374,375,376,377,378,379,380,381,382,383,384,385,386,387,388,389,390,391,392,393,394,395,396,397,398,399,400,401,402,403,404,405,406,407,408,409,410,411,412,413,414,415,416,417,418,419,420,421,422,423,424,425,426,427,428,429,430,431,432,433,434,435,436,437,438,439,440,441,442,443,444,445,446,447,448,449,450,451,452,453,454,455,456,457,458,459,460,461,462,463,464,465,466,467,468,469,470,471,472,473,474,475,476,477,478,479,480,481,482,483,484,485,486,487,488,489,490,491,492,493,494,495,496,497,498,499,500,501,502,503,504,505,506,507,508,509,510,511,512,513,514,515,516,517,518,519,520,521,522,523,524,525,526,527],\"y\":[0.19380769230769238,0.00973076923076923,0.026246153846153832,0.006571153846153853,0.10232423076923076,0.06212307692307692,0.1514919230769231,1.0731653846153841,0.0566673076923077,0.022646153846153847,0.0708326923076923,0.021603846153846154,0.029026923076923103,-2.166663461538461,0.0044730769230769,0.02631346153846152,-0.01290769230769229,-0.033396153846153825,-0.01979230769230764,-0.01960769230769232,-0.04745942307692309,0.01427884615384613,-1.9847788461538458,-1.5040805769230763,-0.14985769230769233,-0.03588269230769232,0.19509615384615392,0.016361538461538462,-0.011638461538461533,0.10522499999999999,-0.026723076923076943,1.198042307692308,0.009698076923076945,0.07981115384615384,0.0694346153846154,0.009113461538461532,0.01669615384615383,0.02197499999999999,-0.029843076923076896,-0.00012307692307692234,0.013869038461538445,0.0004057692307692117,-0.0009442307692307506,-0.003605769230769218,0.01024230769230765,-2.5057653846153847,0.01640576923076926,-0.017084615384615323,-0.01271384615384617,0.017513461538461523,-0.02407384615384616,0.09232538461538463,0.0032288461538461486,-0.6326007692307692,0.03603076923076924,7.884615384615424e-05,0,-0.06945576923076922,0,-0.043376923076923084,0.18490000000000004,-0.03967307692307693,-0.17259615384615387,0.037673076923076934,-0.011340384615384592,2.1037673076923076,-0.00853365384615387,-0.01402500000000001,-0.00047499999999997756,-0.026773076923076924,-3.657257692307691,-0.026776346153846147,3.2153903846153833,3.145024999999999,-0.01898269230769234,-2.968615384615385,-0.035384615384615375,-0.008309615384615384,0.013078846153846165,0.03048461538461537,0.02273288461538457,0.009221153846153886,0.011711538461538443,-0.04315596153846156,-0.11659230769230769,-0.02964038461538462,-0.03398269230769229,2.8800250000000003,-0.026500240384615334,-0.05530576923076921,0.029592307692307678,-2.678251923076922,0.02310961538461538,0.019151730769230785,2.5636134615384614,2.238048076923076,0.004421153846153857,0.010509615384615404,0.014113461538461537,-0.007296153846153837,-0.006499999999999972,0.008436538461538485,-0.013617307692307705,0.0015836538461538618,-0.04801538461538457,-0.014898076923076846,-0.013944230769230766,0.013911538461538472,-0.0034365384615384544,2.431776923076923,-0.030099999999999967,-2.4230500000000004,-0.031848076923076944,-0.05762865384615383,-0.06464423076923077,0.027382692307692323,-0.16717194887115386,-0.006859615384615381,0.02436923076923078,-0.013157692307692256,-0.8775118715384616,-2.48815,-1.4776928846153845,-1.9163432346153846,-2.488917307692307,-4.660482692307693,-0.006105769230769216,-0.01964423076923076,0.01851153846153843,-2.3350455769230765,-0.02469057692307695,-0.024513461538461546,2.269546153846154,-2.099619230769231,2.398342307692308,0.009728846153846124,0.039480769230769215,0.005655769230769257,2.2937326923076915,-0.011530769230769242,-1.9507481346153848,-0.28509615384615383,-1.8215478846153845,-0.9115736538461541,-0.11825384615384617,-0.011992307692307682,-0.07385171151923078,-0.06190192307692307,0.009851923076923083,-0.0001857500000000059,-0.1402601923076923,-2.6242826923076916,-0.24922826923076924,-2.661468128846153,-1.263863461538461,-1.2573074230769232,-3.652125153846154,-0.40981425384615383,-0.024609621423076933,-0.11935192307692308,-2.5233438461538458,-0.1518653846153846,-0.1593205092884616,-0.12979065384615388,-0.01844659217307696,-0.7993884615384613,0.029148975173076942,-1.194575,-3.344172375,-0.4371574807692306,-0.11757307692307693,-0.05725192307692306,-2.092819557692307,-0.06222307692307695,-0.0002742307692307638,0.008401923076923092,-2.2688615384615387,-0.009730769230769218,0.016013461538461525,-0.01409999999999998,0.03993461538461537,-0.045550384615384604,0.21856346153846157,0.9328596153846155,-0.07627692307692308,-0.012478846153846155,0,0,0,0,0.18490000000000004,-0.00021923076923076963,0.016874999999999998,-0.0029557692307692297,-0.01773673076923077],\"type\":\"scatter\"},{\"name\":\"MCV1900422\",\"x\":[333,334,335,336,337,338,339,340,341,342,343,344,345,346,347,348,349,350,351,352,353,354,355,356,357,358,359,360,361,362,363,364,365,366,367,368,369,370,371,372,373,374,375,376,377,378,379,380,381,382,383,384,385,386,387,388,389,390,391,392,393,394,395,396,397,398,399,400,401,402,403,404,405,406,407,408,409,410,411,412,413,414,415,416,417,418,419,420,421,422,423,424,425,426,427,428,429,430,431,432,433,434,435,436,437,438,439,440,441,442,443,444,445,446,447,448,449,450,451,452,453,454,455,456,457,458,459,460,461,462,463,464,465,466,467,468,469,470,471,472,473,474,475,476,477,478,479,480,481,482,483,484,485,486,487,488,489,490,491,492,493,494,495,496,497,498,499,500,501,502,503,504,505,506,507,508,509,510,511,512,513,514,515,516,517,518,519,520,521,522,523,524,525,526,527],\"y\":[0.18490000000000004,0,-0.03734038461538462,0.054546153846153834,0.10459557692307694,0.024849999999999987,0.022133653846153838,1.6064538461538462,0.01786923076923077,0.021942307692307705,0.022080769230769216,0.021984615384615356,0.024628846153846154,-2.2220942307692306,0.0021692307692307397,0.022157692307692285,-0.011301923076923074,-0.034646153846153833,-0.02457115384615384,-0.018884615384615364,-0.04612442307692306,0.003759615384615378,-1.9873980769230768,-1.3780292307692306,-0.2577903846153846,-0.05480192307692307,0.18490000000000004,0,0,0.03378076923076923,-0.09465961538461538,1.6766423076923074,0.28523461538461536,0.025833461538461538,0.018207692307692272,0.02056153846153845,0.04891538461538463,0.010740384615384548,0.013075769230769255,0.02039999999999998,0.019758653846153832,0.002936538461538467,0.0002634615384615308,-0.003453846153846145,0.012805769230769207,-2.5125892307692315,0.013996153846153851,-0.015319230769230778,-0.012752884615384603,0.02773461538461537,-0.015889807692307682,-0.014662115384615383,-0.003530769230769237,-1.5110059615384621,-0.07175769230769229,0.12119807692307692,0.035890384615384616,-0.08403269230769231,0,-0.04741730769230769,0.18490000000000004,0.06527307692307693,-0.24455192307692306,0.16672115384615382,-0.008938461538461564,2.079588461538462,-0.007943076923076938,-0.011100000000000016,-0.00458846153846152,-0.016803846153846152,-3.4864673076923087,-0.023518461538461526,3.149746153846154,3.0319576923076927,-0.02165384615384613,-2.919330769230769,-0.028248076923076862,-0.006403846153846153,0.009346153846153829,0.03334692307692306,0.013902500000000005,0.0016115384615384548,0.018755769230769256,-0.04172115384615383,-5.332051923076921,-0.030803846153846178,-0.034840384615384606,2.7922749999999996,-0.0311578158269231,-0.049684615384615355,0.02697115384615384,-2.5709884615384615,0.01960961538461539,0.02016615384615383,2.411088461538461,2.1950307692307693,0.0023173076923076828,-0.002855769230769224,0.007919230769230744,-0.010719230769230769,-0.0062384615384615556,0.005282692307692281,-0.011761538461538478,-0.005916153846153887,-0.03709999999999998,0.002428846153846181,-0.020036538461538432,0.003811538461538503,0.002455769230769259,2.502538461538461,-0.02658461538461538,-2.5583692307692307,-0.03748653846153848,-0.04855192307692308,-0.04963788461538462,0.01560192307692307,-0.36427445932692315,-0.007519230769230756,0.013023076923076927,-0.016300000000000002,-0.9958802613461537,-2.437515384615385,-1.3511084615384616,-2.075795386538462,-2.3676480769230777,-2.8414634615384617,-0.019673076923076897,-0.0206384615384615,0.020575000000000003,-2.1830042307692312,-0.021033076923076936,-0.019375,2.162946153846154,-2.1041423076923076,2.3251942307692306,0.010273076923076914,0.030926923076923043,0.0037557692307692613,2.225771153846154,-0.013819230769230794,-0.35261780769230777,-0.021538461538461524,-0.9882151923076928,-0.8379253461538462,-0.2417653846153847,-0.10446923076923074,0.028093176134615393,0.00027884615384612314,-0.010515384615384623,-0.018248269230769207,-0.4406619230769231,-5.038957884615384,-0.11878955769230772,-2.866528615384616,-1.88361423076923,-0.017936538461538483,-2.5120042057692307,-0.11320613076923072,0.019361229532692315,-0.07635769230769231,-2.4409975000000013,-0.06741153846153844,-0.11077601369230766,-0.10852139230769234,-0.028284793931153865,-0.7717942307692307,-0.03314663847307692,-3.043694230769231,-3.786809396153845,-1.359866153846154,-0.372125,-0.05237942307692309,-3.2237151365384618,-0.08479999999999999,0.0015567232249999923,0.0098461538461538,-2.344446153846154,-0.008171153846153835,0.014269230769230777,-0.011865384615384627,0.01660769230769234,-0.00835096153846155,0.07055576923076926,0.5983923076923078,-0.08940961538461537,0,0,0,0,0,0.18490000000000004,-0.01173076923076923,0,0,0.010634615384615383],\"type\":\"scatter\"},{\"name\":\"MCV1900423\",\"x\":[333,334,335,336,337,338,339,340,341,342,343,344,345,346,347,348,349,350,351,352,353,354,355,356,357,358,359,360,361,362,363,364,365,366,367,368,369,370,371,372,373,374,375,376,377,378,379,380,381,382,383,384,385,386,387,388,389,390,391,392,393,394,395,396,397,398,399,400,401,402,403,404,405,406,407,408,409,410,411,412,413,414,415,416,417,418,419,420,421,422,423,424,425,426,427,428,429,430,431,432,433,434,435,436,437,438,439,440,441,442,443,444,445,446,447,448,449,450,451,452,453,454,455,456,457,458,459,460,461,462,463,464,465,466,467,468,469,470,471,472,473,474,475,476,477,478,479,480,481,482,483,484,485,486,487,488,489,490,491,492,493,494,495,496,497,498,499,500,501,502,503,504,505,506,507,508,509,510,511,512,513,514,515,516,517,518,519,520,521,522,523,524,525,526,527],\"y\":[0.12395576923076922,-0.008798076923076924,0.01637307692307692,0.036825000000000004,-0.03073557692307694,0.010244230769230743,0.046869807692307676,1.4534846153846155,0.01802500000000002,0.023434615384615422,0.01861923076923069,0.035621153846153844,0.032690384615384614,-2.2428846153846154,0.000848076923076945,0.027850000000000003,-0.012409615384615397,-0.03679038461538462,-0.027324999999999974,-0.02046346153846152,-0.04039384615384613,0.03909999999999998,-1.815490384615385,-1.6155978846153851,-0.9082538461538461,0.01705192307692306,0.09474461538461536,0.016811538461538468,-0.02321346153846154,0.05025961538461542,0.057919230769230765,1.6028134615384615,0.011792307692307692,0.09490615384615388,0.03961346153846157,0.018884615384615406,0.026848076923076947,0.024861538461538456,0.018367307692307707,0.016559615384615367,0.01633076923076919,0.0008346153846153695,-0.0012999999999999722,-0.005736538461538458,0.013748076923076894,-2.5693596153846148,0.01417499999999999,-0.010428846153846143,0.01083980769230769,0.02327692307692306,-0.08549173076923076,0.04832442307692307,0.055069230769230766,-1.6050409615384607,-0.010894230769230776,0.016799999999999985,0.458998076923077,-0.10074999999999999,0.022976923076923082,-0.022630769230769236,0.1008980769230769,0.047963461538461476,-0.010182692307692306,0.10460192307692308,-0.006090384615384604,1.9913865384615383,0.012826923076923069,-0.012798076923076914,-0.0039211538461538286,-0.020750000000000005,-3.5596865384615386,-0.029512500000000004,3.258911538461538,3.174011538461538,-0.024051923076923058,-3.0156134615384613,-0.027261538461538483,-0.0071365384615384615,0.014034615384615406,0.03228192307692307,0.02491923076923078,0.004692307692307688,0.019015384615384642,-0.049298269230769215,-5.286128846153849,-0.036034615384615394,-0.03734038461538463,2.853007692307692,-0.03677918201346157,-0.05748461538461537,0.029142307692307665,-2.6782788461538463,0.02195961538461537,0.024781346153846157,2.5312115384615383,2.0881769230769227,0.004838461538461531,-0.033726923076923085,0.009450192307692324,-0.00797884615384616,-0.007613461538461567,0.004824999999999939,-0.01281923076923077,-0.003952115384615416,-0.04852307692307689,0.012401923076923104,-0.003136538461538505,0.028749999999999977,-0.0021326923076923207,2.5542769230769227,-0.036882692307692325,-2.5565846153846152,-0.03903076923076923,-0.11112740384615388,-0.08866480769230768,0.015680769230769234,-0.5726839820000001,-0.015705769230769225,0.02189615384615379,-0.018396153846153864,-0.5709423826923077,-2.5006519230769237,-1.5081232692307687,-2.005808090384616,-2.449201923076923,-3.068634615384615,-0.02444999999999997,-0.001309615384615394,0.017184615384615406,-2.1579411538461533,-0.02450365384615386,-0.03447884615384616,2.175180769230769,-2.082484615384615,2.384230769230769,0.009936538461538495,0.0434076923076923,0.0018173076923076886,2.270030769230769,-0.010323076923076909,-0.4246843269230769,-0.026728846153846117,-1.4781719230769232,-0.835799384615385,-0.4365307692307694,-0.06737884615384618,-0.010615733384615385,0.004375000000000035,0.016688461538461534,0.0037896153846154104,0.006544230769230761,-2.395265384615385,-0.019833500000000018,-2.357925401923077,-1.7842250000000004,-0.01925192307692308,-2.4445604211538456,-0.08997634465384617,0.026655444096153818,-0.04257307692307694,-2.0258882692307685,0.012126923076923117,-0.1064489419038461,-0.16196982692307696,-0.04507508957692305,-1.2016384615384617,-0.03970871659807694,-3.5472961538461543,-3.6598864634615373,-1.2764625000000005,-0.17285038461538463,-0.0731515384615384,-3.291912036538461,-0.11622307692307689,0.003779935942307697,0.019461538461538506,-2.3918250000000003,-0.010680769230769242,0.016836538461538455,-0.013176923076923124,0.07998076923076919,-0.037225,0.03898653846153842,0.9293865384615384,-0.05507884615384614,0.015525000000000014,0.03761519230769229,0.009832692307692308,0.004221923076923071,-0.02565576923076923,0.17046480769230768,0.0008882692307692369,-0.0036865384615384633,0.008941538461538464,-0.00478173076923076],\"type\":\"scatter\"},{\"name\":\"MCV1900424\",\"x\":[333,334,335,336,337,338,339,340,341,342,343,344,345,346,347,348,349,350,351,352,353,354,355,356,357,358,359,360,361,362,363,364,365,366,367,368,369,370,371,372,373,374,375,376,377,378,379,380,381,382,383,384,385,386,387,388,389,390,391,392,393,394,395,396,397,398,399,400,401,402,403,404,405,406,407,408,409,410,411,412,413,414,415,416,417,418,419,420,421,422,423,424,425,426,427,428,429,430,431,432,433,434,435,436,437,438,439,440,441,442,443,444,445,446,447,448,449,450,451,452,453,454,455,456,457,458,459,460,461,462,463,464,465,466,467,468,469,470,471,472,473,474,475,476,477,478,479,480,481,482,483,484,485,486,487,488,489,490,491,492,493,494,495,496,497,498,499,500,501,502,503,504,505,506,507,508,509,510,511,512,513,514,515,516,517,518,519,520,521,522,523,524,525,526,527],\"y\":[0.10344038461538457,0.12909230769230773,-0.08003653846153845,0.12765,0.13716961538461542,0.0697596153846154,0.10988692307692312,1.241301923076923,0.03574230769230773,0.024926923076923076,0.03518846153846149,0.025324999999999993,0.025096153846153782,-2.248807692307692,0.0009442307692307763,0.025007692307692345,-0.016148076923076956,-0.04315961538461541,-0.019507692307692295,-0.02095192307692304,-0.052000192307692324,0.013392307692307676,-1.7132769230769231,-0.9700132692307692,0.011663461538461543,-0.037596153846153835,0.17448846153846154,0,-0.029190384615384625,0.1331673076923077,0.14536153846153846,1.5594769230769232,0.024094230769230764,0.010348461538461563,0.04860576923076921,0.0095673076923077,0.018374999999999975,0.02378269230769229,-0.00573807692307692,-0.009696153846153875,0.011480769230769221,-0.005080769230769256,0.0012769230769230856,-0.007238461538461514,0.012225000000000012,-2.639088461538461,0.018632692307692322,-0.013978846153846163,-0.008034615384615387,0.029653846153846135,-0.03137249999999998,0.0520825,0.05989038461538461,-1.0571601923076925,0.016686538461538468,0.02380192307692308,0.007521153846153848,-0.03644615384615384,0,-0.056401923076923086,0.18490000000000004,0.014653846153846153,-0.2644134615384615,0.06699423076923076,-0.014959615384615377,2.097992307692307,-0.009288461538461523,-0.012059615384615372,-0.00773846153846157,-0.021271153846153842,-3.8166153846153845,-0.03329288461538465,3.432657692307691,3.3201673076923077,-0.025761538461538443,-3.1858326923076916,-0.050190384615384644,-0.00847500000000001,0.016761538461538453,0.035028076923076946,0.02797826923076924,-0.01555576923076926,0.025155769230769284,-0.0679076923076923,-5.910288461538463,-0.03998076923076922,-0.04505576923076921,2.96478076923077,-0.04887360319038465,-0.06613653846153845,0.03339038461538459,-2.673767307692308,0.023367307692307698,0.02460211538461538,2.498375,2.1532673076923072,0.0033230769230769308,0.006363461538461511,0.008658076923076909,-0.009076923076923111,-0.006263461538461541,0.005282692307692281,-0.01460769230769231,-0.005375961538461572,-0.0574365384615385,0.011378846153846147,-0.01712307692307691,0.008590384615384595,-0.004671153846153866,2.5863980769230768,-0.03186923076923081,-2.5878461538461535,-0.03450769230769227,-0.045802307692307684,-0.062243269230769234,0.02181730769230765,-0.20603015901730765,-0.010909615384615323,0.015851923076923048,-0.016736538461538435,-0.7162802442307691,-2.4837153846153845,-1.4334999999999998,-2.0889987115384616,-2.4316673076923077,-2.546553846153846,-0.009425000000000017,-0.009826923076923084,0.017884615384615388,-2.2165113461538466,-0.027738461538461566,-0.02125961538461541,2.207626923076923,-2.1409057692307694,2.3713288461538458,0.011274999999999983,0.04853846153846154,0.0004057692307692117,2.273017307692307,-0.012709615384615385,-0.3603667307692308,-0.015899999999999935,-1.3436353846153846,-0.8745010576923078,-0.2774307692307692,-0.14866153846153848,-0.025254045605769236,-0.009484615384615348,-0.01428653846153848,0.004217307692307702,-0.09923653846153847,-3.956873076923076,0.003541346153846159,-2.2179861019230778,-1.8343168653846147,-0.013801923076923102,-2.3125251192307688,-0.12354989038461535,0.02251852488461537,-0.07081730769230767,-2.176300000000001,-0.023150000000000004,-0.1455815195961538,-0.08041057692307693,-0.044819176673076916,-1.015826923076923,-0.005325938461538453,-3.448136538461538,-3.597855826923077,-1.2530755769230773,-0.12284884615384614,-0.06988249999999999,-3.495349403846154,-0.12090769230769223,0.00984874221153844,0.02422692307692311,-2.4121711538461543,-0.01036346153846156,0.018907692307692327,-0.013596153846153869,0.016115384615384615,-0.15951384615384623,0.2928961538461539,0.047646153846153845,-0.016486538461538462,0,0,0,0,0,0.18490000000000004,-0.006115384615384616,0.016834615384615385,-0.09126807692307694,-0.026309807692307688],\"type\":\"scatter\"}],                        {\"shapes\":[{\"line\":{\"dash\":\"dash\",\"width\":1},\"type\":\"line\",\"x0\":501,\"x1\":501,\"xref\":\"x\",\"y0\":3.4996730769230764,\"y1\":-5.910288461538463,\"yref\":\"y\"}],\"title\":{\"text\":\"Energies analyses from all Y501 simulations together\"},\"xaxis\":{\"title\":{\"text\":\"Residues\"}},\"yaxis\":{\"title\":{\"text\":\"Electrostatic + VdW energy (kcal/mol)\"}},\"template\":{\"data\":{\"histogram2dcontour\":[{\"type\":\"histogram2dcontour\",\"colorbar\":{\"outlinewidth\":0,\"ticks\":\"\"},\"colorscale\":[[0.0,\"#0d0887\"],[0.1111111111111111,\"#46039f\"],[0.2222222222222222,\"#7201a8\"],[0.3333333333333333,\"#9c179e\"],[0.4444444444444444,\"#bd3786\"],[0.5555555555555556,\"#d8576b\"],[0.6666666666666666,\"#ed7953\"],[0.7777777777777778,\"#fb9f3a\"],[0.8888888888888888,\"#fdca26\"],[1.0,\"#f0f921\"]]}],\"choropleth\":[{\"type\":\"choropleth\",\"colorbar\":{\"outlinewidth\":0,\"ticks\":\"\"}}],\"histogram2d\":[{\"type\":\"histogram2d\",\"colorbar\":{\"outlinewidth\":0,\"ticks\":\"\"},\"colorscale\":[[0.0,\"#0d0887\"],[0.1111111111111111,\"#46039f\"],[0.2222222222222222,\"#7201a8\"],[0.3333333333333333,\"#9c179e\"],[0.4444444444444444,\"#bd3786\"],[0.5555555555555556,\"#d8576b\"],[0.6666666666666666,\"#ed7953\"],[0.7777777777777778,\"#fb9f3a\"],[0.8888888888888888,\"#fdca26\"],[1.0,\"#f0f921\"]]}],\"heatmap\":[{\"type\":\"heatmap\",\"colorbar\":{\"outlinewidth\":0,\"ticks\":\"\"},\"colorscale\":[[0.0,\"#0d0887\"],[0.1111111111111111,\"#46039f\"],[0.2222222222222222,\"#7201a8\"],[0.3333333333333333,\"#9c179e\"],[0.4444444444444444,\"#bd3786\"],[0.5555555555555556,\"#d8576b\"],[0.6666666666666666,\"#ed7953\"],[0.7777777777777778,\"#fb9f3a\"],[0.8888888888888888,\"#fdca26\"],[1.0,\"#f0f921\"]]}],\"heatmapgl\":[{\"type\":\"heatmapgl\",\"colorbar\":{\"outlinewidth\":0,\"ticks\":\"\"},\"colorscale\":[[0.0,\"#0d0887\"],[0.1111111111111111,\"#46039f\"],[0.2222222222222222,\"#7201a8\"],[0.3333333333333333,\"#9c179e\"],[0.4444444444444444,\"#bd3786\"],[0.5555555555555556,\"#d8576b\"],[0.6666666666666666,\"#ed7953\"],[0.7777777777777778,\"#fb9f3a\"],[0.8888888888888888,\"#fdca26\"],[1.0,\"#f0f921\"]]}],\"contourcarpet\":[{\"type\":\"contourcarpet\",\"colorbar\":{\"outlinewidth\":0,\"ticks\":\"\"}}],\"contour\":[{\"type\":\"contour\",\"colorbar\":{\"outlinewidth\":0,\"ticks\":\"\"},\"colorscale\":[[0.0,\"#0d0887\"],[0.1111111111111111,\"#46039f\"],[0.2222222222222222,\"#7201a8\"],[0.3333333333333333,\"#9c179e\"],[0.4444444444444444,\"#bd3786\"],[0.5555555555555556,\"#d8576b\"],[0.6666666666666666,\"#ed7953\"],[0.7777777777777778,\"#fb9f3a\"],[0.8888888888888888,\"#fdca26\"],[1.0,\"#f0f921\"]]}],\"surface\":[{\"type\":\"surface\",\"colorbar\":{\"outlinewidth\":0,\"ticks\":\"\"},\"colorscale\":[[0.0,\"#0d0887\"],[0.1111111111111111,\"#46039f\"],[0.2222222222222222,\"#7201a8\"],[0.3333333333333333,\"#9c179e\"],[0.4444444444444444,\"#bd3786\"],[0.5555555555555556,\"#d8576b\"],[0.6666666666666666,\"#ed7953\"],[0.7777777777777778,\"#fb9f3a\"],[0.8888888888888888,\"#fdca26\"],[1.0,\"#f0f921\"]]}],\"mesh3d\":[{\"type\":\"mesh3d\",\"colorbar\":{\"outlinewidth\":0,\"ticks\":\"\"}}],\"scatter\":[{\"fillpattern\":{\"fillmode\":\"overlay\",\"size\":10,\"solidity\":0.2},\"type\":\"scatter\"}],\"parcoords\":[{\"type\":\"parcoords\",\"line\":{\"colorbar\":{\"outlinewidth\":0,\"ticks\":\"\"}}}],\"scatterpolargl\":[{\"type\":\"scatterpolargl\",\"marker\":{\"colorbar\":{\"outlinewidth\":0,\"ticks\":\"\"}}}],\"bar\":[{\"error_x\":{\"color\":\"#2a3f5f\"},\"error_y\":{\"color\":\"#2a3f5f\"},\"marker\":{\"line\":{\"color\":\"#E5ECF6\",\"width\":0.5},\"pattern\":{\"fillmode\":\"overlay\",\"size\":10,\"solidity\":0.2}},\"type\":\"bar\"}],\"scattergeo\":[{\"type\":\"scattergeo\",\"marker\":{\"colorbar\":{\"outlinewidth\":0,\"ticks\":\"\"}}}],\"scatterpolar\":[{\"type\":\"scatterpolar\",\"marker\":{\"colorbar\":{\"outlinewidth\":0,\"ticks\":\"\"}}}],\"histogram\":[{\"marker\":{\"pattern\":{\"fillmode\":\"overlay\",\"size\":10,\"solidity\":0.2}},\"type\":\"histogram\"}],\"scattergl\":[{\"type\":\"scattergl\",\"marker\":{\"colorbar\":{\"outlinewidth\":0,\"ticks\":\"\"}}}],\"scatter3d\":[{\"type\":\"scatter3d\",\"line\":{\"colorbar\":{\"outlinewidth\":0,\"ticks\":\"\"}},\"marker\":{\"colorbar\":{\"outlinewidth\":0,\"ticks\":\"\"}}}],\"scattermapbox\":[{\"type\":\"scattermapbox\",\"marker\":{\"colorbar\":{\"outlinewidth\":0,\"ticks\":\"\"}}}],\"scatterternary\":[{\"type\":\"scatterternary\",\"marker\":{\"colorbar\":{\"outlinewidth\":0,\"ticks\":\"\"}}}],\"scattercarpet\":[{\"type\":\"scattercarpet\",\"marker\":{\"colorbar\":{\"outlinewidth\":0,\"ticks\":\"\"}}}],\"carpet\":[{\"aaxis\":{\"endlinecolor\":\"#2a3f5f\",\"gridcolor\":\"white\",\"linecolor\":\"white\",\"minorgridcolor\":\"white\",\"startlinecolor\":\"#2a3f5f\"},\"baxis\":{\"endlinecolor\":\"#2a3f5f\",\"gridcolor\":\"white\",\"linecolor\":\"white\",\"minorgridcolor\":\"white\",\"startlinecolor\":\"#2a3f5f\"},\"type\":\"carpet\"}],\"table\":[{\"cells\":{\"fill\":{\"color\":\"#EBF0F8\"},\"line\":{\"color\":\"white\"}},\"header\":{\"fill\":{\"color\":\"#C8D4E3\"},\"line\":{\"color\":\"white\"}},\"type\":\"table\"}],\"barpolar\":[{\"marker\":{\"line\":{\"color\":\"#E5ECF6\",\"width\":0.5},\"pattern\":{\"fillmode\":\"overlay\",\"size\":10,\"solidity\":0.2}},\"type\":\"barpolar\"}],\"pie\":[{\"automargin\":true,\"type\":\"pie\"}]},\"layout\":{\"autotypenumbers\":\"strict\",\"colorway\":[\"#636efa\",\"#EF553B\",\"#00cc96\",\"#ab63fa\",\"#FFA15A\",\"#19d3f3\",\"#FF6692\",\"#B6E880\",\"#FF97FF\",\"#FECB52\"],\"font\":{\"color\":\"#2a3f5f\"},\"hovermode\":\"closest\",\"hoverlabel\":{\"align\":\"left\"},\"paper_bgcolor\":\"white\",\"plot_bgcolor\":\"#E5ECF6\",\"polar\":{\"bgcolor\":\"#E5ECF6\",\"angularaxis\":{\"gridcolor\":\"white\",\"linecolor\":\"white\",\"ticks\":\"\"},\"radialaxis\":{\"gridcolor\":\"white\",\"linecolor\":\"white\",\"ticks\":\"\"}},\"ternary\":{\"bgcolor\":\"#E5ECF6\",\"aaxis\":{\"gridcolor\":\"white\",\"linecolor\":\"white\",\"ticks\":\"\"},\"baxis\":{\"gridcolor\":\"white\",\"linecolor\":\"white\",\"ticks\":\"\"},\"caxis\":{\"gridcolor\":\"white\",\"linecolor\":\"white\",\"ticks\":\"\"}},\"coloraxis\":{\"colorbar\":{\"outlinewidth\":0,\"ticks\":\"\"}},\"colorscale\":{\"sequential\":[[0.0,\"#0d0887\"],[0.1111111111111111,\"#46039f\"],[0.2222222222222222,\"#7201a8\"],[0.3333333333333333,\"#9c179e\"],[0.4444444444444444,\"#bd3786\"],[0.5555555555555556,\"#d8576b\"],[0.6666666666666666,\"#ed7953\"],[0.7777777777777778,\"#fb9f3a\"],[0.8888888888888888,\"#fdca26\"],[1.0,\"#f0f921\"]],\"sequentialminus\":[[0.0,\"#0d0887\"],[0.1111111111111111,\"#46039f\"],[0.2222222222222222,\"#7201a8\"],[0.3333333333333333,\"#9c179e\"],[0.4444444444444444,\"#bd3786\"],[0.5555555555555556,\"#d8576b\"],[0.6666666666666666,\"#ed7953\"],[0.7777777777777778,\"#fb9f3a\"],[0.8888888888888888,\"#fdca26\"],[1.0,\"#f0f921\"]],\"diverging\":[[0,\"#8e0152\"],[0.1,\"#c51b7d\"],[0.2,\"#de77ae\"],[0.3,\"#f1b6da\"],[0.4,\"#fde0ef\"],[0.5,\"#f7f7f7\"],[0.6,\"#e6f5d0\"],[0.7,\"#b8e186\"],[0.8,\"#7fbc41\"],[0.9,\"#4d9221\"],[1,\"#276419\"]]},\"xaxis\":{\"gridcolor\":\"white\",\"linecolor\":\"white\",\"ticks\":\"\",\"title\":{\"standoff\":15},\"zerolinecolor\":\"white\",\"automargin\":true,\"zerolinewidth\":2},\"yaxis\":{\"gridcolor\":\"white\",\"linecolor\":\"white\",\"ticks\":\"\",\"title\":{\"standoff\":15},\"zerolinecolor\":\"white\",\"automargin\":true,\"zerolinewidth\":2},\"scene\":{\"xaxis\":{\"backgroundcolor\":\"#E5ECF6\",\"gridcolor\":\"white\",\"linecolor\":\"white\",\"showbackground\":true,\"ticks\":\"\",\"zerolinecolor\":\"white\",\"gridwidth\":2},\"yaxis\":{\"backgroundcolor\":\"#E5ECF6\",\"gridcolor\":\"white\",\"linecolor\":\"white\",\"showbackground\":true,\"ticks\":\"\",\"zerolinecolor\":\"white\",\"gridwidth\":2},\"zaxis\":{\"backgroundcolor\":\"#E5ECF6\",\"gridcolor\":\"white\",\"linecolor\":\"white\",\"showbackground\":true,\"ticks\":\"\",\"zerolinecolor\":\"white\",\"gridwidth\":2}},\"shapedefaults\":{\"line\":{\"color\":\"#2a3f5f\"}},\"annotationdefaults\":{\"arrowcolor\":\"#2a3f5f\",\"arrowhead\":0,\"arrowwidth\":1},\"geo\":{\"bgcolor\":\"white\",\"landcolor\":\"#E5ECF6\",\"subunitcolor\":\"white\",\"showland\":true,\"showlakes\":true,\"lakecolor\":\"white\"},\"title\":{\"x\":0.05},\"mapbox\":{\"style\":\"light\"}}}},                        {\"responsive\": true}                    ).then(function(){\n",
       "                            \n",
       "var gd = document.getElementById('4e0a6d3b-f157-40bc-89cf-763667c5bc6a');\n",
       "var x = new MutationObserver(function (mutations, observer) {{\n",
       "        var display = window.getComputedStyle(gd).display;\n",
       "        if (!display || display === 'none') {{\n",
       "            console.log([gd, 'removed!']);\n",
       "            Plotly.purge(gd);\n",
       "            observer.disconnect();\n",
       "        }}\n",
       "}});\n",
       "\n",
       "// Listen for the removal of the full notebook cells\n",
       "var notebookContainer = gd.closest('#notebook-container');\n",
       "if (notebookContainer) {{\n",
       "    x.observe(notebookContainer, {childList: true});\n",
       "}}\n",
       "\n",
       "// Listen for the clearing of the current output cell\n",
       "var outputEl = gd.closest('.output');\n",
       "if (outputEl) {{\n",
       "    x.observe(outputEl, {childList: true});\n",
       "}}\n",
       "\n",
       "                        })                };                });            </script>        </div>"
      ]
     },
     "metadata": {},
     "output_type": "display_data"
    }
   ],
   "source": [
    "# Make a plot for each group of simulations\n",
    "# Overlap all energies for each group\n",
    "simulation_groups = { 'N501': N501_simulations, 'Y501': Y501_simulations }\n",
    "# Store energies data for further use\n",
    "energies_data = { 'N501': [], 'Y501': [] }\n",
    "for group_name, simulations in simulation_groups.items():\n",
    "    # Make a scatter for each energies result\n",
    "    data = []\n",
    "    all_energies = []\n",
    "    for simulation in simulations:\n",
    "        accession = simulation['accession']\n",
    "        # Get residue indices for residues in the energies analysis\n",
    "        rbd_interaction_residues = get_interaction_residue_indices(accession)\n",
    "        # Convert residue indices to reference numeration\n",
    "        residue_reference_numbers = simulation['topology']['residue_reference_numbers']\n",
    "        rbd_interaction_residue_refs = [ residue_reference_numbers[i] for i in rbd_interaction_residues ]\n",
    "        # Get the energies data\n",
    "        energies = get_energies_data(accession)\n",
    "        # Store apart energies + interactions data for further use\n",
    "        energies_data[group_name].append({ 'energies': energies, 'residues': rbd_interaction_residues })\n",
    "        # Save all energies together\n",
    "        all_energies += energies\n",
    "        # Generate the corresponding line for the plot\n",
    "        data.append(\n",
    "            go.Scatter(\n",
    "                x = rbd_interaction_residue_refs,\n",
    "                y = energies,\n",
    "                name = accession,\n",
    "                #hovertemplate = 'Residue %{x} (%{text}): %{y:.4f}',\n",
    "                #text = residue_names,\n",
    "            )\n",
    "        )\n",
    "    # Set a vertical lines to mark the mutated residue\n",
    "    mutated_residue_x = 501\n",
    "    max_value = max(all_energies)\n",
    "    min_value = min(all_energies)\n",
    "    shapes = [{\n",
    "        'type': 'line',\n",
    "        'line':{\n",
    "            'dash': 'dash',\n",
    "            'width': 1,\n",
    "        },\n",
    "        'xref': 'x',\n",
    "        'yref': 'y',\n",
    "        'x0': mutated_residue_x,\n",
    "        'y0': max_value,\n",
    "        'x1': mutated_residue_x,\n",
    "        'y1': min_value\n",
    "    }]\n",
    "    # Show the figure of all energies overlapped\n",
    "    fig = go.Figure({\n",
    "        \"data\": data,\n",
    "        \"layout\": go.Layout(\n",
    "            title='Energies analyses from all ' + group_name + ' simulations together',\n",
    "            xaxis={'title': 'Residues'},\n",
    "            yaxis={'title': 'Electrostatic + VdW energy (kcal/mol)'},\n",
    "            shapes=shapes\n",
    "        )\n",
    "    })\n",
    "    fig.show()"
   ]
  },
  {
   "cell_type": "markdown",
   "id": "31c95a99",
   "metadata": {},
   "source": [
    "To highlight the difference between the two aminoacid groups we will merge data by calculating averages and then we will overlap these values.<br />\n",
    "This time we will plot only the region of residues we are focused in."
   ]
  },
  {
   "cell_type": "code",
   "execution_count": 7,
   "id": "ff6f91e0",
   "metadata": {},
   "outputs": [
    {
     "data": {
      "application/vnd.plotly.v1+json": {
       "config": {
        "plotlyServerURL": "https://plot.ly"
       },
       "data": [
        {
         "name": "N501",
         "type": "scatter",
         "x": [
          482,
          483,
          484,
          485,
          486,
          487,
          488,
          489,
          490,
          491,
          492,
          493,
          494,
          495,
          496,
          497,
          498,
          499,
          500,
          501,
          502,
          503,
          504,
          505,
          506,
          507,
          508,
          509,
          510,
          511
         ],
         "y": [
          -0.03312185368678676,
          -0.07820269112192531,
          2.482846845385469,
          -0.05917213217732906,
          -2.647169074258658,
          -1.9324039160239812,
          -0.01965420484836411,
          -2.512661315718397,
          -0.1191523866072811,
          0.018843355314393077,
          -0.0496088483119421,
          -2.216938961090241,
          -0.018776711180359885,
          -0.12684511501290904,
          -0.40947822242854565,
          -0.06448518405123498,
          -1.3945670263690866,
          -0.031014545276511974,
          -2.4071912188759876,
          -2.6157138389562404,
          -0.9009677609340759,
          -0.12408610992534408,
          -0.051921586639251706,
          -3.113509140076197,
          -0.07599896684121156,
          0.002568091185594107,
          0.01793051832247172,
          -2.334352550110513,
          -0.00832808821157876,
          0.015189416199474446
         ]
        },
        {
         "name": "Y501",
         "type": "scatter",
         "x": [
          482,
          483,
          484,
          485,
          486,
          487,
          488,
          489,
          490,
          491,
          492,
          493,
          494,
          495,
          496,
          497,
          498,
          499,
          500,
          501,
          502,
          503,
          504,
          505,
          506,
          507,
          508,
          509,
          510,
          511
         ],
         "y": [
          -0.003008886752136744,
          -0.07265438034188033,
          -1.3916406196581195,
          -0.06985400213675214,
          -2.5654356209401707,
          -1.81017972008547,
          -0.1579085170940171,
          -2.72177505042735,
          -0.2251655464935897,
          0.0033895873752991415,
          -0.09862457264957265,
          -2.2725543376068376,
          -0.03802948717948718,
          -0.12005504748376067,
          -0.1404769388888889,
          -0.03842304979630341,
          -1.0598873717948716,
          -0.014585455990811966,
          -2.584217521367521,
          -3.37537053076923,
          -1.019595514957265,
          -0.18751461538461536,
          -0.06291277777777776,
          -2.952589543803419,
          -0.09787649572649569,
          0.003537395025000001,
          0.01835534188034189,
          -2.3625523504273502,
          -0.009463034188034186,
          0.01654679487179487
         ]
        }
       ],
       "layout": {
        "shapes": [
         {
          "line": {
           "dash": "dash",
           "width": 1
          },
          "type": "line",
          "x0": 501,
          "x1": 501,
          "xref": "x",
          "y0": 3.4996730769230764,
          "y1": -5.910288461538463,
          "yref": "y"
         }
        ],
        "template": {
         "data": {
          "bar": [
           {
            "error_x": {
             "color": "#2a3f5f"
            },
            "error_y": {
             "color": "#2a3f5f"
            },
            "marker": {
             "line": {
              "color": "#E5ECF6",
              "width": 0.5
             },
             "pattern": {
              "fillmode": "overlay",
              "size": 10,
              "solidity": 0.2
             }
            },
            "type": "bar"
           }
          ],
          "barpolar": [
           {
            "marker": {
             "line": {
              "color": "#E5ECF6",
              "width": 0.5
             },
             "pattern": {
              "fillmode": "overlay",
              "size": 10,
              "solidity": 0.2
             }
            },
            "type": "barpolar"
           }
          ],
          "carpet": [
           {
            "aaxis": {
             "endlinecolor": "#2a3f5f",
             "gridcolor": "white",
             "linecolor": "white",
             "minorgridcolor": "white",
             "startlinecolor": "#2a3f5f"
            },
            "baxis": {
             "endlinecolor": "#2a3f5f",
             "gridcolor": "white",
             "linecolor": "white",
             "minorgridcolor": "white",
             "startlinecolor": "#2a3f5f"
            },
            "type": "carpet"
           }
          ],
          "choropleth": [
           {
            "colorbar": {
             "outlinewidth": 0,
             "ticks": ""
            },
            "type": "choropleth"
           }
          ],
          "contour": [
           {
            "colorbar": {
             "outlinewidth": 0,
             "ticks": ""
            },
            "colorscale": [
             [
              0,
              "#0d0887"
             ],
             [
              0.1111111111111111,
              "#46039f"
             ],
             [
              0.2222222222222222,
              "#7201a8"
             ],
             [
              0.3333333333333333,
              "#9c179e"
             ],
             [
              0.4444444444444444,
              "#bd3786"
             ],
             [
              0.5555555555555556,
              "#d8576b"
             ],
             [
              0.6666666666666666,
              "#ed7953"
             ],
             [
              0.7777777777777778,
              "#fb9f3a"
             ],
             [
              0.8888888888888888,
              "#fdca26"
             ],
             [
              1,
              "#f0f921"
             ]
            ],
            "type": "contour"
           }
          ],
          "contourcarpet": [
           {
            "colorbar": {
             "outlinewidth": 0,
             "ticks": ""
            },
            "type": "contourcarpet"
           }
          ],
          "heatmap": [
           {
            "colorbar": {
             "outlinewidth": 0,
             "ticks": ""
            },
            "colorscale": [
             [
              0,
              "#0d0887"
             ],
             [
              0.1111111111111111,
              "#46039f"
             ],
             [
              0.2222222222222222,
              "#7201a8"
             ],
             [
              0.3333333333333333,
              "#9c179e"
             ],
             [
              0.4444444444444444,
              "#bd3786"
             ],
             [
              0.5555555555555556,
              "#d8576b"
             ],
             [
              0.6666666666666666,
              "#ed7953"
             ],
             [
              0.7777777777777778,
              "#fb9f3a"
             ],
             [
              0.8888888888888888,
              "#fdca26"
             ],
             [
              1,
              "#f0f921"
             ]
            ],
            "type": "heatmap"
           }
          ],
          "heatmapgl": [
           {
            "colorbar": {
             "outlinewidth": 0,
             "ticks": ""
            },
            "colorscale": [
             [
              0,
              "#0d0887"
             ],
             [
              0.1111111111111111,
              "#46039f"
             ],
             [
              0.2222222222222222,
              "#7201a8"
             ],
             [
              0.3333333333333333,
              "#9c179e"
             ],
             [
              0.4444444444444444,
              "#bd3786"
             ],
             [
              0.5555555555555556,
              "#d8576b"
             ],
             [
              0.6666666666666666,
              "#ed7953"
             ],
             [
              0.7777777777777778,
              "#fb9f3a"
             ],
             [
              0.8888888888888888,
              "#fdca26"
             ],
             [
              1,
              "#f0f921"
             ]
            ],
            "type": "heatmapgl"
           }
          ],
          "histogram": [
           {
            "marker": {
             "pattern": {
              "fillmode": "overlay",
              "size": 10,
              "solidity": 0.2
             }
            },
            "type": "histogram"
           }
          ],
          "histogram2d": [
           {
            "colorbar": {
             "outlinewidth": 0,
             "ticks": ""
            },
            "colorscale": [
             [
              0,
              "#0d0887"
             ],
             [
              0.1111111111111111,
              "#46039f"
             ],
             [
              0.2222222222222222,
              "#7201a8"
             ],
             [
              0.3333333333333333,
              "#9c179e"
             ],
             [
              0.4444444444444444,
              "#bd3786"
             ],
             [
              0.5555555555555556,
              "#d8576b"
             ],
             [
              0.6666666666666666,
              "#ed7953"
             ],
             [
              0.7777777777777778,
              "#fb9f3a"
             ],
             [
              0.8888888888888888,
              "#fdca26"
             ],
             [
              1,
              "#f0f921"
             ]
            ],
            "type": "histogram2d"
           }
          ],
          "histogram2dcontour": [
           {
            "colorbar": {
             "outlinewidth": 0,
             "ticks": ""
            },
            "colorscale": [
             [
              0,
              "#0d0887"
             ],
             [
              0.1111111111111111,
              "#46039f"
             ],
             [
              0.2222222222222222,
              "#7201a8"
             ],
             [
              0.3333333333333333,
              "#9c179e"
             ],
             [
              0.4444444444444444,
              "#bd3786"
             ],
             [
              0.5555555555555556,
              "#d8576b"
             ],
             [
              0.6666666666666666,
              "#ed7953"
             ],
             [
              0.7777777777777778,
              "#fb9f3a"
             ],
             [
              0.8888888888888888,
              "#fdca26"
             ],
             [
              1,
              "#f0f921"
             ]
            ],
            "type": "histogram2dcontour"
           }
          ],
          "mesh3d": [
           {
            "colorbar": {
             "outlinewidth": 0,
             "ticks": ""
            },
            "type": "mesh3d"
           }
          ],
          "parcoords": [
           {
            "line": {
             "colorbar": {
              "outlinewidth": 0,
              "ticks": ""
             }
            },
            "type": "parcoords"
           }
          ],
          "pie": [
           {
            "automargin": true,
            "type": "pie"
           }
          ],
          "scatter": [
           {
            "fillpattern": {
             "fillmode": "overlay",
             "size": 10,
             "solidity": 0.2
            },
            "type": "scatter"
           }
          ],
          "scatter3d": [
           {
            "line": {
             "colorbar": {
              "outlinewidth": 0,
              "ticks": ""
             }
            },
            "marker": {
             "colorbar": {
              "outlinewidth": 0,
              "ticks": ""
             }
            },
            "type": "scatter3d"
           }
          ],
          "scattercarpet": [
           {
            "marker": {
             "colorbar": {
              "outlinewidth": 0,
              "ticks": ""
             }
            },
            "type": "scattercarpet"
           }
          ],
          "scattergeo": [
           {
            "marker": {
             "colorbar": {
              "outlinewidth": 0,
              "ticks": ""
             }
            },
            "type": "scattergeo"
           }
          ],
          "scattergl": [
           {
            "marker": {
             "colorbar": {
              "outlinewidth": 0,
              "ticks": ""
             }
            },
            "type": "scattergl"
           }
          ],
          "scattermapbox": [
           {
            "marker": {
             "colorbar": {
              "outlinewidth": 0,
              "ticks": ""
             }
            },
            "type": "scattermapbox"
           }
          ],
          "scatterpolar": [
           {
            "marker": {
             "colorbar": {
              "outlinewidth": 0,
              "ticks": ""
             }
            },
            "type": "scatterpolar"
           }
          ],
          "scatterpolargl": [
           {
            "marker": {
             "colorbar": {
              "outlinewidth": 0,
              "ticks": ""
             }
            },
            "type": "scatterpolargl"
           }
          ],
          "scatterternary": [
           {
            "marker": {
             "colorbar": {
              "outlinewidth": 0,
              "ticks": ""
             }
            },
            "type": "scatterternary"
           }
          ],
          "surface": [
           {
            "colorbar": {
             "outlinewidth": 0,
             "ticks": ""
            },
            "colorscale": [
             [
              0,
              "#0d0887"
             ],
             [
              0.1111111111111111,
              "#46039f"
             ],
             [
              0.2222222222222222,
              "#7201a8"
             ],
             [
              0.3333333333333333,
              "#9c179e"
             ],
             [
              0.4444444444444444,
              "#bd3786"
             ],
             [
              0.5555555555555556,
              "#d8576b"
             ],
             [
              0.6666666666666666,
              "#ed7953"
             ],
             [
              0.7777777777777778,
              "#fb9f3a"
             ],
             [
              0.8888888888888888,
              "#fdca26"
             ],
             [
              1,
              "#f0f921"
             ]
            ],
            "type": "surface"
           }
          ],
          "table": [
           {
            "cells": {
             "fill": {
              "color": "#EBF0F8"
             },
             "line": {
              "color": "white"
             }
            },
            "header": {
             "fill": {
              "color": "#C8D4E3"
             },
             "line": {
              "color": "white"
             }
            },
            "type": "table"
           }
          ]
         },
         "layout": {
          "annotationdefaults": {
           "arrowcolor": "#2a3f5f",
           "arrowhead": 0,
           "arrowwidth": 1
          },
          "autotypenumbers": "strict",
          "coloraxis": {
           "colorbar": {
            "outlinewidth": 0,
            "ticks": ""
           }
          },
          "colorscale": {
           "diverging": [
            [
             0,
             "#8e0152"
            ],
            [
             0.1,
             "#c51b7d"
            ],
            [
             0.2,
             "#de77ae"
            ],
            [
             0.3,
             "#f1b6da"
            ],
            [
             0.4,
             "#fde0ef"
            ],
            [
             0.5,
             "#f7f7f7"
            ],
            [
             0.6,
             "#e6f5d0"
            ],
            [
             0.7,
             "#b8e186"
            ],
            [
             0.8,
             "#7fbc41"
            ],
            [
             0.9,
             "#4d9221"
            ],
            [
             1,
             "#276419"
            ]
           ],
           "sequential": [
            [
             0,
             "#0d0887"
            ],
            [
             0.1111111111111111,
             "#46039f"
            ],
            [
             0.2222222222222222,
             "#7201a8"
            ],
            [
             0.3333333333333333,
             "#9c179e"
            ],
            [
             0.4444444444444444,
             "#bd3786"
            ],
            [
             0.5555555555555556,
             "#d8576b"
            ],
            [
             0.6666666666666666,
             "#ed7953"
            ],
            [
             0.7777777777777778,
             "#fb9f3a"
            ],
            [
             0.8888888888888888,
             "#fdca26"
            ],
            [
             1,
             "#f0f921"
            ]
           ],
           "sequentialminus": [
            [
             0,
             "#0d0887"
            ],
            [
             0.1111111111111111,
             "#46039f"
            ],
            [
             0.2222222222222222,
             "#7201a8"
            ],
            [
             0.3333333333333333,
             "#9c179e"
            ],
            [
             0.4444444444444444,
             "#bd3786"
            ],
            [
             0.5555555555555556,
             "#d8576b"
            ],
            [
             0.6666666666666666,
             "#ed7953"
            ],
            [
             0.7777777777777778,
             "#fb9f3a"
            ],
            [
             0.8888888888888888,
             "#fdca26"
            ],
            [
             1,
             "#f0f921"
            ]
           ]
          },
          "colorway": [
           "#636efa",
           "#EF553B",
           "#00cc96",
           "#ab63fa",
           "#FFA15A",
           "#19d3f3",
           "#FF6692",
           "#B6E880",
           "#FF97FF",
           "#FECB52"
          ],
          "font": {
           "color": "#2a3f5f"
          },
          "geo": {
           "bgcolor": "white",
           "lakecolor": "white",
           "landcolor": "#E5ECF6",
           "showlakes": true,
           "showland": true,
           "subunitcolor": "white"
          },
          "hoverlabel": {
           "align": "left"
          },
          "hovermode": "closest",
          "mapbox": {
           "style": "light"
          },
          "paper_bgcolor": "white",
          "plot_bgcolor": "#E5ECF6",
          "polar": {
           "angularaxis": {
            "gridcolor": "white",
            "linecolor": "white",
            "ticks": ""
           },
           "bgcolor": "#E5ECF6",
           "radialaxis": {
            "gridcolor": "white",
            "linecolor": "white",
            "ticks": ""
           }
          },
          "scene": {
           "xaxis": {
            "backgroundcolor": "#E5ECF6",
            "gridcolor": "white",
            "gridwidth": 2,
            "linecolor": "white",
            "showbackground": true,
            "ticks": "",
            "zerolinecolor": "white"
           },
           "yaxis": {
            "backgroundcolor": "#E5ECF6",
            "gridcolor": "white",
            "gridwidth": 2,
            "linecolor": "white",
            "showbackground": true,
            "ticks": "",
            "zerolinecolor": "white"
           },
           "zaxis": {
            "backgroundcolor": "#E5ECF6",
            "gridcolor": "white",
            "gridwidth": 2,
            "linecolor": "white",
            "showbackground": true,
            "ticks": "",
            "zerolinecolor": "white"
           }
          },
          "shapedefaults": {
           "line": {
            "color": "#2a3f5f"
           }
          },
          "ternary": {
           "aaxis": {
            "gridcolor": "white",
            "linecolor": "white",
            "ticks": ""
           },
           "baxis": {
            "gridcolor": "white",
            "linecolor": "white",
            "ticks": ""
           },
           "bgcolor": "#E5ECF6",
           "caxis": {
            "gridcolor": "white",
            "linecolor": "white",
            "ticks": ""
           }
          },
          "title": {
           "x": 0.05
          },
          "xaxis": {
           "automargin": true,
           "gridcolor": "white",
           "linecolor": "white",
           "ticks": "",
           "title": {
            "standoff": 15
           },
           "zerolinecolor": "white",
           "zerolinewidth": 2
          },
          "yaxis": {
           "automargin": true,
           "gridcolor": "white",
           "linecolor": "white",
           "ticks": "",
           "title": {
            "standoff": 15
           },
           "zerolinecolor": "white",
           "zerolinewidth": 2
          }
         }
        },
        "title": {
         "text": "N501 vs Y501 average energies"
        },
        "xaxis": {
         "title": {
          "text": "Residues"
         }
        },
        "yaxis": {
         "title": {
          "text": "Electrostatic + VdW energy (kcal/mol)"
         }
        }
       }
      },
      "text/html": [
       "<div>                            <div id=\"09766ed0-e834-4264-bfb8-2540b538f1b0\" class=\"plotly-graph-div\" style=\"height:525px; width:100%;\"></div>            <script type=\"text/javascript\">                require([\"plotly\"], function(Plotly) {                    window.PLOTLYENV=window.PLOTLYENV || {};                                    if (document.getElementById(\"09766ed0-e834-4264-bfb8-2540b538f1b0\")) {                    Plotly.newPlot(                        \"09766ed0-e834-4264-bfb8-2540b538f1b0\",                        [{\"name\":\"N501\",\"x\":[482,483,484,485,486,487,488,489,490,491,492,493,494,495,496,497,498,499,500,501,502,503,504,505,506,507,508,509,510,511],\"y\":[-0.03312185368678676,-0.07820269112192531,2.482846845385469,-0.05917213217732906,-2.647169074258658,-1.9324039160239812,-0.01965420484836411,-2.512661315718397,-0.1191523866072811,0.018843355314393077,-0.0496088483119421,-2.216938961090241,-0.018776711180359885,-0.12684511501290904,-0.40947822242854565,-0.06448518405123498,-1.3945670263690866,-0.031014545276511974,-2.4071912188759876,-2.6157138389562404,-0.9009677609340759,-0.12408610992534408,-0.051921586639251706,-3.113509140076197,-0.07599896684121156,0.002568091185594107,0.01793051832247172,-2.334352550110513,-0.00832808821157876,0.015189416199474446],\"type\":\"scatter\"},{\"name\":\"Y501\",\"x\":[482,483,484,485,486,487,488,489,490,491,492,493,494,495,496,497,498,499,500,501,502,503,504,505,506,507,508,509,510,511],\"y\":[-0.003008886752136744,-0.07265438034188033,-1.3916406196581195,-0.06985400213675214,-2.5654356209401707,-1.81017972008547,-0.1579085170940171,-2.72177505042735,-0.2251655464935897,0.0033895873752991415,-0.09862457264957265,-2.2725543376068376,-0.03802948717948718,-0.12005504748376067,-0.1404769388888889,-0.03842304979630341,-1.0598873717948716,-0.014585455990811966,-2.584217521367521,-3.37537053076923,-1.019595514957265,-0.18751461538461536,-0.06291277777777776,-2.952589543803419,-0.09787649572649569,0.003537395025000001,0.01835534188034189,-2.3625523504273502,-0.009463034188034186,0.01654679487179487],\"type\":\"scatter\"}],                        {\"shapes\":[{\"line\":{\"dash\":\"dash\",\"width\":1},\"type\":\"line\",\"x0\":501,\"x1\":501,\"xref\":\"x\",\"y0\":3.4996730769230764,\"y1\":-5.910288461538463,\"yref\":\"y\"}],\"title\":{\"text\":\"N501 vs Y501 average energies\"},\"xaxis\":{\"title\":{\"text\":\"Residues\"}},\"yaxis\":{\"title\":{\"text\":\"Electrostatic + VdW energy (kcal/mol)\"}},\"template\":{\"data\":{\"histogram2dcontour\":[{\"type\":\"histogram2dcontour\",\"colorbar\":{\"outlinewidth\":0,\"ticks\":\"\"},\"colorscale\":[[0.0,\"#0d0887\"],[0.1111111111111111,\"#46039f\"],[0.2222222222222222,\"#7201a8\"],[0.3333333333333333,\"#9c179e\"],[0.4444444444444444,\"#bd3786\"],[0.5555555555555556,\"#d8576b\"],[0.6666666666666666,\"#ed7953\"],[0.7777777777777778,\"#fb9f3a\"],[0.8888888888888888,\"#fdca26\"],[1.0,\"#f0f921\"]]}],\"choropleth\":[{\"type\":\"choropleth\",\"colorbar\":{\"outlinewidth\":0,\"ticks\":\"\"}}],\"histogram2d\":[{\"type\":\"histogram2d\",\"colorbar\":{\"outlinewidth\":0,\"ticks\":\"\"},\"colorscale\":[[0.0,\"#0d0887\"],[0.1111111111111111,\"#46039f\"],[0.2222222222222222,\"#7201a8\"],[0.3333333333333333,\"#9c179e\"],[0.4444444444444444,\"#bd3786\"],[0.5555555555555556,\"#d8576b\"],[0.6666666666666666,\"#ed7953\"],[0.7777777777777778,\"#fb9f3a\"],[0.8888888888888888,\"#fdca26\"],[1.0,\"#f0f921\"]]}],\"heatmap\":[{\"type\":\"heatmap\",\"colorbar\":{\"outlinewidth\":0,\"ticks\":\"\"},\"colorscale\":[[0.0,\"#0d0887\"],[0.1111111111111111,\"#46039f\"],[0.2222222222222222,\"#7201a8\"],[0.3333333333333333,\"#9c179e\"],[0.4444444444444444,\"#bd3786\"],[0.5555555555555556,\"#d8576b\"],[0.6666666666666666,\"#ed7953\"],[0.7777777777777778,\"#fb9f3a\"],[0.8888888888888888,\"#fdca26\"],[1.0,\"#f0f921\"]]}],\"heatmapgl\":[{\"type\":\"heatmapgl\",\"colorbar\":{\"outlinewidth\":0,\"ticks\":\"\"},\"colorscale\":[[0.0,\"#0d0887\"],[0.1111111111111111,\"#46039f\"],[0.2222222222222222,\"#7201a8\"],[0.3333333333333333,\"#9c179e\"],[0.4444444444444444,\"#bd3786\"],[0.5555555555555556,\"#d8576b\"],[0.6666666666666666,\"#ed7953\"],[0.7777777777777778,\"#fb9f3a\"],[0.8888888888888888,\"#fdca26\"],[1.0,\"#f0f921\"]]}],\"contourcarpet\":[{\"type\":\"contourcarpet\",\"colorbar\":{\"outlinewidth\":0,\"ticks\":\"\"}}],\"contour\":[{\"type\":\"contour\",\"colorbar\":{\"outlinewidth\":0,\"ticks\":\"\"},\"colorscale\":[[0.0,\"#0d0887\"],[0.1111111111111111,\"#46039f\"],[0.2222222222222222,\"#7201a8\"],[0.3333333333333333,\"#9c179e\"],[0.4444444444444444,\"#bd3786\"],[0.5555555555555556,\"#d8576b\"],[0.6666666666666666,\"#ed7953\"],[0.7777777777777778,\"#fb9f3a\"],[0.8888888888888888,\"#fdca26\"],[1.0,\"#f0f921\"]]}],\"surface\":[{\"type\":\"surface\",\"colorbar\":{\"outlinewidth\":0,\"ticks\":\"\"},\"colorscale\":[[0.0,\"#0d0887\"],[0.1111111111111111,\"#46039f\"],[0.2222222222222222,\"#7201a8\"],[0.3333333333333333,\"#9c179e\"],[0.4444444444444444,\"#bd3786\"],[0.5555555555555556,\"#d8576b\"],[0.6666666666666666,\"#ed7953\"],[0.7777777777777778,\"#fb9f3a\"],[0.8888888888888888,\"#fdca26\"],[1.0,\"#f0f921\"]]}],\"mesh3d\":[{\"type\":\"mesh3d\",\"colorbar\":{\"outlinewidth\":0,\"ticks\":\"\"}}],\"scatter\":[{\"fillpattern\":{\"fillmode\":\"overlay\",\"size\":10,\"solidity\":0.2},\"type\":\"scatter\"}],\"parcoords\":[{\"type\":\"parcoords\",\"line\":{\"colorbar\":{\"outlinewidth\":0,\"ticks\":\"\"}}}],\"scatterpolargl\":[{\"type\":\"scatterpolargl\",\"marker\":{\"colorbar\":{\"outlinewidth\":0,\"ticks\":\"\"}}}],\"bar\":[{\"error_x\":{\"color\":\"#2a3f5f\"},\"error_y\":{\"color\":\"#2a3f5f\"},\"marker\":{\"line\":{\"color\":\"#E5ECF6\",\"width\":0.5},\"pattern\":{\"fillmode\":\"overlay\",\"size\":10,\"solidity\":0.2}},\"type\":\"bar\"}],\"scattergeo\":[{\"type\":\"scattergeo\",\"marker\":{\"colorbar\":{\"outlinewidth\":0,\"ticks\":\"\"}}}],\"scatterpolar\":[{\"type\":\"scatterpolar\",\"marker\":{\"colorbar\":{\"outlinewidth\":0,\"ticks\":\"\"}}}],\"histogram\":[{\"marker\":{\"pattern\":{\"fillmode\":\"overlay\",\"size\":10,\"solidity\":0.2}},\"type\":\"histogram\"}],\"scattergl\":[{\"type\":\"scattergl\",\"marker\":{\"colorbar\":{\"outlinewidth\":0,\"ticks\":\"\"}}}],\"scatter3d\":[{\"type\":\"scatter3d\",\"line\":{\"colorbar\":{\"outlinewidth\":0,\"ticks\":\"\"}},\"marker\":{\"colorbar\":{\"outlinewidth\":0,\"ticks\":\"\"}}}],\"scattermapbox\":[{\"type\":\"scattermapbox\",\"marker\":{\"colorbar\":{\"outlinewidth\":0,\"ticks\":\"\"}}}],\"scatterternary\":[{\"type\":\"scatterternary\",\"marker\":{\"colorbar\":{\"outlinewidth\":0,\"ticks\":\"\"}}}],\"scattercarpet\":[{\"type\":\"scattercarpet\",\"marker\":{\"colorbar\":{\"outlinewidth\":0,\"ticks\":\"\"}}}],\"carpet\":[{\"aaxis\":{\"endlinecolor\":\"#2a3f5f\",\"gridcolor\":\"white\",\"linecolor\":\"white\",\"minorgridcolor\":\"white\",\"startlinecolor\":\"#2a3f5f\"},\"baxis\":{\"endlinecolor\":\"#2a3f5f\",\"gridcolor\":\"white\",\"linecolor\":\"white\",\"minorgridcolor\":\"white\",\"startlinecolor\":\"#2a3f5f\"},\"type\":\"carpet\"}],\"table\":[{\"cells\":{\"fill\":{\"color\":\"#EBF0F8\"},\"line\":{\"color\":\"white\"}},\"header\":{\"fill\":{\"color\":\"#C8D4E3\"},\"line\":{\"color\":\"white\"}},\"type\":\"table\"}],\"barpolar\":[{\"marker\":{\"line\":{\"color\":\"#E5ECF6\",\"width\":0.5},\"pattern\":{\"fillmode\":\"overlay\",\"size\":10,\"solidity\":0.2}},\"type\":\"barpolar\"}],\"pie\":[{\"automargin\":true,\"type\":\"pie\"}]},\"layout\":{\"autotypenumbers\":\"strict\",\"colorway\":[\"#636efa\",\"#EF553B\",\"#00cc96\",\"#ab63fa\",\"#FFA15A\",\"#19d3f3\",\"#FF6692\",\"#B6E880\",\"#FF97FF\",\"#FECB52\"],\"font\":{\"color\":\"#2a3f5f\"},\"hovermode\":\"closest\",\"hoverlabel\":{\"align\":\"left\"},\"paper_bgcolor\":\"white\",\"plot_bgcolor\":\"#E5ECF6\",\"polar\":{\"bgcolor\":\"#E5ECF6\",\"angularaxis\":{\"gridcolor\":\"white\",\"linecolor\":\"white\",\"ticks\":\"\"},\"radialaxis\":{\"gridcolor\":\"white\",\"linecolor\":\"white\",\"ticks\":\"\"}},\"ternary\":{\"bgcolor\":\"#E5ECF6\",\"aaxis\":{\"gridcolor\":\"white\",\"linecolor\":\"white\",\"ticks\":\"\"},\"baxis\":{\"gridcolor\":\"white\",\"linecolor\":\"white\",\"ticks\":\"\"},\"caxis\":{\"gridcolor\":\"white\",\"linecolor\":\"white\",\"ticks\":\"\"}},\"coloraxis\":{\"colorbar\":{\"outlinewidth\":0,\"ticks\":\"\"}},\"colorscale\":{\"sequential\":[[0.0,\"#0d0887\"],[0.1111111111111111,\"#46039f\"],[0.2222222222222222,\"#7201a8\"],[0.3333333333333333,\"#9c179e\"],[0.4444444444444444,\"#bd3786\"],[0.5555555555555556,\"#d8576b\"],[0.6666666666666666,\"#ed7953\"],[0.7777777777777778,\"#fb9f3a\"],[0.8888888888888888,\"#fdca26\"],[1.0,\"#f0f921\"]],\"sequentialminus\":[[0.0,\"#0d0887\"],[0.1111111111111111,\"#46039f\"],[0.2222222222222222,\"#7201a8\"],[0.3333333333333333,\"#9c179e\"],[0.4444444444444444,\"#bd3786\"],[0.5555555555555556,\"#d8576b\"],[0.6666666666666666,\"#ed7953\"],[0.7777777777777778,\"#fb9f3a\"],[0.8888888888888888,\"#fdca26\"],[1.0,\"#f0f921\"]],\"diverging\":[[0,\"#8e0152\"],[0.1,\"#c51b7d\"],[0.2,\"#de77ae\"],[0.3,\"#f1b6da\"],[0.4,\"#fde0ef\"],[0.5,\"#f7f7f7\"],[0.6,\"#e6f5d0\"],[0.7,\"#b8e186\"],[0.8,\"#7fbc41\"],[0.9,\"#4d9221\"],[1,\"#276419\"]]},\"xaxis\":{\"gridcolor\":\"white\",\"linecolor\":\"white\",\"ticks\":\"\",\"title\":{\"standoff\":15},\"zerolinecolor\":\"white\",\"automargin\":true,\"zerolinewidth\":2},\"yaxis\":{\"gridcolor\":\"white\",\"linecolor\":\"white\",\"ticks\":\"\",\"title\":{\"standoff\":15},\"zerolinecolor\":\"white\",\"automargin\":true,\"zerolinewidth\":2},\"scene\":{\"xaxis\":{\"backgroundcolor\":\"#E5ECF6\",\"gridcolor\":\"white\",\"linecolor\":\"white\",\"showbackground\":true,\"ticks\":\"\",\"zerolinecolor\":\"white\",\"gridwidth\":2},\"yaxis\":{\"backgroundcolor\":\"#E5ECF6\",\"gridcolor\":\"white\",\"linecolor\":\"white\",\"showbackground\":true,\"ticks\":\"\",\"zerolinecolor\":\"white\",\"gridwidth\":2},\"zaxis\":{\"backgroundcolor\":\"#E5ECF6\",\"gridcolor\":\"white\",\"linecolor\":\"white\",\"showbackground\":true,\"ticks\":\"\",\"zerolinecolor\":\"white\",\"gridwidth\":2}},\"shapedefaults\":{\"line\":{\"color\":\"#2a3f5f\"}},\"annotationdefaults\":{\"arrowcolor\":\"#2a3f5f\",\"arrowhead\":0,\"arrowwidth\":1},\"geo\":{\"bgcolor\":\"white\",\"landcolor\":\"#E5ECF6\",\"subunitcolor\":\"white\",\"showland\":true,\"showlakes\":true,\"lakecolor\":\"white\"},\"title\":{\"x\":0.05},\"mapbox\":{\"style\":\"light\"}}}},                        {\"responsive\": true}                    ).then(function(){\n",
       "                            \n",
       "var gd = document.getElementById('09766ed0-e834-4264-bfb8-2540b538f1b0');\n",
       "var x = new MutationObserver(function (mutations, observer) {{\n",
       "        var display = window.getComputedStyle(gd).display;\n",
       "        if (!display || display === 'none') {{\n",
       "            console.log([gd, 'removed!']);\n",
       "            Plotly.purge(gd);\n",
       "            observer.disconnect();\n",
       "        }}\n",
       "}});\n",
       "\n",
       "// Listen for the removal of the full notebook cells\n",
       "var notebookContainer = gd.closest('#notebook-container');\n",
       "if (notebookContainer) {{\n",
       "    x.observe(notebookContainer, {childList: true});\n",
       "}}\n",
       "\n",
       "// Listen for the clearing of the current output cell\n",
       "var outputEl = gd.closest('.output');\n",
       "if (outputEl) {{\n",
       "    x.observe(outputEl, {childList: true});\n",
       "}}\n",
       "\n",
       "                        })                };                });            </script>        </div>"
      ]
     },
     "metadata": {},
     "output_type": "display_data"
    }
   ],
   "source": [
    "plot_data = []\n",
    "\n",
    "# Get the residue indices for each target residue\n",
    "# Note that we rely in the fact that all energies analyses have identical residue numbers\n",
    "target_residue_indices = [ reference_indices.get(target_residue, None) for target_residue in target_residues ]\n",
    "\n",
    "for group_name, energies_analyses in energies_data.items():\n",
    "    # Calculate average energy values for target residues\n",
    "    energies_avg = []\n",
    "    for residue_index in target_residue_indices:\n",
    "        energy_values = []\n",
    "        for energies_analysis in energies_analyses:\n",
    "            data_residue_index = energies_analysis['residues'].index(residue_index)\n",
    "            energy_values.append(energies_analysis['energies'][data_residue_index])\n",
    "        energies_avg.append(mean(energy_values))\n",
    "    # Add data to the plot (last 60 residues only)\n",
    "    plot_data.append(\n",
    "        go.Scatter(\n",
    "            x = target_residues,\n",
    "            y = energies_avg,\n",
    "            name = group_name,\n",
    "        )\n",
    "    )\n",
    "    \n",
    "# Show both average values overlapped to see the real difference\n",
    "fig = go.Figure({\n",
    "    \"data\": plot_data,\n",
    "    \"layout\": go.Layout(\n",
    "        title='N501 vs Y501 average energies',\n",
    "        xaxis={'title': 'Residues'},\n",
    "        yaxis={'title': 'Electrostatic + VdW energy (kcal/mol)'},\n",
    "        shapes=shapes # We reuse the residue 501 mark from last cell\n",
    "    )\n",
    "})\n",
    "fig.show()\n",
    "\n",
    "# Show also the difference"
   ]
  },
  {
   "cell_type": "markdown",
   "id": "1672fed9",
   "metadata": {},
   "source": [
    "The energies difference in the residue 501 region is not remarkable, althought there is a difference.<br />\n",
    "Residue 501 has a 30% higher average energy when it is a tyrosine than when it is an aspargine.<br />\n",
    "We can observe a high difference in residue 484, but this is because several simulations in the Y501 group have a N to K mutation in this residue (6 out of 9)."
   ]
  },
  {
   "cell_type": "markdown",
   "id": "lesser-warren",
   "metadata": {},
   "source": [
    "Now lets check hydrogen bonds"
   ]
  },
  {
   "cell_type": "code",
   "execution_count": 8,
   "id": "interested-sessions",
   "metadata": {},
   "outputs": [
    {
     "data": {
      "application/vnd.plotly.v1+json": {
       "config": {
        "plotlyServerURL": "https://plot.ly"
       },
       "data": [
        {
         "marker": {
          "color": "red",
          "size": 12
         },
         "mode": "markers",
         "name": "MCV1900410",
         "opacity": 0.4,
         "type": "scatter",
         "x": [
          482,
          483,
          484,
          485,
          486,
          487,
          488,
          489,
          490,
          491,
          492,
          493,
          494,
          495,
          496,
          497,
          498,
          499,
          500,
          501,
          502,
          503,
          504,
          505,
          506,
          507,
          508,
          509,
          510,
          511
         ],
         "y": [
          0,
          0,
          0.058252427184466014,
          0,
          0,
          1.0485436893203883,
          0,
          0.07766990291262135,
          0.019417475728155338,
          0,
          0,
          0.44660194174757284,
          0,
          0,
          0.009708737864077669,
          0,
          0.04854368932038834,
          0,
          0.4271844660194175,
          0.4854368932038835,
          0.038834951456310676,
          0,
          0,
          0.038834951456310676,
          0,
          0,
          0,
          0,
          0,
          0
         ]
        },
        {
         "marker": {
          "color": "red",
          "size": 12
         },
         "mode": "markers",
         "name": "MCV1900411",
         "opacity": 0.4,
         "type": "scatter",
         "x": [
          482,
          483,
          484,
          485,
          486,
          487,
          488,
          489,
          490,
          491,
          492,
          493,
          494,
          495,
          496,
          497,
          498,
          499,
          500,
          501,
          502,
          503,
          504,
          505,
          506,
          507,
          508,
          509,
          510,
          511
         ],
         "y": [
          0,
          0,
          0.02912621359223301,
          0,
          0,
          0.9902912621359222,
          0,
          0.038834951456310676,
          0.009708737864077669,
          0,
          0.009708737864077669,
          0.6407766990291262,
          0,
          0.019417475728155338,
          0.019417475728155338,
          0,
          0.2815533980582524,
          0,
          0.47572815533980584,
          0.06796116504854369,
          0.39805825242718446,
          0,
          0,
          0.24271844660194175,
          0,
          0,
          0,
          0,
          0,
          0
         ]
        },
        {
         "marker": {
          "color": "red",
          "size": 12
         },
         "mode": "markers",
         "name": "MCV1900412",
         "opacity": 0.4,
         "type": "scatter",
         "x": [
          482,
          483,
          484,
          485,
          486,
          487,
          488,
          489,
          490,
          491,
          492,
          493,
          494,
          495,
          496,
          497,
          498,
          499,
          500,
          501,
          502,
          503,
          504,
          505,
          506,
          507,
          508,
          509,
          510,
          511
         ],
         "y": [
          0,
          0,
          0.009708737864077669,
          0,
          0,
          0.9611650485436893,
          0,
          0.009708737864077669,
          0.009708737864077669,
          0,
          0,
          0.6990291262135921,
          0,
          0,
          0.05825242718446601,
          0,
          0.3203883495145631,
          0,
          0.45631067961165045,
          0.19417475728155337,
          0.1553398058252427,
          0,
          0,
          0.16504854368932037,
          0,
          0,
          0,
          0,
          0,
          0
         ]
        },
        {
         "marker": {
          "color": "red",
          "size": 12
         },
         "mode": "markers",
         "name": "MCV1900419",
         "opacity": 0.4,
         "type": "scatter",
         "x": [
          482,
          483,
          484,
          485,
          486,
          487,
          488,
          489,
          490,
          491,
          492,
          493,
          494,
          495,
          496,
          497,
          498,
          499,
          500,
          501,
          502,
          503,
          504,
          505,
          506,
          507,
          508,
          509,
          510,
          511
         ],
         "y": [
          0,
          0,
          0,
          0,
          0,
          0.980952380952381,
          0,
          0,
          0,
          0,
          0,
          0.6095238095238096,
          0,
          0,
          0.18095238095238095,
          0,
          0.12380952380952381,
          0,
          0.9428571428571428,
          0.009523809523809525,
          0.6,
          0,
          0,
          0.37142857142857144,
          0,
          0,
          0,
          0,
          0,
          0
         ]
        },
        {
         "marker": {
          "color": "red",
          "size": 12
         },
         "mode": "markers",
         "name": "MCV1900420",
         "opacity": 0.4,
         "type": "scatter",
         "x": [
          482,
          483,
          484,
          485,
          486,
          487,
          488,
          489,
          490,
          491,
          492,
          493,
          494,
          495,
          496,
          497,
          498,
          499,
          500,
          501,
          502,
          503,
          504,
          505,
          506,
          507,
          508,
          509,
          510,
          511
         ],
         "y": [
          0,
          0,
          0.009433962264150943,
          0,
          0,
          0.9245283018867925,
          0,
          0.03773584905660377,
          0,
          0,
          0,
          0.5377358490566038,
          0,
          0,
          0.2169811320754717,
          0,
          0.2641509433962264,
          0,
          0.4811320754716981,
          0.04716981132075471,
          0.5283018867924528,
          0,
          0,
          0.5849056603773585,
          0,
          0,
          0,
          0,
          0,
          0
         ]
        },
        {
         "marker": {
          "color": "red",
          "size": 12
         },
         "mode": "markers",
         "name": "MCV1900421",
         "opacity": 0.4,
         "type": "scatter",
         "x": [
          482,
          483,
          484,
          485,
          486,
          487,
          488,
          489,
          490,
          491,
          492,
          493,
          494,
          495,
          496,
          497,
          498,
          499,
          500,
          501,
          502,
          503,
          504,
          505,
          506,
          507,
          508,
          509,
          510,
          511
         ],
         "y": [
          0,
          0,
          0.00980392156862745,
          0,
          0,
          0.9215686274509804,
          0,
          0,
          0.00980392156862745,
          0,
          0,
          0.5392156862745098,
          0,
          0,
          0.12745098039215688,
          0,
          0.3333333333333333,
          0,
          0.892156862745098,
          0.0392156862745098,
          0.6666666666666666,
          0,
          0,
          0.7450980392156863,
          0,
          0,
          0,
          0,
          0,
          0
         ]
        },
        {
         "marker": {
          "color": "blue",
          "size": 12
         },
         "mode": "markers",
         "name": "MCV1900413",
         "opacity": 0.4,
         "type": "scatter",
         "x": [
          482,
          483,
          484,
          485,
          486,
          487,
          488,
          489,
          490,
          491,
          492,
          493,
          494,
          495,
          496,
          497,
          498,
          499,
          500,
          501,
          502,
          503,
          504,
          505,
          506,
          507,
          508,
          509,
          510,
          511
         ],
         "y": [
          0,
          0,
          0.23076923076923078,
          0,
          0,
          0.923076923076923,
          0,
          0.009615384615384616,
          0,
          0,
          0,
          0.45192307692307687,
          0,
          0.009615384615384616,
          0,
          0,
          0.04807692307692308,
          0,
          0.9326923076923077,
          0.14423076923076925,
          0.4807692307692308,
          0,
          0,
          0.375,
          0,
          0,
          0,
          0,
          0,
          0
         ]
        },
        {
         "marker": {
          "color": "blue",
          "size": 12
         },
         "mode": "markers",
         "name": "MCV1900414",
         "opacity": 0.4,
         "type": "scatter",
         "x": [
          482,
          483,
          484,
          485,
          486,
          487,
          488,
          489,
          490,
          491,
          492,
          493,
          494,
          495,
          496,
          497,
          498,
          499,
          500,
          501,
          502,
          503,
          504,
          505,
          506,
          507,
          508,
          509,
          510,
          511
         ],
         "y": [
          0,
          0,
          0.029126213592233007,
          0,
          0,
          0.9514563106796116,
          0,
          0.019417475728155338,
          0,
          0,
          0,
          0.4174757281553398,
          0,
          0,
          0,
          0,
          0.16504854368932037,
          0,
          0.5436893203883495,
          0.02912621359223301,
          0.7281553398058253,
          0,
          0,
          0.3786407766990291,
          0,
          0,
          0,
          0,
          0,
          0
         ]
        },
        {
         "marker": {
          "color": "blue",
          "size": 12
         },
         "mode": "markers",
         "name": "MCV1900415",
         "opacity": 0.4,
         "type": "scatter",
         "x": [
          482,
          483,
          484,
          485,
          486,
          487,
          488,
          489,
          490,
          491,
          492,
          493,
          494,
          495,
          496,
          497,
          498,
          499,
          500,
          501,
          502,
          503,
          504,
          505,
          506,
          507,
          508,
          509,
          510,
          511
         ],
         "y": [
          0,
          0,
          0.05825242718446602,
          0,
          0,
          1.029126213592233,
          0,
          0.009708737864077669,
          0,
          0,
          0,
          0.6213592233009708,
          0,
          0,
          0,
          0,
          0.24271844660194175,
          0,
          0.9514563106796117,
          0.029126213592233007,
          0.5922330097087378,
          0,
          0,
          0.10679611650485436,
          0,
          0,
          0,
          0,
          0,
          0
         ]
        },
        {
         "marker": {
          "color": "blue",
          "size": 12
         },
         "mode": "markers",
         "name": "MCV1900416",
         "opacity": 0.4,
         "type": "scatter",
         "x": [
          482,
          483,
          484,
          485,
          486,
          487,
          488,
          489,
          490,
          491,
          492,
          493,
          494,
          495,
          496,
          497,
          498,
          499,
          500,
          501,
          502,
          503,
          504,
          505,
          506,
          507,
          508,
          509,
          510,
          511
         ],
         "y": [
          0,
          0,
          0.1844660194174757,
          0,
          0,
          0.4077669902912621,
          0,
          0.5242718446601942,
          0.13592233009708737,
          0,
          0.06796116504854369,
          1,
          0,
          0,
          0,
          0,
          0.4077669902912621,
          0,
          0.46601941747572817,
          0.029126213592233007,
          0.019417475728155338,
          0,
          0,
          0.029126213592233007,
          0,
          0,
          0,
          0,
          0,
          0
         ]
        },
        {
         "marker": {
          "color": "blue",
          "size": 12
         },
         "mode": "markers",
         "name": "MCV1900417",
         "opacity": 0.4,
         "type": "scatter",
         "x": [
          482,
          483,
          484,
          485,
          486,
          487,
          488,
          489,
          490,
          491,
          492,
          493,
          494,
          495,
          496,
          497,
          498,
          499,
          500,
          501,
          502,
          503,
          504,
          505,
          506,
          507,
          508,
          509,
          510,
          511
         ],
         "y": [
          0,
          0,
          0,
          0,
          0,
          0.8640776699029126,
          0,
          0.02912621359223301,
          0.04854368932038834,
          0,
          0,
          0.6310679611650485,
          0,
          0,
          0,
          0,
          0.24271844660194175,
          0,
          0.47572815533980584,
          0.07766990291262135,
          0.3300970873786408,
          0.009708737864077669,
          0,
          0.10679611650485438,
          0,
          0,
          0,
          0,
          0,
          0
         ]
        },
        {
         "marker": {
          "color": "blue",
          "size": 12
         },
         "mode": "markers",
         "name": "MCV1900418",
         "opacity": 0.4,
         "type": "scatter",
         "x": [
          482,
          483,
          484,
          485,
          486,
          487,
          488,
          489,
          490,
          491,
          492,
          493,
          494,
          495,
          496,
          497,
          498,
          499,
          500,
          501,
          502,
          503,
          504,
          505,
          506,
          507,
          508,
          509,
          510,
          511
         ],
         "y": [
          0,
          0,
          0.04854368932038835,
          0,
          0.009708737864077669,
          0.3300970873786408,
          0,
          0.6699029126213591,
          0.04854368932038834,
          0,
          0.029126213592233007,
          0.7475728155339805,
          0,
          0,
          0,
          0,
          0.2621359223300971,
          0,
          0.23300970873786409,
          0.2718446601941747,
          0.1262135922330097,
          0,
          0,
          0.1553398058252427,
          0,
          0,
          0,
          0,
          0,
          0
         ]
        },
        {
         "marker": {
          "color": "blue",
          "size": 12
         },
         "mode": "markers",
         "name": "MCV1900422",
         "opacity": 0.4,
         "type": "scatter",
         "x": [
          482,
          483,
          484,
          485,
          486,
          487,
          488,
          489,
          490,
          491,
          492,
          493,
          494,
          495,
          496,
          497,
          498,
          499,
          500,
          501,
          502,
          503,
          504,
          505,
          506,
          507,
          508,
          509,
          510,
          511
         ],
         "y": [
          0,
          0,
          0.3980582524271844,
          0,
          0,
          1.0388349514563107,
          0,
          0.019417475728155338,
          0,
          0,
          0,
          0.5631067961165048,
          0,
          0,
          0,
          0,
          0.04854368932038835,
          0,
          0.7184466019417476,
          0.04854368932038834,
          0.8543689320388349,
          0,
          0,
          0.4660194174757281,
          0,
          0,
          0,
          0,
          0,
          0
         ]
        },
        {
         "marker": {
          "color": "blue",
          "size": 12
         },
         "mode": "markers",
         "name": "MCV1900423",
         "opacity": 0.4,
         "type": "scatter",
         "x": [
          482,
          483,
          484,
          485,
          486,
          487,
          488,
          489,
          490,
          491,
          492,
          493,
          494,
          495,
          496,
          497,
          498,
          499,
          500,
          501,
          502,
          503,
          504,
          505,
          506,
          507,
          508,
          509,
          510,
          511
         ],
         "y": [
          0,
          0,
          0,
          0,
          0,
          0.7087378640776698,
          0,
          0.029126213592233007,
          0,
          0,
          0,
          0.5631067961165048,
          0,
          0,
          0,
          0,
          0.24271844660194175,
          0,
          0.9902912621359222,
          0.009708737864077669,
          0.7572815533980582,
          0.009708737864077669,
          0,
          0.2815533980582524,
          0,
          0,
          0,
          0,
          0,
          0
         ]
        },
        {
         "marker": {
          "color": "blue",
          "size": 12
         },
         "mode": "markers",
         "name": "MCV1900424",
         "opacity": 0.4,
         "type": "scatter",
         "x": [
          482,
          483,
          484,
          485,
          486,
          487,
          488,
          489,
          490,
          491,
          492,
          493,
          494,
          495,
          496,
          497,
          498,
          499,
          500,
          501,
          502,
          503,
          504,
          505,
          506,
          507,
          508,
          509,
          510,
          511
         ],
         "y": [
          0,
          0,
          0.41747572815533973,
          0,
          0,
          0.8543689320388349,
          0,
          0.009708737864077669,
          0.009708737864077669,
          0,
          0.009708737864077669,
          0.5825242718446602,
          0,
          0.009708737864077669,
          0,
          0,
          0.13592233009708737,
          0,
          0.9999999999999999,
          0.029126213592233007,
          0.7087378640776699,
          0.009708737864077669,
          0,
          0.4174757281553398,
          0,
          0,
          0,
          0,
          0,
          0
         ]
        }
       ],
       "layout": {
        "template": {
         "data": {
          "bar": [
           {
            "error_x": {
             "color": "#2a3f5f"
            },
            "error_y": {
             "color": "#2a3f5f"
            },
            "marker": {
             "line": {
              "color": "#E5ECF6",
              "width": 0.5
             },
             "pattern": {
              "fillmode": "overlay",
              "size": 10,
              "solidity": 0.2
             }
            },
            "type": "bar"
           }
          ],
          "barpolar": [
           {
            "marker": {
             "line": {
              "color": "#E5ECF6",
              "width": 0.5
             },
             "pattern": {
              "fillmode": "overlay",
              "size": 10,
              "solidity": 0.2
             }
            },
            "type": "barpolar"
           }
          ],
          "carpet": [
           {
            "aaxis": {
             "endlinecolor": "#2a3f5f",
             "gridcolor": "white",
             "linecolor": "white",
             "minorgridcolor": "white",
             "startlinecolor": "#2a3f5f"
            },
            "baxis": {
             "endlinecolor": "#2a3f5f",
             "gridcolor": "white",
             "linecolor": "white",
             "minorgridcolor": "white",
             "startlinecolor": "#2a3f5f"
            },
            "type": "carpet"
           }
          ],
          "choropleth": [
           {
            "colorbar": {
             "outlinewidth": 0,
             "ticks": ""
            },
            "type": "choropleth"
           }
          ],
          "contour": [
           {
            "colorbar": {
             "outlinewidth": 0,
             "ticks": ""
            },
            "colorscale": [
             [
              0,
              "#0d0887"
             ],
             [
              0.1111111111111111,
              "#46039f"
             ],
             [
              0.2222222222222222,
              "#7201a8"
             ],
             [
              0.3333333333333333,
              "#9c179e"
             ],
             [
              0.4444444444444444,
              "#bd3786"
             ],
             [
              0.5555555555555556,
              "#d8576b"
             ],
             [
              0.6666666666666666,
              "#ed7953"
             ],
             [
              0.7777777777777778,
              "#fb9f3a"
             ],
             [
              0.8888888888888888,
              "#fdca26"
             ],
             [
              1,
              "#f0f921"
             ]
            ],
            "type": "contour"
           }
          ],
          "contourcarpet": [
           {
            "colorbar": {
             "outlinewidth": 0,
             "ticks": ""
            },
            "type": "contourcarpet"
           }
          ],
          "heatmap": [
           {
            "colorbar": {
             "outlinewidth": 0,
             "ticks": ""
            },
            "colorscale": [
             [
              0,
              "#0d0887"
             ],
             [
              0.1111111111111111,
              "#46039f"
             ],
             [
              0.2222222222222222,
              "#7201a8"
             ],
             [
              0.3333333333333333,
              "#9c179e"
             ],
             [
              0.4444444444444444,
              "#bd3786"
             ],
             [
              0.5555555555555556,
              "#d8576b"
             ],
             [
              0.6666666666666666,
              "#ed7953"
             ],
             [
              0.7777777777777778,
              "#fb9f3a"
             ],
             [
              0.8888888888888888,
              "#fdca26"
             ],
             [
              1,
              "#f0f921"
             ]
            ],
            "type": "heatmap"
           }
          ],
          "heatmapgl": [
           {
            "colorbar": {
             "outlinewidth": 0,
             "ticks": ""
            },
            "colorscale": [
             [
              0,
              "#0d0887"
             ],
             [
              0.1111111111111111,
              "#46039f"
             ],
             [
              0.2222222222222222,
              "#7201a8"
             ],
             [
              0.3333333333333333,
              "#9c179e"
             ],
             [
              0.4444444444444444,
              "#bd3786"
             ],
             [
              0.5555555555555556,
              "#d8576b"
             ],
             [
              0.6666666666666666,
              "#ed7953"
             ],
             [
              0.7777777777777778,
              "#fb9f3a"
             ],
             [
              0.8888888888888888,
              "#fdca26"
             ],
             [
              1,
              "#f0f921"
             ]
            ],
            "type": "heatmapgl"
           }
          ],
          "histogram": [
           {
            "marker": {
             "pattern": {
              "fillmode": "overlay",
              "size": 10,
              "solidity": 0.2
             }
            },
            "type": "histogram"
           }
          ],
          "histogram2d": [
           {
            "colorbar": {
             "outlinewidth": 0,
             "ticks": ""
            },
            "colorscale": [
             [
              0,
              "#0d0887"
             ],
             [
              0.1111111111111111,
              "#46039f"
             ],
             [
              0.2222222222222222,
              "#7201a8"
             ],
             [
              0.3333333333333333,
              "#9c179e"
             ],
             [
              0.4444444444444444,
              "#bd3786"
             ],
             [
              0.5555555555555556,
              "#d8576b"
             ],
             [
              0.6666666666666666,
              "#ed7953"
             ],
             [
              0.7777777777777778,
              "#fb9f3a"
             ],
             [
              0.8888888888888888,
              "#fdca26"
             ],
             [
              1,
              "#f0f921"
             ]
            ],
            "type": "histogram2d"
           }
          ],
          "histogram2dcontour": [
           {
            "colorbar": {
             "outlinewidth": 0,
             "ticks": ""
            },
            "colorscale": [
             [
              0,
              "#0d0887"
             ],
             [
              0.1111111111111111,
              "#46039f"
             ],
             [
              0.2222222222222222,
              "#7201a8"
             ],
             [
              0.3333333333333333,
              "#9c179e"
             ],
             [
              0.4444444444444444,
              "#bd3786"
             ],
             [
              0.5555555555555556,
              "#d8576b"
             ],
             [
              0.6666666666666666,
              "#ed7953"
             ],
             [
              0.7777777777777778,
              "#fb9f3a"
             ],
             [
              0.8888888888888888,
              "#fdca26"
             ],
             [
              1,
              "#f0f921"
             ]
            ],
            "type": "histogram2dcontour"
           }
          ],
          "mesh3d": [
           {
            "colorbar": {
             "outlinewidth": 0,
             "ticks": ""
            },
            "type": "mesh3d"
           }
          ],
          "parcoords": [
           {
            "line": {
             "colorbar": {
              "outlinewidth": 0,
              "ticks": ""
             }
            },
            "type": "parcoords"
           }
          ],
          "pie": [
           {
            "automargin": true,
            "type": "pie"
           }
          ],
          "scatter": [
           {
            "fillpattern": {
             "fillmode": "overlay",
             "size": 10,
             "solidity": 0.2
            },
            "type": "scatter"
           }
          ],
          "scatter3d": [
           {
            "line": {
             "colorbar": {
              "outlinewidth": 0,
              "ticks": ""
             }
            },
            "marker": {
             "colorbar": {
              "outlinewidth": 0,
              "ticks": ""
             }
            },
            "type": "scatter3d"
           }
          ],
          "scattercarpet": [
           {
            "marker": {
             "colorbar": {
              "outlinewidth": 0,
              "ticks": ""
             }
            },
            "type": "scattercarpet"
           }
          ],
          "scattergeo": [
           {
            "marker": {
             "colorbar": {
              "outlinewidth": 0,
              "ticks": ""
             }
            },
            "type": "scattergeo"
           }
          ],
          "scattergl": [
           {
            "marker": {
             "colorbar": {
              "outlinewidth": 0,
              "ticks": ""
             }
            },
            "type": "scattergl"
           }
          ],
          "scattermapbox": [
           {
            "marker": {
             "colorbar": {
              "outlinewidth": 0,
              "ticks": ""
             }
            },
            "type": "scattermapbox"
           }
          ],
          "scatterpolar": [
           {
            "marker": {
             "colorbar": {
              "outlinewidth": 0,
              "ticks": ""
             }
            },
            "type": "scatterpolar"
           }
          ],
          "scatterpolargl": [
           {
            "marker": {
             "colorbar": {
              "outlinewidth": 0,
              "ticks": ""
             }
            },
            "type": "scatterpolargl"
           }
          ],
          "scatterternary": [
           {
            "marker": {
             "colorbar": {
              "outlinewidth": 0,
              "ticks": ""
             }
            },
            "type": "scatterternary"
           }
          ],
          "surface": [
           {
            "colorbar": {
             "outlinewidth": 0,
             "ticks": ""
            },
            "colorscale": [
             [
              0,
              "#0d0887"
             ],
             [
              0.1111111111111111,
              "#46039f"
             ],
             [
              0.2222222222222222,
              "#7201a8"
             ],
             [
              0.3333333333333333,
              "#9c179e"
             ],
             [
              0.4444444444444444,
              "#bd3786"
             ],
             [
              0.5555555555555556,
              "#d8576b"
             ],
             [
              0.6666666666666666,
              "#ed7953"
             ],
             [
              0.7777777777777778,
              "#fb9f3a"
             ],
             [
              0.8888888888888888,
              "#fdca26"
             ],
             [
              1,
              "#f0f921"
             ]
            ],
            "type": "surface"
           }
          ],
          "table": [
           {
            "cells": {
             "fill": {
              "color": "#EBF0F8"
             },
             "line": {
              "color": "white"
             }
            },
            "header": {
             "fill": {
              "color": "#C8D4E3"
             },
             "line": {
              "color": "white"
             }
            },
            "type": "table"
           }
          ]
         },
         "layout": {
          "annotationdefaults": {
           "arrowcolor": "#2a3f5f",
           "arrowhead": 0,
           "arrowwidth": 1
          },
          "autotypenumbers": "strict",
          "coloraxis": {
           "colorbar": {
            "outlinewidth": 0,
            "ticks": ""
           }
          },
          "colorscale": {
           "diverging": [
            [
             0,
             "#8e0152"
            ],
            [
             0.1,
             "#c51b7d"
            ],
            [
             0.2,
             "#de77ae"
            ],
            [
             0.3,
             "#f1b6da"
            ],
            [
             0.4,
             "#fde0ef"
            ],
            [
             0.5,
             "#f7f7f7"
            ],
            [
             0.6,
             "#e6f5d0"
            ],
            [
             0.7,
             "#b8e186"
            ],
            [
             0.8,
             "#7fbc41"
            ],
            [
             0.9,
             "#4d9221"
            ],
            [
             1,
             "#276419"
            ]
           ],
           "sequential": [
            [
             0,
             "#0d0887"
            ],
            [
             0.1111111111111111,
             "#46039f"
            ],
            [
             0.2222222222222222,
             "#7201a8"
            ],
            [
             0.3333333333333333,
             "#9c179e"
            ],
            [
             0.4444444444444444,
             "#bd3786"
            ],
            [
             0.5555555555555556,
             "#d8576b"
            ],
            [
             0.6666666666666666,
             "#ed7953"
            ],
            [
             0.7777777777777778,
             "#fb9f3a"
            ],
            [
             0.8888888888888888,
             "#fdca26"
            ],
            [
             1,
             "#f0f921"
            ]
           ],
           "sequentialminus": [
            [
             0,
             "#0d0887"
            ],
            [
             0.1111111111111111,
             "#46039f"
            ],
            [
             0.2222222222222222,
             "#7201a8"
            ],
            [
             0.3333333333333333,
             "#9c179e"
            ],
            [
             0.4444444444444444,
             "#bd3786"
            ],
            [
             0.5555555555555556,
             "#d8576b"
            ],
            [
             0.6666666666666666,
             "#ed7953"
            ],
            [
             0.7777777777777778,
             "#fb9f3a"
            ],
            [
             0.8888888888888888,
             "#fdca26"
            ],
            [
             1,
             "#f0f921"
            ]
           ]
          },
          "colorway": [
           "#636efa",
           "#EF553B",
           "#00cc96",
           "#ab63fa",
           "#FFA15A",
           "#19d3f3",
           "#FF6692",
           "#B6E880",
           "#FF97FF",
           "#FECB52"
          ],
          "font": {
           "color": "#2a3f5f"
          },
          "geo": {
           "bgcolor": "white",
           "lakecolor": "white",
           "landcolor": "#E5ECF6",
           "showlakes": true,
           "showland": true,
           "subunitcolor": "white"
          },
          "hoverlabel": {
           "align": "left"
          },
          "hovermode": "closest",
          "mapbox": {
           "style": "light"
          },
          "paper_bgcolor": "white",
          "plot_bgcolor": "#E5ECF6",
          "polar": {
           "angularaxis": {
            "gridcolor": "white",
            "linecolor": "white",
            "ticks": ""
           },
           "bgcolor": "#E5ECF6",
           "radialaxis": {
            "gridcolor": "white",
            "linecolor": "white",
            "ticks": ""
           }
          },
          "scene": {
           "xaxis": {
            "backgroundcolor": "#E5ECF6",
            "gridcolor": "white",
            "gridwidth": 2,
            "linecolor": "white",
            "showbackground": true,
            "ticks": "",
            "zerolinecolor": "white"
           },
           "yaxis": {
            "backgroundcolor": "#E5ECF6",
            "gridcolor": "white",
            "gridwidth": 2,
            "linecolor": "white",
            "showbackground": true,
            "ticks": "",
            "zerolinecolor": "white"
           },
           "zaxis": {
            "backgroundcolor": "#E5ECF6",
            "gridcolor": "white",
            "gridwidth": 2,
            "linecolor": "white",
            "showbackground": true,
            "ticks": "",
            "zerolinecolor": "white"
           }
          },
          "shapedefaults": {
           "line": {
            "color": "#2a3f5f"
           }
          },
          "ternary": {
           "aaxis": {
            "gridcolor": "white",
            "linecolor": "white",
            "ticks": ""
           },
           "baxis": {
            "gridcolor": "white",
            "linecolor": "white",
            "ticks": ""
           },
           "bgcolor": "#E5ECF6",
           "caxis": {
            "gridcolor": "white",
            "linecolor": "white",
            "ticks": ""
           }
          },
          "title": {
           "x": 0.05
          },
          "xaxis": {
           "automargin": true,
           "gridcolor": "white",
           "linecolor": "white",
           "ticks": "",
           "title": {
            "standoff": 15
           },
           "zerolinecolor": "white",
           "zerolinewidth": 2
          },
          "yaxis": {
           "automargin": true,
           "gridcolor": "white",
           "linecolor": "white",
           "ticks": "",
           "title": {
            "standoff": 15
           },
           "zerolinecolor": "white",
           "zerolinewidth": 2
          }
         }
        },
        "title": {
         "text": "Hydrogen bond stability in N501 (red) against Y501 (blue)"
        },
        "xaxis": {
         "tickvals": [
          482,
          483,
          484,
          485,
          486,
          487,
          488,
          489,
          490,
          491,
          492,
          493,
          494,
          495,
          496,
          497,
          498,
          499,
          500,
          501,
          502,
          503,
          504,
          505,
          506,
          507,
          508,
          509,
          510,
          511
         ],
         "title": {
          "text": "Residues"
         }
        },
        "yaxis": {
         "title": {
          "text": "Hydrogen bond stability"
         }
        }
       }
      },
      "text/html": [
       "<div>                            <div id=\"537109a4-adc3-4eb7-a682-80e2349dc20d\" class=\"plotly-graph-div\" style=\"height:525px; width:100%;\"></div>            <script type=\"text/javascript\">                require([\"plotly\"], function(Plotly) {                    window.PLOTLYENV=window.PLOTLYENV || {};                                    if (document.getElementById(\"537109a4-adc3-4eb7-a682-80e2349dc20d\")) {                    Plotly.newPlot(                        \"537109a4-adc3-4eb7-a682-80e2349dc20d\",                        [{\"marker\":{\"color\":\"red\",\"size\":12},\"mode\":\"markers\",\"name\":\"MCV1900410\",\"opacity\":0.4,\"x\":[482,483,484,485,486,487,488,489,490,491,492,493,494,495,496,497,498,499,500,501,502,503,504,505,506,507,508,509,510,511],\"y\":[0,0,0.058252427184466014,0,0,1.0485436893203883,0,0.07766990291262135,0.019417475728155338,0,0,0.44660194174757284,0,0,0.009708737864077669,0,0.04854368932038834,0,0.4271844660194175,0.4854368932038835,0.038834951456310676,0,0,0.038834951456310676,0,0,0,0,0,0],\"type\":\"scatter\"},{\"marker\":{\"color\":\"red\",\"size\":12},\"mode\":\"markers\",\"name\":\"MCV1900411\",\"opacity\":0.4,\"x\":[482,483,484,485,486,487,488,489,490,491,492,493,494,495,496,497,498,499,500,501,502,503,504,505,506,507,508,509,510,511],\"y\":[0,0,0.02912621359223301,0,0,0.9902912621359222,0,0.038834951456310676,0.009708737864077669,0,0.009708737864077669,0.6407766990291262,0,0.019417475728155338,0.019417475728155338,0,0.2815533980582524,0,0.47572815533980584,0.06796116504854369,0.39805825242718446,0,0,0.24271844660194175,0,0,0,0,0,0],\"type\":\"scatter\"},{\"marker\":{\"color\":\"red\",\"size\":12},\"mode\":\"markers\",\"name\":\"MCV1900412\",\"opacity\":0.4,\"x\":[482,483,484,485,486,487,488,489,490,491,492,493,494,495,496,497,498,499,500,501,502,503,504,505,506,507,508,509,510,511],\"y\":[0,0,0.009708737864077669,0,0,0.9611650485436893,0,0.009708737864077669,0.009708737864077669,0,0,0.6990291262135921,0,0,0.05825242718446601,0,0.3203883495145631,0,0.45631067961165045,0.19417475728155337,0.1553398058252427,0,0,0.16504854368932037,0,0,0,0,0,0],\"type\":\"scatter\"},{\"marker\":{\"color\":\"red\",\"size\":12},\"mode\":\"markers\",\"name\":\"MCV1900419\",\"opacity\":0.4,\"x\":[482,483,484,485,486,487,488,489,490,491,492,493,494,495,496,497,498,499,500,501,502,503,504,505,506,507,508,509,510,511],\"y\":[0,0,0,0,0,0.980952380952381,0,0,0,0,0,0.6095238095238096,0,0,0.18095238095238095,0,0.12380952380952381,0,0.9428571428571428,0.009523809523809525,0.6,0,0,0.37142857142857144,0,0,0,0,0,0],\"type\":\"scatter\"},{\"marker\":{\"color\":\"red\",\"size\":12},\"mode\":\"markers\",\"name\":\"MCV1900420\",\"opacity\":0.4,\"x\":[482,483,484,485,486,487,488,489,490,491,492,493,494,495,496,497,498,499,500,501,502,503,504,505,506,507,508,509,510,511],\"y\":[0,0,0.009433962264150943,0,0,0.9245283018867925,0,0.03773584905660377,0,0,0,0.5377358490566038,0,0,0.2169811320754717,0,0.2641509433962264,0,0.4811320754716981,0.04716981132075471,0.5283018867924528,0,0,0.5849056603773585,0,0,0,0,0,0],\"type\":\"scatter\"},{\"marker\":{\"color\":\"red\",\"size\":12},\"mode\":\"markers\",\"name\":\"MCV1900421\",\"opacity\":0.4,\"x\":[482,483,484,485,486,487,488,489,490,491,492,493,494,495,496,497,498,499,500,501,502,503,504,505,506,507,508,509,510,511],\"y\":[0,0,0.00980392156862745,0,0,0.9215686274509804,0,0,0.00980392156862745,0,0,0.5392156862745098,0,0,0.12745098039215688,0,0.3333333333333333,0,0.892156862745098,0.0392156862745098,0.6666666666666666,0,0,0.7450980392156863,0,0,0,0,0,0],\"type\":\"scatter\"},{\"marker\":{\"color\":\"blue\",\"size\":12},\"mode\":\"markers\",\"name\":\"MCV1900413\",\"opacity\":0.4,\"x\":[482,483,484,485,486,487,488,489,490,491,492,493,494,495,496,497,498,499,500,501,502,503,504,505,506,507,508,509,510,511],\"y\":[0,0,0.23076923076923078,0,0,0.923076923076923,0,0.009615384615384616,0,0,0,0.45192307692307687,0,0.009615384615384616,0,0,0.04807692307692308,0,0.9326923076923077,0.14423076923076925,0.4807692307692308,0,0,0.375,0,0,0,0,0,0],\"type\":\"scatter\"},{\"marker\":{\"color\":\"blue\",\"size\":12},\"mode\":\"markers\",\"name\":\"MCV1900414\",\"opacity\":0.4,\"x\":[482,483,484,485,486,487,488,489,490,491,492,493,494,495,496,497,498,499,500,501,502,503,504,505,506,507,508,509,510,511],\"y\":[0,0,0.029126213592233007,0,0,0.9514563106796116,0,0.019417475728155338,0,0,0,0.4174757281553398,0,0,0,0,0.16504854368932037,0,0.5436893203883495,0.02912621359223301,0.7281553398058253,0,0,0.3786407766990291,0,0,0,0,0,0],\"type\":\"scatter\"},{\"marker\":{\"color\":\"blue\",\"size\":12},\"mode\":\"markers\",\"name\":\"MCV1900415\",\"opacity\":0.4,\"x\":[482,483,484,485,486,487,488,489,490,491,492,493,494,495,496,497,498,499,500,501,502,503,504,505,506,507,508,509,510,511],\"y\":[0,0,0.05825242718446602,0,0,1.029126213592233,0,0.009708737864077669,0,0,0,0.6213592233009708,0,0,0,0,0.24271844660194175,0,0.9514563106796117,0.029126213592233007,0.5922330097087378,0,0,0.10679611650485436,0,0,0,0,0,0],\"type\":\"scatter\"},{\"marker\":{\"color\":\"blue\",\"size\":12},\"mode\":\"markers\",\"name\":\"MCV1900416\",\"opacity\":0.4,\"x\":[482,483,484,485,486,487,488,489,490,491,492,493,494,495,496,497,498,499,500,501,502,503,504,505,506,507,508,509,510,511],\"y\":[0,0,0.1844660194174757,0,0,0.4077669902912621,0,0.5242718446601942,0.13592233009708737,0,0.06796116504854369,1.0,0,0,0,0,0.4077669902912621,0,0.46601941747572817,0.029126213592233007,0.019417475728155338,0,0,0.029126213592233007,0,0,0,0,0,0],\"type\":\"scatter\"},{\"marker\":{\"color\":\"blue\",\"size\":12},\"mode\":\"markers\",\"name\":\"MCV1900417\",\"opacity\":0.4,\"x\":[482,483,484,485,486,487,488,489,490,491,492,493,494,495,496,497,498,499,500,501,502,503,504,505,506,507,508,509,510,511],\"y\":[0,0,0,0,0,0.8640776699029126,0,0.02912621359223301,0.04854368932038834,0,0,0.6310679611650485,0,0,0,0,0.24271844660194175,0,0.47572815533980584,0.07766990291262135,0.3300970873786408,0.009708737864077669,0,0.10679611650485438,0,0,0,0,0,0],\"type\":\"scatter\"},{\"marker\":{\"color\":\"blue\",\"size\":12},\"mode\":\"markers\",\"name\":\"MCV1900418\",\"opacity\":0.4,\"x\":[482,483,484,485,486,487,488,489,490,491,492,493,494,495,496,497,498,499,500,501,502,503,504,505,506,507,508,509,510,511],\"y\":[0,0,0.04854368932038835,0,0.009708737864077669,0.3300970873786408,0,0.6699029126213591,0.04854368932038834,0,0.029126213592233007,0.7475728155339805,0,0,0,0,0.2621359223300971,0,0.23300970873786409,0.2718446601941747,0.1262135922330097,0,0,0.1553398058252427,0,0,0,0,0,0],\"type\":\"scatter\"},{\"marker\":{\"color\":\"blue\",\"size\":12},\"mode\":\"markers\",\"name\":\"MCV1900422\",\"opacity\":0.4,\"x\":[482,483,484,485,486,487,488,489,490,491,492,493,494,495,496,497,498,499,500,501,502,503,504,505,506,507,508,509,510,511],\"y\":[0,0,0.3980582524271844,0,0,1.0388349514563107,0,0.019417475728155338,0,0,0,0.5631067961165048,0,0,0,0,0.04854368932038835,0,0.7184466019417476,0.04854368932038834,0.8543689320388349,0,0,0.4660194174757281,0,0,0,0,0,0],\"type\":\"scatter\"},{\"marker\":{\"color\":\"blue\",\"size\":12},\"mode\":\"markers\",\"name\":\"MCV1900423\",\"opacity\":0.4,\"x\":[482,483,484,485,486,487,488,489,490,491,492,493,494,495,496,497,498,499,500,501,502,503,504,505,506,507,508,509,510,511],\"y\":[0,0,0,0,0,0.7087378640776698,0,0.029126213592233007,0,0,0,0.5631067961165048,0,0,0,0,0.24271844660194175,0,0.9902912621359222,0.009708737864077669,0.7572815533980582,0.009708737864077669,0,0.2815533980582524,0,0,0,0,0,0],\"type\":\"scatter\"},{\"marker\":{\"color\":\"blue\",\"size\":12},\"mode\":\"markers\",\"name\":\"MCV1900424\",\"opacity\":0.4,\"x\":[482,483,484,485,486,487,488,489,490,491,492,493,494,495,496,497,498,499,500,501,502,503,504,505,506,507,508,509,510,511],\"y\":[0,0,0.41747572815533973,0,0,0.8543689320388349,0,0.009708737864077669,0.009708737864077669,0,0.009708737864077669,0.5825242718446602,0,0.009708737864077669,0,0,0.13592233009708737,0,0.9999999999999999,0.029126213592233007,0.7087378640776699,0.009708737864077669,0,0.4174757281553398,0,0,0,0,0,0],\"type\":\"scatter\"}],                        {\"title\":{\"text\":\"Hydrogen bond stability in N501 (red) against Y501 (blue)\"},\"xaxis\":{\"tickvals\":[482,483,484,485,486,487,488,489,490,491,492,493,494,495,496,497,498,499,500,501,502,503,504,505,506,507,508,509,510,511],\"title\":{\"text\":\"Residues\"}},\"yaxis\":{\"title\":{\"text\":\"Hydrogen bond stability\"}},\"template\":{\"data\":{\"histogram2dcontour\":[{\"type\":\"histogram2dcontour\",\"colorbar\":{\"outlinewidth\":0,\"ticks\":\"\"},\"colorscale\":[[0.0,\"#0d0887\"],[0.1111111111111111,\"#46039f\"],[0.2222222222222222,\"#7201a8\"],[0.3333333333333333,\"#9c179e\"],[0.4444444444444444,\"#bd3786\"],[0.5555555555555556,\"#d8576b\"],[0.6666666666666666,\"#ed7953\"],[0.7777777777777778,\"#fb9f3a\"],[0.8888888888888888,\"#fdca26\"],[1.0,\"#f0f921\"]]}],\"choropleth\":[{\"type\":\"choropleth\",\"colorbar\":{\"outlinewidth\":0,\"ticks\":\"\"}}],\"histogram2d\":[{\"type\":\"histogram2d\",\"colorbar\":{\"outlinewidth\":0,\"ticks\":\"\"},\"colorscale\":[[0.0,\"#0d0887\"],[0.1111111111111111,\"#46039f\"],[0.2222222222222222,\"#7201a8\"],[0.3333333333333333,\"#9c179e\"],[0.4444444444444444,\"#bd3786\"],[0.5555555555555556,\"#d8576b\"],[0.6666666666666666,\"#ed7953\"],[0.7777777777777778,\"#fb9f3a\"],[0.8888888888888888,\"#fdca26\"],[1.0,\"#f0f921\"]]}],\"heatmap\":[{\"type\":\"heatmap\",\"colorbar\":{\"outlinewidth\":0,\"ticks\":\"\"},\"colorscale\":[[0.0,\"#0d0887\"],[0.1111111111111111,\"#46039f\"],[0.2222222222222222,\"#7201a8\"],[0.3333333333333333,\"#9c179e\"],[0.4444444444444444,\"#bd3786\"],[0.5555555555555556,\"#d8576b\"],[0.6666666666666666,\"#ed7953\"],[0.7777777777777778,\"#fb9f3a\"],[0.8888888888888888,\"#fdca26\"],[1.0,\"#f0f921\"]]}],\"heatmapgl\":[{\"type\":\"heatmapgl\",\"colorbar\":{\"outlinewidth\":0,\"ticks\":\"\"},\"colorscale\":[[0.0,\"#0d0887\"],[0.1111111111111111,\"#46039f\"],[0.2222222222222222,\"#7201a8\"],[0.3333333333333333,\"#9c179e\"],[0.4444444444444444,\"#bd3786\"],[0.5555555555555556,\"#d8576b\"],[0.6666666666666666,\"#ed7953\"],[0.7777777777777778,\"#fb9f3a\"],[0.8888888888888888,\"#fdca26\"],[1.0,\"#f0f921\"]]}],\"contourcarpet\":[{\"type\":\"contourcarpet\",\"colorbar\":{\"outlinewidth\":0,\"ticks\":\"\"}}],\"contour\":[{\"type\":\"contour\",\"colorbar\":{\"outlinewidth\":0,\"ticks\":\"\"},\"colorscale\":[[0.0,\"#0d0887\"],[0.1111111111111111,\"#46039f\"],[0.2222222222222222,\"#7201a8\"],[0.3333333333333333,\"#9c179e\"],[0.4444444444444444,\"#bd3786\"],[0.5555555555555556,\"#d8576b\"],[0.6666666666666666,\"#ed7953\"],[0.7777777777777778,\"#fb9f3a\"],[0.8888888888888888,\"#fdca26\"],[1.0,\"#f0f921\"]]}],\"surface\":[{\"type\":\"surface\",\"colorbar\":{\"outlinewidth\":0,\"ticks\":\"\"},\"colorscale\":[[0.0,\"#0d0887\"],[0.1111111111111111,\"#46039f\"],[0.2222222222222222,\"#7201a8\"],[0.3333333333333333,\"#9c179e\"],[0.4444444444444444,\"#bd3786\"],[0.5555555555555556,\"#d8576b\"],[0.6666666666666666,\"#ed7953\"],[0.7777777777777778,\"#fb9f3a\"],[0.8888888888888888,\"#fdca26\"],[1.0,\"#f0f921\"]]}],\"mesh3d\":[{\"type\":\"mesh3d\",\"colorbar\":{\"outlinewidth\":0,\"ticks\":\"\"}}],\"scatter\":[{\"fillpattern\":{\"fillmode\":\"overlay\",\"size\":10,\"solidity\":0.2},\"type\":\"scatter\"}],\"parcoords\":[{\"type\":\"parcoords\",\"line\":{\"colorbar\":{\"outlinewidth\":0,\"ticks\":\"\"}}}],\"scatterpolargl\":[{\"type\":\"scatterpolargl\",\"marker\":{\"colorbar\":{\"outlinewidth\":0,\"ticks\":\"\"}}}],\"bar\":[{\"error_x\":{\"color\":\"#2a3f5f\"},\"error_y\":{\"color\":\"#2a3f5f\"},\"marker\":{\"line\":{\"color\":\"#E5ECF6\",\"width\":0.5},\"pattern\":{\"fillmode\":\"overlay\",\"size\":10,\"solidity\":0.2}},\"type\":\"bar\"}],\"scattergeo\":[{\"type\":\"scattergeo\",\"marker\":{\"colorbar\":{\"outlinewidth\":0,\"ticks\":\"\"}}}],\"scatterpolar\":[{\"type\":\"scatterpolar\",\"marker\":{\"colorbar\":{\"outlinewidth\":0,\"ticks\":\"\"}}}],\"histogram\":[{\"marker\":{\"pattern\":{\"fillmode\":\"overlay\",\"size\":10,\"solidity\":0.2}},\"type\":\"histogram\"}],\"scattergl\":[{\"type\":\"scattergl\",\"marker\":{\"colorbar\":{\"outlinewidth\":0,\"ticks\":\"\"}}}],\"scatter3d\":[{\"type\":\"scatter3d\",\"line\":{\"colorbar\":{\"outlinewidth\":0,\"ticks\":\"\"}},\"marker\":{\"colorbar\":{\"outlinewidth\":0,\"ticks\":\"\"}}}],\"scattermapbox\":[{\"type\":\"scattermapbox\",\"marker\":{\"colorbar\":{\"outlinewidth\":0,\"ticks\":\"\"}}}],\"scatterternary\":[{\"type\":\"scatterternary\",\"marker\":{\"colorbar\":{\"outlinewidth\":0,\"ticks\":\"\"}}}],\"scattercarpet\":[{\"type\":\"scattercarpet\",\"marker\":{\"colorbar\":{\"outlinewidth\":0,\"ticks\":\"\"}}}],\"carpet\":[{\"aaxis\":{\"endlinecolor\":\"#2a3f5f\",\"gridcolor\":\"white\",\"linecolor\":\"white\",\"minorgridcolor\":\"white\",\"startlinecolor\":\"#2a3f5f\"},\"baxis\":{\"endlinecolor\":\"#2a3f5f\",\"gridcolor\":\"white\",\"linecolor\":\"white\",\"minorgridcolor\":\"white\",\"startlinecolor\":\"#2a3f5f\"},\"type\":\"carpet\"}],\"table\":[{\"cells\":{\"fill\":{\"color\":\"#EBF0F8\"},\"line\":{\"color\":\"white\"}},\"header\":{\"fill\":{\"color\":\"#C8D4E3\"},\"line\":{\"color\":\"white\"}},\"type\":\"table\"}],\"barpolar\":[{\"marker\":{\"line\":{\"color\":\"#E5ECF6\",\"width\":0.5},\"pattern\":{\"fillmode\":\"overlay\",\"size\":10,\"solidity\":0.2}},\"type\":\"barpolar\"}],\"pie\":[{\"automargin\":true,\"type\":\"pie\"}]},\"layout\":{\"autotypenumbers\":\"strict\",\"colorway\":[\"#636efa\",\"#EF553B\",\"#00cc96\",\"#ab63fa\",\"#FFA15A\",\"#19d3f3\",\"#FF6692\",\"#B6E880\",\"#FF97FF\",\"#FECB52\"],\"font\":{\"color\":\"#2a3f5f\"},\"hovermode\":\"closest\",\"hoverlabel\":{\"align\":\"left\"},\"paper_bgcolor\":\"white\",\"plot_bgcolor\":\"#E5ECF6\",\"polar\":{\"bgcolor\":\"#E5ECF6\",\"angularaxis\":{\"gridcolor\":\"white\",\"linecolor\":\"white\",\"ticks\":\"\"},\"radialaxis\":{\"gridcolor\":\"white\",\"linecolor\":\"white\",\"ticks\":\"\"}},\"ternary\":{\"bgcolor\":\"#E5ECF6\",\"aaxis\":{\"gridcolor\":\"white\",\"linecolor\":\"white\",\"ticks\":\"\"},\"baxis\":{\"gridcolor\":\"white\",\"linecolor\":\"white\",\"ticks\":\"\"},\"caxis\":{\"gridcolor\":\"white\",\"linecolor\":\"white\",\"ticks\":\"\"}},\"coloraxis\":{\"colorbar\":{\"outlinewidth\":0,\"ticks\":\"\"}},\"colorscale\":{\"sequential\":[[0.0,\"#0d0887\"],[0.1111111111111111,\"#46039f\"],[0.2222222222222222,\"#7201a8\"],[0.3333333333333333,\"#9c179e\"],[0.4444444444444444,\"#bd3786\"],[0.5555555555555556,\"#d8576b\"],[0.6666666666666666,\"#ed7953\"],[0.7777777777777778,\"#fb9f3a\"],[0.8888888888888888,\"#fdca26\"],[1.0,\"#f0f921\"]],\"sequentialminus\":[[0.0,\"#0d0887\"],[0.1111111111111111,\"#46039f\"],[0.2222222222222222,\"#7201a8\"],[0.3333333333333333,\"#9c179e\"],[0.4444444444444444,\"#bd3786\"],[0.5555555555555556,\"#d8576b\"],[0.6666666666666666,\"#ed7953\"],[0.7777777777777778,\"#fb9f3a\"],[0.8888888888888888,\"#fdca26\"],[1.0,\"#f0f921\"]],\"diverging\":[[0,\"#8e0152\"],[0.1,\"#c51b7d\"],[0.2,\"#de77ae\"],[0.3,\"#f1b6da\"],[0.4,\"#fde0ef\"],[0.5,\"#f7f7f7\"],[0.6,\"#e6f5d0\"],[0.7,\"#b8e186\"],[0.8,\"#7fbc41\"],[0.9,\"#4d9221\"],[1,\"#276419\"]]},\"xaxis\":{\"gridcolor\":\"white\",\"linecolor\":\"white\",\"ticks\":\"\",\"title\":{\"standoff\":15},\"zerolinecolor\":\"white\",\"automargin\":true,\"zerolinewidth\":2},\"yaxis\":{\"gridcolor\":\"white\",\"linecolor\":\"white\",\"ticks\":\"\",\"title\":{\"standoff\":15},\"zerolinecolor\":\"white\",\"automargin\":true,\"zerolinewidth\":2},\"scene\":{\"xaxis\":{\"backgroundcolor\":\"#E5ECF6\",\"gridcolor\":\"white\",\"linecolor\":\"white\",\"showbackground\":true,\"ticks\":\"\",\"zerolinecolor\":\"white\",\"gridwidth\":2},\"yaxis\":{\"backgroundcolor\":\"#E5ECF6\",\"gridcolor\":\"white\",\"linecolor\":\"white\",\"showbackground\":true,\"ticks\":\"\",\"zerolinecolor\":\"white\",\"gridwidth\":2},\"zaxis\":{\"backgroundcolor\":\"#E5ECF6\",\"gridcolor\":\"white\",\"linecolor\":\"white\",\"showbackground\":true,\"ticks\":\"\",\"zerolinecolor\":\"white\",\"gridwidth\":2}},\"shapedefaults\":{\"line\":{\"color\":\"#2a3f5f\"}},\"annotationdefaults\":{\"arrowcolor\":\"#2a3f5f\",\"arrowhead\":0,\"arrowwidth\":1},\"geo\":{\"bgcolor\":\"white\",\"landcolor\":\"#E5ECF6\",\"subunitcolor\":\"white\",\"showland\":true,\"showlakes\":true,\"lakecolor\":\"white\"},\"title\":{\"x\":0.05},\"mapbox\":{\"style\":\"light\"}}}},                        {\"responsive\": true}                    ).then(function(){\n",
       "                            \n",
       "var gd = document.getElementById('537109a4-adc3-4eb7-a682-80e2349dc20d');\n",
       "var x = new MutationObserver(function (mutations, observer) {{\n",
       "        var display = window.getComputedStyle(gd).display;\n",
       "        if (!display || display === 'none') {{\n",
       "            console.log([gd, 'removed!']);\n",
       "            Plotly.purge(gd);\n",
       "            observer.disconnect();\n",
       "        }}\n",
       "}});\n",
       "\n",
       "// Listen for the removal of the full notebook cells\n",
       "var notebookContainer = gd.closest('#notebook-container');\n",
       "if (notebookContainer) {{\n",
       "    x.observe(notebookContainer, {childList: true});\n",
       "}}\n",
       "\n",
       "// Listen for the clearing of the current output cell\n",
       "var outputEl = gd.closest('.output');\n",
       "if (outputEl) {{\n",
       "    x.observe(outputEl, {childList: true});\n",
       "}}\n",
       "\n",
       "                        })                };                });            </script>        </div>"
      ]
     },
     "metadata": {},
     "output_type": "display_data"
    }
   ],
   "source": [
    "# Set a function to get the specific data energies we are interesed in\n",
    "def get_hbonds_data (accession_or_id : str) -> dict:\n",
    "\n",
    "    # Request the analysis\n",
    "    analysis_request = api_url + 'projects/' + accession_or_id + '/analyses/hbonds'\n",
    "    with urllib.request.urlopen(analysis_request) as response:\n",
    "        parsed_response = json.loads(response.read().decode(\"utf-8\"))\n",
    "    analysis_data = parsed_response['data']\n",
    "\n",
    "    # In this case, there is only one defined interaction: the protein-ligand interaction\n",
    "    interaction_data = analysis_data[0]\n",
    "    \n",
    "    return interaction_data\n",
    "\n",
    "# For each simulation, download hbonds data and find all hydrogen bonds in the target residues\n",
    "colors = { 'N501': 'red', 'Y501': 'blue' }\n",
    "hbonds_data = { 'N501': [], 'Y501': [] } # Store hbonds data for further use\n",
    "plot_data = []\n",
    "for group_name, simulations in simulation_groups.items():\n",
    "    # Make a scatter for each energies result\n",
    "    for simulation in simulations:\n",
    "        simulation_id = simulation['identifier']\n",
    "        accession = simulation['accession']\n",
    "        # Get topology data and indices for target residues\n",
    "        topology = simulation['topology']\n",
    "        atom_residue_indices = topology['atom_residue_indices']\n",
    "        target_residue_indices = simulation['target_residue_indices']\n",
    "        # Get the hydrogen bonds data\n",
    "        hbond_data = get_hbonds_data(simulation_id)\n",
    "        # Get hydrogen bonds in the target residues\n",
    "        acceptors = hbond_data['acceptors']\n",
    "        donors = hbond_data['donors']\n",
    "        hbonds = hbond_data['hbonds']\n",
    "        target_hbonds = {}\n",
    "        for i, target_residue_index in enumerate(target_residue_indices):\n",
    "            # Find atom indices for all atoms in target residue\n",
    "            target_atoms = [ atom_index for atom_index, residue_index in enumerate(atom_residue_indices) if residue_index == target_residue_index ]\n",
    "            residue_stability = 0\n",
    "            for j, hb in enumerate(hbonds):\n",
    "                acceptor = acceptors[j]\n",
    "                donor = donors[j]\n",
    "                target_atom = next((atom for atom in [acceptor, donor] if atom in target_atoms), None)\n",
    "                if not target_atom:\n",
    "                    continue\n",
    "                # Calculate the residue stability by adding all its hydrogen bond stabilities\n",
    "                hbond_stability = sum(hb) / len(hb)\n",
    "                residue_stability += hbond_stability\n",
    "            # Set the final dataset to be displayed, using reference numeration for the residue labels\n",
    "            target_residue_reference_number = target_residues[i]\n",
    "            target_hbonds[target_residue_reference_number] = residue_stability\n",
    "        hbonds_data[group_name].append(target_hbonds)\n",
    "        # Generate the corresponding line for the plot\n",
    "        plot_data.append(\n",
    "            go.Scatter(\n",
    "                x = list(target_hbonds.keys()),\n",
    "                y = list(target_hbonds.values()),\n",
    "                name = accession,\n",
    "                opacity=0.4,\n",
    "                marker={'color': colors[group_name], 'size': 12},\n",
    "                mode=\"markers\",\n",
    "            )\n",
    "        )\n",
    "        \n",
    "# Show the figure of all energies overlapped\n",
    "fig = go.Figure({\n",
    "    \"data\": plot_data,\n",
    "    \"layout\": go.Layout(\n",
    "        title= 'Hydrogen bond stability in N501 (red) against Y501 (blue)',\n",
    "        xaxis={'title': 'Residues', 'tickvals': list(target_hbonds.keys())},\n",
    "        yaxis={'title': 'Hydrogen bond stability'},\n",
    "    )\n",
    "})\n",
    "fig.show()"
   ]
  },
  {
   "cell_type": "markdown",
   "id": "60428a0c",
   "metadata": {},
   "source": [
    "Now to highligh differences we will use a boxplot with averages and standard deviations.<br />\n",
    "We will also discard hydrogen bonds with 0 or near stability."
   ]
  },
  {
   "cell_type": "code",
   "execution_count": 9,
   "id": "f508ec7d",
   "metadata": {},
   "outputs": [
    {
     "data": {
      "application/vnd.plotly.v1+json": {
       "config": {
        "plotlyServerURL": "https://plot.ly"
       },
       "data": [
        {
         "line": {
          "color": "red"
         },
         "name": "N501",
         "type": "box",
         "x": [
          "Residue 484",
          "Residue 484",
          "Residue 484",
          "Residue 484",
          "Residue 484",
          "Residue 484",
          "Residue 487",
          "Residue 487",
          "Residue 487",
          "Residue 487",
          "Residue 487",
          "Residue 487",
          "Residue 489",
          "Residue 489",
          "Residue 489",
          "Residue 489",
          "Residue 489",
          "Residue 489",
          "Residue 493",
          "Residue 493",
          "Residue 493",
          "Residue 493",
          "Residue 493",
          "Residue 493",
          "Residue 496",
          "Residue 496",
          "Residue 496",
          "Residue 496",
          "Residue 496",
          "Residue 496",
          "Residue 498",
          "Residue 498",
          "Residue 498",
          "Residue 498",
          "Residue 498",
          "Residue 498",
          "Residue 500",
          "Residue 500",
          "Residue 500",
          "Residue 500",
          "Residue 500",
          "Residue 500",
          "Residue 501",
          "Residue 501",
          "Residue 501",
          "Residue 501",
          "Residue 501",
          "Residue 501",
          "Residue 502",
          "Residue 502",
          "Residue 502",
          "Residue 502",
          "Residue 502",
          "Residue 502",
          "Residue 505",
          "Residue 505",
          "Residue 505",
          "Residue 505",
          "Residue 505",
          "Residue 505"
         ],
         "y": [
          0.058252427184466014,
          0.02912621359223301,
          0.009708737864077669,
          0,
          0.009433962264150943,
          0.00980392156862745,
          1.0485436893203883,
          0.9902912621359222,
          0.9611650485436893,
          0.980952380952381,
          0.9245283018867925,
          0.9215686274509804,
          0.07766990291262135,
          0.038834951456310676,
          0.009708737864077669,
          0,
          0.03773584905660377,
          0,
          0.44660194174757284,
          0.6407766990291262,
          0.6990291262135921,
          0.6095238095238096,
          0.5377358490566038,
          0.5392156862745098,
          0.009708737864077669,
          0.019417475728155338,
          0.05825242718446601,
          0.18095238095238095,
          0.2169811320754717,
          0.12745098039215688,
          0.04854368932038834,
          0.2815533980582524,
          0.3203883495145631,
          0.12380952380952381,
          0.2641509433962264,
          0.3333333333333333,
          0.4271844660194175,
          0.47572815533980584,
          0.45631067961165045,
          0.9428571428571428,
          0.4811320754716981,
          0.892156862745098,
          0.4854368932038835,
          0.06796116504854369,
          0.19417475728155337,
          0.009523809523809525,
          0.04716981132075471,
          0.0392156862745098,
          0.038834951456310676,
          0.39805825242718446,
          0.1553398058252427,
          0.6,
          0.5283018867924528,
          0.6666666666666666,
          0.038834951456310676,
          0.24271844660194175,
          0.16504854368932037,
          0.37142857142857144,
          0.5849056603773585,
          0.7450980392156863
         ]
        },
        {
         "line": {
          "color": "blue"
         },
         "name": "Y501",
         "type": "box",
         "x": [
          "Residue 484",
          "Residue 484",
          "Residue 484",
          "Residue 484",
          "Residue 484",
          "Residue 484",
          "Residue 484",
          "Residue 484",
          "Residue 484",
          "Residue 487",
          "Residue 487",
          "Residue 487",
          "Residue 487",
          "Residue 487",
          "Residue 487",
          "Residue 487",
          "Residue 487",
          "Residue 487",
          "Residue 489",
          "Residue 489",
          "Residue 489",
          "Residue 489",
          "Residue 489",
          "Residue 489",
          "Residue 489",
          "Residue 489",
          "Residue 489",
          "Residue 493",
          "Residue 493",
          "Residue 493",
          "Residue 493",
          "Residue 493",
          "Residue 493",
          "Residue 493",
          "Residue 493",
          "Residue 493",
          "Residue 496",
          "Residue 496",
          "Residue 496",
          "Residue 496",
          "Residue 496",
          "Residue 496",
          "Residue 496",
          "Residue 496",
          "Residue 496",
          "Residue 498",
          "Residue 498",
          "Residue 498",
          "Residue 498",
          "Residue 498",
          "Residue 498",
          "Residue 498",
          "Residue 498",
          "Residue 498",
          "Residue 500",
          "Residue 500",
          "Residue 500",
          "Residue 500",
          "Residue 500",
          "Residue 500",
          "Residue 500",
          "Residue 500",
          "Residue 500",
          "Residue 501",
          "Residue 501",
          "Residue 501",
          "Residue 501",
          "Residue 501",
          "Residue 501",
          "Residue 501",
          "Residue 501",
          "Residue 501",
          "Residue 502",
          "Residue 502",
          "Residue 502",
          "Residue 502",
          "Residue 502",
          "Residue 502",
          "Residue 502",
          "Residue 502",
          "Residue 502",
          "Residue 505",
          "Residue 505",
          "Residue 505",
          "Residue 505",
          "Residue 505",
          "Residue 505",
          "Residue 505",
          "Residue 505",
          "Residue 505"
         ],
         "y": [
          0.23076923076923078,
          0.029126213592233007,
          0.05825242718446602,
          0.1844660194174757,
          0,
          0.04854368932038835,
          0.3980582524271844,
          0,
          0.41747572815533973,
          0.923076923076923,
          0.9514563106796116,
          1.029126213592233,
          0.4077669902912621,
          0.8640776699029126,
          0.3300970873786408,
          1.0388349514563107,
          0.7087378640776698,
          0.8543689320388349,
          0.009615384615384616,
          0.019417475728155338,
          0.009708737864077669,
          0.5242718446601942,
          0.02912621359223301,
          0.6699029126213591,
          0.019417475728155338,
          0.029126213592233007,
          0.009708737864077669,
          0.45192307692307687,
          0.4174757281553398,
          0.6213592233009708,
          1,
          0.6310679611650485,
          0.7475728155339805,
          0.5631067961165048,
          0.5631067961165048,
          0.5825242718446602,
          0,
          0,
          0,
          0,
          0,
          0,
          0,
          0,
          0,
          0.04807692307692308,
          0.16504854368932037,
          0.24271844660194175,
          0.4077669902912621,
          0.24271844660194175,
          0.2621359223300971,
          0.04854368932038835,
          0.24271844660194175,
          0.13592233009708737,
          0.9326923076923077,
          0.5436893203883495,
          0.9514563106796117,
          0.46601941747572817,
          0.47572815533980584,
          0.23300970873786409,
          0.7184466019417476,
          0.9902912621359222,
          0.9999999999999999,
          0.14423076923076925,
          0.02912621359223301,
          0.029126213592233007,
          0.029126213592233007,
          0.07766990291262135,
          0.2718446601941747,
          0.04854368932038834,
          0.009708737864077669,
          0.029126213592233007,
          0.4807692307692308,
          0.7281553398058253,
          0.5922330097087378,
          0.019417475728155338,
          0.3300970873786408,
          0.1262135922330097,
          0.8543689320388349,
          0.7572815533980582,
          0.7087378640776699,
          0.375,
          0.3786407766990291,
          0.10679611650485436,
          0.029126213592233007,
          0.10679611650485438,
          0.1553398058252427,
          0.4660194174757281,
          0.2815533980582524,
          0.4174757281553398
         ]
        }
       ],
       "layout": {
        "boxmode": "group",
        "template": {
         "data": {
          "bar": [
           {
            "error_x": {
             "color": "#2a3f5f"
            },
            "error_y": {
             "color": "#2a3f5f"
            },
            "marker": {
             "line": {
              "color": "#E5ECF6",
              "width": 0.5
             },
             "pattern": {
              "fillmode": "overlay",
              "size": 10,
              "solidity": 0.2
             }
            },
            "type": "bar"
           }
          ],
          "barpolar": [
           {
            "marker": {
             "line": {
              "color": "#E5ECF6",
              "width": 0.5
             },
             "pattern": {
              "fillmode": "overlay",
              "size": 10,
              "solidity": 0.2
             }
            },
            "type": "barpolar"
           }
          ],
          "carpet": [
           {
            "aaxis": {
             "endlinecolor": "#2a3f5f",
             "gridcolor": "white",
             "linecolor": "white",
             "minorgridcolor": "white",
             "startlinecolor": "#2a3f5f"
            },
            "baxis": {
             "endlinecolor": "#2a3f5f",
             "gridcolor": "white",
             "linecolor": "white",
             "minorgridcolor": "white",
             "startlinecolor": "#2a3f5f"
            },
            "type": "carpet"
           }
          ],
          "choropleth": [
           {
            "colorbar": {
             "outlinewidth": 0,
             "ticks": ""
            },
            "type": "choropleth"
           }
          ],
          "contour": [
           {
            "colorbar": {
             "outlinewidth": 0,
             "ticks": ""
            },
            "colorscale": [
             [
              0,
              "#0d0887"
             ],
             [
              0.1111111111111111,
              "#46039f"
             ],
             [
              0.2222222222222222,
              "#7201a8"
             ],
             [
              0.3333333333333333,
              "#9c179e"
             ],
             [
              0.4444444444444444,
              "#bd3786"
             ],
             [
              0.5555555555555556,
              "#d8576b"
             ],
             [
              0.6666666666666666,
              "#ed7953"
             ],
             [
              0.7777777777777778,
              "#fb9f3a"
             ],
             [
              0.8888888888888888,
              "#fdca26"
             ],
             [
              1,
              "#f0f921"
             ]
            ],
            "type": "contour"
           }
          ],
          "contourcarpet": [
           {
            "colorbar": {
             "outlinewidth": 0,
             "ticks": ""
            },
            "type": "contourcarpet"
           }
          ],
          "heatmap": [
           {
            "colorbar": {
             "outlinewidth": 0,
             "ticks": ""
            },
            "colorscale": [
             [
              0,
              "#0d0887"
             ],
             [
              0.1111111111111111,
              "#46039f"
             ],
             [
              0.2222222222222222,
              "#7201a8"
             ],
             [
              0.3333333333333333,
              "#9c179e"
             ],
             [
              0.4444444444444444,
              "#bd3786"
             ],
             [
              0.5555555555555556,
              "#d8576b"
             ],
             [
              0.6666666666666666,
              "#ed7953"
             ],
             [
              0.7777777777777778,
              "#fb9f3a"
             ],
             [
              0.8888888888888888,
              "#fdca26"
             ],
             [
              1,
              "#f0f921"
             ]
            ],
            "type": "heatmap"
           }
          ],
          "heatmapgl": [
           {
            "colorbar": {
             "outlinewidth": 0,
             "ticks": ""
            },
            "colorscale": [
             [
              0,
              "#0d0887"
             ],
             [
              0.1111111111111111,
              "#46039f"
             ],
             [
              0.2222222222222222,
              "#7201a8"
             ],
             [
              0.3333333333333333,
              "#9c179e"
             ],
             [
              0.4444444444444444,
              "#bd3786"
             ],
             [
              0.5555555555555556,
              "#d8576b"
             ],
             [
              0.6666666666666666,
              "#ed7953"
             ],
             [
              0.7777777777777778,
              "#fb9f3a"
             ],
             [
              0.8888888888888888,
              "#fdca26"
             ],
             [
              1,
              "#f0f921"
             ]
            ],
            "type": "heatmapgl"
           }
          ],
          "histogram": [
           {
            "marker": {
             "pattern": {
              "fillmode": "overlay",
              "size": 10,
              "solidity": 0.2
             }
            },
            "type": "histogram"
           }
          ],
          "histogram2d": [
           {
            "colorbar": {
             "outlinewidth": 0,
             "ticks": ""
            },
            "colorscale": [
             [
              0,
              "#0d0887"
             ],
             [
              0.1111111111111111,
              "#46039f"
             ],
             [
              0.2222222222222222,
              "#7201a8"
             ],
             [
              0.3333333333333333,
              "#9c179e"
             ],
             [
              0.4444444444444444,
              "#bd3786"
             ],
             [
              0.5555555555555556,
              "#d8576b"
             ],
             [
              0.6666666666666666,
              "#ed7953"
             ],
             [
              0.7777777777777778,
              "#fb9f3a"
             ],
             [
              0.8888888888888888,
              "#fdca26"
             ],
             [
              1,
              "#f0f921"
             ]
            ],
            "type": "histogram2d"
           }
          ],
          "histogram2dcontour": [
           {
            "colorbar": {
             "outlinewidth": 0,
             "ticks": ""
            },
            "colorscale": [
             [
              0,
              "#0d0887"
             ],
             [
              0.1111111111111111,
              "#46039f"
             ],
             [
              0.2222222222222222,
              "#7201a8"
             ],
             [
              0.3333333333333333,
              "#9c179e"
             ],
             [
              0.4444444444444444,
              "#bd3786"
             ],
             [
              0.5555555555555556,
              "#d8576b"
             ],
             [
              0.6666666666666666,
              "#ed7953"
             ],
             [
              0.7777777777777778,
              "#fb9f3a"
             ],
             [
              0.8888888888888888,
              "#fdca26"
             ],
             [
              1,
              "#f0f921"
             ]
            ],
            "type": "histogram2dcontour"
           }
          ],
          "mesh3d": [
           {
            "colorbar": {
             "outlinewidth": 0,
             "ticks": ""
            },
            "type": "mesh3d"
           }
          ],
          "parcoords": [
           {
            "line": {
             "colorbar": {
              "outlinewidth": 0,
              "ticks": ""
             }
            },
            "type": "parcoords"
           }
          ],
          "pie": [
           {
            "automargin": true,
            "type": "pie"
           }
          ],
          "scatter": [
           {
            "fillpattern": {
             "fillmode": "overlay",
             "size": 10,
             "solidity": 0.2
            },
            "type": "scatter"
           }
          ],
          "scatter3d": [
           {
            "line": {
             "colorbar": {
              "outlinewidth": 0,
              "ticks": ""
             }
            },
            "marker": {
             "colorbar": {
              "outlinewidth": 0,
              "ticks": ""
             }
            },
            "type": "scatter3d"
           }
          ],
          "scattercarpet": [
           {
            "marker": {
             "colorbar": {
              "outlinewidth": 0,
              "ticks": ""
             }
            },
            "type": "scattercarpet"
           }
          ],
          "scattergeo": [
           {
            "marker": {
             "colorbar": {
              "outlinewidth": 0,
              "ticks": ""
             }
            },
            "type": "scattergeo"
           }
          ],
          "scattergl": [
           {
            "marker": {
             "colorbar": {
              "outlinewidth": 0,
              "ticks": ""
             }
            },
            "type": "scattergl"
           }
          ],
          "scattermapbox": [
           {
            "marker": {
             "colorbar": {
              "outlinewidth": 0,
              "ticks": ""
             }
            },
            "type": "scattermapbox"
           }
          ],
          "scatterpolar": [
           {
            "marker": {
             "colorbar": {
              "outlinewidth": 0,
              "ticks": ""
             }
            },
            "type": "scatterpolar"
           }
          ],
          "scatterpolargl": [
           {
            "marker": {
             "colorbar": {
              "outlinewidth": 0,
              "ticks": ""
             }
            },
            "type": "scatterpolargl"
           }
          ],
          "scatterternary": [
           {
            "marker": {
             "colorbar": {
              "outlinewidth": 0,
              "ticks": ""
             }
            },
            "type": "scatterternary"
           }
          ],
          "surface": [
           {
            "colorbar": {
             "outlinewidth": 0,
             "ticks": ""
            },
            "colorscale": [
             [
              0,
              "#0d0887"
             ],
             [
              0.1111111111111111,
              "#46039f"
             ],
             [
              0.2222222222222222,
              "#7201a8"
             ],
             [
              0.3333333333333333,
              "#9c179e"
             ],
             [
              0.4444444444444444,
              "#bd3786"
             ],
             [
              0.5555555555555556,
              "#d8576b"
             ],
             [
              0.6666666666666666,
              "#ed7953"
             ],
             [
              0.7777777777777778,
              "#fb9f3a"
             ],
             [
              0.8888888888888888,
              "#fdca26"
             ],
             [
              1,
              "#f0f921"
             ]
            ],
            "type": "surface"
           }
          ],
          "table": [
           {
            "cells": {
             "fill": {
              "color": "#EBF0F8"
             },
             "line": {
              "color": "white"
             }
            },
            "header": {
             "fill": {
              "color": "#C8D4E3"
             },
             "line": {
              "color": "white"
             }
            },
            "type": "table"
           }
          ]
         },
         "layout": {
          "annotationdefaults": {
           "arrowcolor": "#2a3f5f",
           "arrowhead": 0,
           "arrowwidth": 1
          },
          "autotypenumbers": "strict",
          "coloraxis": {
           "colorbar": {
            "outlinewidth": 0,
            "ticks": ""
           }
          },
          "colorscale": {
           "diverging": [
            [
             0,
             "#8e0152"
            ],
            [
             0.1,
             "#c51b7d"
            ],
            [
             0.2,
             "#de77ae"
            ],
            [
             0.3,
             "#f1b6da"
            ],
            [
             0.4,
             "#fde0ef"
            ],
            [
             0.5,
             "#f7f7f7"
            ],
            [
             0.6,
             "#e6f5d0"
            ],
            [
             0.7,
             "#b8e186"
            ],
            [
             0.8,
             "#7fbc41"
            ],
            [
             0.9,
             "#4d9221"
            ],
            [
             1,
             "#276419"
            ]
           ],
           "sequential": [
            [
             0,
             "#0d0887"
            ],
            [
             0.1111111111111111,
             "#46039f"
            ],
            [
             0.2222222222222222,
             "#7201a8"
            ],
            [
             0.3333333333333333,
             "#9c179e"
            ],
            [
             0.4444444444444444,
             "#bd3786"
            ],
            [
             0.5555555555555556,
             "#d8576b"
            ],
            [
             0.6666666666666666,
             "#ed7953"
            ],
            [
             0.7777777777777778,
             "#fb9f3a"
            ],
            [
             0.8888888888888888,
             "#fdca26"
            ],
            [
             1,
             "#f0f921"
            ]
           ],
           "sequentialminus": [
            [
             0,
             "#0d0887"
            ],
            [
             0.1111111111111111,
             "#46039f"
            ],
            [
             0.2222222222222222,
             "#7201a8"
            ],
            [
             0.3333333333333333,
             "#9c179e"
            ],
            [
             0.4444444444444444,
             "#bd3786"
            ],
            [
             0.5555555555555556,
             "#d8576b"
            ],
            [
             0.6666666666666666,
             "#ed7953"
            ],
            [
             0.7777777777777778,
             "#fb9f3a"
            ],
            [
             0.8888888888888888,
             "#fdca26"
            ],
            [
             1,
             "#f0f921"
            ]
           ]
          },
          "colorway": [
           "#636efa",
           "#EF553B",
           "#00cc96",
           "#ab63fa",
           "#FFA15A",
           "#19d3f3",
           "#FF6692",
           "#B6E880",
           "#FF97FF",
           "#FECB52"
          ],
          "font": {
           "color": "#2a3f5f"
          },
          "geo": {
           "bgcolor": "white",
           "lakecolor": "white",
           "landcolor": "#E5ECF6",
           "showlakes": true,
           "showland": true,
           "subunitcolor": "white"
          },
          "hoverlabel": {
           "align": "left"
          },
          "hovermode": "closest",
          "mapbox": {
           "style": "light"
          },
          "paper_bgcolor": "white",
          "plot_bgcolor": "#E5ECF6",
          "polar": {
           "angularaxis": {
            "gridcolor": "white",
            "linecolor": "white",
            "ticks": ""
           },
           "bgcolor": "#E5ECF6",
           "radialaxis": {
            "gridcolor": "white",
            "linecolor": "white",
            "ticks": ""
           }
          },
          "scene": {
           "xaxis": {
            "backgroundcolor": "#E5ECF6",
            "gridcolor": "white",
            "gridwidth": 2,
            "linecolor": "white",
            "showbackground": true,
            "ticks": "",
            "zerolinecolor": "white"
           },
           "yaxis": {
            "backgroundcolor": "#E5ECF6",
            "gridcolor": "white",
            "gridwidth": 2,
            "linecolor": "white",
            "showbackground": true,
            "ticks": "",
            "zerolinecolor": "white"
           },
           "zaxis": {
            "backgroundcolor": "#E5ECF6",
            "gridcolor": "white",
            "gridwidth": 2,
            "linecolor": "white",
            "showbackground": true,
            "ticks": "",
            "zerolinecolor": "white"
           }
          },
          "shapedefaults": {
           "line": {
            "color": "#2a3f5f"
           }
          },
          "ternary": {
           "aaxis": {
            "gridcolor": "white",
            "linecolor": "white",
            "ticks": ""
           },
           "baxis": {
            "gridcolor": "white",
            "linecolor": "white",
            "ticks": ""
           },
           "bgcolor": "#E5ECF6",
           "caxis": {
            "gridcolor": "white",
            "linecolor": "white",
            "ticks": ""
           }
          },
          "title": {
           "x": 0.05
          },
          "xaxis": {
           "automargin": true,
           "gridcolor": "white",
           "linecolor": "white",
           "ticks": "",
           "title": {
            "standoff": 15
           },
           "zerolinecolor": "white",
           "zerolinewidth": 2
          },
          "yaxis": {
           "automargin": true,
           "gridcolor": "white",
           "linecolor": "white",
           "ticks": "",
           "title": {
            "standoff": 15
           },
           "zerolinecolor": "white",
           "zerolinewidth": 2
          }
         }
        },
        "yaxis": {
         "title": {
          "text": "Hydrogen bond stability"
         }
        }
       }
      },
      "text/html": [
       "<div>                            <div id=\"5b565959-a1e8-491c-9672-5061707a4b1e\" class=\"plotly-graph-div\" style=\"height:525px; width:100%;\"></div>            <script type=\"text/javascript\">                require([\"plotly\"], function(Plotly) {                    window.PLOTLYENV=window.PLOTLYENV || {};                                    if (document.getElementById(\"5b565959-a1e8-491c-9672-5061707a4b1e\")) {                    Plotly.newPlot(                        \"5b565959-a1e8-491c-9672-5061707a4b1e\",                        [{\"line\":{\"color\":\"red\"},\"name\":\"N501\",\"x\":[\"Residue 484\",\"Residue 484\",\"Residue 484\",\"Residue 484\",\"Residue 484\",\"Residue 484\",\"Residue 487\",\"Residue 487\",\"Residue 487\",\"Residue 487\",\"Residue 487\",\"Residue 487\",\"Residue 489\",\"Residue 489\",\"Residue 489\",\"Residue 489\",\"Residue 489\",\"Residue 489\",\"Residue 493\",\"Residue 493\",\"Residue 493\",\"Residue 493\",\"Residue 493\",\"Residue 493\",\"Residue 496\",\"Residue 496\",\"Residue 496\",\"Residue 496\",\"Residue 496\",\"Residue 496\",\"Residue 498\",\"Residue 498\",\"Residue 498\",\"Residue 498\",\"Residue 498\",\"Residue 498\",\"Residue 500\",\"Residue 500\",\"Residue 500\",\"Residue 500\",\"Residue 500\",\"Residue 500\",\"Residue 501\",\"Residue 501\",\"Residue 501\",\"Residue 501\",\"Residue 501\",\"Residue 501\",\"Residue 502\",\"Residue 502\",\"Residue 502\",\"Residue 502\",\"Residue 502\",\"Residue 502\",\"Residue 505\",\"Residue 505\",\"Residue 505\",\"Residue 505\",\"Residue 505\",\"Residue 505\"],\"y\":[0.058252427184466014,0.02912621359223301,0.009708737864077669,0,0.009433962264150943,0.00980392156862745,1.0485436893203883,0.9902912621359222,0.9611650485436893,0.980952380952381,0.9245283018867925,0.9215686274509804,0.07766990291262135,0.038834951456310676,0.009708737864077669,0,0.03773584905660377,0,0.44660194174757284,0.6407766990291262,0.6990291262135921,0.6095238095238096,0.5377358490566038,0.5392156862745098,0.009708737864077669,0.019417475728155338,0.05825242718446601,0.18095238095238095,0.2169811320754717,0.12745098039215688,0.04854368932038834,0.2815533980582524,0.3203883495145631,0.12380952380952381,0.2641509433962264,0.3333333333333333,0.4271844660194175,0.47572815533980584,0.45631067961165045,0.9428571428571428,0.4811320754716981,0.892156862745098,0.4854368932038835,0.06796116504854369,0.19417475728155337,0.009523809523809525,0.04716981132075471,0.0392156862745098,0.038834951456310676,0.39805825242718446,0.1553398058252427,0.6,0.5283018867924528,0.6666666666666666,0.038834951456310676,0.24271844660194175,0.16504854368932037,0.37142857142857144,0.5849056603773585,0.7450980392156863],\"type\":\"box\"},{\"line\":{\"color\":\"blue\"},\"name\":\"Y501\",\"x\":[\"Residue 484\",\"Residue 484\",\"Residue 484\",\"Residue 484\",\"Residue 484\",\"Residue 484\",\"Residue 484\",\"Residue 484\",\"Residue 484\",\"Residue 487\",\"Residue 487\",\"Residue 487\",\"Residue 487\",\"Residue 487\",\"Residue 487\",\"Residue 487\",\"Residue 487\",\"Residue 487\",\"Residue 489\",\"Residue 489\",\"Residue 489\",\"Residue 489\",\"Residue 489\",\"Residue 489\",\"Residue 489\",\"Residue 489\",\"Residue 489\",\"Residue 493\",\"Residue 493\",\"Residue 493\",\"Residue 493\",\"Residue 493\",\"Residue 493\",\"Residue 493\",\"Residue 493\",\"Residue 493\",\"Residue 496\",\"Residue 496\",\"Residue 496\",\"Residue 496\",\"Residue 496\",\"Residue 496\",\"Residue 496\",\"Residue 496\",\"Residue 496\",\"Residue 498\",\"Residue 498\",\"Residue 498\",\"Residue 498\",\"Residue 498\",\"Residue 498\",\"Residue 498\",\"Residue 498\",\"Residue 498\",\"Residue 500\",\"Residue 500\",\"Residue 500\",\"Residue 500\",\"Residue 500\",\"Residue 500\",\"Residue 500\",\"Residue 500\",\"Residue 500\",\"Residue 501\",\"Residue 501\",\"Residue 501\",\"Residue 501\",\"Residue 501\",\"Residue 501\",\"Residue 501\",\"Residue 501\",\"Residue 501\",\"Residue 502\",\"Residue 502\",\"Residue 502\",\"Residue 502\",\"Residue 502\",\"Residue 502\",\"Residue 502\",\"Residue 502\",\"Residue 502\",\"Residue 505\",\"Residue 505\",\"Residue 505\",\"Residue 505\",\"Residue 505\",\"Residue 505\",\"Residue 505\",\"Residue 505\",\"Residue 505\"],\"y\":[0.23076923076923078,0.029126213592233007,0.05825242718446602,0.1844660194174757,0,0.04854368932038835,0.3980582524271844,0,0.41747572815533973,0.923076923076923,0.9514563106796116,1.029126213592233,0.4077669902912621,0.8640776699029126,0.3300970873786408,1.0388349514563107,0.7087378640776698,0.8543689320388349,0.009615384615384616,0.019417475728155338,0.009708737864077669,0.5242718446601942,0.02912621359223301,0.6699029126213591,0.019417475728155338,0.029126213592233007,0.009708737864077669,0.45192307692307687,0.4174757281553398,0.6213592233009708,1.0,0.6310679611650485,0.7475728155339805,0.5631067961165048,0.5631067961165048,0.5825242718446602,0,0,0,0,0,0,0,0,0,0.04807692307692308,0.16504854368932037,0.24271844660194175,0.4077669902912621,0.24271844660194175,0.2621359223300971,0.04854368932038835,0.24271844660194175,0.13592233009708737,0.9326923076923077,0.5436893203883495,0.9514563106796117,0.46601941747572817,0.47572815533980584,0.23300970873786409,0.7184466019417476,0.9902912621359222,0.9999999999999999,0.14423076923076925,0.02912621359223301,0.029126213592233007,0.029126213592233007,0.07766990291262135,0.2718446601941747,0.04854368932038834,0.009708737864077669,0.029126213592233007,0.4807692307692308,0.7281553398058253,0.5922330097087378,0.019417475728155338,0.3300970873786408,0.1262135922330097,0.8543689320388349,0.7572815533980582,0.7087378640776699,0.375,0.3786407766990291,0.10679611650485436,0.029126213592233007,0.10679611650485438,0.1553398058252427,0.4660194174757281,0.2815533980582524,0.4174757281553398],\"type\":\"box\"}],                        {\"template\":{\"data\":{\"histogram2dcontour\":[{\"type\":\"histogram2dcontour\",\"colorbar\":{\"outlinewidth\":0,\"ticks\":\"\"},\"colorscale\":[[0.0,\"#0d0887\"],[0.1111111111111111,\"#46039f\"],[0.2222222222222222,\"#7201a8\"],[0.3333333333333333,\"#9c179e\"],[0.4444444444444444,\"#bd3786\"],[0.5555555555555556,\"#d8576b\"],[0.6666666666666666,\"#ed7953\"],[0.7777777777777778,\"#fb9f3a\"],[0.8888888888888888,\"#fdca26\"],[1.0,\"#f0f921\"]]}],\"choropleth\":[{\"type\":\"choropleth\",\"colorbar\":{\"outlinewidth\":0,\"ticks\":\"\"}}],\"histogram2d\":[{\"type\":\"histogram2d\",\"colorbar\":{\"outlinewidth\":0,\"ticks\":\"\"},\"colorscale\":[[0.0,\"#0d0887\"],[0.1111111111111111,\"#46039f\"],[0.2222222222222222,\"#7201a8\"],[0.3333333333333333,\"#9c179e\"],[0.4444444444444444,\"#bd3786\"],[0.5555555555555556,\"#d8576b\"],[0.6666666666666666,\"#ed7953\"],[0.7777777777777778,\"#fb9f3a\"],[0.8888888888888888,\"#fdca26\"],[1.0,\"#f0f921\"]]}],\"heatmap\":[{\"type\":\"heatmap\",\"colorbar\":{\"outlinewidth\":0,\"ticks\":\"\"},\"colorscale\":[[0.0,\"#0d0887\"],[0.1111111111111111,\"#46039f\"],[0.2222222222222222,\"#7201a8\"],[0.3333333333333333,\"#9c179e\"],[0.4444444444444444,\"#bd3786\"],[0.5555555555555556,\"#d8576b\"],[0.6666666666666666,\"#ed7953\"],[0.7777777777777778,\"#fb9f3a\"],[0.8888888888888888,\"#fdca26\"],[1.0,\"#f0f921\"]]}],\"heatmapgl\":[{\"type\":\"heatmapgl\",\"colorbar\":{\"outlinewidth\":0,\"ticks\":\"\"},\"colorscale\":[[0.0,\"#0d0887\"],[0.1111111111111111,\"#46039f\"],[0.2222222222222222,\"#7201a8\"],[0.3333333333333333,\"#9c179e\"],[0.4444444444444444,\"#bd3786\"],[0.5555555555555556,\"#d8576b\"],[0.6666666666666666,\"#ed7953\"],[0.7777777777777778,\"#fb9f3a\"],[0.8888888888888888,\"#fdca26\"],[1.0,\"#f0f921\"]]}],\"contourcarpet\":[{\"type\":\"contourcarpet\",\"colorbar\":{\"outlinewidth\":0,\"ticks\":\"\"}}],\"contour\":[{\"type\":\"contour\",\"colorbar\":{\"outlinewidth\":0,\"ticks\":\"\"},\"colorscale\":[[0.0,\"#0d0887\"],[0.1111111111111111,\"#46039f\"],[0.2222222222222222,\"#7201a8\"],[0.3333333333333333,\"#9c179e\"],[0.4444444444444444,\"#bd3786\"],[0.5555555555555556,\"#d8576b\"],[0.6666666666666666,\"#ed7953\"],[0.7777777777777778,\"#fb9f3a\"],[0.8888888888888888,\"#fdca26\"],[1.0,\"#f0f921\"]]}],\"surface\":[{\"type\":\"surface\",\"colorbar\":{\"outlinewidth\":0,\"ticks\":\"\"},\"colorscale\":[[0.0,\"#0d0887\"],[0.1111111111111111,\"#46039f\"],[0.2222222222222222,\"#7201a8\"],[0.3333333333333333,\"#9c179e\"],[0.4444444444444444,\"#bd3786\"],[0.5555555555555556,\"#d8576b\"],[0.6666666666666666,\"#ed7953\"],[0.7777777777777778,\"#fb9f3a\"],[0.8888888888888888,\"#fdca26\"],[1.0,\"#f0f921\"]]}],\"mesh3d\":[{\"type\":\"mesh3d\",\"colorbar\":{\"outlinewidth\":0,\"ticks\":\"\"}}],\"scatter\":[{\"fillpattern\":{\"fillmode\":\"overlay\",\"size\":10,\"solidity\":0.2},\"type\":\"scatter\"}],\"parcoords\":[{\"type\":\"parcoords\",\"line\":{\"colorbar\":{\"outlinewidth\":0,\"ticks\":\"\"}}}],\"scatterpolargl\":[{\"type\":\"scatterpolargl\",\"marker\":{\"colorbar\":{\"outlinewidth\":0,\"ticks\":\"\"}}}],\"bar\":[{\"error_x\":{\"color\":\"#2a3f5f\"},\"error_y\":{\"color\":\"#2a3f5f\"},\"marker\":{\"line\":{\"color\":\"#E5ECF6\",\"width\":0.5},\"pattern\":{\"fillmode\":\"overlay\",\"size\":10,\"solidity\":0.2}},\"type\":\"bar\"}],\"scattergeo\":[{\"type\":\"scattergeo\",\"marker\":{\"colorbar\":{\"outlinewidth\":0,\"ticks\":\"\"}}}],\"scatterpolar\":[{\"type\":\"scatterpolar\",\"marker\":{\"colorbar\":{\"outlinewidth\":0,\"ticks\":\"\"}}}],\"histogram\":[{\"marker\":{\"pattern\":{\"fillmode\":\"overlay\",\"size\":10,\"solidity\":0.2}},\"type\":\"histogram\"}],\"scattergl\":[{\"type\":\"scattergl\",\"marker\":{\"colorbar\":{\"outlinewidth\":0,\"ticks\":\"\"}}}],\"scatter3d\":[{\"type\":\"scatter3d\",\"line\":{\"colorbar\":{\"outlinewidth\":0,\"ticks\":\"\"}},\"marker\":{\"colorbar\":{\"outlinewidth\":0,\"ticks\":\"\"}}}],\"scattermapbox\":[{\"type\":\"scattermapbox\",\"marker\":{\"colorbar\":{\"outlinewidth\":0,\"ticks\":\"\"}}}],\"scatterternary\":[{\"type\":\"scatterternary\",\"marker\":{\"colorbar\":{\"outlinewidth\":0,\"ticks\":\"\"}}}],\"scattercarpet\":[{\"type\":\"scattercarpet\",\"marker\":{\"colorbar\":{\"outlinewidth\":0,\"ticks\":\"\"}}}],\"carpet\":[{\"aaxis\":{\"endlinecolor\":\"#2a3f5f\",\"gridcolor\":\"white\",\"linecolor\":\"white\",\"minorgridcolor\":\"white\",\"startlinecolor\":\"#2a3f5f\"},\"baxis\":{\"endlinecolor\":\"#2a3f5f\",\"gridcolor\":\"white\",\"linecolor\":\"white\",\"minorgridcolor\":\"white\",\"startlinecolor\":\"#2a3f5f\"},\"type\":\"carpet\"}],\"table\":[{\"cells\":{\"fill\":{\"color\":\"#EBF0F8\"},\"line\":{\"color\":\"white\"}},\"header\":{\"fill\":{\"color\":\"#C8D4E3\"},\"line\":{\"color\":\"white\"}},\"type\":\"table\"}],\"barpolar\":[{\"marker\":{\"line\":{\"color\":\"#E5ECF6\",\"width\":0.5},\"pattern\":{\"fillmode\":\"overlay\",\"size\":10,\"solidity\":0.2}},\"type\":\"barpolar\"}],\"pie\":[{\"automargin\":true,\"type\":\"pie\"}]},\"layout\":{\"autotypenumbers\":\"strict\",\"colorway\":[\"#636efa\",\"#EF553B\",\"#00cc96\",\"#ab63fa\",\"#FFA15A\",\"#19d3f3\",\"#FF6692\",\"#B6E880\",\"#FF97FF\",\"#FECB52\"],\"font\":{\"color\":\"#2a3f5f\"},\"hovermode\":\"closest\",\"hoverlabel\":{\"align\":\"left\"},\"paper_bgcolor\":\"white\",\"plot_bgcolor\":\"#E5ECF6\",\"polar\":{\"bgcolor\":\"#E5ECF6\",\"angularaxis\":{\"gridcolor\":\"white\",\"linecolor\":\"white\",\"ticks\":\"\"},\"radialaxis\":{\"gridcolor\":\"white\",\"linecolor\":\"white\",\"ticks\":\"\"}},\"ternary\":{\"bgcolor\":\"#E5ECF6\",\"aaxis\":{\"gridcolor\":\"white\",\"linecolor\":\"white\",\"ticks\":\"\"},\"baxis\":{\"gridcolor\":\"white\",\"linecolor\":\"white\",\"ticks\":\"\"},\"caxis\":{\"gridcolor\":\"white\",\"linecolor\":\"white\",\"ticks\":\"\"}},\"coloraxis\":{\"colorbar\":{\"outlinewidth\":0,\"ticks\":\"\"}},\"colorscale\":{\"sequential\":[[0.0,\"#0d0887\"],[0.1111111111111111,\"#46039f\"],[0.2222222222222222,\"#7201a8\"],[0.3333333333333333,\"#9c179e\"],[0.4444444444444444,\"#bd3786\"],[0.5555555555555556,\"#d8576b\"],[0.6666666666666666,\"#ed7953\"],[0.7777777777777778,\"#fb9f3a\"],[0.8888888888888888,\"#fdca26\"],[1.0,\"#f0f921\"]],\"sequentialminus\":[[0.0,\"#0d0887\"],[0.1111111111111111,\"#46039f\"],[0.2222222222222222,\"#7201a8\"],[0.3333333333333333,\"#9c179e\"],[0.4444444444444444,\"#bd3786\"],[0.5555555555555556,\"#d8576b\"],[0.6666666666666666,\"#ed7953\"],[0.7777777777777778,\"#fb9f3a\"],[0.8888888888888888,\"#fdca26\"],[1.0,\"#f0f921\"]],\"diverging\":[[0,\"#8e0152\"],[0.1,\"#c51b7d\"],[0.2,\"#de77ae\"],[0.3,\"#f1b6da\"],[0.4,\"#fde0ef\"],[0.5,\"#f7f7f7\"],[0.6,\"#e6f5d0\"],[0.7,\"#b8e186\"],[0.8,\"#7fbc41\"],[0.9,\"#4d9221\"],[1,\"#276419\"]]},\"xaxis\":{\"gridcolor\":\"white\",\"linecolor\":\"white\",\"ticks\":\"\",\"title\":{\"standoff\":15},\"zerolinecolor\":\"white\",\"automargin\":true,\"zerolinewidth\":2},\"yaxis\":{\"gridcolor\":\"white\",\"linecolor\":\"white\",\"ticks\":\"\",\"title\":{\"standoff\":15},\"zerolinecolor\":\"white\",\"automargin\":true,\"zerolinewidth\":2},\"scene\":{\"xaxis\":{\"backgroundcolor\":\"#E5ECF6\",\"gridcolor\":\"white\",\"linecolor\":\"white\",\"showbackground\":true,\"ticks\":\"\",\"zerolinecolor\":\"white\",\"gridwidth\":2},\"yaxis\":{\"backgroundcolor\":\"#E5ECF6\",\"gridcolor\":\"white\",\"linecolor\":\"white\",\"showbackground\":true,\"ticks\":\"\",\"zerolinecolor\":\"white\",\"gridwidth\":2},\"zaxis\":{\"backgroundcolor\":\"#E5ECF6\",\"gridcolor\":\"white\",\"linecolor\":\"white\",\"showbackground\":true,\"ticks\":\"\",\"zerolinecolor\":\"white\",\"gridwidth\":2}},\"shapedefaults\":{\"line\":{\"color\":\"#2a3f5f\"}},\"annotationdefaults\":{\"arrowcolor\":\"#2a3f5f\",\"arrowhead\":0,\"arrowwidth\":1},\"geo\":{\"bgcolor\":\"white\",\"landcolor\":\"#E5ECF6\",\"subunitcolor\":\"white\",\"showland\":true,\"showlakes\":true,\"lakecolor\":\"white\"},\"title\":{\"x\":0.05},\"mapbox\":{\"style\":\"light\"}}},\"yaxis\":{\"title\":{\"text\":\"Hydrogen bond stability\"}},\"boxmode\":\"group\"},                        {\"responsive\": true}                    ).then(function(){\n",
       "                            \n",
       "var gd = document.getElementById('5b565959-a1e8-491c-9672-5061707a4b1e');\n",
       "var x = new MutationObserver(function (mutations, observer) {{\n",
       "        var display = window.getComputedStyle(gd).display;\n",
       "        if (!display || display === 'none') {{\n",
       "            console.log([gd, 'removed!']);\n",
       "            Plotly.purge(gd);\n",
       "            observer.disconnect();\n",
       "        }}\n",
       "}});\n",
       "\n",
       "// Listen for the removal of the full notebook cells\n",
       "var notebookContainer = gd.closest('#notebook-container');\n",
       "if (notebookContainer) {{\n",
       "    x.observe(notebookContainer, {childList: true});\n",
       "}}\n",
       "\n",
       "// Listen for the clearing of the current output cell\n",
       "var outputEl = gd.closest('.output');\n",
       "if (outputEl) {{\n",
       "    x.observe(outputEl, {childList: true});\n",
       "}}\n",
       "\n",
       "                        })                };                });            </script>        </div>"
      ]
     },
     "metadata": {},
     "output_type": "display_data"
    }
   ],
   "source": [
    "fig = go.Figure()\n",
    "\n",
    "# Set the residues to be displayed\n",
    "# Display only residues which reach a minimum of stability in at least one of the simulations in any group\n",
    "minimum_stability_cutoff = 0.2\n",
    "def is_displayed (residue : int) -> bool:\n",
    "    for hbonds_analyses in hbonds_data.values():\n",
    "        for hbonds_analysis in hbonds_analyses:\n",
    "            if hbonds_analysis[residue] >= minimum_stability_cutoff:\n",
    "                return True\n",
    "    return False\n",
    "\n",
    "display_residues = [residue for residue in target_residues if is_displayed(residue) ]\n",
    "\n",
    "# Iterate over the groups\n",
    "for group_name, hbonds_analyses in hbonds_data.items():\n",
    "    x = []\n",
    "    y = []\n",
    "    for residue in display_residues:\n",
    "        residue_stability_values = [ hb[residue] for hb in hbonds_analyses ]\n",
    "        y += residue_stability_values\n",
    "        # Literally repeate the name of the residue several times\n",
    "        # This is useless for further sorting\n",
    "        x += [ 'Residue ' + str(residue) for i in range(len(residue_stability_values)) ]\n",
    "        \n",
    "    box = go.Box(\n",
    "        name = group_name,\n",
    "        x = x, y = y,\n",
    "        line = {'color':colors[group_name]}\n",
    "    )\n",
    "    fig.add_trace(box)\n",
    "\n",
    "# Group together boxes of the same residue\n",
    "fig.update_layout(\n",
    "    yaxis_title='Hydrogen bond stability',\n",
    "    # Group together boxes of the same residue\n",
    "    boxmode='group'\n",
    ")\n",
    "fig.show()"
   ]
  },
  {
   "cell_type": "code",
   "execution_count": null,
   "id": "c5f28877",
   "metadata": {},
   "outputs": [],
   "source": []
  }
 ],
 "metadata": {
  "kernelspec": {
   "display_name": "Python 3 (ipykernel)",
   "language": "python",
   "name": "python3"
  },
  "language_info": {
   "codemirror_mode": {
    "name": "ipython",
    "version": 3
   },
   "file_extension": ".py",
   "mimetype": "text/x-python",
   "name": "python",
   "nbconvert_exporter": "python",
   "pygments_lexer": "ipython3",
   "version": "3.7.12"
  }
 },
 "nbformat": 4,
 "nbformat_minor": 5
}
